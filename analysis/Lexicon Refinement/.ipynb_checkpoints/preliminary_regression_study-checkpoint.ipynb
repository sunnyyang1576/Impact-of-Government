{
 "cells": [
  {
   "cell_type": "code",
   "execution_count": 1,
   "metadata": {},
   "outputs": [],
   "source": [
    "import pandas as pd\n",
    "import numpy as np\n",
    "import time\n",
    "from src.GWY_news_utils import aggregate_content,calculate_attitude_score,load_attitude_dictionary,regression_x_y"
   ]
  },
  {
   "cell_type": "code",
   "execution_count": 2,
   "metadata": {},
   "outputs": [],
   "source": [
    "import statsmodels.api as sm"
   ]
  },
  {
   "cell_type": "code",
   "execution_count": 3,
   "metadata": {},
   "outputs": [],
   "source": [
    "from statsmodels.iolib.summary2 import summary_col"
   ]
  },
  {
   "cell_type": "code",
   "execution_count": null,
   "metadata": {},
   "outputs": [],
   "source": []
  },
  {
   "cell_type": "markdown",
   "metadata": {},
   "source": [
    "### Data Import"
   ]
  },
  {
   "cell_type": "markdown",
   "metadata": {},
   "source": [
    "define the directory"
   ]
  },
  {
   "cell_type": "code",
   "execution_count": 5,
   "metadata": {},
   "outputs": [],
   "source": [
    "dictionary_directory = \"data/dictionary/\"\n",
    "input_directory = \"data/\"\n",
    "output_directory = \"data/output/\"\n",
    "result_directory = \"result/\""
   ]
  },
  {
   "cell_type": "code",
   "execution_count": null,
   "metadata": {},
   "outputs": [],
   "source": []
  },
  {
   "cell_type": "markdown",
   "metadata": {},
   "source": [
    "Import the 'important policy/news' file"
   ]
  },
  {
   "cell_type": "code",
   "execution_count": 6,
   "metadata": {},
   "outputs": [],
   "source": [
    "premier_df = pd.read_csv(input_directory+\"content.csv\")\n",
    "premier_df = premier_df.iloc[:,1:]\n",
    "premier_df.index = pd.to_datetime(premier_df.date)\n",
    "content = premier_df.content"
   ]
  },
  {
   "cell_type": "code",
   "execution_count": null,
   "metadata": {},
   "outputs": [],
   "source": []
  },
  {
   "cell_type": "markdown",
   "metadata": {},
   "source": [
    "Import the attitude lexicon"
   ]
  },
  {
   "cell_type": "code",
   "execution_count": 7,
   "metadata": {},
   "outputs": [
    {
     "ename": "FileNotFoundError",
     "evalue": "[Errno 2] No such file or directory: 'data/dictionary/reform.txt'",
     "output_type": "error",
     "traceback": [
      "\u001b[0;31m---------------------------------------------------------------------------\u001b[0m",
      "\u001b[0;31mFileNotFoundError\u001b[0m                         Traceback (most recent call last)",
      "\u001b[0;32m<ipython-input-7-d66b8434ceb2>\u001b[0m in \u001b[0;36m<module>\u001b[0;34m\u001b[0m\n\u001b[0;32m----> 1\u001b[0;31m \u001b[0mattitude_word_dict\u001b[0m \u001b[0;34m=\u001b[0m \u001b[0mload_attitude_dictionary\u001b[0m\u001b[0;34m(\u001b[0m\u001b[0mdictionary_directory\u001b[0m\u001b[0;34m)\u001b[0m\u001b[0;34m\u001b[0m\u001b[0;34m\u001b[0m\u001b[0m\n\u001b[0m\u001b[1;32m      2\u001b[0m \u001b[0;34m\u001b[0m\u001b[0m\n\u001b[1;32m      3\u001b[0m \u001b[0mreform_list\u001b[0m \u001b[0;34m=\u001b[0m \u001b[0mattitude_word_dict\u001b[0m\u001b[0;34m[\u001b[0m\u001b[0;34m\"reform\"\u001b[0m\u001b[0;34m]\u001b[0m\u001b[0;34m\u001b[0m\u001b[0;34m\u001b[0m\u001b[0m\n\u001b[1;32m      4\u001b[0m \u001b[0meconomy_list\u001b[0m \u001b[0;34m=\u001b[0m \u001b[0mattitude_word_dict\u001b[0m\u001b[0;34m[\u001b[0m\u001b[0;34m\"economy\"\u001b[0m\u001b[0;34m]\u001b[0m\u001b[0;34m\u001b[0m\u001b[0;34m\u001b[0m\u001b[0m\n\u001b[1;32m      5\u001b[0m \u001b[0mregulation_list\u001b[0m \u001b[0;34m=\u001b[0m \u001b[0mattitude_word_dict\u001b[0m\u001b[0;34m[\u001b[0m\u001b[0;34m\"regulation\"\u001b[0m\u001b[0;34m]\u001b[0m\u001b[0;34m\u001b[0m\u001b[0;34m\u001b[0m\u001b[0m\n",
      "\u001b[0;32m~/Desktop/项目/Impact of Goverment on Financial market/Lexicon Refinement/src/GWY_news_utils.py\u001b[0m in \u001b[0;36mload_attitude_dictionary\u001b[0;34m(dictionary_directory)\u001b[0m\n\u001b[1;32m    137\u001b[0m     \"\"\"\n\u001b[1;32m    138\u001b[0m \u001b[0;34m\u001b[0m\u001b[0m\n\u001b[0;32m--> 139\u001b[0;31m     \u001b[0;32mwith\u001b[0m \u001b[0mopen\u001b[0m\u001b[0;34m(\u001b[0m\u001b[0mdictionary_directory\u001b[0m\u001b[0;34m+\u001b[0m\u001b[0;34m\"reform.txt\"\u001b[0m\u001b[0;34m)\u001b[0m \u001b[0;32mas\u001b[0m \u001b[0mf\u001b[0m\u001b[0;34m:\u001b[0m\u001b[0;34m\u001b[0m\u001b[0;34m\u001b[0m\u001b[0m\n\u001b[0m\u001b[1;32m    140\u001b[0m         \u001b[0mreform_list\u001b[0m \u001b[0;34m=\u001b[0m \u001b[0mf\u001b[0m\u001b[0;34m.\u001b[0m\u001b[0mreadlines\u001b[0m\u001b[0;34m(\u001b[0m\u001b[0;34m)\u001b[0m\u001b[0;34m\u001b[0m\u001b[0;34m\u001b[0m\u001b[0m\n\u001b[1;32m    141\u001b[0m         \u001b[0mreform_list\u001b[0m \u001b[0;34m=\u001b[0m \u001b[0;34m[\u001b[0m\u001b[0mword\u001b[0m\u001b[0;34m.\u001b[0m\u001b[0mstrip\u001b[0m\u001b[0;34m(\u001b[0m\u001b[0;34m)\u001b[0m \u001b[0;32mfor\u001b[0m \u001b[0mword\u001b[0m \u001b[0;32min\u001b[0m \u001b[0mreform_list\u001b[0m\u001b[0;34m]\u001b[0m\u001b[0;34m\u001b[0m\u001b[0;34m\u001b[0m\u001b[0m\n",
      "\u001b[0;31mFileNotFoundError\u001b[0m: [Errno 2] No such file or directory: 'data/dictionary/reform.txt'"
     ]
    }
   ],
   "source": [
    "attitude_word_dict = load_attitude_dictionary(dictionary_directory)\n",
    "\n",
    "reform_list = attitude_word_dict[\"reform\"]\n",
    "economy_list = attitude_word_dict[\"economy\"]\n",
    "regulation_list = attitude_word_dict[\"regulation\"]\n",
    "intervention_list = attitude_word_dict[\"intervention\"]\n",
    "market_list = attitude_word_dict[\"market\"]\n",
    "\n",
    "reform_list = reform_list + market_list"
   ]
  },
  {
   "cell_type": "code",
   "execution_count": null,
   "metadata": {},
   "outputs": [],
   "source": [
    "reform_list"
   ]
  },
  {
   "cell_type": "code",
   "execution_count": null,
   "metadata": {},
   "outputs": [],
   "source": []
  },
  {
   "cell_type": "markdown",
   "metadata": {},
   "source": [
    "Import stock index return dataset"
   ]
  },
  {
   "cell_type": "code",
   "execution_count": 18,
   "metadata": {},
   "outputs": [],
   "source": [
    "index_df = pd.read_csv(\"data/index_ret.csv\")\n",
    "index_df.index = pd.to_datetime(index_df.Trddt)\n",
    "index_df = index_df.iloc[:,1:]"
   ]
  },
  {
   "cell_type": "code",
   "execution_count": null,
   "metadata": {},
   "outputs": [],
   "source": []
  },
  {
   "cell_type": "code",
   "execution_count": null,
   "metadata": {},
   "outputs": [],
   "source": []
  },
  {
   "cell_type": "markdown",
   "metadata": {},
   "source": [
    "Import economic uncertainty index data"
   ]
  },
  {
   "cell_type": "code",
   "execution_count": null,
   "metadata": {},
   "outputs": [],
   "source": []
  },
  {
   "cell_type": "code",
   "execution_count": null,
   "metadata": {},
   "outputs": [],
   "source": []
  },
  {
   "cell_type": "code",
   "execution_count": 19,
   "metadata": {},
   "outputs": [],
   "source": [
    "epu_df = pd.read_excel(\"data/cnepu_daily_2_september_2020_updated.xlsx\")\n",
    "epu_df.index = pd.to_datetime(epu_df.iloc[:,0],format=\"%Y-%m-%d\")\n",
    "epu_df = epu_df.iloc[:,1:]"
   ]
  },
  {
   "cell_type": "code",
   "execution_count": null,
   "metadata": {},
   "outputs": [],
   "source": []
  },
  {
   "cell_type": "markdown",
   "metadata": {},
   "source": [
    "### Variable Creation"
   ]
  },
  {
   "cell_type": "code",
   "execution_count": null,
   "metadata": {},
   "outputs": [],
   "source": []
  },
  {
   "cell_type": "markdown",
   "metadata": {},
   "source": [
    "Aggregate the policy/news by time (daily, weekly and monthly)"
   ]
  },
  {
   "cell_type": "code",
   "execution_count": 8,
   "metadata": {},
   "outputs": [],
   "source": [
    "daily_series = aggregate_content(\"B\",content)\n",
    "weekly_series = aggregate_content(\"W\",content)\n",
    "monthly_series = aggregate_content(\"BM\",content)"
   ]
  },
  {
   "cell_type": "code",
   "execution_count": null,
   "metadata": {},
   "outputs": [],
   "source": []
  },
  {
   "cell_type": "markdown",
   "metadata": {},
   "source": [
    "Calculate return for different frequency"
   ]
  },
  {
   "cell_type": "code",
   "execution_count": 9,
   "metadata": {},
   "outputs": [
    {
     "ename": "NameError",
     "evalue": "name 'index_df' is not defined",
     "output_type": "error",
     "traceback": [
      "\u001b[0;31m---------------------------------------------------------------------------\u001b[0m",
      "\u001b[0;31mNameError\u001b[0m                                 Traceback (most recent call last)",
      "\u001b[0;32m<ipython-input-9-183f19d18c5e>\u001b[0m in \u001b[0;36m<module>\u001b[0;34m\u001b[0m\n\u001b[0;32m----> 1\u001b[0;31m \u001b[0mindex_m\u001b[0m \u001b[0;34m=\u001b[0m \u001b[0mindex_df\u001b[0m\u001b[0;34m.\u001b[0m\u001b[0masfreq\u001b[0m\u001b[0;34m(\u001b[0m\u001b[0;34m\"BM\"\u001b[0m\u001b[0;34m,\u001b[0m\u001b[0mmethod\u001b[0m\u001b[0;34m=\u001b[0m\u001b[0;34m\"ffill\"\u001b[0m\u001b[0;34m)\u001b[0m\u001b[0;34m\u001b[0m\u001b[0;34m\u001b[0m\u001b[0m\n\u001b[0m\u001b[1;32m      2\u001b[0m \u001b[0mindex_m\u001b[0m \u001b[0;34m=\u001b[0m \u001b[0mindex_m\u001b[0m\u001b[0;34m.\u001b[0m\u001b[0mpct_change\u001b[0m\u001b[0;34m(\u001b[0m\u001b[0;34m)\u001b[0m\u001b[0;34m\u001b[0m\u001b[0;34m\u001b[0m\u001b[0m\n\u001b[1;32m      3\u001b[0m \u001b[0;34m\u001b[0m\u001b[0m\n\u001b[1;32m      4\u001b[0m \u001b[0mindex_w\u001b[0m \u001b[0;34m=\u001b[0m \u001b[0mindex_df\u001b[0m\u001b[0;34m.\u001b[0m\u001b[0masfreq\u001b[0m\u001b[0;34m(\u001b[0m\u001b[0;34m\"W\"\u001b[0m\u001b[0;34m,\u001b[0m\u001b[0mmethod\u001b[0m\u001b[0;34m=\u001b[0m\u001b[0;34m\"ffill\"\u001b[0m\u001b[0;34m)\u001b[0m\u001b[0;34m\u001b[0m\u001b[0;34m\u001b[0m\u001b[0m\n\u001b[1;32m      5\u001b[0m \u001b[0mindex_w\u001b[0m \u001b[0;34m=\u001b[0m \u001b[0mindex_w\u001b[0m\u001b[0;34m.\u001b[0m\u001b[0mpct_change\u001b[0m\u001b[0;34m(\u001b[0m\u001b[0;34m)\u001b[0m\u001b[0;34m\u001b[0m\u001b[0;34m\u001b[0m\u001b[0m\n",
      "\u001b[0;31mNameError\u001b[0m: name 'index_df' is not defined"
     ]
    }
   ],
   "source": [
    "index_m = index_df.asfreq(\"BM\",method=\"ffill\")\n",
    "index_m = index_m.pct_change()\n",
    "\n",
    "index_w = index_df.asfreq(\"W\",method=\"ffill\")\n",
    "index_w = index_w.pct_change()\n",
    "\n",
    "index_d = index_df.asfreq(\"B\",method=\"ffill\")\n",
    "index_d = index_d.pct_change()"
   ]
  },
  {
   "cell_type": "code",
   "execution_count": null,
   "metadata": {},
   "outputs": [],
   "source": []
  },
  {
   "cell_type": "markdown",
   "metadata": {},
   "source": [
    "Calculate attitude score for different frequency"
   ]
  },
  {
   "cell_type": "code",
   "execution_count": 22,
   "metadata": {},
   "outputs": [
    {
     "name": "stderr",
     "output_type": "stream",
     "text": [
      "Building prefix dict from the default dictionary ...\n",
      "Loading model from cache /var/folders/1y/w6y_szxn0m12nsrrdnzgp4540000gn/T/jieba.cache\n",
      "Loading model cost 1.665 seconds.\n",
      "Prefix dict has been built successfully.\n"
     ]
    }
   ],
   "source": [
    "economy_score_list_m = calculate_attitude_score(monthly_series,economy_list)\n",
    "reform_score_list_m = calculate_attitude_score(monthly_series,reform_list)\n",
    "regulation_score_list_m = calculate_attitude_score(monthly_series,regulation_list)\n",
    "intervention_score_list_m = calculate_attitude_score(monthly_series,intervention_list)"
   ]
  },
  {
   "cell_type": "code",
   "execution_count": 23,
   "metadata": {},
   "outputs": [],
   "source": [
    "economy_score_list_w = calculate_attitude_score(weekly_series,economy_list)\n",
    "reform_score_list_w = calculate_attitude_score(weekly_series,reform_list)\n",
    "regulation_score_list_w = calculate_attitude_score(weekly_series,regulation_list)\n",
    "intervention_score_list_w = calculate_attitude_score(weekly_series,intervention_list)"
   ]
  },
  {
   "cell_type": "code",
   "execution_count": 24,
   "metadata": {},
   "outputs": [],
   "source": [
    "economy_score_list_d = calculate_attitude_score(daily_series,economy_list)\n",
    "reform_score_list_d = calculate_attitude_score(daily_series,reform_list)\n",
    "regulation_score_list_d = calculate_attitude_score(daily_series,regulation_list)\n",
    "intervention_score_list_d = calculate_attitude_score(daily_series,intervention_list)"
   ]
  },
  {
   "cell_type": "code",
   "execution_count": null,
   "metadata": {},
   "outputs": [],
   "source": []
  },
  {
   "cell_type": "markdown",
   "metadata": {},
   "source": [
    "Calculate number of policy issued at different frequency"
   ]
  },
  {
   "cell_type": "code",
   "execution_count": 10,
   "metadata": {},
   "outputs": [],
   "source": [
    "number_of_text_d = content.resample(\"B\").apply(len)\n",
    "number_of_text_w = content.resample(\"W\").apply(len)\n",
    "number_of_text_m = content.resample(\"BM\").apply(len)"
   ]
  },
  {
   "cell_type": "code",
   "execution_count": null,
   "metadata": {},
   "outputs": [],
   "source": []
  },
  {
   "cell_type": "markdown",
   "metadata": {},
   "source": [
    "Calculate the length of the aggreagte text for different frequency"
   ]
  },
  {
   "cell_type": "code",
   "execution_count": 11,
   "metadata": {},
   "outputs": [],
   "source": [
    "text_length_m = monthly_series.apply(len)\n",
    "text_length_w = weekly_series.apply(len)\n",
    "text_length_d = daily_series.apply(len)"
   ]
  },
  {
   "cell_type": "code",
   "execution_count": null,
   "metadata": {},
   "outputs": [],
   "source": []
  },
  {
   "cell_type": "code",
   "execution_count": null,
   "metadata": {},
   "outputs": [],
   "source": []
  },
  {
   "cell_type": "markdown",
   "metadata": {},
   "source": [
    "Import China Economic Policy Uncertainty Index"
   ]
  },
  {
   "cell_type": "code",
   "execution_count": 12,
   "metadata": {},
   "outputs": [
    {
     "ename": "NameError",
     "evalue": "name 'epu_df' is not defined",
     "output_type": "error",
     "traceback": [
      "\u001b[0;31m---------------------------------------------------------------------------\u001b[0m",
      "\u001b[0;31mNameError\u001b[0m                                 Traceback (most recent call last)",
      "\u001b[0;32m<ipython-input-12-b9ca51b0eeb8>\u001b[0m in \u001b[0;36m<module>\u001b[0;34m\u001b[0m\n\u001b[0;32m----> 1\u001b[0;31m \u001b[0mepu_df_m\u001b[0m \u001b[0;34m=\u001b[0m \u001b[0mepu_df\u001b[0m\u001b[0;34m.\u001b[0m\u001b[0masfreq\u001b[0m\u001b[0;34m(\u001b[0m\u001b[0;34m\"BM\"\u001b[0m\u001b[0;34m,\u001b[0m\u001b[0;34m\"ffill\"\u001b[0m\u001b[0;34m)\u001b[0m\u001b[0;34m\u001b[0m\u001b[0;34m\u001b[0m\u001b[0m\n\u001b[0m\u001b[1;32m      2\u001b[0m \u001b[0mepu_df_w\u001b[0m \u001b[0;34m=\u001b[0m \u001b[0mepu_df\u001b[0m\u001b[0;34m.\u001b[0m\u001b[0masfreq\u001b[0m\u001b[0;34m(\u001b[0m\u001b[0;34m\"W\"\u001b[0m\u001b[0;34m,\u001b[0m\u001b[0;34m\"ffill\"\u001b[0m\u001b[0;34m)\u001b[0m\u001b[0;34m\u001b[0m\u001b[0;34m\u001b[0m\u001b[0m\n\u001b[1;32m      3\u001b[0m \u001b[0mepu_df_d\u001b[0m \u001b[0;34m=\u001b[0m \u001b[0mepu_df\u001b[0m\u001b[0;34m.\u001b[0m\u001b[0masfreq\u001b[0m\u001b[0;34m(\u001b[0m\u001b[0;34m\"B\"\u001b[0m\u001b[0;34m,\u001b[0m\u001b[0;34m\"ffill\"\u001b[0m\u001b[0;34m)\u001b[0m\u001b[0;34m\u001b[0m\u001b[0;34m\u001b[0m\u001b[0m\n",
      "\u001b[0;31mNameError\u001b[0m: name 'epu_df' is not defined"
     ]
    }
   ],
   "source": [
    "epu_df_m = epu_df.asfreq(\"BM\",\"ffill\")\n",
    "epu_df_w = epu_df.asfreq(\"W\",\"ffill\")\n",
    "epu_df_d = epu_df.asfreq(\"B\",\"ffill\")"
   ]
  },
  {
   "cell_type": "code",
   "execution_count": 28,
   "metadata": {},
   "outputs": [],
   "source": [
    "epu_df_m_r = epu_df_m.pct_change()\n",
    "epu_df_w_r = epu_df_w.pct_change()\n",
    "epu_df_d_r = epu_df_d.pct_change()"
   ]
  },
  {
   "cell_type": "code",
   "execution_count": null,
   "metadata": {},
   "outputs": [],
   "source": []
  },
  {
   "cell_type": "code",
   "execution_count": 29,
   "metadata": {},
   "outputs": [],
   "source": [
    "epu_df_m_r.CNEPU_Daily[epu_df_m_r.CNEPU_Daily==np.inf] = epu_df_m_r.median()[0]\n",
    "epu_df_w_r.CNEPU_Daily[epu_df_w_r.CNEPU_Daily==np.inf] = epu_df_w_r.median()[0]\n",
    "epu_df_d_r.CNEPU_Daily[epu_df_d_r.CNEPU_Daily==np.inf] = epu_df_d_r.median()[0]"
   ]
  },
  {
   "cell_type": "code",
   "execution_count": null,
   "metadata": {},
   "outputs": [],
   "source": []
  },
  {
   "cell_type": "code",
   "execution_count": null,
   "metadata": {},
   "outputs": [],
   "source": []
  },
  {
   "cell_type": "markdown",
   "metadata": {},
   "source": [
    "Aggregate different scores and predictors into dataframe"
   ]
  },
  {
   "cell_type": "code",
   "execution_count": 30,
   "metadata": {},
   "outputs": [],
   "source": [
    "score_df_m = pd.concat([economy_score_list_m,\n",
    "                        reform_score_list_m,\n",
    "                        regulation_score_list_m,\n",
    "                        intervention_score_list_m,\n",
    "                        text_length_m,\n",
    "                        number_of_text_m,\n",
    "                        epu_df_m,\n",
    "                        epu_df_m_r],axis=1)\n",
    "\n",
    "score_df_m.columns = [\"economy\",\"reform\",\"regulation\",\"intervention\",\"total_length\",\"number_of_text\",\"EPU\",\"EPU_change\"]\n",
    "\n",
    "\n",
    "\n",
    "score_df_w = pd.concat([economy_score_list_w,\n",
    "                        reform_score_list_w,\n",
    "                        regulation_score_list_w,\n",
    "                        intervention_score_list_w,\n",
    "                        text_length_w,\n",
    "                        number_of_text_w,\n",
    "                        epu_df_w,\n",
    "                        epu_df_w_r],axis=1)\n",
    "\n",
    "score_df_w.columns = [\"economy\",\"reform\",\"regulation\",\"intervention\",\"total_length\",\"number_of_text\",\"EPU\",\"EPU_change\"]\n",
    "\n",
    "\n",
    "\n",
    "\n",
    "\n",
    "\n",
    "\n",
    "score_df_d = pd.concat([economy_score_list_d,\n",
    "                        reform_score_list_d,\n",
    "                        regulation_score_list_d,\n",
    "                        intervention_score_list_d,\n",
    "                        text_length_d,\n",
    "                        number_of_text_d,\n",
    "                        epu_df_d,\n",
    "                        epu_df_d_r],axis=1)\n",
    "\n",
    "score_df_d.columns = [\"economy\",\"reform\",\"regulation\",\"intervention\",\"total_length\",\"number_of_text\",\"EPU\",\"EPU_change\"]\n",
    "\n",
    "\n",
    "\n",
    "\n",
    "\n",
    "\n",
    "\n",
    "\n",
    "\n"
   ]
  },
  {
   "cell_type": "code",
   "execution_count": null,
   "metadata": {},
   "outputs": [],
   "source": []
  },
  {
   "cell_type": "code",
   "execution_count": null,
   "metadata": {},
   "outputs": [],
   "source": []
  },
  {
   "cell_type": "code",
   "execution_count": null,
   "metadata": {},
   "outputs": [],
   "source": []
  },
  {
   "cell_type": "markdown",
   "metadata": {},
   "source": [
    "### Export the attitude score dataframe"
   ]
  },
  {
   "cell_type": "code",
   "execution_count": 58,
   "metadata": {},
   "outputs": [],
   "source": [
    "score_df_m.to_csv(output_directory+\"monthly_score_df_extra.csv\")\n",
    "score_df_w.to_csv(output_directory+\"weekly_score_df_extra.csv\")\n",
    "score_df_d.to_csv(output_directory+\"daily_score_df_extra.csv\")"
   ]
  },
  {
   "cell_type": "code",
   "execution_count": null,
   "metadata": {},
   "outputs": [],
   "source": []
  },
  {
   "cell_type": "markdown",
   "metadata": {},
   "source": [
    "### Merge the X and Y variables"
   ]
  },
  {
   "cell_type": "code",
   "execution_count": null,
   "metadata": {},
   "outputs": [],
   "source": []
  },
  {
   "cell_type": "code",
   "execution_count": 31,
   "metadata": {},
   "outputs": [],
   "source": [
    "merge_df_m = index_m.merge(score_df_m,how=\"inner\",right_index=True,left_index=True)\n",
    "merge_df_w = index_w.merge(score_df_w,how=\"inner\",right_index=True,left_index=True)\n",
    "merge_df_d = index_d.merge(score_df_d,how=\"inner\",right_index=True,left_index=True)"
   ]
  },
  {
   "cell_type": "code",
   "execution_count": null,
   "metadata": {},
   "outputs": [],
   "source": []
  },
  {
   "cell_type": "code",
   "execution_count": null,
   "metadata": {},
   "outputs": [],
   "source": []
  },
  {
   "cell_type": "markdown",
   "metadata": {},
   "source": [
    "### Set up the regression dataframe"
   ]
  },
  {
   "cell_type": "code",
   "execution_count": null,
   "metadata": {},
   "outputs": [],
   "source": []
  },
  {
   "cell_type": "code",
   "execution_count": null,
   "metadata": {},
   "outputs": [],
   "source": []
  },
  {
   "cell_type": "markdown",
   "metadata": {},
   "source": [
    "### Simple OLS"
   ]
  },
  {
   "cell_type": "code",
   "execution_count": 204,
   "metadata": {},
   "outputs": [],
   "source": [
    "number = [7]"
   ]
  },
  {
   "cell_type": "code",
   "execution_count": 205,
   "metadata": {},
   "outputs": [],
   "source": [
    "y = merge_df_d[\"I000002\"]\n",
    "x = merge_df_d.iloc[:,number]\n",
    "\n",
    "X,Y = regression_x_y(y,x,y_predict_lag=1,y_include_lag=0,x_include_lag=0)\n",
    "model = sm.OLS(Y,X)\n",
    "result_1 = model.fit()"
   ]
  },
  {
   "cell_type": "code",
   "execution_count": 206,
   "metadata": {},
   "outputs": [],
   "source": [
    "y = merge_df_d[\"I000020\"]\n",
    "x = merge_df_d.iloc[:,number]\n",
    "\n",
    "X,Y = regression_x_y(y,x,y_predict_lag=1,y_include_lag=0,x_include_lag=0)\n",
    "model = sm.OLS(Y,X)\n",
    "result_2 = model.fit()"
   ]
  },
  {
   "cell_type": "code",
   "execution_count": 207,
   "metadata": {},
   "outputs": [],
   "source": [
    "y = merge_df_d[\"I399005\"]\n",
    "x = merge_df_d.iloc[:,number]\n",
    "\n",
    "X,Y = regression_x_y(y,x,y_predict_lag=1,y_include_lag=0,x_include_lag=0)\n",
    "model = sm.OLS(Y,X)\n",
    "result_3 = model.fit()"
   ]
  },
  {
   "cell_type": "code",
   "execution_count": 208,
   "metadata": {},
   "outputs": [],
   "source": [
    "y = merge_df_d[\"I399106\"]\n",
    "x = merge_df_d.iloc[:,number]\n",
    "\n",
    "X,Y = regression_x_y(y,x,y_predict_lag=1,y_include_lag=0,x_include_lag=0)\n",
    "model = sm.OLS(Y,X)\n",
    "result_4 = model.fit()"
   ]
  },
  {
   "cell_type": "code",
   "execution_count": 209,
   "metadata": {},
   "outputs": [],
   "source": [
    "result_table = summary_col([result_1,result_2,result_3,result_4],\n",
    "                             stars=True,\n",
    "                             float_format=\"%0.3f\",\n",
    "                             info_dict={'N':lambda x: \"{0:d}\".format(int(x.nobs)),\n",
    "                                        'R2':lambda x: \"{:.2f}\".format(x.rsquared)})"
   ]
  },
  {
   "cell_type": "code",
   "execution_count": 210,
   "metadata": {},
   "outputs": [
    {
     "data": {
      "text/html": [
       "<table class=\"simpletable\">\n",
       "<tr>\n",
       "        <td></td>       <th>I000002</th> <th>I000020</th> <th>I399005</th> <th>I399106</th>\n",
       "</tr>\n",
       "<tr>\n",
       "  <th>const</th>         <td>0.000</td>  <td>-0.000</td>   <td>0.000</td>  <td>-0.000</td> \n",
       "</tr>\n",
       "<tr>\n",
       "  <th></th>             <td>(0.000)</td> <td>(0.001)</td> <td>(0.001)</td> <td>(0.000)</td>\n",
       "</tr>\n",
       "<tr>\n",
       "  <th>intervention</th> <td>-0.000</td>  <td>-0.000</td>  <td>-0.001</td>  <td>-0.000</td> \n",
       "</tr>\n",
       "<tr>\n",
       "  <th></th>             <td>(0.001)</td> <td>(0.001)</td> <td>(0.001)</td> <td>(0.001)</td>\n",
       "</tr>\n",
       "<tr>\n",
       "  <th>R-squared</th>    <td>-0.001</td>  <td>-0.001</td>  <td>-0.001</td>  <td>-0.001</td> \n",
       "</tr>\n",
       "<tr>\n",
       "  <th></th>              <td>0.000</td>   <td>0.000</td>   <td>0.000</td>   <td>0.000</td> \n",
       "</tr>\n",
       "<tr>\n",
       "  <th>N</th>              <td>966</td>     <td>966</td>     <td>966</td>     <td>966</td>  \n",
       "</tr>\n",
       "<tr>\n",
       "  <th>R2</th>            <td>0.00</td>    <td>0.00</td>    <td>0.00</td>    <td>0.00</td>  \n",
       "</tr>\n",
       "</table>"
      ],
      "text/plain": [
       "<class 'statsmodels.iolib.summary2.Summary'>\n",
       "\"\"\"\n",
       "\n",
       "============================================\n",
       "             I000002 I000020 I399005 I399106\n",
       "--------------------------------------------\n",
       "const        0.000   -0.000  0.000   -0.000 \n",
       "             (0.000) (0.001) (0.001) (0.000)\n",
       "intervention -0.000  -0.000  -0.001  -0.000 \n",
       "             (0.001) (0.001) (0.001) (0.001)\n",
       "R-squared    -0.001  -0.001  -0.001  -0.001 \n",
       "             0.000   0.000   0.000   0.000  \n",
       "N            966     966     966     966    \n",
       "R2           0.00    0.00    0.00    0.00   \n",
       "============================================\n",
       "Standard errors in parentheses.\n",
       "* p<.1, ** p<.05, ***p<.01\n",
       "\"\"\""
      ]
     },
     "execution_count": 210,
     "metadata": {},
     "output_type": "execute_result"
    }
   ],
   "source": [
    "result_table"
   ]
  },
  {
   "cell_type": "code",
   "execution_count": null,
   "metadata": {},
   "outputs": [],
   "source": []
  },
  {
   "cell_type": "code",
   "execution_count": null,
   "metadata": {},
   "outputs": [],
   "source": []
  },
  {
   "cell_type": "code",
   "execution_count": null,
   "metadata": {},
   "outputs": [],
   "source": []
  },
  {
   "cell_type": "code",
   "execution_count": null,
   "metadata": {},
   "outputs": [],
   "source": []
  },
  {
   "cell_type": "code",
   "execution_count": null,
   "metadata": {},
   "outputs": [],
   "source": []
  },
  {
   "cell_type": "code",
   "execution_count": null,
   "metadata": {},
   "outputs": [],
   "source": []
  },
  {
   "cell_type": "code",
   "execution_count": 60,
   "metadata": {},
   "outputs": [
    {
     "data": {
      "text/plain": [
       "Index(['I000002', 'I000020', 'I399005', 'I399106', 'economy', 'reform',\n",
       "       'regulation', 'intervention', 'total_length', 'number_of_text', 'EPU',\n",
       "       'EPU_change'],\n",
       "      dtype='object')"
      ]
     },
     "execution_count": 60,
     "metadata": {},
     "output_type": "execute_result"
    }
   ],
   "source": [
    "merge_df_w.columns"
   ]
  },
  {
   "cell_type": "code",
   "execution_count": 39,
   "metadata": {},
   "outputs": [],
   "source": [
    "y = merge_df_m[\"I000002\"]\n",
    "x = merge_df_m.iloc[:,4:8]\n",
    "\n",
    "X,Y = regression_x_y(y,x,y_predict_lag=1,y_include_lag=1,x_include_lag=0)\n",
    "\n",
    "model = sm.OLS(Y,X)\n",
    "result_1 = model.fit()"
   ]
  },
  {
   "cell_type": "code",
   "execution_count": 40,
   "metadata": {},
   "outputs": [],
   "source": [
    "y = merge_df_m[\"I000020\"]\n",
    "x = merge_df_m.iloc[:,4:8]\n",
    "\n",
    "X,Y = regression_x_y(y,x,y_predict_lag=1,y_include_lag=1,x_include_lag=0)\n",
    "\n",
    "model = sm.OLS(Y,X)\n",
    "result_2 = model.fit()"
   ]
  },
  {
   "cell_type": "code",
   "execution_count": 41,
   "metadata": {},
   "outputs": [],
   "source": [
    "y = merge_df_m[\"I399005\"]\n",
    "x = merge_df_m.iloc[:,4:8]\n",
    "\n",
    "X,Y = regression_x_y(y,x,y_predict_lag=1,y_include_lag=1,x_include_lag=0)\n",
    "\n",
    "model = sm.OLS(Y,X)\n",
    "result_3 = model.fit()"
   ]
  },
  {
   "cell_type": "code",
   "execution_count": 42,
   "metadata": {},
   "outputs": [],
   "source": [
    "y = merge_df_m[\"I399106\"]\n",
    "x = merge_df_m.iloc[:,4:8]\n",
    "\n",
    "X,Y = regression_x_y(y,x,y_predict_lag=1,y_include_lag=1,x_include_lag=0)\n",
    "\n",
    "model = sm.OLS(Y,X)\n",
    "result_4 = model.fit()"
   ]
  },
  {
   "cell_type": "code",
   "execution_count": null,
   "metadata": {},
   "outputs": [],
   "source": []
  },
  {
   "cell_type": "code",
   "execution_count": null,
   "metadata": {},
   "outputs": [],
   "source": []
  },
  {
   "cell_type": "code",
   "execution_count": null,
   "metadata": {},
   "outputs": [],
   "source": []
  },
  {
   "cell_type": "code",
   "execution_count": null,
   "metadata": {},
   "outputs": [],
   "source": []
  },
  {
   "cell_type": "code",
   "execution_count": null,
   "metadata": {},
   "outputs": [],
   "source": []
  },
  {
   "cell_type": "code",
   "execution_count": null,
   "metadata": {},
   "outputs": [],
   "source": []
  },
  {
   "cell_type": "code",
   "execution_count": 43,
   "metadata": {},
   "outputs": [],
   "source": [
    "result_table = summary_col([result_1,result_2,result_3,result_4],\n",
    "                             stars=True,\n",
    "                             float_format=\"%0.3f\",\n",
    "                             info_dict={'N':lambda x: \"{0:d}\".format(int(x.nobs)),\n",
    "                                        'R2':lambda x: \"{:.2f}\".format(x.rsquared)})"
   ]
  },
  {
   "cell_type": "code",
   "execution_count": 44,
   "metadata": {},
   "outputs": [
    {
     "data": {
      "text/html": [
       "<table class=\"simpletable\">\n",
       "<tr>\n",
       "        <td></td>       <th>I000002_y</th> <th>I000020_y</th> <th>I399005_y</th> <th>I399106_y</th>\n",
       "</tr>\n",
       "<tr>\n",
       "  <th>I000002_x</th>      <td>0.069</td>       <td></td>          <td></td>          <td></td>     \n",
       "</tr>\n",
       "<tr>\n",
       "  <th></th>              <td>(0.148)</td>      <td></td>          <td></td>          <td></td>     \n",
       "</tr>\n",
       "<tr>\n",
       "  <th>I000020_x</th>        <td></td>        <td>0.096</td>       <td></td>          <td></td>     \n",
       "</tr>\n",
       "<tr>\n",
       "  <th></th>                 <td></td>       <td>(0.159)</td>      <td></td>          <td></td>     \n",
       "</tr>\n",
       "<tr>\n",
       "  <th>I399005_x</th>        <td></td>          <td></td>        <td>0.213</td>       <td></td>     \n",
       "</tr>\n",
       "<tr>\n",
       "  <th></th>                 <td></td>          <td></td>       <td>(0.157)</td>      <td></td>     \n",
       "</tr>\n",
       "<tr>\n",
       "  <th>I399106_x</th>        <td></td>          <td></td>          <td></td>        <td>0.146</td>  \n",
       "</tr>\n",
       "<tr>\n",
       "  <th></th>                 <td></td>          <td></td>          <td></td>       <td>(0.158)</td> \n",
       "</tr>\n",
       "<tr>\n",
       "  <th>R-squared</th>      <td>0.145</td>    <td>-0.003</td>     <td>0.029</td>     <td>0.005</td>  \n",
       "</tr>\n",
       "<tr>\n",
       "  <th></th>               <td>0.245</td>     <td>0.114</td>     <td>0.141</td>     <td>0.120</td>  \n",
       "</tr>\n",
       "<tr>\n",
       "  <th>const</th>         <td>-0.016</td>    <td>-0.004</td>    <td>-0.008</td>    <td>-0.006</td>  \n",
       "</tr>\n",
       "<tr>\n",
       "  <th></th>              <td>(0.023)</td>   <td>(0.035)</td>   <td>(0.034)</td>   <td>(0.033)</td> \n",
       "</tr>\n",
       "<tr>\n",
       "  <th>economy</th>       <td>0.050*</td>     <td>0.041</td>     <td>0.033</td>     <td>0.033</td>  \n",
       "</tr>\n",
       "<tr>\n",
       "  <th></th>              <td>(0.029)</td>   <td>(0.045)</td>   <td>(0.044)</td>   <td>(0.042)</td> \n",
       "</tr>\n",
       "<tr>\n",
       "  <th>intervention</th> <td>0.142***</td>    <td>0.126</td>    <td>0.149*</td>    <td>0.134*</td>  \n",
       "</tr>\n",
       "<tr>\n",
       "  <th></th>              <td>(0.050)</td>   <td>(0.076)</td>   <td>(0.076)</td>   <td>(0.071)</td> \n",
       "</tr>\n",
       "<tr>\n",
       "  <th>reform</th>       <td>-0.037**</td>   <td>-0.040</td>    <td>-0.041</td>    <td>-0.034</td>  \n",
       "</tr>\n",
       "<tr>\n",
       "  <th></th>              <td>(0.017)</td>   <td>(0.026)</td>   <td>(0.025)</td>   <td>(0.024)</td> \n",
       "</tr>\n",
       "<tr>\n",
       "  <th>regulation</th>    <td>-0.016</td>    <td>-0.027</td>    <td>-0.004</td>    <td>-0.026</td>  \n",
       "</tr>\n",
       "<tr>\n",
       "  <th></th>              <td>(0.043)</td>   <td>(0.066)</td>   <td>(0.065)</td>   <td>(0.062)</td> \n",
       "</tr>\n",
       "<tr>\n",
       "  <th>N</th>               <td>44</td>        <td>44</td>        <td>44</td>        <td>44</td>    \n",
       "</tr>\n",
       "<tr>\n",
       "  <th>R2</th>             <td>0.24</td>      <td>0.11</td>      <td>0.14</td>      <td>0.12</td>   \n",
       "</tr>\n",
       "</table>"
      ],
      "text/plain": [
       "<class 'statsmodels.iolib.summary2.Summary'>\n",
       "\"\"\"\n",
       "\n",
       "====================================================\n",
       "             I000002_y I000020_y I399005_y I399106_y\n",
       "----------------------------------------------------\n",
       "I000002_x    0.069                                  \n",
       "             (0.148)                                \n",
       "I000020_x              0.096                        \n",
       "                       (0.159)                      \n",
       "I399005_x                        0.213              \n",
       "                                 (0.157)            \n",
       "I399106_x                                  0.146    \n",
       "                                           (0.158)  \n",
       "R-squared    0.145     -0.003    0.029     0.005    \n",
       "             0.245     0.114     0.141     0.120    \n",
       "const        -0.016    -0.004    -0.008    -0.006   \n",
       "             (0.023)   (0.035)   (0.034)   (0.033)  \n",
       "economy      0.050*    0.041     0.033     0.033    \n",
       "             (0.029)   (0.045)   (0.044)   (0.042)  \n",
       "intervention 0.142***  0.126     0.149*    0.134*   \n",
       "             (0.050)   (0.076)   (0.076)   (0.071)  \n",
       "reform       -0.037**  -0.040    -0.041    -0.034   \n",
       "             (0.017)   (0.026)   (0.025)   (0.024)  \n",
       "regulation   -0.016    -0.027    -0.004    -0.026   \n",
       "             (0.043)   (0.066)   (0.065)   (0.062)  \n",
       "N            44        44        44        44       \n",
       "R2           0.24      0.11      0.14      0.12     \n",
       "====================================================\n",
       "Standard errors in parentheses.\n",
       "* p<.1, ** p<.05, ***p<.01\n",
       "\"\"\""
      ]
     },
     "execution_count": 44,
     "metadata": {},
     "output_type": "execute_result"
    }
   ],
   "source": [
    "result_table"
   ]
  },
  {
   "cell_type": "code",
   "execution_count": 38,
   "metadata": {},
   "outputs": [
    {
     "name": "stdout",
     "output_type": "stream",
     "text": [
      "\\begin{table}\n",
      "\\caption{}\n",
      "\\begin{center}\n",
      "\\begin{tabular}{lcccc}\n",
      "\\hline\n",
      "             & I000002\\_y & I000020\\_y & I399005\\_y & I399106\\_y  \\\\\n",
      "\\midrule\n",
      "I000002\\_x   & -0.005     &            &            &             \\\\\n",
      "             & (0.032)    &            &            &             \\\\\n",
      "I000020\\_x   &            & 0.031      &            &             \\\\\n",
      "             &            & (0.032)    &            &             \\\\\n",
      "I399005\\_x   &            &            & -0.002     &             \\\\\n",
      "             &            &            & (0.032)    &             \\\\\n",
      "I399106\\_x   &            &            &            & -0.001      \\\\\n",
      "             &            &            &            & (0.032)     \\\\\n",
      "R-squared    & 0.000      & 0.007      & 0.001      & 0.003       \\\\\n",
      "             & 0.005      & 0.012      & 0.006      & 0.008       \\\\\n",
      "const        & -0.000     & -0.001     & -0.000     & -0.000      \\\\\n",
      "             & (0.000)    & (0.001)    & (0.001)    & (0.001)     \\\\\n",
      "economy      & -0.001     & -0.001     & -0.001     & -0.001      \\\\\n",
      "             & (0.001)    & (0.001)    & (0.001)    & (0.001)     \\\\\n",
      "intervention & -0.000     & -0.001     & -0.001     & -0.001      \\\\\n",
      "             & (0.001)    & (0.001)    & (0.001)    & (0.001)     \\\\\n",
      "reform       & 0.001**    & 0.001***   & 0.001**    & 0.001***    \\\\\n",
      "             & (0.000)    & (0.000)    & (0.000)    & (0.000)     \\\\\n",
      "regulation   & -0.000     & -0.001     & -0.001     & -0.001      \\\\\n",
      "             & (0.001)    & (0.001)    & (0.001)    & (0.001)     \\\\\n",
      "N            & 966        & 966        & 966        & 966         \\\\\n",
      "R2           & 0.01       & 0.01       & 0.01       & 0.01        \\\\\n",
      "\\hline\n",
      "\\end{tabular}\n",
      "\\end{center}\n",
      "\\end{table}\n"
     ]
    }
   ],
   "source": [
    "print(result_table.as_latex())"
   ]
  },
  {
   "cell_type": "code",
   "execution_count": null,
   "metadata": {},
   "outputs": [],
   "source": []
  },
  {
   "cell_type": "code",
   "execution_count": null,
   "metadata": {},
   "outputs": [],
   "source": []
  },
  {
   "cell_type": "markdown",
   "metadata": {},
   "source": [
    "## Add Control Variable"
   ]
  },
  {
   "cell_type": "code",
   "execution_count": null,
   "metadata": {},
   "outputs": [],
   "source": [
    "merge_df_w.columns"
   ]
  },
  {
   "cell_type": "code",
   "execution_count": null,
   "metadata": {},
   "outputs": [],
   "source": []
  },
  {
   "cell_type": "code",
   "execution_count": 233,
   "metadata": {},
   "outputs": [],
   "source": [
    "index_ticker = \"I399106\"\n",
    "merge_df = merge_df_d"
   ]
  },
  {
   "cell_type": "code",
   "execution_count": 234,
   "metadata": {},
   "outputs": [
    {
     "data": {
      "text/plain": [
       "Index(['I000002', 'I000020', 'I399005', 'I399106', 'economy', 'reform',\n",
       "       'regulation', 'intervention', 'total_length', 'number_of_text', 'EPU',\n",
       "       'EPU_change'],\n",
       "      dtype='object')"
      ]
     },
     "execution_count": 234,
     "metadata": {},
     "output_type": "execute_result"
    }
   ],
   "source": [
    "merge_df.columns"
   ]
  },
  {
   "cell_type": "code",
   "execution_count": 235,
   "metadata": {},
   "outputs": [],
   "source": [
    "y = merge_df[index_ticker]\n",
    "x = merge_df.iloc[:,4:8]\n",
    "\n",
    "X,Y = regression_x_y(y,x,y_predict_lag=1,y_include_lag=1,x_include_lag=0)\n",
    "\n",
    "model = sm.OLS(Y,X)\n",
    "result_1 = model.fit()"
   ]
  },
  {
   "cell_type": "code",
   "execution_count": 236,
   "metadata": {},
   "outputs": [],
   "source": [
    "y = merge_df[index_ticker]\n",
    "x = merge_df.iloc[:,4:10]\n",
    "\n",
    "X,Y = regression_x_y(y,x,y_predict_lag=1,y_include_lag=1,x_include_lag=0)\n",
    "\n",
    "model = sm.OLS(Y,X)\n",
    "result_2 = model.fit()"
   ]
  },
  {
   "cell_type": "code",
   "execution_count": 237,
   "metadata": {},
   "outputs": [],
   "source": [
    "y = merge_df[index_ticker]\n",
    "x = merge_df.iloc[:,4:]\n",
    "\n",
    "X,Y = regression_x_y(y,x,y_predict_lag=1,y_include_lag=1,x_include_lag=0)\n",
    "\n",
    "model = sm.OLS(Y,X)\n",
    "result_3 = model.fit()"
   ]
  },
  {
   "cell_type": "code",
   "execution_count": null,
   "metadata": {},
   "outputs": [],
   "source": []
  },
  {
   "cell_type": "code",
   "execution_count": 238,
   "metadata": {},
   "outputs": [],
   "source": [
    "result_table = summary_col([result_1,result_2,result_3],\n",
    "                             stars=True,\n",
    "                             float_format=\"%0.3f\",\n",
    "                             info_dict={'N':lambda x: \"{0:d}\".format(int(x.nobs)),\n",
    "                                        'R2':lambda x: \"{:.2f}\".format(x.rsquared)},\n",
    "                          regressor_order=[\"const\",\"economy\",\"intervention\",\"reform\",\"regulation\",\"I000002_x \",\n",
    "                                           \"total_length\",\"number_of_text\",\"EPU\",\"EPU_change\"])"
   ]
  },
  {
   "cell_type": "code",
   "execution_count": 239,
   "metadata": {
    "scrolled": true
   },
   "outputs": [
    {
     "name": "stdout",
     "output_type": "stream",
     "text": [
      "\\begin{table}\n",
      "\\caption{}\n",
      "\\begin{center}\n",
      "\\begin{tabular}{lccc}\n",
      "\\hline\n",
      "                 & I399106\\_y I & I399106\\_y II & I399106\\_y III  \\\\\n",
      "\\midrule\n",
      "const            & -0.000       & -0.001        & -0.002          \\\\\n",
      "                 & (0.001)      & (0.001)       & (0.001)         \\\\\n",
      "economy          & -0.001       & -0.001*       & -0.001*         \\\\\n",
      "                 & (0.001)      & (0.001)       & (0.001)         \\\\\n",
      "intervention     & -0.001       & -0.001        & -0.001          \\\\\n",
      "                 & (0.001)      & (0.001)       & (0.001)         \\\\\n",
      "reform           & 0.001***     & 0.001**       & 0.001**         \\\\\n",
      "                 & (0.000)      & (0.000)       & (0.000)         \\\\\n",
      "regulation       & -0.001       & -0.001        & -0.001          \\\\\n",
      "                 & (0.001)      & (0.001)       & (0.001)         \\\\\n",
      "total\\_length    &              & 0.000         & 0.000           \\\\\n",
      "                 &              & (0.000)       & (0.000)         \\\\\n",
      "number\\_of\\_text &              & 0.000         & 0.000           \\\\\n",
      "                 &              & (0.000)       & (0.000)         \\\\\n",
      "EPU              &              &               & 0.000           \\\\\n",
      "                 &              &               & (0.000)         \\\\\n",
      "EPU\\_change      &              &               & -0.001          \\\\\n",
      "                 &              &               & (0.001)         \\\\\n",
      "I399106\\_x       & -0.001       & -0.005        & -0.005          \\\\\n",
      "                 & (0.032)      & (0.032)       & (0.032)         \\\\\n",
      "R-squared        & 0.003        & 0.004         & 0.004           \\\\\n",
      "                 & 0.008        & 0.011         & 0.013           \\\\\n",
      "N                & 966          & 966           & 966             \\\\\n",
      "R2               & 0.01         & 0.01          & 0.01            \\\\\n",
      "\\hline\n",
      "\\end{tabular}\n",
      "\\end{center}\n",
      "\\end{table}\n"
     ]
    }
   ],
   "source": [
    "print(result_table.as_latex())"
   ]
  },
  {
   "cell_type": "code",
   "execution_count": 240,
   "metadata": {},
   "outputs": [
    {
     "data": {
      "text/html": [
       "<table class=\"simpletable\">\n",
       "<tr>\n",
       "         <td></td>        <th>I399106_y I</th> <th>I399106_y II</th> <th>I399106_y III</th>\n",
       "</tr>\n",
       "<tr>\n",
       "  <th>const</th>            <td>-0.000</td>       <td>-0.001</td>       <td>-0.002</td>    \n",
       "</tr>\n",
       "<tr>\n",
       "  <th></th>                 <td>(0.001)</td>      <td>(0.001)</td>      <td>(0.001)</td>   \n",
       "</tr>\n",
       "<tr>\n",
       "  <th>economy</th>          <td>-0.001</td>       <td>-0.001*</td>      <td>-0.001*</td>   \n",
       "</tr>\n",
       "<tr>\n",
       "  <th></th>                 <td>(0.001)</td>      <td>(0.001)</td>      <td>(0.001)</td>   \n",
       "</tr>\n",
       "<tr>\n",
       "  <th>intervention</th>     <td>-0.001</td>       <td>-0.001</td>       <td>-0.001</td>    \n",
       "</tr>\n",
       "<tr>\n",
       "  <th></th>                 <td>(0.001)</td>      <td>(0.001)</td>      <td>(0.001)</td>   \n",
       "</tr>\n",
       "<tr>\n",
       "  <th>reform</th>          <td>0.001***</td>      <td>0.001**</td>      <td>0.001**</td>   \n",
       "</tr>\n",
       "<tr>\n",
       "  <th></th>                 <td>(0.000)</td>      <td>(0.000)</td>      <td>(0.000)</td>   \n",
       "</tr>\n",
       "<tr>\n",
       "  <th>regulation</th>       <td>-0.001</td>       <td>-0.001</td>       <td>-0.001</td>    \n",
       "</tr>\n",
       "<tr>\n",
       "  <th></th>                 <td>(0.001)</td>      <td>(0.001)</td>      <td>(0.001)</td>   \n",
       "</tr>\n",
       "<tr>\n",
       "  <th>total_length</th>        <td></td>           <td>0.000</td>        <td>0.000</td>    \n",
       "</tr>\n",
       "<tr>\n",
       "  <th></th>                    <td></td>          <td>(0.000)</td>      <td>(0.000)</td>   \n",
       "</tr>\n",
       "<tr>\n",
       "  <th>number_of_text</th>      <td></td>           <td>0.000</td>        <td>0.000</td>    \n",
       "</tr>\n",
       "<tr>\n",
       "  <th></th>                    <td></td>          <td>(0.000)</td>      <td>(0.000)</td>   \n",
       "</tr>\n",
       "<tr>\n",
       "  <th>EPU</th>                 <td></td>             <td></td>           <td>0.000</td>    \n",
       "</tr>\n",
       "<tr>\n",
       "  <th></th>                    <td></td>             <td></td>          <td>(0.000)</td>   \n",
       "</tr>\n",
       "<tr>\n",
       "  <th>EPU_change</th>          <td></td>             <td></td>          <td>-0.001</td>    \n",
       "</tr>\n",
       "<tr>\n",
       "  <th></th>                    <td></td>             <td></td>          <td>(0.001)</td>   \n",
       "</tr>\n",
       "<tr>\n",
       "  <th>I399106_x</th>        <td>-0.001</td>       <td>-0.005</td>       <td>-0.005</td>    \n",
       "</tr>\n",
       "<tr>\n",
       "  <th></th>                 <td>(0.032)</td>      <td>(0.032)</td>      <td>(0.032)</td>   \n",
       "</tr>\n",
       "<tr>\n",
       "  <th>R-squared</th>         <td>0.003</td>        <td>0.004</td>        <td>0.004</td>    \n",
       "</tr>\n",
       "<tr>\n",
       "  <th></th>                  <td>0.008</td>        <td>0.011</td>        <td>0.013</td>    \n",
       "</tr>\n",
       "<tr>\n",
       "  <th>N</th>                  <td>966</td>          <td>966</td>          <td>966</td>     \n",
       "</tr>\n",
       "<tr>\n",
       "  <th>R2</th>                <td>0.01</td>         <td>0.01</td>         <td>0.01</td>     \n",
       "</tr>\n",
       "</table>"
      ],
      "text/plain": [
       "<class 'statsmodels.iolib.summary2.Summary'>\n",
       "\"\"\"\n",
       "\n",
       "=====================================================\n",
       "               I399106_y I I399106_y II I399106_y III\n",
       "-----------------------------------------------------\n",
       "const          -0.000      -0.001       -0.002       \n",
       "               (0.001)     (0.001)      (0.001)      \n",
       "economy        -0.001      -0.001*      -0.001*      \n",
       "               (0.001)     (0.001)      (0.001)      \n",
       "intervention   -0.001      -0.001       -0.001       \n",
       "               (0.001)     (0.001)      (0.001)      \n",
       "reform         0.001***    0.001**      0.001**      \n",
       "               (0.000)     (0.000)      (0.000)      \n",
       "regulation     -0.001      -0.001       -0.001       \n",
       "               (0.001)     (0.001)      (0.001)      \n",
       "total_length               0.000        0.000        \n",
       "                           (0.000)      (0.000)      \n",
       "number_of_text             0.000        0.000        \n",
       "                           (0.000)      (0.000)      \n",
       "EPU                                     0.000        \n",
       "                                        (0.000)      \n",
       "EPU_change                              -0.001       \n",
       "                                        (0.001)      \n",
       "I399106_x      -0.001      -0.005       -0.005       \n",
       "               (0.032)     (0.032)      (0.032)      \n",
       "R-squared      0.003       0.004        0.004        \n",
       "               0.008       0.011        0.013        \n",
       "N              966         966          966          \n",
       "R2             0.01        0.01         0.01         \n",
       "=====================================================\n",
       "Standard errors in parentheses.\n",
       "* p<.1, ** p<.05, ***p<.01\n",
       "\"\"\""
      ]
     },
     "execution_count": 240,
     "metadata": {},
     "output_type": "execute_result"
    }
   ],
   "source": [
    "result_table"
   ]
  },
  {
   "cell_type": "code",
   "execution_count": null,
   "metadata": {},
   "outputs": [],
   "source": []
  },
  {
   "cell_type": "code",
   "execution_count": null,
   "metadata": {},
   "outputs": [],
   "source": []
  },
  {
   "cell_type": "code",
   "execution_count": null,
   "metadata": {},
   "outputs": [],
   "source": []
  },
  {
   "cell_type": "code",
   "execution_count": null,
   "metadata": {},
   "outputs": [],
   "source": []
  },
  {
   "cell_type": "code",
   "execution_count": null,
   "metadata": {},
   "outputs": [],
   "source": []
  },
  {
   "cell_type": "code",
   "execution_count": null,
   "metadata": {},
   "outputs": [],
   "source": []
  },
  {
   "cell_type": "code",
   "execution_count": null,
   "metadata": {},
   "outputs": [],
   "source": []
  },
  {
   "cell_type": "code",
   "execution_count": null,
   "metadata": {},
   "outputs": [],
   "source": []
  }
 ],
 "metadata": {
  "kernelspec": {
   "display_name": "Python 3",
   "language": "python",
   "name": "python3"
  },
  "language_info": {
   "codemirror_mode": {
    "name": "ipython",
    "version": 3
   },
   "file_extension": ".py",
   "mimetype": "text/x-python",
   "name": "python",
   "nbconvert_exporter": "python",
   "pygments_lexer": "ipython3",
   "version": "3.7.6"
  }
 },
 "nbformat": 4,
 "nbformat_minor": 4
}
