{
 "cells": [
  {
   "cell_type": "code",
   "execution_count": null,
   "metadata": {},
   "outputs": [],
   "source": []
  },
  {
   "cell_type": "code",
   "execution_count": 1,
   "metadata": {},
   "outputs": [],
   "source": [
    "import pandas as pd"
   ]
  },
  {
   "cell_type": "code",
   "execution_count": 2,
   "metadata": {},
   "outputs": [],
   "source": [
    "from src.GWY_news_utils import aggregate_content,calculate_attitude_score,load_attitude_dictionary,regression_x_y"
   ]
  },
  {
   "cell_type": "code",
   "execution_count": 3,
   "metadata": {},
   "outputs": [],
   "source": [
    "from statsmodels.iolib.summary2 import summary_col\n",
    "import statsmodels.api as sm"
   ]
  },
  {
   "cell_type": "code",
   "execution_count": null,
   "metadata": {},
   "outputs": [],
   "source": []
  },
  {
   "cell_type": "code",
   "execution_count": 4,
   "metadata": {},
   "outputs": [],
   "source": [
    "\n",
    "def ols_same_x(y_list,x):\n",
    "    \n",
    "    result_list = []\n",
    "    \n",
    "    for y in y_list:\n",
    "        \n",
    "        X,Y = regression_x_y(y,x,y_predict_lag=1,y_include_lag=0,x_include_lag=0)\n",
    "        model = sm.OLS(Y,X)\n",
    "        result = model.fit()\n",
    "        result_list.append(result)\n",
    "    \n",
    "    return result_list"
   ]
  },
  {
   "cell_type": "code",
   "execution_count": 5,
   "metadata": {},
   "outputs": [],
   "source": [
    "def ols_same_y(y,x_list):\n",
    "    \n",
    "    result_list = []\n",
    "    \n",
    "    check = 0\n",
    "    \n",
    "    for x in x_list:\n",
    "        \n",
    "        if check == 0:\n",
    "            X,Y = regression_x_y(y,x,y_predict_lag=1,y_include_lag=0,x_include_lag=0)\n",
    "            model = sm.OLS(Y,X)\n",
    "            result = model.fit()\n",
    "            result_list.append(result)\n",
    "            check = 1\n",
    "            \n",
    "        X,Y = regression_x_y(y,x,y_predict_lag=1,y_include_lag=1,x_include_lag=0)\n",
    "        model = sm.OLS(Y,X)\n",
    "        result = model.fit()\n",
    "        result_list.append(result)\n",
    "    \n",
    "    return result_list"
   ]
  },
  {
   "cell_type": "code",
   "execution_count": null,
   "metadata": {},
   "outputs": [],
   "source": []
  },
  {
   "cell_type": "code",
   "execution_count": null,
   "metadata": {},
   "outputs": [],
   "source": []
  },
  {
   "cell_type": "code",
   "execution_count": 6,
   "metadata": {},
   "outputs": [],
   "source": [
    "data_directory = \"data/extra_index_return/\"\n",
    "df = pd.read_excel(data_directory+\"index_category_selected_2.xls\")\n",
    "df[\"交易日期_TrdDt\"] = pd.to_datetime(df[\"交易日期_TrdDt\"])"
   ]
  },
  {
   "cell_type": "code",
   "execution_count": 7,
   "metadata": {},
   "outputs": [],
   "source": [
    "df_wide = pd.pivot_table(df,values=\"收盘价()_ClPr\",index=[\"交易日期_TrdDt\"],columns=[\"指数代码_IdxCd\"])"
   ]
  },
  {
   "cell_type": "code",
   "execution_count": 8,
   "metadata": {},
   "outputs": [],
   "source": [
    "df_wide.iloc[:,0:5].to_csv(data_directory+\"index_category_selected_2_wide.csv\")"
   ]
  },
  {
   "cell_type": "code",
   "execution_count": null,
   "metadata": {},
   "outputs": [],
   "source": []
  },
  {
   "cell_type": "code",
   "execution_count": 12,
   "metadata": {},
   "outputs": [
    {
     "data": {
      "text/plain": [
       "1"
      ]
     },
     "execution_count": 12,
     "metadata": {},
     "output_type": "execute_result"
    }
   ],
   "source": [
    "sum(df_wide.index > \"2016-09-25\")"
   ]
  },
  {
   "cell_type": "code",
   "execution_count": 15,
   "metadata": {},
   "outputs": [
    {
     "data": {
      "text/html": [
       "<div>\n",
       "<style scoped>\n",
       "    .dataframe tbody tr th:only-of-type {\n",
       "        vertical-align: middle;\n",
       "    }\n",
       "\n",
       "    .dataframe tbody tr th {\n",
       "        vertical-align: top;\n",
       "    }\n",
       "\n",
       "    .dataframe thead th {\n",
       "        text-align: right;\n",
       "    }\n",
       "</style>\n",
       "<table border=\"1\" class=\"dataframe\">\n",
       "  <thead>\n",
       "    <tr style=\"text-align: right;\">\n",
       "      <th>指数代码_IdxCd</th>\n",
       "      <th>903</th>\n",
       "      <th>904</th>\n",
       "      <th>905</th>\n",
       "      <th>906</th>\n",
       "      <th>907</th>\n",
       "      <th>399903</th>\n",
       "      <th>399904</th>\n",
       "      <th>399905</th>\n",
       "      <th>399906</th>\n",
       "      <th>399907</th>\n",
       "    </tr>\n",
       "    <tr>\n",
       "      <th>交易日期_TrdDt</th>\n",
       "      <th></th>\n",
       "      <th></th>\n",
       "      <th></th>\n",
       "      <th></th>\n",
       "      <th></th>\n",
       "      <th></th>\n",
       "      <th></th>\n",
       "      <th></th>\n",
       "      <th></th>\n",
       "      <th></th>\n",
       "    </tr>\n",
       "  </thead>\n",
       "  <tbody>\n",
       "    <tr>\n",
       "      <th>2016-08-29</th>\n",
       "      <td>3075.04</td>\n",
       "      <td>4208.15</td>\n",
       "      <td>6427.53</td>\n",
       "      <td>3854.44</td>\n",
       "      <td>5198.72</td>\n",
       "      <td>3075.04</td>\n",
       "      <td>4208.15</td>\n",
       "      <td>6427.53</td>\n",
       "      <td>NaN</td>\n",
       "      <td>NaN</td>\n",
       "    </tr>\n",
       "    <tr>\n",
       "      <th>2016-08-30</th>\n",
       "      <td>3083.55</td>\n",
       "      <td>4203.05</td>\n",
       "      <td>6425.75</td>\n",
       "      <td>3857.53</td>\n",
       "      <td>5195.03</td>\n",
       "      <td>3083.55</td>\n",
       "      <td>4203.05</td>\n",
       "      <td>6425.75</td>\n",
       "      <td>NaN</td>\n",
       "      <td>NaN</td>\n",
       "    </tr>\n",
       "    <tr>\n",
       "      <th>2016-08-31</th>\n",
       "      <td>3104.51</td>\n",
       "      <td>4208.87</td>\n",
       "      <td>6434.21</td>\n",
       "      <td>3871.89</td>\n",
       "      <td>5202.04</td>\n",
       "      <td>3104.51</td>\n",
       "      <td>4208.87</td>\n",
       "      <td>6434.21</td>\n",
       "      <td>NaN</td>\n",
       "      <td>NaN</td>\n",
       "    </tr>\n",
       "    <tr>\n",
       "      <th>2016-09-01</th>\n",
       "      <td>3079.92</td>\n",
       "      <td>4176.02</td>\n",
       "      <td>6381.48</td>\n",
       "      <td>3841.02</td>\n",
       "      <td>5160.34</td>\n",
       "      <td>3079.92</td>\n",
       "      <td>4176.02</td>\n",
       "      <td>6381.48</td>\n",
       "      <td>NaN</td>\n",
       "      <td>NaN</td>\n",
       "    </tr>\n",
       "    <tr>\n",
       "      <th>2016-09-02</th>\n",
       "      <td>3096.00</td>\n",
       "      <td>4181.89</td>\n",
       "      <td>6356.95</td>\n",
       "      <td>3846.72</td>\n",
       "      <td>5153.03</td>\n",
       "      <td>3096.00</td>\n",
       "      <td>4181.89</td>\n",
       "      <td>6356.95</td>\n",
       "      <td>NaN</td>\n",
       "      <td>NaN</td>\n",
       "    </tr>\n",
       "    <tr>\n",
       "      <th>...</th>\n",
       "      <td>...</td>\n",
       "      <td>...</td>\n",
       "      <td>...</td>\n",
       "      <td>...</td>\n",
       "      <td>...</td>\n",
       "      <td>...</td>\n",
       "      <td>...</td>\n",
       "      <td>...</td>\n",
       "      <td>...</td>\n",
       "      <td>...</td>\n",
       "    </tr>\n",
       "    <tr>\n",
       "      <th>2020-09-25</th>\n",
       "      <td>4607.61</td>\n",
       "      <td>5005.87</td>\n",
       "      <td>6236.89</td>\n",
       "      <td>4843.15</td>\n",
       "      <td>5575.73</td>\n",
       "      <td>4607.61</td>\n",
       "      <td>5005.87</td>\n",
       "      <td>6236.89</td>\n",
       "      <td>NaN</td>\n",
       "      <td>NaN</td>\n",
       "    </tr>\n",
       "    <tr>\n",
       "      <th>2020-09-28</th>\n",
       "      <td>4632.19</td>\n",
       "      <td>4993.38</td>\n",
       "      <td>6178.47</td>\n",
       "      <td>4841.63</td>\n",
       "      <td>5543.42</td>\n",
       "      <td>4632.19</td>\n",
       "      <td>4993.38</td>\n",
       "      <td>6178.47</td>\n",
       "      <td>NaN</td>\n",
       "      <td>NaN</td>\n",
       "    </tr>\n",
       "    <tr>\n",
       "      <th>2020-09-29</th>\n",
       "      <td>4631.74</td>\n",
       "      <td>5025.31</td>\n",
       "      <td>6228.77</td>\n",
       "      <td>4859.07</td>\n",
       "      <td>5583.50</td>\n",
       "      <td>4631.74</td>\n",
       "      <td>5025.31</td>\n",
       "      <td>6228.77</td>\n",
       "      <td>NaN</td>\n",
       "      <td>NaN</td>\n",
       "    </tr>\n",
       "    <tr>\n",
       "      <th>2020-09-30</th>\n",
       "      <td>4630.33</td>\n",
       "      <td>5014.36</td>\n",
       "      <td>6192.50</td>\n",
       "      <td>4848.68</td>\n",
       "      <td>5561.60</td>\n",
       "      <td>4630.33</td>\n",
       "      <td>5014.36</td>\n",
       "      <td>6192.50</td>\n",
       "      <td>NaN</td>\n",
       "      <td>NaN</td>\n",
       "    </tr>\n",
       "    <tr>\n",
       "      <th>2020-10-09</th>\n",
       "      <td>4699.68</td>\n",
       "      <td>5168.04</td>\n",
       "      <td>6357.97</td>\n",
       "      <td>4955.13</td>\n",
       "      <td>5721.61</td>\n",
       "      <td>4699.68</td>\n",
       "      <td>5168.04</td>\n",
       "      <td>6357.97</td>\n",
       "      <td>NaN</td>\n",
       "      <td>NaN</td>\n",
       "    </tr>\n",
       "  </tbody>\n",
       "</table>\n",
       "<p>998 rows × 10 columns</p>\n",
       "</div>"
      ],
      "text/plain": [
       "指数代码_IdxCd   903      904      905      906      907      399903   399904  \\\n",
       "交易日期_TrdDt                                                                  \n",
       "2016-08-29  3075.04  4208.15  6427.53  3854.44  5198.72  3075.04  4208.15   \n",
       "2016-08-30  3083.55  4203.05  6425.75  3857.53  5195.03  3083.55  4203.05   \n",
       "2016-08-31  3104.51  4208.87  6434.21  3871.89  5202.04  3104.51  4208.87   \n",
       "2016-09-01  3079.92  4176.02  6381.48  3841.02  5160.34  3079.92  4176.02   \n",
       "2016-09-02  3096.00  4181.89  6356.95  3846.72  5153.03  3096.00  4181.89   \n",
       "...             ...      ...      ...      ...      ...      ...      ...   \n",
       "2020-09-25  4607.61  5005.87  6236.89  4843.15  5575.73  4607.61  5005.87   \n",
       "2020-09-28  4632.19  4993.38  6178.47  4841.63  5543.42  4632.19  4993.38   \n",
       "2020-09-29  4631.74  5025.31  6228.77  4859.07  5583.50  4631.74  5025.31   \n",
       "2020-09-30  4630.33  5014.36  6192.50  4848.68  5561.60  4630.33  5014.36   \n",
       "2020-10-09  4699.68  5168.04  6357.97  4955.13  5721.61  4699.68  5168.04   \n",
       "\n",
       "指数代码_IdxCd   399905  399906  399907  \n",
       "交易日期_TrdDt                           \n",
       "2016-08-29  6427.53     NaN     NaN  \n",
       "2016-08-30  6425.75     NaN     NaN  \n",
       "2016-08-31  6434.21     NaN     NaN  \n",
       "2016-09-01  6381.48     NaN     NaN  \n",
       "2016-09-02  6356.95     NaN     NaN  \n",
       "...             ...     ...     ...  \n",
       "2020-09-25  6236.89     NaN     NaN  \n",
       "2020-09-28  6178.47     NaN     NaN  \n",
       "2020-09-29  6228.77     NaN     NaN  \n",
       "2020-09-30  6192.50     NaN     NaN  \n",
       "2020-10-09  6357.97     NaN     NaN  \n",
       "\n",
       "[998 rows x 10 columns]"
      ]
     },
     "execution_count": 15,
     "metadata": {},
     "output_type": "execute_result"
    }
   ],
   "source": [
    "df_wide[df_wide.index > \"2016-08-27\"]"
   ]
  },
  {
   "cell_type": "markdown",
   "metadata": {},
   "source": [
    "## Data Preparation"
   ]
  },
  {
   "cell_type": "markdown",
   "metadata": {},
   "source": [
    "### Stock Return Data"
   ]
  },
  {
   "cell_type": "code",
   "execution_count": 9,
   "metadata": {},
   "outputs": [],
   "source": [
    "data_directory = \"data/extra_index_return/\""
   ]
  },
  {
   "cell_type": "code",
   "execution_count": 10,
   "metadata": {},
   "outputs": [],
   "source": [
    "df = pd.read_csv(data_directory+\"index_category_selected_2_wide.csv\")"
   ]
  },
  {
   "cell_type": "code",
   "execution_count": 11,
   "metadata": {},
   "outputs": [],
   "source": [
    "df[\"交易日期_TrdDt\"] = pd.to_datetime(df[\"交易日期_TrdDt\"])\n",
    "df.index = df[\"交易日期_TrdDt\"]\n",
    "df = df.iloc[:,1:]\n",
    "index_df = df"
   ]
  },
  {
   "cell_type": "code",
   "execution_count": 12,
   "metadata": {},
   "outputs": [],
   "source": [
    "index_m = index_df.asfreq(\"BM\",method=\"ffill\")\n",
    "index_m = index_m.pct_change()\n",
    "\n",
    "index_w = index_df.asfreq(\"W\",method=\"ffill\")\n",
    "index_w = index_w.pct_change()\n",
    "\n",
    "index_d = index_df.asfreq(\"B\",method=\"ffill\")\n",
    "index_d = index_d.pct_change()"
   ]
  },
  {
   "cell_type": "code",
   "execution_count": 13,
   "metadata": {},
   "outputs": [
    {
     "data": {
      "text/html": [
       "<div>\n",
       "<style scoped>\n",
       "    .dataframe tbody tr th:only-of-type {\n",
       "        vertical-align: middle;\n",
       "    }\n",
       "\n",
       "    .dataframe tbody tr th {\n",
       "        vertical-align: top;\n",
       "    }\n",
       "\n",
       "    .dataframe thead th {\n",
       "        text-align: right;\n",
       "    }\n",
       "</style>\n",
       "<table border=\"1\" class=\"dataframe\">\n",
       "  <thead>\n",
       "    <tr style=\"text-align: right;\">\n",
       "      <th></th>\n",
       "      <th>903</th>\n",
       "      <th>904</th>\n",
       "      <th>905</th>\n",
       "      <th>906</th>\n",
       "      <th>907</th>\n",
       "    </tr>\n",
       "    <tr>\n",
       "      <th>交易日期_TrdDt</th>\n",
       "      <th></th>\n",
       "      <th></th>\n",
       "      <th></th>\n",
       "      <th></th>\n",
       "      <th></th>\n",
       "    </tr>\n",
       "  </thead>\n",
       "  <tbody>\n",
       "    <tr>\n",
       "      <th>2010-01-04</th>\n",
       "      <td>NaN</td>\n",
       "      <td>NaN</td>\n",
       "      <td>NaN</td>\n",
       "      <td>NaN</td>\n",
       "      <td>NaN</td>\n",
       "    </tr>\n",
       "    <tr>\n",
       "      <th>2010-01-05</th>\n",
       "      <td>0.008151</td>\n",
       "      <td>0.008148</td>\n",
       "      <td>0.010409</td>\n",
       "      <td>0.008680</td>\n",
       "      <td>0.009262</td>\n",
       "    </tr>\n",
       "    <tr>\n",
       "      <th>2010-01-06</th>\n",
       "      <td>-0.008915</td>\n",
       "      <td>-0.000526</td>\n",
       "      <td>-0.001580</td>\n",
       "      <td>-0.005159</td>\n",
       "      <td>-0.001046</td>\n",
       "    </tr>\n",
       "    <tr>\n",
       "      <th>2010-01-07</th>\n",
       "      <td>-0.020005</td>\n",
       "      <td>-0.019486</td>\n",
       "      <td>-0.020027</td>\n",
       "      <td>-0.019882</td>\n",
       "      <td>-0.019752</td>\n",
       "    </tr>\n",
       "    <tr>\n",
       "      <th>2010-01-08</th>\n",
       "      <td>0.001686</td>\n",
       "      <td>0.004236</td>\n",
       "      <td>0.012401</td>\n",
       "      <td>0.004838</td>\n",
       "      <td>0.008261</td>\n",
       "    </tr>\n",
       "    <tr>\n",
       "      <th>...</th>\n",
       "      <td>...</td>\n",
       "      <td>...</td>\n",
       "      <td>...</td>\n",
       "      <td>...</td>\n",
       "      <td>...</td>\n",
       "    </tr>\n",
       "    <tr>\n",
       "      <th>2020-10-05</th>\n",
       "      <td>0.000000</td>\n",
       "      <td>0.000000</td>\n",
       "      <td>0.000000</td>\n",
       "      <td>0.000000</td>\n",
       "      <td>0.000000</td>\n",
       "    </tr>\n",
       "    <tr>\n",
       "      <th>2020-10-06</th>\n",
       "      <td>0.000000</td>\n",
       "      <td>0.000000</td>\n",
       "      <td>0.000000</td>\n",
       "      <td>0.000000</td>\n",
       "      <td>0.000000</td>\n",
       "    </tr>\n",
       "    <tr>\n",
       "      <th>2020-10-07</th>\n",
       "      <td>0.000000</td>\n",
       "      <td>0.000000</td>\n",
       "      <td>0.000000</td>\n",
       "      <td>0.000000</td>\n",
       "      <td>0.000000</td>\n",
       "    </tr>\n",
       "    <tr>\n",
       "      <th>2020-10-08</th>\n",
       "      <td>0.000000</td>\n",
       "      <td>0.000000</td>\n",
       "      <td>0.000000</td>\n",
       "      <td>0.000000</td>\n",
       "      <td>0.000000</td>\n",
       "    </tr>\n",
       "    <tr>\n",
       "      <th>2020-10-09</th>\n",
       "      <td>0.014977</td>\n",
       "      <td>0.030648</td>\n",
       "      <td>0.026721</td>\n",
       "      <td>0.021954</td>\n",
       "      <td>0.028770</td>\n",
       "    </tr>\n",
       "  </tbody>\n",
       "</table>\n",
       "<p>2810 rows × 5 columns</p>\n",
       "</div>"
      ],
      "text/plain": [
       "                 903       904       905       906       907\n",
       "交易日期_TrdDt                                                  \n",
       "2010-01-04       NaN       NaN       NaN       NaN       NaN\n",
       "2010-01-05  0.008151  0.008148  0.010409  0.008680  0.009262\n",
       "2010-01-06 -0.008915 -0.000526 -0.001580 -0.005159 -0.001046\n",
       "2010-01-07 -0.020005 -0.019486 -0.020027 -0.019882 -0.019752\n",
       "2010-01-08  0.001686  0.004236  0.012401  0.004838  0.008261\n",
       "...              ...       ...       ...       ...       ...\n",
       "2020-10-05  0.000000  0.000000  0.000000  0.000000  0.000000\n",
       "2020-10-06  0.000000  0.000000  0.000000  0.000000  0.000000\n",
       "2020-10-07  0.000000  0.000000  0.000000  0.000000  0.000000\n",
       "2020-10-08  0.000000  0.000000  0.000000  0.000000  0.000000\n",
       "2020-10-09  0.014977  0.030648  0.026721  0.021954  0.028770\n",
       "\n",
       "[2810 rows x 5 columns]"
      ]
     },
     "execution_count": 13,
     "metadata": {},
     "output_type": "execute_result"
    }
   ],
   "source": [
    "index_d"
   ]
  },
  {
   "cell_type": "markdown",
   "metadata": {},
   "source": [
    "### Government Index"
   ]
  },
  {
   "cell_type": "code",
   "execution_count": null,
   "metadata": {},
   "outputs": [],
   "source": []
  },
  {
   "cell_type": "code",
   "execution_count": 14,
   "metadata": {},
   "outputs": [],
   "source": [
    "gov_index_d = pd.read_csv(\"data/output/index_refinement_agg_daily.csv\")\n",
    "gov_index_w = pd.read_csv(\"data/output/index_refinement_agg_weekly.csv\")\n",
    "gov_index_m = pd.read_csv(\"data/output/index_refinement_agg_monthly.csv\")"
   ]
  },
  {
   "cell_type": "code",
   "execution_count": 15,
   "metadata": {},
   "outputs": [],
   "source": [
    "gov_index_d.index = pd.to_datetime(gov_index_d[\"date\"])\n",
    "gov_index_w.index = pd.to_datetime(gov_index_w[\"date\"])\n",
    "gov_index_m.index = pd.to_datetime(gov_index_m[\"date\"])"
   ]
  },
  {
   "cell_type": "code",
   "execution_count": 16,
   "metadata": {},
   "outputs": [],
   "source": [
    "gov_index_d = gov_index_d.iloc[:,1:]\n",
    "gov_index_w = gov_index_w.iloc[:,1:]\n",
    "gov_index_m = gov_index_m.iloc[:,1:]"
   ]
  },
  {
   "cell_type": "code",
   "execution_count": null,
   "metadata": {},
   "outputs": [],
   "source": []
  },
  {
   "cell_type": "code",
   "execution_count": null,
   "metadata": {},
   "outputs": [],
   "source": []
  },
  {
   "cell_type": "code",
   "execution_count": null,
   "metadata": {},
   "outputs": [],
   "source": []
  },
  {
   "cell_type": "markdown",
   "metadata": {},
   "source": [
    "### Government Index with Control"
   ]
  },
  {
   "cell_type": "code",
   "execution_count": 63,
   "metadata": {},
   "outputs": [],
   "source": [
    "gov_index_d_e = pd.read_csv(\"data/output/daily_score_df_extra.csv\")\n",
    "gov_index_w_e = pd.read_csv(\"data/output/weekly_score_df_extra.csv\")\n",
    "gov_index_m_e = pd.read_csv(\"data/output/monthly_score_df_extra.csv\")"
   ]
  },
  {
   "cell_type": "code",
   "execution_count": 64,
   "metadata": {},
   "outputs": [],
   "source": [
    "gov_index_d_e.index = pd.to_datetime(gov_index_d_e[\"date\"])\n",
    "gov_index_w_e.index = pd.to_datetime(gov_index_w_e[\"date\"])\n",
    "gov_index_m_e.index = pd.to_datetime(gov_index_m_e[\"date\"])"
   ]
  },
  {
   "cell_type": "code",
   "execution_count": 65,
   "metadata": {},
   "outputs": [],
   "source": [
    "gov_index_d_e = gov_index_d_e.iloc[:,1:]\n",
    "gov_index_w_e = gov_index_w_e.iloc[:,1:]\n",
    "gov_index_m_e = gov_index_m_e.iloc[:,1:]"
   ]
  },
  {
   "cell_type": "code",
   "execution_count": null,
   "metadata": {},
   "outputs": [],
   "source": []
  },
  {
   "cell_type": "code",
   "execution_count": null,
   "metadata": {},
   "outputs": [],
   "source": []
  },
  {
   "cell_type": "code",
   "execution_count": null,
   "metadata": {},
   "outputs": [],
   "source": []
  },
  {
   "cell_type": "code",
   "execution_count": null,
   "metadata": {},
   "outputs": [],
   "source": []
  },
  {
   "cell_type": "code",
   "execution_count": null,
   "metadata": {},
   "outputs": [],
   "source": []
  },
  {
   "cell_type": "code",
   "execution_count": null,
   "metadata": {},
   "outputs": [],
   "source": []
  },
  {
   "cell_type": "code",
   "execution_count": null,
   "metadata": {},
   "outputs": [],
   "source": []
  },
  {
   "cell_type": "code",
   "execution_count": null,
   "metadata": {},
   "outputs": [],
   "source": []
  },
  {
   "cell_type": "code",
   "execution_count": null,
   "metadata": {},
   "outputs": [],
   "source": []
  },
  {
   "cell_type": "markdown",
   "metadata": {},
   "source": [
    "## Regression Analysis"
   ]
  },
  {
   "cell_type": "markdown",
   "metadata": {},
   "source": [
    "### Merge X and Y"
   ]
  },
  {
   "cell_type": "code",
   "execution_count": 17,
   "metadata": {},
   "outputs": [],
   "source": [
    "merge_df_m = index_m.merge(gov_index_m,how=\"inner\",right_index=True,left_index=True)\n",
    "merge_df_w = index_w.merge(gov_index_w,how=\"inner\",right_index=True,left_index=True)\n",
    "merge_df_d = index_d.merge(gov_index_d,how=\"inner\",right_index=True,left_index=True)"
   ]
  },
  {
   "cell_type": "code",
   "execution_count": null,
   "metadata": {},
   "outputs": [],
   "source": []
  },
  {
   "cell_type": "code",
   "execution_count": 67,
   "metadata": {},
   "outputs": [],
   "source": [
    "merge_df_m_e = index_m.merge(gov_index_m_e,how=\"inner\",right_index=True,left_index=True)\n",
    "merge_df_w_e = index_w.merge(gov_index_w_e,how=\"inner\",right_index=True,left_index=True)\n",
    "merge_df_d_e = index_d.merge(gov_index_d_e,how=\"inner\",right_index=True,left_index=True)"
   ]
  },
  {
   "cell_type": "code",
   "execution_count": null,
   "metadata": {},
   "outputs": [],
   "source": []
  },
  {
   "cell_type": "code",
   "execution_count": null,
   "metadata": {},
   "outputs": [],
   "source": []
  },
  {
   "cell_type": "code",
   "execution_count": null,
   "metadata": {},
   "outputs": [],
   "source": []
  },
  {
   "cell_type": "markdown",
   "metadata": {},
   "source": [
    "### Set up the regression"
   ]
  },
  {
   "cell_type": "markdown",
   "metadata": {},
   "source": [
    "#### MLS With No control"
   ]
  },
  {
   "cell_type": "code",
   "execution_count": 152,
   "metadata": {},
   "outputs": [],
   "source": [
    "regression_df = merge_df_m"
   ]
  },
  {
   "cell_type": "code",
   "execution_count": null,
   "metadata": {},
   "outputs": [],
   "source": [
    "        "
   ]
  },
  {
   "cell_type": "code",
   "execution_count": 153,
   "metadata": {},
   "outputs": [
    {
     "data": {
      "text/plain": [
       "Index(['903', '904', '905', '906', '907', 'reform_innovation', 'finance',\n",
       "       'intervention_spending', 'regulation', 'intervention_tax_cut',\n",
       "       'intervention_support', 'reform', 'intervention_x', 'reform_market',\n",
       "       'economy', 'intervention_y'],\n",
       "      dtype='object')"
      ]
     },
     "execution_count": 153,
     "metadata": {},
     "output_type": "execute_result"
    }
   ],
   "source": [
    "regression_df.columns"
   ]
  },
  {
   "cell_type": "code",
   "execution_count": null,
   "metadata": {},
   "outputs": [],
   "source": []
  },
  {
   "cell_type": "code",
   "execution_count": 154,
   "metadata": {},
   "outputs": [],
   "source": [
    "x_columns = [\"economy\",\"finance\",\"reform\",\"intervention_x\",\"regulation\"]"
   ]
  },
  {
   "cell_type": "code",
   "execution_count": 155,
   "metadata": {},
   "outputs": [],
   "source": [
    "#y_list_1 = [regression_df[\"16\"],regression_df[\"10\"],regression_df[\"9\"]]\n",
    "#y_list_2 = [regression_df[\"399330\"],regression_df[\"399009\"],\n",
    "#            regression_df[\"399007\"],regression_df[\"399010\"],regression_df[\"399011\"]]\n",
    "y_list_3 = [regression_df[\"903\"],regression_df[\"904\"],regression_df[\"905\"]]\n",
    "\n",
    "x = regression_df.loc[:,x_columns]"
   ]
  },
  {
   "cell_type": "code",
   "execution_count": 156,
   "metadata": {},
   "outputs": [],
   "source": [
    "result_list = ols_same_x(y_list_3,x)"
   ]
  },
  {
   "cell_type": "code",
   "execution_count": 157,
   "metadata": {},
   "outputs": [],
   "source": [
    "result_table = summary_col(result_list,\n",
    "                             stars=True,\n",
    "                             float_format=\"%0.3f\",\n",
    "                             info_dict={'N':lambda x: \"{0:d}\".format(int(x.nobs)),\n",
    "                                        'R2':lambda x: \"{:.2f}\".format(x.rsquared)})"
   ]
  },
  {
   "cell_type": "code",
   "execution_count": null,
   "metadata": {},
   "outputs": [],
   "source": []
  },
  {
   "cell_type": "code",
   "execution_count": 158,
   "metadata": {},
   "outputs": [
    {
     "name": "stdout",
     "output_type": "stream",
     "text": [
      "\\begin{table}\n",
      "\\caption{}\n",
      "\\begin{center}\n",
      "\\begin{tabular}{lccc}\n",
      "\\hline\n",
      "                &   903   &   904   &   905    \\\\\n",
      "\\midrule\n",
      "const           & -0.030  & -0.020  & -0.019   \\\\\n",
      "                & (0.023) & (0.027) & (0.026)  \\\\\n",
      "economy         & 0.021   & 0.018   & 0.016    \\\\\n",
      "                & (0.028) & (0.032) & (0.032)  \\\\\n",
      "finance         & 0.023   & 0.125   & 0.133*   \\\\\n",
      "                & (0.068) & (0.080) & (0.078)  \\\\\n",
      "reform          & -0.006  & -0.034  & -0.038   \\\\\n",
      "                & (0.022) & (0.026) & (0.025)  \\\\\n",
      "intervention\\_x & 0.051   & 0.019   & 0.008    \\\\\n",
      "                & (0.031) & (0.037) & (0.036)  \\\\\n",
      "regulation      & -0.013  & 0.006   & 0.015    \\\\\n",
      "                & (0.036) & (0.042) & (0.040)  \\\\\n",
      "R-squared       & 0.046   & 0.061   & 0.057    \\\\\n",
      "                & 0.137   & 0.151   & 0.148    \\\\\n",
      "N               & 53      & 53      & 53       \\\\\n",
      "R2              & 0.14    & 0.15    & 0.15     \\\\\n",
      "\\hline\n",
      "\\end{tabular}\n",
      "\\end{center}\n",
      "\\end{table}\n"
     ]
    }
   ],
   "source": [
    "print(result_table.as_latex())"
   ]
  },
  {
   "cell_type": "code",
   "execution_count": 45,
   "metadata": {},
   "outputs": [
    {
     "data": {
      "text/plain": [
       "Index(['903', '904', '905', '906', '907', 'reform_innovation', 'finance',\n",
       "       'intervention_spending', 'regulation', 'intervention_tax_cut',\n",
       "       'intervention_support', 'reform', 'intervention_x', 'reform_market',\n",
       "       'economy', 'intervention_y'],\n",
       "      dtype='object')"
      ]
     },
     "execution_count": 45,
     "metadata": {},
     "output_type": "execute_result"
    }
   ],
   "source": [
    "regression_df.columns"
   ]
  },
  {
   "cell_type": "markdown",
   "metadata": {},
   "source": [
    "#### SLS"
   ]
  },
  {
   "cell_type": "code",
   "execution_count": 119,
   "metadata": {},
   "outputs": [],
   "source": [
    "regression_df = merge_df_d"
   ]
  },
  {
   "cell_type": "code",
   "execution_count": 128,
   "metadata": {},
   "outputs": [],
   "source": [
    "y_list = [regression_df[\"903\"],regression_df[\"904\"],regression_df[\"905\"]]\n",
    "x = regression_df.loc[:,\"intervention\"]"
   ]
  },
  {
   "cell_type": "code",
   "execution_count": 129,
   "metadata": {},
   "outputs": [],
   "source": [
    "result_list = ols_same_x(y_list,x)"
   ]
  },
  {
   "cell_type": "code",
   "execution_count": 130,
   "metadata": {},
   "outputs": [],
   "source": [
    "result_table = summary_col(result_list,\n",
    "                             stars=True,\n",
    "                             float_format=\"%0.3f\",\n",
    "                             info_dict={'N':lambda x: \"{0:d}\".format(int(x.nobs)),\n",
    "                                        'R2':lambda x: \"{:.2f}\".format(x.rsquared)})"
   ]
  },
  {
   "cell_type": "code",
   "execution_count": 131,
   "metadata": {},
   "outputs": [
    {
     "name": "stdout",
     "output_type": "stream",
     "text": [
      "\\begin{table}\n",
      "\\caption{}\n",
      "\\begin{center}\n",
      "\\begin{tabular}{lccc}\n",
      "\\hline\n",
      "             &   903   &   904   &   905    \\\\\n",
      "\\midrule\n",
      "const        & 0.000   & 0.000   & -0.000   \\\\\n",
      "             & (0.000) & (0.000) & (0.000)  \\\\\n",
      "intervention & -0.000  & 0.000   & 0.000    \\\\\n",
      "             & (0.000) & (0.001) & (0.001)  \\\\\n",
      "R-squared    & -0.001  & -0.001  & -0.000   \\\\\n",
      "             & 0.000   & 0.000   & 0.001    \\\\\n",
      "N            & 1154    & 1154    & 1154     \\\\\n",
      "R2           & 0.00    & 0.00    & 0.00     \\\\\n",
      "\\hline\n",
      "\\end{tabular}\n",
      "\\end{center}\n",
      "\\end{table}\n"
     ]
    }
   ],
   "source": [
    "print(result_table.as_latex())"
   ]
  },
  {
   "cell_type": "code",
   "execution_count": null,
   "metadata": {},
   "outputs": [],
   "source": []
  },
  {
   "cell_type": "markdown",
   "metadata": {},
   "source": [
    "### MLS with control "
   ]
  },
  {
   "cell_type": "code",
   "execution_count": null,
   "metadata": {},
   "outputs": [],
   "source": []
  },
  {
   "cell_type": "code",
   "execution_count": 319,
   "metadata": {},
   "outputs": [
    {
     "data": {
      "text/plain": [
       "Index(['9', '10', '16', '300', '399007', '399009', '399010', '399011',\n",
       "       '399300', '399330', 'economy', 'reform', 'regulation', 'intervention',\n",
       "       'total_length', 'number_of_text', 'EPU', 'EPU_change'],\n",
       "      dtype='object')"
      ]
     },
     "execution_count": 319,
     "metadata": {},
     "output_type": "execute_result"
    }
   ],
   "source": [
    "regression_df.columns"
   ]
  },
  {
   "cell_type": "code",
   "execution_count": 428,
   "metadata": {},
   "outputs": [],
   "source": [
    "regression_df = merge_df_m_e"
   ]
  },
  {
   "cell_type": "code",
   "execution_count": 457,
   "metadata": {},
   "outputs": [],
   "source": [
    "y = regression_df[\"399011\"]\n",
    "x_list =[regression_df.iloc[:,10:14],regression_df.iloc[:,10:16],regression_df.iloc[:,10:]]"
   ]
  },
  {
   "cell_type": "code",
   "execution_count": 458,
   "metadata": {},
   "outputs": [],
   "source": [
    "result_list = ols_same_y(y,x_list)"
   ]
  },
  {
   "cell_type": "code",
   "execution_count": 459,
   "metadata": {},
   "outputs": [],
   "source": [
    "result_table = summary_col(result_list,\n",
    "                             stars=True,\n",
    "                             float_format=\"%0.3f\",\n",
    "                             info_dict={'N':lambda x: \"{0:d}\".format(int(x.nobs)),\n",
    "                                        'R2':lambda x: \"{:.2f}\".format(x.rsquared)},\n",
    "                          regressor_order=[\"const\",\"economy\",\"intervention\",\"reform\",\"regulation\",\n",
    "                                           \"total_length\",\"number_of_text\",\"EPU\",\"EPU_change\"])"
   ]
  },
  {
   "cell_type": "code",
   "execution_count": 460,
   "metadata": {},
   "outputs": [
    {
     "name": "stdout",
     "output_type": "stream",
     "text": [
      "\\begin{table}\n",
      "\\caption{}\n",
      "\\begin{center}\n",
      "\\begin{tabular}{lcccc}\n",
      "\\hline\n",
      "                 & 399011 I & 399011\\_y I & 399011\\_y II & 399011\\_y III  \\\\\n",
      "\\midrule\n",
      "const            & -0.017   & -0.017      & 0.032        & 0.016          \\\\\n",
      "                 & (0.034)  & (0.034)     & (0.042)      & (0.046)        \\\\\n",
      "economy          & 0.020    & 0.020       & 0.045        & 0.069          \\\\\n",
      "                 & (0.043)  & (0.043)     & (0.044)      & (0.048)        \\\\\n",
      "intervention     & 0.084    & 0.079       & 0.042        & 0.051          \\\\\n",
      "                 & (0.055)  & (0.055)     & (0.058)      & (0.059)        \\\\\n",
      "reform           & -0.009   & -0.008      & -0.010       & -0.016         \\\\\n",
      "                 & (0.022)  & (0.022)     & (0.022)      & (0.023)        \\\\\n",
      "regulation       & -0.028   & -0.029      & -0.063       & -0.047         \\\\\n",
      "                 & (0.063)  & (0.063)     & (0.064)      & (0.066)        \\\\\n",
      "total\\_length    &          &             & -0.000       & -0.000         \\\\\n",
      "                 &          &             & (0.000)      & (0.000)        \\\\\n",
      "number\\_of\\_text &          &             & -0.000       & -0.000         \\\\\n",
      "                 &          &             & (0.000)      & (0.000)        \\\\\n",
      "EPU              &          &             &              & -0.000         \\\\\n",
      "                 &          &             &              & (0.000)        \\\\\n",
      "EPU\\_change      &          &             &              & 0.018          \\\\\n",
      "                 &          &             &              & (0.016)        \\\\\n",
      "399011\\_x        &          & 0.139       & 0.134        & 0.057          \\\\\n",
      "                 &          & (0.143)     & (0.141)      & (0.154)        \\\\\n",
      "R-squared        & -0.023   & -0.025      & 0.015        & 0.009          \\\\\n",
      "                 & 0.055    & 0.074       & 0.148        & 0.180          \\\\\n",
      "N                & 53       & 53          & 53           & 53             \\\\\n",
      "R2               & 0.06     & 0.07        & 0.15         & 0.18           \\\\\n",
      "\\hline\n",
      "\\end{tabular}\n",
      "\\end{center}\n",
      "\\end{table}\n"
     ]
    }
   ],
   "source": [
    "print(result_table.as_latex())"
   ]
  },
  {
   "cell_type": "code",
   "execution_count": 266,
   "metadata": {},
   "outputs": [],
   "source": [
    "extra = pd.read_csv(\"data/extra_predictor_d.csv\")\n",
    "extra[\"date\"] = pd.to_datetime(extra.iloc[:,0])\n",
    "extra = extra.set_index(\"date\")\n",
    "#extra_m = extra_m.iloc[:,1:]"
   ]
  },
  {
   "cell_type": "code",
   "execution_count": 267,
   "metadata": {},
   "outputs": [
    {
     "data": {
      "text/plain": [
       "(1142, 4)"
      ]
     },
     "execution_count": 267,
     "metadata": {},
     "output_type": "execute_result"
    }
   ],
   "source": [
    "extra.shape"
   ]
  },
  {
   "cell_type": "code",
   "execution_count": null,
   "metadata": {},
   "outputs": [],
   "source": []
  },
  {
   "cell_type": "code",
   "execution_count": 268,
   "metadata": {},
   "outputs": [],
   "source": [
    "merge_df_d_extra = merge_df_d.merge(extra,left_index= True,right_index=True)"
   ]
  },
  {
   "cell_type": "code",
   "execution_count": 269,
   "metadata": {},
   "outputs": [
    {
     "data": {
      "text/plain": [
       "Index(['903', '904', '905', '906', '907', 'economy', 'reform', 'intervention',\n",
       "       'reform_market', 'finance', 'intervention_spending', 'regulation',\n",
       "       'intervention_tax_cut', 'intervention_support', 'reform_innovation',\n",
       "       'total_length', 'number_of_article', 'EPU', 'EPU_change'],\n",
       "      dtype='object')"
      ]
     },
     "execution_count": 269,
     "metadata": {},
     "output_type": "execute_result"
    }
   ],
   "source": [
    "merge_df_d_extra.columns"
   ]
  },
  {
   "cell_type": "code",
   "execution_count": 270,
   "metadata": {},
   "outputs": [],
   "source": [
    "x_col_1 = [\"economy\",\"finance\",\"reform\",\"regulation\",\"intervention\"]\n",
    "x_col_2 = x_col_1 + [\"total_length\",\"number_of_article\"]\n",
    "x_col_3 = x_col_2 + [\"EPU\",\"EPU_change\"]"
   ]
  },
  {
   "cell_type": "code",
   "execution_count": 281,
   "metadata": {},
   "outputs": [],
   "source": [
    "y = merge_df_d_extra[\"905\"]\n",
    "x_list =[merge_df_d_extra[x_col_1],merge_df_d_extra[x_col_2],merge_df_d_extra[x_col_3]]"
   ]
  },
  {
   "cell_type": "code",
   "execution_count": null,
   "metadata": {},
   "outputs": [],
   "source": []
  },
  {
   "cell_type": "code",
   "execution_count": 282,
   "metadata": {},
   "outputs": [],
   "source": [
    "result_list = ols_same_y(y,x_list)"
   ]
  },
  {
   "cell_type": "code",
   "execution_count": null,
   "metadata": {},
   "outputs": [],
   "source": []
  },
  {
   "cell_type": "code",
   "execution_count": null,
   "metadata": {},
   "outputs": [],
   "source": []
  },
  {
   "cell_type": "code",
   "execution_count": 283,
   "metadata": {},
   "outputs": [],
   "source": [
    "result_list = ols_same_y(y,x_list)"
   ]
  },
  {
   "cell_type": "code",
   "execution_count": 284,
   "metadata": {},
   "outputs": [],
   "source": [
    "result_table = summary_col(result_list,\n",
    "                             stars=True,\n",
    "                             float_format=\"%0.3f\",\n",
    "                             info_dict={'N':lambda x: \"{0:d}\".format(int(x.nobs)),\n",
    "                                        'R2':lambda x: \"{:.2f}\".format(x.rsquared)},\n",
    "                          regressor_order=[\"const\",\"economy\",\"finance\",\"reform\",\"regulation\",\"intervention\",\n",
    "                                           \"total_length\",\"number_of_article\",\"EPU\",\"EPU_change\",\"EPU_rolling\"])"
   ]
  },
  {
   "cell_type": "code",
   "execution_count": 285,
   "metadata": {},
   "outputs": [
    {
     "name": "stdout",
     "output_type": "stream",
     "text": [
      "\\begin{table}\n",
      "\\caption{}\n",
      "\\begin{center}\n",
      "\\begin{tabular}{lcccc}\n",
      "\\hline\n",
      "                    &  905 I   & 905\\_y I & 905\\_y II & 905\\_y III  \\\\\n",
      "\\midrule\n",
      "const               & 0.000    & 0.000    & -0.000    & -0.001      \\\\\n",
      "                    & (0.001)  & (0.001)  & (0.001)   & (0.001)     \\\\\n",
      "economy             & -0.001** & -0.001** & -0.001**  & -0.001**    \\\\\n",
      "                    & (0.001)  & (0.001)  & (0.001)   & (0.001)     \\\\\n",
      "finance             & 0.001    & 0.001    & 0.001     & 0.001       \\\\\n",
      "                    & (0.001)  & (0.001)  & (0.001)   & (0.001)     \\\\\n",
      "reform              & 0.001    & 0.001    & 0.001     & 0.001       \\\\\n",
      "                    & (0.001)  & (0.001)  & (0.001)   & (0.001)     \\\\\n",
      "regulation          & -0.000   & -0.000   & -0.000    & -0.000      \\\\\n",
      "                    & (0.001)  & (0.001)  & (0.001)   & (0.001)     \\\\\n",
      "intervention        & 0.000    & 0.000    & 0.000     & 0.000       \\\\\n",
      "                    & (0.001)  & (0.001)  & (0.001)   & (0.001)     \\\\\n",
      "total\\_length       &          &          & 0.000     & 0.000       \\\\\n",
      "                    &          &          & (0.000)   & (0.000)     \\\\\n",
      "number\\_of\\_article &          &          & 0.000     & 0.000       \\\\\n",
      "                    &          &          & (0.000)   & (0.000)     \\\\\n",
      "EPU                 &          &          &           & 0.000       \\\\\n",
      "                    &          &          &           & (0.000)     \\\\\n",
      "EPU\\_change         &          &          &           & -0.001      \\\\\n",
      "                    &          &          &           & (0.001)     \\\\\n",
      "905\\_x              &          & -0.017   & -0.020    & -0.020      \\\\\n",
      "                    &          & (0.030)  & (0.030)   & (0.030)     \\\\\n",
      "R-squared           & 0.000    & -0.000   & 0.000     & 0.001       \\\\\n",
      "                    & 0.005    & 0.005    & 0.007     & 0.010       \\\\\n",
      "N                   & 1141     & 1141     & 1141      & 1141        \\\\\n",
      "R2                  & 0.00     & 0.00     & 0.01      & 0.01        \\\\\n",
      "\\hline\n",
      "\\end{tabular}\n",
      "\\end{center}\n",
      "\\end{table}\n"
     ]
    }
   ],
   "source": [
    "print(result_table.as_latex())"
   ]
  },
  {
   "cell_type": "code",
   "execution_count": null,
   "metadata": {},
   "outputs": [],
   "source": []
  },
  {
   "cell_type": "code",
   "execution_count": null,
   "metadata": {},
   "outputs": [],
   "source": []
  },
  {
   "cell_type": "code",
   "execution_count": null,
   "metadata": {},
   "outputs": [],
   "source": []
  },
  {
   "cell_type": "code",
   "execution_count": null,
   "metadata": {},
   "outputs": [],
   "source": []
  },
  {
   "cell_type": "code",
   "execution_count": null,
   "metadata": {},
   "outputs": [],
   "source": []
  },
  {
   "cell_type": "code",
   "execution_count": null,
   "metadata": {},
   "outputs": [],
   "source": []
  },
  {
   "cell_type": "code",
   "execution_count": null,
   "metadata": {},
   "outputs": [],
   "source": []
  }
 ],
 "metadata": {
  "kernelspec": {
   "display_name": "Python 3",
   "language": "python",
   "name": "python3"
  },
  "language_info": {
   "codemirror_mode": {
    "name": "ipython",
    "version": 3
   },
   "file_extension": ".py",
   "mimetype": "text/x-python",
   "name": "python",
   "nbconvert_exporter": "python",
   "pygments_lexer": "ipython3",
   "version": "3.7.6"
  }
 },
 "nbformat": 4,
 "nbformat_minor": 4
}
