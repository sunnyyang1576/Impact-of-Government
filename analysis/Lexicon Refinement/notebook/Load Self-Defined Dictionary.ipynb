{
 "cells": [
  {
   "cell_type": "code",
   "execution_count": null,
   "metadata": {},
   "outputs": [],
   "source": []
  },
  {
   "cell_type": "code",
   "execution_count": 1,
   "metadata": {},
   "outputs": [],
   "source": [
    "import jieba"
   ]
  },
  {
   "cell_type": "code",
   "execution_count": null,
   "metadata": {},
   "outputs": [],
   "source": []
  },
  {
   "cell_type": "code",
   "execution_count": 3,
   "metadata": {},
   "outputs": [],
   "source": [
    "sample_1 = \"李克强总理9月11日考察市场监管总局并主持召开座谈会时说，公正监管和市场活力是一枚硬币的两面：没有公正监管就不会有公平竞争，没有公平竞争就不会有市场活力。市场监管总局作为直接面对亿万市场主体的部门，你们的职责是“市场”监管不是“计划”监管，要管活不是管死，要管优不是管乱。希望你们在发展社会主义市场经济、加强市场监管中更大激发市场活力。\""
   ]
  },
  {
   "cell_type": "code",
   "execution_count": 28,
   "metadata": {},
   "outputs": [],
   "source": [
    "sample_2 = \"李克强总理9月11日在全国深化“放管服”改革优化营商环境电视电话会议上强调，营商环境竞争力就是国际竞争力。要落实外商投资法及配套法规，清理与外商投资法不符的行政法规、部门规章、规范性文件，确保内外资企业一视同仁、公平竞争。各地区各部门要落实好外资准入负面清单，清单之外不得设限。针对一些外资大项目落地难的问题，要在用地审批、人员跨境流动等方面给予便利。要进一步做好安商稳商、招商引商工作，充分听取外国商会、外贸企业的意见建议，帮助解决实际问题，增加对跨国投资的吸引力。总理强调，要为拓展贸易提供配套服务和政策支持。继续优化通关作业流程，放开口岸服务准入、引入竞争机制，提高服务效率并降低收费标准。完善出口退税、出口信贷、信用保险等政策，支持进出口市场多元化，扶持中小微外贸企业发展。要继续推进试点建设，支持海外仓发展，进一步发挥外贸综合服务企业作用，优化商品归类、申报、检验流程，探索与贸易新业态相适应的结售汇管理方式。打造更优开放环境，使中国开放的决心让外商放心、开放的政策让外商受惠。\""
   ]
  },
  {
   "cell_type": "code",
   "execution_count": 29,
   "metadata": {},
   "outputs": [],
   "source": [
    "sample_3 = \"在即将出访新加坡之际，李克强总理在新加坡《联合早报》、《海峡时报》发表署名文章《开放合作 创新发展 明天会更好》。总理说，开放成就了中国和新加坡各自的发展。面对当前保护主义、单边主义抬头带来的挑战，我们应当携起手来，发出共同维护以世界贸易组织为核心的多边贸易体制、促进贸易和投资自由化便利化的积极信号，共同倡导开放、践行开放、坚持开放，建设开放型世界经济。我们欢迎新方抓住中国新一轮开放带来的机遇，与中方共同推动中新务实合作升级，共创两国关系和中国—东盟合作更加美好的明天。\""
   ]
  },
  {
   "cell_type": "code",
   "execution_count": 30,
   "metadata": {},
   "outputs": [],
   "source": [
    "sample_4 = \"李克强总理9月28日上午在浙江台州主持召开座谈会，听取企业家关于实体经济发展的意见建议。李克强说，我们40年的改革开放，就是一个市场化改革不断深化的过程。党的十八届三中全会明确提出，让市场在配置资源中发挥决定性作用和更好发挥政府作用。今后要进一步深化改革、扩大开放，加快打造市场化、法治化、国际化营商环境。\""
   ]
  },
  {
   "cell_type": "code",
   "execution_count": 31,
   "metadata": {},
   "outputs": [],
   "source": [
    "sample_5 = \"“实施新一轮高水平开放，浙江要发挥好沿海优势作用，充分吸引全球资金、技术和人才的资源。”李克强总理9月27日下午乘船听取浙江海域港口发展规划时说。舟山群岛地理位置得天独厚，宜开发建港的深水岸线达280公里，占全国的18.4%，其中160公里尚未开发。李克强说，浙江具备发展外向型经济的天然禀赋，要更加主动当好沿海对外开放的排头兵。中国40年快速发展的一条重要经验就是：改革始终伴随着开放，而开放又不断倒逼着改革。这条经验不仅过去40年的发展管用，今后发展同样管用。开放不仅要依托天然的区位优势，更要打造对中外各类所有制企业一视同仁、公平竞争的营商环境。中国经济只有不断深刻融入全球经济，才能在国际市场变化莫测的风浪中增强本领，不断壮大。\""
   ]
  },
  {
   "cell_type": "code",
   "execution_count": null,
   "metadata": {},
   "outputs": [],
   "source": []
  },
  {
   "cell_type": "code",
   "execution_count": 37,
   "metadata": {},
   "outputs": [],
   "source": [
    "import os"
   ]
  },
  {
   "cell_type": "code",
   "execution_count": null,
   "metadata": {},
   "outputs": [],
   "source": []
  },
  {
   "cell_type": "code",
   "execution_count": 26,
   "metadata": {},
   "outputs": [],
   "source": [
    "dictionary_directory = \"dictionary/ref_dictionary/\"\n",
    "\n",
    "dictionary_name = \"finance_refinement.txt\""
   ]
  },
  {
   "cell_type": "code",
   "execution_count": 27,
   "metadata": {},
   "outputs": [],
   "source": [
    "jieba.load_userdict(dictionary_directory+dictionary_name)"
   ]
  },
  {
   "cell_type": "code",
   "execution_count": 41,
   "metadata": {},
   "outputs": [
    {
     "data": {
      "text/plain": [
       "'intervention_support_refinement.txt'"
      ]
     },
     "execution_count": 41,
     "metadata": {},
     "output_type": "execute_result"
    }
   ],
   "source": [
    "dictionary_list[1]"
   ]
  },
  {
   "cell_type": "code",
   "execution_count": 40,
   "metadata": {},
   "outputs": [],
   "source": [
    "dictionary_list = os.listdir(dictionary_directory)[1:]"
   ]
  },
  {
   "cell_type": "code",
   "execution_count": 51,
   "metadata": {},
   "outputs": [],
   "source": [
    "dict_list = []\n",
    "\n",
    "for dictionary in dictionary_list:\n",
    "    \n",
    "    f = open(dictionary_directory+dictionary)\n",
    "    dict_add = f.readlines()\n",
    "    dict_list += dict_add\n",
    "    f.close()\n",
    "\n",
    "dict_list = [word.strip() for word in dict_list]\n",
    "dict_list = [word for word in dict_list if len(word)>0]"
   ]
  },
  {
   "cell_type": "code",
   "execution_count": 60,
   "metadata": {},
   "outputs": [],
   "source": [
    "with open(\"user_defined_dict.txt\",\"w\") as f:\n",
    "    \n",
    "    for word in dict_list:\n",
    "        \n",
    "        f.write(word)\n",
    "        f.write(\"\\n\")"
   ]
  },
  {
   "cell_type": "code",
   "execution_count": 56,
   "metadata": {},
   "outputs": [
    {
     "data": {
      "text/plain": [
       "<function TextIOWrapper.write(text, /)>"
      ]
     },
     "execution_count": 56,
     "metadata": {},
     "output_type": "execute_result"
    }
   ],
   "source": [
    "f.write"
   ]
  },
  {
   "cell_type": "code",
   "execution_count": 57,
   "metadata": {},
   "outputs": [
    {
     "data": {
      "text/plain": [
       "['采购',\n",
       " '购买',\n",
       " '介入',\n",
       " '干预',\n",
       " '担保',\n",
       " '引导',\n",
       " '公平',\n",
       " '市场化',\n",
       " '资源配置',\n",
       " '法制化',\n",
       " '国际化',\n",
       " '竞争',\n",
       " '公平竞争',\n",
       " '开放',\n",
       " '保护主义',\n",
       " '单边主义',\n",
       " '多边主义',\n",
       " '多边贸易',\n",
       " '自由',\n",
       " '市场活力',\n",
       " '放宽',\n",
       " '招商引资',\n",
       " '外商',\n",
       " '外资',\n",
       " '双向',\n",
       " '双向投资',\n",
       " '市场准入',\n",
       " '互利',\n",
       " '共赢',\n",
       " '关税',\n",
       " '市场监管',\n",
       " '监督',\n",
       " '监管',\n",
       " '管理',\n",
       " '监控',\n",
       " '督促',\n",
       " '惩戒',\n",
       " '追究',\n",
       " '处罚',\n",
       " '惩罚',\n",
       " '法治',\n",
       " '建立健全',\n",
       " '完善',\n",
       " '审批',\n",
       " '备案',\n",
       " '经济',\n",
       " '就业',\n",
       " '复苏',\n",
       " '消费',\n",
       " '总需求',\n",
       " '内需',\n",
       " '创新',\n",
       " '创业',\n",
       " '双创',\n",
       " '金融',\n",
       " '资本市场',\n",
       " '要素市场',\n",
       " '风险投资',\n",
       " '股票',\n",
       " '债券',\n",
       " '信贷',\n",
       " '货币政策',\n",
       " '融资',\n",
       " '改革',\n",
       " '深化改革',\n",
       " '改革开放',\n",
       " '升级',\n",
       " '转型',\n",
       " '变革',\n",
       " '废止',\n",
       " '修改',\n",
       " '创新',\n",
       " '优化',\n",
       " '减轻',\n",
       " '减税',\n",
       " '免税',\n",
       " '降费',\n",
       " '支持',\n",
       " '鼓励',\n",
       " '扶持',\n",
       " '营改增',\n",
       " '民间投资',\n",
       " '民间资本',\n",
       " '民营',\n",
       " '引导',\n",
       " '放管服',\n",
       " '小微企业']"
      ]
     },
     "execution_count": 57,
     "metadata": {},
     "output_type": "execute_result"
    }
   ],
   "source": [
    "dict_list"
   ]
  },
  {
   "cell_type": "code",
   "execution_count": 24,
   "metadata": {},
   "outputs": [],
   "source": [
    "test = \"市场经济，经济市场，经济市场就业复苏消费总需求内需\""
   ]
  },
  {
   "cell_type": "code",
   "execution_count": 34,
   "metadata": {},
   "outputs": [],
   "source": [
    "jieba.add_word(\"营商环境\")"
   ]
  },
  {
   "cell_type": "code",
   "execution_count": 36,
   "metadata": {},
   "outputs": [
    {
     "data": {
      "text/plain": [
       "['“',\n",
       " '实施',\n",
       " '新一轮',\n",
       " '高水平',\n",
       " '开放',\n",
       " '，',\n",
       " '浙江',\n",
       " '要',\n",
       " '发挥',\n",
       " '好',\n",
       " '沿海',\n",
       " '优势',\n",
       " '作用',\n",
       " '，',\n",
       " '充分',\n",
       " '吸引',\n",
       " '全球',\n",
       " '资金',\n",
       " '、',\n",
       " '技术',\n",
       " '和',\n",
       " '人才',\n",
       " '的',\n",
       " '资源',\n",
       " '。',\n",
       " '”',\n",
       " '李克强',\n",
       " '总理',\n",
       " '9',\n",
       " '月',\n",
       " '27',\n",
       " '日',\n",
       " '下午',\n",
       " '乘船',\n",
       " '听取',\n",
       " '浙江',\n",
       " '海域',\n",
       " '港口',\n",
       " '发展',\n",
       " '规划',\n",
       " '时说',\n",
       " '。',\n",
       " '舟山群岛',\n",
       " '地理位置',\n",
       " '得天独厚',\n",
       " '，',\n",
       " '宜',\n",
       " '开发',\n",
       " '建港',\n",
       " '的',\n",
       " '深水',\n",
       " '岸线',\n",
       " '达',\n",
       " '280',\n",
       " '公里',\n",
       " '，',\n",
       " '占',\n",
       " '全国',\n",
       " '的',\n",
       " '18.4%',\n",
       " '，',\n",
       " '其中',\n",
       " '160',\n",
       " '公里',\n",
       " '尚未',\n",
       " '开发',\n",
       " '。',\n",
       " '李克强',\n",
       " '说',\n",
       " '，',\n",
       " '浙江',\n",
       " '具备',\n",
       " '发展',\n",
       " '外向型',\n",
       " '经济',\n",
       " '的',\n",
       " '天然',\n",
       " '禀赋',\n",
       " '，',\n",
       " '要',\n",
       " '更加',\n",
       " '主动',\n",
       " '当好',\n",
       " '沿海',\n",
       " '对外开放',\n",
       " '的',\n",
       " '排头兵',\n",
       " '。',\n",
       " '中国',\n",
       " '40',\n",
       " '年',\n",
       " '快速',\n",
       " '发展',\n",
       " '的',\n",
       " '一条',\n",
       " '重要',\n",
       " '经验',\n",
       " '就是',\n",
       " '：',\n",
       " '改革',\n",
       " '始终',\n",
       " '伴随',\n",
       " '着',\n",
       " '开放',\n",
       " '，',\n",
       " '而',\n",
       " '开放',\n",
       " '又',\n",
       " '不断',\n",
       " '倒逼',\n",
       " '着',\n",
       " '改革',\n",
       " '。',\n",
       " '这',\n",
       " '条',\n",
       " '经验',\n",
       " '不仅',\n",
       " '过去',\n",
       " '40',\n",
       " '年',\n",
       " '的',\n",
       " '发展',\n",
       " '管用',\n",
       " '，',\n",
       " '今后',\n",
       " '发展',\n",
       " '同样',\n",
       " '管用',\n",
       " '。',\n",
       " '开放',\n",
       " '不仅',\n",
       " '要',\n",
       " '依托',\n",
       " '天然',\n",
       " '的',\n",
       " '区位',\n",
       " '优势',\n",
       " '，',\n",
       " '更要',\n",
       " '打造',\n",
       " '对',\n",
       " '中外',\n",
       " '各类',\n",
       " '所有制',\n",
       " '企业',\n",
       " '一视同仁',\n",
       " '、',\n",
       " '公平竞争',\n",
       " '的',\n",
       " '营商环境',\n",
       " '。',\n",
       " '中国',\n",
       " '经济',\n",
       " '只有',\n",
       " '不断',\n",
       " '深刻',\n",
       " '融入',\n",
       " '全球',\n",
       " '经济',\n",
       " '，',\n",
       " '才能',\n",
       " '在',\n",
       " '国际',\n",
       " '市场',\n",
       " '变化莫测',\n",
       " '的',\n",
       " '风浪',\n",
       " '中',\n",
       " '增强',\n",
       " '本领',\n",
       " '，',\n",
       " '不断',\n",
       " '壮大',\n",
       " '。']"
      ]
     },
     "execution_count": 36,
     "metadata": {},
     "output_type": "execute_result"
    }
   ],
   "source": [
    "list(jieba.cut(sample_5))"
   ]
  },
  {
   "cell_type": "code",
   "execution_count": null,
   "metadata": {},
   "outputs": [],
   "source": []
  },
  {
   "cell_type": "code",
   "execution_count": null,
   "metadata": {},
   "outputs": [],
   "source": []
  },
  {
   "cell_type": "code",
   "execution_count": null,
   "metadata": {},
   "outputs": [],
   "source": []
  },
  {
   "cell_type": "code",
   "execution_count": null,
   "metadata": {},
   "outputs": [],
   "source": []
  },
  {
   "cell_type": "code",
   "execution_count": null,
   "metadata": {},
   "outputs": [],
   "source": []
  },
  {
   "cell_type": "code",
   "execution_count": null,
   "metadata": {},
   "outputs": [],
   "source": []
  },
  {
   "cell_type": "code",
   "execution_count": null,
   "metadata": {},
   "outputs": [],
   "source": []
  },
  {
   "cell_type": "code",
   "execution_count": null,
   "metadata": {},
   "outputs": [],
   "source": []
  }
 ],
 "metadata": {
  "kernelspec": {
   "display_name": "Python 3",
   "language": "python",
   "name": "python3"
  },
  "language_info": {
   "codemirror_mode": {
    "name": "ipython",
    "version": 3
   },
   "file_extension": ".py",
   "mimetype": "text/x-python",
   "name": "python",
   "nbconvert_exporter": "python",
   "pygments_lexer": "ipython3",
   "version": "3.7.6"
  }
 },
 "nbformat": 4,
 "nbformat_minor": 4
}
