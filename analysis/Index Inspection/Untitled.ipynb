{
 "cells": [
  {
   "cell_type": "code",
   "execution_count": null,
   "metadata": {},
   "outputs": [],
   "source": []
  },
  {
   "cell_type": "code",
   "execution_count": 191,
   "metadata": {},
   "outputs": [],
   "source": [
    "import pandas as pd\n",
    "import numpy as np\n",
    "import matplotlib.pyplot as plt\n",
    "from scipy.stats import pearsonr"
   ]
  },
  {
   "cell_type": "code",
   "execution_count": null,
   "metadata": {},
   "outputs": [],
   "source": []
  },
  {
   "cell_type": "code",
   "execution_count": null,
   "metadata": {},
   "outputs": [],
   "source": [
    "def calculate_t_test(df1,df2,columns):\n",
    "    \n",
    "    sta_list = []\n",
    "    pvalue_list = []\n",
    "    \n",
    "    for col in columns:\n",
    "        \n",
    "        series_1 = df1[col]\n",
    "        series_2 = df2[col]\n",
    "        sta,pvalue = stats.ttest_ind(series_1,series_2,equal_var=False)\n",
    "        \n",
    "        sta_list.append(sta)\n",
    "        pvalue_list.append(pvalue)\n",
    "    \n",
    "    sta_list = pd.Series(sta_list)\n",
    "    pvalue_list = pd.Series(pvalue_list)\n",
    "    \n",
    "    sta_list.index = columns\n",
    "    pvalue_list.index = columns\n",
    "    \n",
    "    \n",
    "    sta_df = pd.DataFrame(sta_list).round(2)\n",
    "    pvalue_df = pd.DataFrame(pvalue_list)\n",
    "    p = pvalue_df.applymap(lambda x: ''.join(['*' for t in [0.01,0.5,0.1] if x<=t]))\n",
    "    \n",
    "    ttest_df = sta_df.astype(str) + p\n",
    "    \n",
    "    return ttest_df"
   ]
  },
  {
   "cell_type": "code",
   "execution_count": 189,
   "metadata": {},
   "outputs": [],
   "source": [
    "def calculate_correlation_df(agg_df):\n",
    "    \n",
    "    corr_df = agg_df.corr()\n",
    "    corr_df = corr_df.round(3)\n",
    "    \n",
    "    rho = corr_df\n",
    "    pval = agg_df.corr(method=lambda x, y: pearsonr(x, y)[1]) - np.eye(*rho.shape)\n",
    "    p = pval.applymap(lambda x: ''.join(['*' for t in [0.01,0.05,0.10] if x<=t]))\n",
    "    corr_p_df = rho.astype(str) + p\n",
    "    return corr_p_df"
   ]
  },
  {
   "cell_type": "code",
   "execution_count": null,
   "metadata": {},
   "outputs": [],
   "source": []
  },
  {
   "cell_type": "code",
   "execution_count": null,
   "metadata": {},
   "outputs": [],
   "source": []
  },
  {
   "cell_type": "code",
   "execution_count": null,
   "metadata": {},
   "outputs": [],
   "source": []
  },
  {
   "cell_type": "code",
   "execution_count": 169,
   "metadata": {},
   "outputs": [],
   "source": [
    "data_directory = \"data/index/\""
   ]
  },
  {
   "cell_type": "code",
   "execution_count": 170,
   "metadata": {},
   "outputs": [],
   "source": [
    "file = \"index_refinement_agg_monthly.csv\""
   ]
  },
  {
   "cell_type": "code",
   "execution_count": 171,
   "metadata": {},
   "outputs": [],
   "source": [
    "df = pd.read_csv(data_directory+file)"
   ]
  },
  {
   "cell_type": "code",
   "execution_count": 172,
   "metadata": {},
   "outputs": [],
   "source": [
    "df[\"date\"] = pd.to_datetime(df[\"date\"])\n",
    "df_ori = df.set_index(\"date\")"
   ]
  },
  {
   "cell_type": "code",
   "execution_count": null,
   "metadata": {},
   "outputs": [],
   "source": []
  },
  {
   "cell_type": "code",
   "execution_count": 173,
   "metadata": {},
   "outputs": [],
   "source": [
    "file = \"index_refinement_agg_monthly_CWHY.csv\""
   ]
  },
  {
   "cell_type": "code",
   "execution_count": 174,
   "metadata": {},
   "outputs": [],
   "source": [
    "df = pd.read_csv(data_directory+file)\n",
    "df[\"date\"] = pd.to_datetime(df[\"date\"])\n",
    "df_cwhy = df.set_index(\"date\")"
   ]
  },
  {
   "cell_type": "code",
   "execution_count": 178,
   "metadata": {},
   "outputs": [],
   "source": [
    "index_2 = df_cwhy[\"economy_ref\"]"
   ]
  },
  {
   "cell_type": "code",
   "execution_count": 179,
   "metadata": {},
   "outputs": [],
   "source": [
    "index_1 = df_ori[\"economy\"]"
   ]
  },
  {
   "cell_type": "code",
   "execution_count": 184,
   "metadata": {},
   "outputs": [],
   "source": [
    "index_economy = pd.concat([index_1,index_2],axis=1).dropna()"
   ]
  },
  {
   "cell_type": "code",
   "execution_count": 186,
   "metadata": {},
   "outputs": [
    {
     "data": {
      "text/html": [
       "<div>\n",
       "<style scoped>\n",
       "    .dataframe tbody tr th:only-of-type {\n",
       "        vertical-align: middle;\n",
       "    }\n",
       "\n",
       "    .dataframe tbody tr th {\n",
       "        vertical-align: top;\n",
       "    }\n",
       "\n",
       "    .dataframe thead th {\n",
       "        text-align: right;\n",
       "    }\n",
       "</style>\n",
       "<table border=\"1\" class=\"dataframe\">\n",
       "  <thead>\n",
       "    <tr style=\"text-align: right;\">\n",
       "      <th></th>\n",
       "      <th>economy</th>\n",
       "      <th>economy_ref</th>\n",
       "    </tr>\n",
       "  </thead>\n",
       "  <tbody>\n",
       "    <tr>\n",
       "      <th>economy</th>\n",
       "      <td>1.000000</td>\n",
       "      <td>0.455761</td>\n",
       "    </tr>\n",
       "    <tr>\n",
       "      <th>economy_ref</th>\n",
       "      <td>0.455761</td>\n",
       "      <td>1.000000</td>\n",
       "    </tr>\n",
       "  </tbody>\n",
       "</table>\n",
       "</div>"
      ],
      "text/plain": [
       "              economy  economy_ref\n",
       "economy      1.000000     0.455761\n",
       "economy_ref  0.455761     1.000000"
      ]
     },
     "execution_count": 186,
     "metadata": {},
     "output_type": "execute_result"
    }
   ],
   "source": [
    "index_economy.corr()"
   ]
  },
  {
   "cell_type": "code",
   "execution_count": 188,
   "metadata": {},
   "outputs": [
    {
     "data": {
      "text/plain": [
       "<matplotlib.axes._subplots.AxesSubplot at 0x119e22e10>"
      ]
     },
     "execution_count": 188,
     "metadata": {},
     "output_type": "execute_result"
    },
    {
     "data": {
      "image/png": "[encoded data removed]",
      "text/plain": [
       "<Figure size 432x288 with 1 Axes>"
      ]
     },
     "metadata": {
      "needs_background": "light"
     },
     "output_type": "display_data"
    }
   ],
   "source": [
    "index_economy.plot()"
   ]
  },
  {
   "cell_type": "code",
   "execution_count": 192,
   "metadata": {},
   "outputs": [
    {
     "data": {
      "text/html": [
       "<div>\n",
       "<style scoped>\n",
       "    .dataframe tbody tr th:only-of-type {\n",
       "        vertical-align: middle;\n",
       "    }\n",
       "\n",
       "    .dataframe tbody tr th {\n",
       "        vertical-align: top;\n",
       "    }\n",
       "\n",
       "    .dataframe thead th {\n",
       "        text-align: right;\n",
       "    }\n",
       "</style>\n",
       "<table border=\"1\" class=\"dataframe\">\n",
       "  <thead>\n",
       "    <tr style=\"text-align: right;\">\n",
       "      <th></th>\n",
       "      <th>economy</th>\n",
       "      <th>economy_ref</th>\n",
       "    </tr>\n",
       "  </thead>\n",
       "  <tbody>\n",
       "    <tr>\n",
       "      <th>economy</th>\n",
       "      <td>1.0***</td>\n",
       "      <td>0.456***</td>\n",
       "    </tr>\n",
       "    <tr>\n",
       "      <th>economy_ref</th>\n",
       "      <td>0.456***</td>\n",
       "      <td>1.0***</td>\n",
       "    </tr>\n",
       "  </tbody>\n",
       "</table>\n",
       "</div>"
      ],
      "text/plain": [
       "              economy economy_ref\n",
       "economy        1.0***    0.456***\n",
       "economy_ref  0.456***      1.0***"
      ]
     },
     "execution_count": 192,
     "metadata": {},
     "output_type": "execute_result"
    }
   ],
   "source": [
    "calculate_correlation_df(index_economy)"
   ]
  },
  {
   "cell_type": "code",
   "execution_count": null,
   "metadata": {},
   "outputs": [],
   "source": []
  },
  {
   "cell_type": "code",
   "execution_count": 196,
   "metadata": {},
   "outputs": [],
   "source": [
    "main_index_df_ori_list = [\"economy\",\"finance\",\"reform\",\"regulation\",\"intervention_x\"]"
   ]
  },
  {
   "cell_type": "code",
   "execution_count": 197,
   "metadata": {},
   "outputs": [],
   "source": [
    "main_index_df_ori = df_ori[main_index_df_ori_list]"
   ]
  },
  {
   "cell_type": "code",
   "execution_count": 199,
   "metadata": {},
   "outputs": [],
   "source": [
    "main_index_df_ori.columns = [\"economy\",\"finance\",\"reform\",\"regulation\",\"intervention\"]"
   ]
  },
  {
   "cell_type": "code",
   "execution_count": null,
   "metadata": {},
   "outputs": [],
   "source": []
  },
  {
   "cell_type": "code",
   "execution_count": null,
   "metadata": {},
   "outputs": [],
   "source": []
  },
  {
   "cell_type": "code",
   "execution_count": 202,
   "metadata": {},
   "outputs": [],
   "source": [
    "main_index_df_cwhy_list = [\"economy_ref\",\"finance_ref\",\"reform_ref\",\"regulation_ref\",\"intervention_ref\"]"
   ]
  },
  {
   "cell_type": "code",
   "execution_count": 203,
   "metadata": {},
   "outputs": [],
   "source": [
    "main_index_df_cwhy = df_cwhy[main_index_df_cwhy_list]"
   ]
  },
  {
   "cell_type": "code",
   "execution_count": 205,
   "metadata": {},
   "outputs": [],
   "source": [
    "main_index_df_cwhy.columns = [\"economy_ref\",\"finance\",\"reform\",\"regulation\",\"intervention\"]"
   ]
  },
  {
   "cell_type": "code",
   "execution_count": null,
   "metadata": {},
   "outputs": [],
   "source": []
  },
  {
   "cell_type": "code",
   "execution_count": null,
   "metadata": {},
   "outputs": [],
   "source": []
  },
  {
   "cell_type": "code",
   "execution_count": 209,
   "metadata": {},
   "outputs": [],
   "source": [
    "new_df = pd.concat([main_index_df_ori,main_index_df_cwhy],axis=1).dropna()"
   ]
  },
  {
   "cell_type": "code",
   "execution_count": 213,
   "metadata": {},
   "outputs": [],
   "source": [
    "corr_df = calculate_correlation_df(new_df)"
   ]
  },
  {
   "cell_type": "code",
   "execution_count": 214,
   "metadata": {},
   "outputs": [
    {
     "data": {
      "text/html": [
       "<div>\n",
       "<style scoped>\n",
       "    .dataframe tbody tr th:only-of-type {\n",
       "        vertical-align: middle;\n",
       "    }\n",
       "\n",
       "    .dataframe tbody tr th {\n",
       "        vertical-align: top;\n",
       "    }\n",
       "\n",
       "    .dataframe thead th {\n",
       "        text-align: right;\n",
       "    }\n",
       "</style>\n",
       "<table border=\"1\" class=\"dataframe\">\n",
       "  <thead>\n",
       "    <tr style=\"text-align: right;\">\n",
       "      <th></th>\n",
       "      <th>economy</th>\n",
       "      <th>finance</th>\n",
       "      <th>reform</th>\n",
       "      <th>regulation</th>\n",
       "      <th>intervention</th>\n",
       "      <th>economy</th>\n",
       "      <th>finance</th>\n",
       "      <th>reform</th>\n",
       "      <th>regulation</th>\n",
       "      <th>intervention</th>\n",
       "    </tr>\n",
       "  </thead>\n",
       "  <tbody>\n",
       "    <tr>\n",
       "      <th>economy</th>\n",
       "      <td>1.0***</td>\n",
       "      <td>0.544***</td>\n",
       "      <td>0.335**</td>\n",
       "      <td>0.147</td>\n",
       "      <td>0.338**</td>\n",
       "      <td>0.456***</td>\n",
       "      <td>0.278**</td>\n",
       "      <td>0.098</td>\n",
       "      <td>0.042</td>\n",
       "      <td>0.19</td>\n",
       "    </tr>\n",
       "    <tr>\n",
       "      <th>finance</th>\n",
       "      <td>0.544***</td>\n",
       "      <td>1.0***</td>\n",
       "      <td>0.313**</td>\n",
       "      <td>0.044</td>\n",
       "      <td>0.551***</td>\n",
       "      <td>0.252*</td>\n",
       "      <td>0.49***</td>\n",
       "      <td>-0.028</td>\n",
       "      <td>-0.127</td>\n",
       "      <td>0.291**</td>\n",
       "    </tr>\n",
       "    <tr>\n",
       "      <th>reform</th>\n",
       "      <td>0.335**</td>\n",
       "      <td>0.313**</td>\n",
       "      <td>1.0***</td>\n",
       "      <td>0.357***</td>\n",
       "      <td>0.169</td>\n",
       "      <td>-0.022</td>\n",
       "      <td>0.043</td>\n",
       "      <td>0.535***</td>\n",
       "      <td>0.16</td>\n",
       "      <td>-0.014</td>\n",
       "    </tr>\n",
       "    <tr>\n",
       "      <th>regulation</th>\n",
       "      <td>0.147</td>\n",
       "      <td>0.044</td>\n",
       "      <td>0.357***</td>\n",
       "      <td>1.0***</td>\n",
       "      <td>0.306**</td>\n",
       "      <td>-0.032</td>\n",
       "      <td>-0.068</td>\n",
       "      <td>0.051</td>\n",
       "      <td>0.547***</td>\n",
       "      <td>-0.076</td>\n",
       "    </tr>\n",
       "    <tr>\n",
       "      <th>intervention</th>\n",
       "      <td>0.338**</td>\n",
       "      <td>0.551***</td>\n",
       "      <td>0.169</td>\n",
       "      <td>0.306**</td>\n",
       "      <td>1.0***</td>\n",
       "      <td>0.238*</td>\n",
       "      <td>0.377***</td>\n",
       "      <td>-0.234*</td>\n",
       "      <td>-0.203</td>\n",
       "      <td>0.523***</td>\n",
       "    </tr>\n",
       "    <tr>\n",
       "      <th>economy</th>\n",
       "      <td>0.456***</td>\n",
       "      <td>0.252*</td>\n",
       "      <td>-0.022</td>\n",
       "      <td>-0.032</td>\n",
       "      <td>0.238*</td>\n",
       "      <td>1.0***</td>\n",
       "      <td>0.142</td>\n",
       "      <td>-0.247*</td>\n",
       "      <td>-0.1</td>\n",
       "      <td>0.173</td>\n",
       "    </tr>\n",
       "    <tr>\n",
       "      <th>finance</th>\n",
       "      <td>0.278**</td>\n",
       "      <td>0.49***</td>\n",
       "      <td>0.043</td>\n",
       "      <td>-0.068</td>\n",
       "      <td>0.377***</td>\n",
       "      <td>0.142</td>\n",
       "      <td>1.0***</td>\n",
       "      <td>-0.245*</td>\n",
       "      <td>-0.136</td>\n",
       "      <td>0.767***</td>\n",
       "    </tr>\n",
       "    <tr>\n",
       "      <th>reform</th>\n",
       "      <td>0.098</td>\n",
       "      <td>-0.028</td>\n",
       "      <td>0.535***</td>\n",
       "      <td>0.051</td>\n",
       "      <td>-0.234*</td>\n",
       "      <td>-0.247*</td>\n",
       "      <td>-0.245*</td>\n",
       "      <td>1.0***</td>\n",
       "      <td>0.087</td>\n",
       "      <td>-0.165</td>\n",
       "    </tr>\n",
       "    <tr>\n",
       "      <th>regulation</th>\n",
       "      <td>0.042</td>\n",
       "      <td>-0.127</td>\n",
       "      <td>0.16</td>\n",
       "      <td>0.547***</td>\n",
       "      <td>-0.203</td>\n",
       "      <td>-0.1</td>\n",
       "      <td>-0.136</td>\n",
       "      <td>0.087</td>\n",
       "      <td>1.0***</td>\n",
       "      <td>-0.352***</td>\n",
       "    </tr>\n",
       "    <tr>\n",
       "      <th>intervention</th>\n",
       "      <td>0.19</td>\n",
       "      <td>0.291**</td>\n",
       "      <td>-0.014</td>\n",
       "      <td>-0.076</td>\n",
       "      <td>0.523***</td>\n",
       "      <td>0.173</td>\n",
       "      <td>0.767***</td>\n",
       "      <td>-0.165</td>\n",
       "      <td>-0.352***</td>\n",
       "      <td>1.0***</td>\n",
       "    </tr>\n",
       "  </tbody>\n",
       "</table>\n",
       "</div>"
      ],
      "text/plain": [
       "               economy   finance    reform regulation intervention   economy  \\\n",
       "economy         1.0***  0.544***   0.335**      0.147      0.338**  0.456***   \n",
       "finance       0.544***    1.0***   0.313**      0.044     0.551***    0.252*   \n",
       "reform         0.335**   0.313**    1.0***   0.357***        0.169    -0.022   \n",
       "regulation       0.147     0.044  0.357***     1.0***      0.306**    -0.032   \n",
       "intervention   0.338**  0.551***     0.169    0.306**       1.0***    0.238*   \n",
       "economy       0.456***    0.252*    -0.022     -0.032       0.238*    1.0***   \n",
       "finance        0.278**   0.49***     0.043     -0.068     0.377***     0.142   \n",
       "reform           0.098    -0.028  0.535***      0.051      -0.234*   -0.247*   \n",
       "regulation       0.042    -0.127      0.16   0.547***       -0.203      -0.1   \n",
       "intervention      0.19   0.291**    -0.014     -0.076     0.523***     0.173   \n",
       "\n",
       "               finance    reform regulation intervention  \n",
       "economy        0.278**     0.098      0.042         0.19  \n",
       "finance        0.49***    -0.028     -0.127      0.291**  \n",
       "reform           0.043  0.535***       0.16       -0.014  \n",
       "regulation      -0.068     0.051   0.547***       -0.076  \n",
       "intervention  0.377***   -0.234*     -0.203     0.523***  \n",
       "economy          0.142   -0.247*       -0.1        0.173  \n",
       "finance         1.0***   -0.245*     -0.136     0.767***  \n",
       "reform         -0.245*    1.0***      0.087       -0.165  \n",
       "regulation      -0.136     0.087     1.0***    -0.352***  \n",
       "intervention  0.767***    -0.165  -0.352***       1.0***  "
      ]
     },
     "execution_count": 214,
     "metadata": {},
     "output_type": "execute_result"
    }
   ],
   "source": [
    "corr_df"
   ]
  },
  {
   "cell_type": "code",
   "execution_count": 216,
   "metadata": {},
   "outputs": [],
   "source": [
    "corr_df = new_df.corr()\n",
    "corr_df = corr_df.round(3)"
   ]
  },
  {
   "cell_type": "code",
   "execution_count": 218,
   "metadata": {},
   "outputs": [
    {
     "data": {
      "text/html": [
       "<div>\n",
       "<style scoped>\n",
       "    .dataframe tbody tr th:only-of-type {\n",
       "        vertical-align: middle;\n",
       "    }\n",
       "\n",
       "    .dataframe tbody tr th {\n",
       "        vertical-align: top;\n",
       "    }\n",
       "\n",
       "    .dataframe thead th {\n",
       "        text-align: right;\n",
       "    }\n",
       "</style>\n",
       "<table border=\"1\" class=\"dataframe\">\n",
       "  <thead>\n",
       "    <tr style=\"text-align: right;\">\n",
       "      <th></th>\n",
       "      <th>economy</th>\n",
       "      <th>finance</th>\n",
       "      <th>reform</th>\n",
       "      <th>regulation</th>\n",
       "      <th>intervention</th>\n",
       "    </tr>\n",
       "  </thead>\n",
       "  <tbody>\n",
       "    <tr>\n",
       "      <th>economy</th>\n",
       "      <td>0.456</td>\n",
       "      <td>0.252</td>\n",
       "      <td>-0.022</td>\n",
       "      <td>-0.032</td>\n",
       "      <td>0.238</td>\n",
       "    </tr>\n",
       "    <tr>\n",
       "      <th>finance</th>\n",
       "      <td>0.278</td>\n",
       "      <td>0.490</td>\n",
       "      <td>0.043</td>\n",
       "      <td>-0.068</td>\n",
       "      <td>0.377</td>\n",
       "    </tr>\n",
       "    <tr>\n",
       "      <th>reform</th>\n",
       "      <td>0.098</td>\n",
       "      <td>-0.028</td>\n",
       "      <td>0.535</td>\n",
       "      <td>0.051</td>\n",
       "      <td>-0.234</td>\n",
       "    </tr>\n",
       "    <tr>\n",
       "      <th>regulation</th>\n",
       "      <td>0.042</td>\n",
       "      <td>-0.127</td>\n",
       "      <td>0.160</td>\n",
       "      <td>0.547</td>\n",
       "      <td>-0.203</td>\n",
       "    </tr>\n",
       "    <tr>\n",
       "      <th>intervention</th>\n",
       "      <td>0.190</td>\n",
       "      <td>0.291</td>\n",
       "      <td>-0.014</td>\n",
       "      <td>-0.076</td>\n",
       "      <td>0.523</td>\n",
       "    </tr>\n",
       "  </tbody>\n",
       "</table>\n",
       "</div>"
      ],
      "text/plain": [
       "              economy  finance  reform  regulation  intervention\n",
       "economy         0.456    0.252  -0.022      -0.032         0.238\n",
       "finance         0.278    0.490   0.043      -0.068         0.377\n",
       "reform          0.098   -0.028   0.535       0.051        -0.234\n",
       "regulation      0.042   -0.127   0.160       0.547        -0.203\n",
       "intervention    0.190    0.291  -0.014      -0.076         0.523"
      ]
     },
     "execution_count": 218,
     "metadata": {},
     "output_type": "execute_result"
    }
   ],
   "source": [
    "corr_df.iloc[5:,0:5]"
   ]
  },
  {
   "cell_type": "code",
   "execution_count": null,
   "metadata": {},
   "outputs": [],
   "source": []
  },
  {
   "cell_type": "code",
   "execution_count": 222,
   "metadata": {},
   "outputs": [],
   "source": [
    "corr_df = new_df.corr()\n",
    "corr_df = corr_df.round(3)\n",
    "    \n",
    "rho = corr_df\n",
    "pval = new_df.corr(method=lambda x, y: pearsonr(x, y)[1]) - np.eye(*rho.shape)\n",
    "p = pval.applymap(lambda x: ''.join(['*' for t in [0.01,0.05,0.10] if x<=t]))\n",
    "corr_p_df = rho.astype(str) + p"
   ]
  },
  {
   "cell_type": "code",
   "execution_count": 224,
   "metadata": {},
   "outputs": [
    {
     "data": {
      "text/html": [
       "<div>\n",
       "<style scoped>\n",
       "    .dataframe tbody tr th:only-of-type {\n",
       "        vertical-align: middle;\n",
       "    }\n",
       "\n",
       "    .dataframe tbody tr th {\n",
       "        vertical-align: top;\n",
       "    }\n",
       "\n",
       "    .dataframe thead th {\n",
       "        text-align: right;\n",
       "    }\n",
       "</style>\n",
       "<table border=\"1\" class=\"dataframe\">\n",
       "  <thead>\n",
       "    <tr style=\"text-align: right;\">\n",
       "      <th></th>\n",
       "      <th>economy</th>\n",
       "      <th>finance</th>\n",
       "      <th>reform</th>\n",
       "      <th>regulation</th>\n",
       "      <th>intervention</th>\n",
       "    </tr>\n",
       "  </thead>\n",
       "  <tbody>\n",
       "    <tr>\n",
       "      <th>economy</th>\n",
       "      <td>0.000534</td>\n",
       "      <td>0.066334</td>\n",
       "      <td>0.872408</td>\n",
       "      <td>0.819160</td>\n",
       "      <td>0.083729</td>\n",
       "    </tr>\n",
       "    <tr>\n",
       "      <th>finance</th>\n",
       "      <td>0.041902</td>\n",
       "      <td>0.000168</td>\n",
       "      <td>0.758402</td>\n",
       "      <td>0.623021</td>\n",
       "      <td>0.004918</td>\n",
       "    </tr>\n",
       "    <tr>\n",
       "      <th>reform</th>\n",
       "      <td>0.482014</td>\n",
       "      <td>0.843188</td>\n",
       "      <td>0.000031</td>\n",
       "      <td>0.716252</td>\n",
       "      <td>0.088157</td>\n",
       "    </tr>\n",
       "    <tr>\n",
       "      <th>regulation</th>\n",
       "      <td>0.762678</td>\n",
       "      <td>0.359438</td>\n",
       "      <td>0.246336</td>\n",
       "      <td>0.000019</td>\n",
       "      <td>0.140705</td>\n",
       "    </tr>\n",
       "    <tr>\n",
       "      <th>intervention</th>\n",
       "      <td>0.168910</td>\n",
       "      <td>0.033072</td>\n",
       "      <td>0.920904</td>\n",
       "      <td>0.586203</td>\n",
       "      <td>0.000049</td>\n",
       "    </tr>\n",
       "  </tbody>\n",
       "</table>\n",
       "</div>"
      ],
      "text/plain": [
       "               economy   finance    reform  regulation  intervention\n",
       "economy       0.000534  0.066334  0.872408    0.819160      0.083729\n",
       "finance       0.041902  0.000168  0.758402    0.623021      0.004918\n",
       "reform        0.482014  0.843188  0.000031    0.716252      0.088157\n",
       "regulation    0.762678  0.359438  0.246336    0.000019      0.140705\n",
       "intervention  0.168910  0.033072  0.920904    0.586203      0.000049"
      ]
     },
     "execution_count": 224,
     "metadata": {},
     "output_type": "execute_result"
    }
   ],
   "source": [
    "pval.iloc[5:,0:5]"
   ]
  },
  {
   "cell_type": "code",
   "execution_count": 226,
   "metadata": {},
   "outputs": [],
   "source": [
    "sta = new_df.corr(method=lambda x, y: pearsonr(x, y)[0])"
   ]
  },
  {
   "cell_type": "code",
   "execution_count": 227,
   "metadata": {},
   "outputs": [
    {
     "data": {
      "text/html": [
       "<div>\n",
       "<style scoped>\n",
       "    .dataframe tbody tr th:only-of-type {\n",
       "        vertical-align: middle;\n",
       "    }\n",
       "\n",
       "    .dataframe tbody tr th {\n",
       "        vertical-align: top;\n",
       "    }\n",
       "\n",
       "    .dataframe thead th {\n",
       "        text-align: right;\n",
       "    }\n",
       "</style>\n",
       "<table border=\"1\" class=\"dataframe\">\n",
       "  <thead>\n",
       "    <tr style=\"text-align: right;\">\n",
       "      <th></th>\n",
       "      <th>economy</th>\n",
       "      <th>finance</th>\n",
       "      <th>reform</th>\n",
       "      <th>regulation</th>\n",
       "      <th>intervention</th>\n",
       "      <th>economy</th>\n",
       "      <th>finance</th>\n",
       "      <th>reform</th>\n",
       "      <th>regulation</th>\n",
       "      <th>intervention</th>\n",
       "    </tr>\n",
       "  </thead>\n",
       "  <tbody>\n",
       "    <tr>\n",
       "      <th>economy</th>\n",
       "      <td>1.000000</td>\n",
       "      <td>0.544284</td>\n",
       "      <td>0.334955</td>\n",
       "      <td>0.146638</td>\n",
       "      <td>0.338280</td>\n",
       "      <td>0.455761</td>\n",
       "      <td>0.277882</td>\n",
       "      <td>0.097733</td>\n",
       "      <td>0.042058</td>\n",
       "      <td>0.189946</td>\n",
       "    </tr>\n",
       "    <tr>\n",
       "      <th>finance</th>\n",
       "      <td>0.544284</td>\n",
       "      <td>1.000000</td>\n",
       "      <td>0.313057</td>\n",
       "      <td>0.043927</td>\n",
       "      <td>0.550617</td>\n",
       "      <td>0.251719</td>\n",
       "      <td>0.490270</td>\n",
       "      <td>-0.027559</td>\n",
       "      <td>-0.127180</td>\n",
       "      <td>0.290532</td>\n",
       "    </tr>\n",
       "    <tr>\n",
       "      <th>reform</th>\n",
       "      <td>0.334955</td>\n",
       "      <td>0.313057</td>\n",
       "      <td>1.000000</td>\n",
       "      <td>0.357071</td>\n",
       "      <td>0.169184</td>\n",
       "      <td>-0.022376</td>\n",
       "      <td>0.042839</td>\n",
       "      <td>0.534991</td>\n",
       "      <td>0.160490</td>\n",
       "      <td>-0.013835</td>\n",
       "    </tr>\n",
       "    <tr>\n",
       "      <th>regulation</th>\n",
       "      <td>0.146638</td>\n",
       "      <td>0.043927</td>\n",
       "      <td>0.357071</td>\n",
       "      <td>1.000000</td>\n",
       "      <td>0.306126</td>\n",
       "      <td>-0.031849</td>\n",
       "      <td>-0.068417</td>\n",
       "      <td>0.050615</td>\n",
       "      <td>0.547147</td>\n",
       "      <td>-0.075742</td>\n",
       "    </tr>\n",
       "    <tr>\n",
       "      <th>intervention</th>\n",
       "      <td>0.338280</td>\n",
       "      <td>0.550617</td>\n",
       "      <td>0.169184</td>\n",
       "      <td>0.306126</td>\n",
       "      <td>1.000000</td>\n",
       "      <td>0.237525</td>\n",
       "      <td>0.377288</td>\n",
       "      <td>-0.234288</td>\n",
       "      <td>-0.203129</td>\n",
       "      <td>0.523094</td>\n",
       "    </tr>\n",
       "    <tr>\n",
       "      <th>economy</th>\n",
       "      <td>0.455761</td>\n",
       "      <td>0.251719</td>\n",
       "      <td>-0.022376</td>\n",
       "      <td>-0.031849</td>\n",
       "      <td>0.237525</td>\n",
       "      <td>1.000000</td>\n",
       "      <td>0.142348</td>\n",
       "      <td>-0.247064</td>\n",
       "      <td>-0.099955</td>\n",
       "      <td>0.173351</td>\n",
       "    </tr>\n",
       "    <tr>\n",
       "      <th>finance</th>\n",
       "      <td>0.277882</td>\n",
       "      <td>0.490270</td>\n",
       "      <td>0.042839</td>\n",
       "      <td>-0.068417</td>\n",
       "      <td>0.377288</td>\n",
       "      <td>0.142348</td>\n",
       "      <td>1.000000</td>\n",
       "      <td>-0.245261</td>\n",
       "      <td>-0.136132</td>\n",
       "      <td>0.766668</td>\n",
       "    </tr>\n",
       "    <tr>\n",
       "      <th>reform</th>\n",
       "      <td>0.097733</td>\n",
       "      <td>-0.027559</td>\n",
       "      <td>0.534991</td>\n",
       "      <td>0.050615</td>\n",
       "      <td>-0.234288</td>\n",
       "      <td>-0.247064</td>\n",
       "      <td>-0.245261</td>\n",
       "      <td>1.000000</td>\n",
       "      <td>0.086838</td>\n",
       "      <td>-0.165347</td>\n",
       "    </tr>\n",
       "    <tr>\n",
       "      <th>regulation</th>\n",
       "      <td>0.042058</td>\n",
       "      <td>-0.127180</td>\n",
       "      <td>0.160490</td>\n",
       "      <td>0.547147</td>\n",
       "      <td>-0.203129</td>\n",
       "      <td>-0.099955</td>\n",
       "      <td>-0.136132</td>\n",
       "      <td>0.086838</td>\n",
       "      <td>1.000000</td>\n",
       "      <td>-0.351817</td>\n",
       "    </tr>\n",
       "    <tr>\n",
       "      <th>intervention</th>\n",
       "      <td>0.189946</td>\n",
       "      <td>0.290532</td>\n",
       "      <td>-0.013835</td>\n",
       "      <td>-0.075742</td>\n",
       "      <td>0.523094</td>\n",
       "      <td>0.173351</td>\n",
       "      <td>0.766668</td>\n",
       "      <td>-0.165347</td>\n",
       "      <td>-0.351817</td>\n",
       "      <td>1.000000</td>\n",
       "    </tr>\n",
       "  </tbody>\n",
       "</table>\n",
       "</div>"
      ],
      "text/plain": [
       "               economy   finance    reform  regulation  intervention  \\\n",
       "economy       1.000000  0.544284  0.334955    0.146638      0.338280   \n",
       "finance       0.544284  1.000000  0.313057    0.043927      0.550617   \n",
       "reform        0.334955  0.313057  1.000000    0.357071      0.169184   \n",
       "regulation    0.146638  0.043927  0.357071    1.000000      0.306126   \n",
       "intervention  0.338280  0.550617  0.169184    0.306126      1.000000   \n",
       "economy       0.455761  0.251719 -0.022376   -0.031849      0.237525   \n",
       "finance       0.277882  0.490270  0.042839   -0.068417      0.377288   \n",
       "reform        0.097733 -0.027559  0.534991    0.050615     -0.234288   \n",
       "regulation    0.042058 -0.127180  0.160490    0.547147     -0.203129   \n",
       "intervention  0.189946  0.290532 -0.013835   -0.075742      0.523094   \n",
       "\n",
       "               economy   finance    reform  regulation  intervention  \n",
       "economy       0.455761  0.277882  0.097733    0.042058      0.189946  \n",
       "finance       0.251719  0.490270 -0.027559   -0.127180      0.290532  \n",
       "reform       -0.022376  0.042839  0.534991    0.160490     -0.013835  \n",
       "regulation   -0.031849 -0.068417  0.050615    0.547147     -0.075742  \n",
       "intervention  0.237525  0.377288 -0.234288   -0.203129      0.523094  \n",
       "economy       1.000000  0.142348 -0.247064   -0.099955      0.173351  \n",
       "finance       0.142348  1.000000 -0.245261   -0.136132      0.766668  \n",
       "reform       -0.247064 -0.245261  1.000000    0.086838     -0.165347  \n",
       "regulation   -0.099955 -0.136132  0.086838    1.000000     -0.351817  \n",
       "intervention  0.173351  0.766668 -0.165347   -0.351817      1.000000  "
      ]
     },
     "execution_count": 227,
     "metadata": {},
     "output_type": "execute_result"
    }
   ],
   "source": [
    "sta"
   ]
  },
  {
   "cell_type": "code",
   "execution_count": null,
   "metadata": {},
   "outputs": [],
   "source": []
  },
  {
   "cell_type": "code",
   "execution_count": null,
   "metadata": {},
   "outputs": [],
   "source": []
  },
  {
   "cell_type": "code",
   "execution_count": null,
   "metadata": {},
   "outputs": [],
   "source": []
  },
  {
   "cell_type": "code",
   "execution_count": null,
   "metadata": {},
   "outputs": [],
   "source": []
  },
  {
   "cell_type": "code",
   "execution_count": null,
   "metadata": {},
   "outputs": [],
   "source": []
  }
 ],
 "metadata": {
  "kernelspec": {
   "display_name": "Python 3",
   "language": "python",
   "name": "python3"
  },
  "language_info": {
   "codemirror_mode": {
    "name": "ipython",
    "version": 3
   },
   "file_extension": ".py",
   "mimetype": "text/x-python",
   "name": "python",
   "nbconvert_exporter": "python",
   "pygments_lexer": "ipython3",
   "version": "3.7.6"
  }
 },
 "nbformat": 4,
 "nbformat_minor": 4
}
