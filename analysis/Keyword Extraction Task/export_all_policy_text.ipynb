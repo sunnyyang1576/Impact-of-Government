{
 "cells": [
  {
   "cell_type": "code",
   "execution_count": null,
   "metadata": {},
   "outputs": [],
   "source": []
  },
  {
   "cell_type": "code",
   "execution_count": 1,
   "metadata": {},
   "outputs": [],
   "source": [
    "import pandas as pd"
   ]
  },
  {
   "cell_type": "code",
   "execution_count": null,
   "metadata": {},
   "outputs": [],
   "source": []
  },
  {
   "cell_type": "code",
   "execution_count": null,
   "metadata": {},
   "outputs": [],
   "source": []
  },
  {
   "cell_type": "code",
   "execution_count": 5,
   "metadata": {},
   "outputs": [],
   "source": [
    "df = pd.read_csv(\"data/FIN_zcgg_content.txt\")"
   ]
  },
  {
   "cell_type": "code",
   "execution_count": 7,
   "metadata": {},
   "outputs": [],
   "source": [
    "df.index = df.iloc[:,1]"
   ]
  },
  {
   "cell_type": "code",
   "execution_count": 9,
   "metadata": {},
   "outputs": [],
   "source": [
    "df = df.iloc[:,1:]"
   ]
  },
  {
   "cell_type": "code",
   "execution_count": 16,
   "metadata": {},
   "outputs": [],
   "source": [
    "df = df.dropna()"
   ]
  },
  {
   "cell_type": "code",
   "execution_count": 22,
   "metadata": {},
   "outputs": [
    {
     "data": {
      "text/html": [
       "<div>\n",
       "<style scoped>\n",
       "    .dataframe tbody tr th:only-of-type {\n",
       "        vertical-align: middle;\n",
       "    }\n",
       "\n",
       "    .dataframe tbody tr th {\n",
       "        vertical-align: top;\n",
       "    }\n",
       "\n",
       "    .dataframe thead th {\n",
       "        text-align: right;\n",
       "    }\n",
       "</style>\n",
       "<table border=\"1\" class=\"dataframe\">\n",
       "  <thead>\n",
       "    <tr style=\"text-align: right;\">\n",
       "      <th></th>\n",
       "      <th>Unnamed: 0.1</th>\n",
       "      <th>0</th>\n",
       "    </tr>\n",
       "    <tr>\n",
       "      <th>Unnamed: 0.1</th>\n",
       "      <th></th>\n",
       "      <th></th>\n",
       "    </tr>\n",
       "  </thead>\n",
       "  <tbody>\n",
       "    <tr>\n",
       "      <th>FIN_zcgg_0</th>\n",
       "      <td>FIN_zcgg_0</td>\n",
       "      <td>财国合〔2020〕30号国务院有关部委、有关直属机构，河南省财政厅、广东省财政厅、广西壮族自...</td>\n",
       "    </tr>\n",
       "    <tr>\n",
       "      <th>FIN_zcgg_1</th>\n",
       "      <td>FIN_zcgg_1</td>\n",
       "      <td>财预〔2020〕92 号有关省、自治区、直辖市财政厅（局）：　　根据《土地指标跨省域调剂收入...</td>\n",
       "    </tr>\n",
       "    <tr>\n",
       "      <th>FIN_zcgg_2</th>\n",
       "      <td>FIN_zcgg_2</td>\n",
       "      <td>财建〔2020〕289号各省、自治区、直辖市财政厅（局）：　　按照党中央、国务院战略部署，中...</td>\n",
       "    </tr>\n",
       "    <tr>\n",
       "      <th>FIN_zcgg_3</th>\n",
       "      <td>FIN_zcgg_3</td>\n",
       "      <td>财预〔2020〕94 号各省、自治区、直辖市、计划单列市财政厅（局），新疆生产建设兵团财政局...</td>\n",
       "    </tr>\n",
       "    <tr>\n",
       "      <th>FIN_zcgg_4</th>\n",
       "      <td>FIN_zcgg_4</td>\n",
       "      <td>财库〔2020〕23号党中央有关部门，国务院各部委、各直属机构，全国人大常委会办公厅，全国政...</td>\n",
       "    </tr>\n",
       "    <tr>\n",
       "      <th>...</th>\n",
       "      <td>...</td>\n",
       "      <td>...</td>\n",
       "    </tr>\n",
       "    <tr>\n",
       "      <th>FIN_zcgg_494</th>\n",
       "      <td>FIN_zcgg_494</td>\n",
       "      <td>海关总署：　　自2017年12月1日起，以暂定税率方式降低部分消费品进口关税。具体税目及税率...</td>\n",
       "    </tr>\n",
       "    <tr>\n",
       "      <th>FIN_zcgg_495</th>\n",
       "      <td>FIN_zcgg_495</td>\n",
       "      <td>财预〔2017〕157号有关省、自治区、直辖市、计划单列市财政厅（局）：　　为提高预算完整性...</td>\n",
       "    </tr>\n",
       "    <tr>\n",
       "      <th>FIN_zcgg_496</th>\n",
       "      <td>FIN_zcgg_496</td>\n",
       "      <td>财办金〔2017〕92号　　各省、自治区、直辖市、计划单列市财政厅（局），新疆生产建设兵团财...</td>\n",
       "    </tr>\n",
       "    <tr>\n",
       "      <th>FIN_zcgg_497</th>\n",
       "      <td>FIN_zcgg_497</td>\n",
       "      <td>财税〔2017〕78号各省、自治区、直辖市、计划单列市财政厅（局）、国家税务局、地方税务局，...</td>\n",
       "    </tr>\n",
       "    <tr>\n",
       "      <th>FIN_zcgg_498</th>\n",
       "      <td>FIN_zcgg_498</td>\n",
       "      <td>财税〔2017〕79号各省、自治区、直辖市、计划单列市财政厅（局）、国家税务局、地方税务局、...</td>\n",
       "    </tr>\n",
       "  </tbody>\n",
       "</table>\n",
       "<p>417 rows × 2 columns</p>\n",
       "</div>"
      ],
      "text/plain": [
       "              Unnamed: 0.1                                                  0\n",
       "Unnamed: 0.1                                                                 \n",
       "FIN_zcgg_0      FIN_zcgg_0  财国合〔2020〕30号国务院有关部委、有关直属机构，河南省财政厅、广东省财政厅、广西壮族自...\n",
       "FIN_zcgg_1      FIN_zcgg_1  财预〔2020〕92 号有关省、自治区、直辖市财政厅（局）：　　根据《土地指标跨省域调剂收入...\n",
       "FIN_zcgg_2      FIN_zcgg_2  财建〔2020〕289号各省、自治区、直辖市财政厅（局）：　　按照党中央、国务院战略部署，中...\n",
       "FIN_zcgg_3      FIN_zcgg_3  财预〔2020〕94 号各省、自治区、直辖市、计划单列市财政厅（局），新疆生产建设兵团财政局...\n",
       "FIN_zcgg_4      FIN_zcgg_4  财库〔2020〕23号党中央有关部门，国务院各部委、各直属机构，全国人大常委会办公厅，全国政...\n",
       "...                    ...                                                ...\n",
       "FIN_zcgg_494  FIN_zcgg_494  海关总署：　　自2017年12月1日起，以暂定税率方式降低部分消费品进口关税。具体税目及税率...\n",
       "FIN_zcgg_495  FIN_zcgg_495  财预〔2017〕157号有关省、自治区、直辖市、计划单列市财政厅（局）：　　为提高预算完整性...\n",
       "FIN_zcgg_496  FIN_zcgg_496  财办金〔2017〕92号　　各省、自治区、直辖市、计划单列市财政厅（局），新疆生产建设兵团财...\n",
       "FIN_zcgg_497  FIN_zcgg_497  财税〔2017〕78号各省、自治区、直辖市、计划单列市财政厅（局）、国家税务局、地方税务局，...\n",
       "FIN_zcgg_498  FIN_zcgg_498  财税〔2017〕79号各省、自治区、直辖市、计划单列市财政厅（局）、国家税务局、地方税务局、...\n",
       "\n",
       "[417 rows x 2 columns]"
      ]
     },
     "execution_count": 22,
     "metadata": {},
     "output_type": "execute_result"
    }
   ],
   "source": [
    "df"
   ]
  },
  {
   "cell_type": "code",
   "execution_count": 23,
   "metadata": {},
   "outputs": [],
   "source": [
    "for index in range(0,len(df)):\n",
    "    policy = df.iloc[index,1]\n",
    "    idx = df.index[index]\n",
    "    file_name = \"output/policy_\"+str(idx)+\".txt\"\n",
    "    with open(file_name,\"w+\") as f:\n",
    "        f.write(policy)"
   ]
  },
  {
   "cell_type": "code",
   "execution_count": null,
   "metadata": {},
   "outputs": [],
   "source": []
  },
  {
   "cell_type": "code",
   "execution_count": null,
   "metadata": {},
   "outputs": [],
   "source": []
  },
  {
   "cell_type": "code",
   "execution_count": null,
   "metadata": {},
   "outputs": [],
   "source": []
  },
  {
   "cell_type": "code",
   "execution_count": null,
   "metadata": {},
   "outputs": [],
   "source": []
  },
  {
   "cell_type": "code",
   "execution_count": null,
   "metadata": {},
   "outputs": [],
   "source": []
  },
  {
   "cell_type": "code",
   "execution_count": null,
   "metadata": {},
   "outputs": [],
   "source": []
  },
  {
   "cell_type": "code",
   "execution_count": null,
   "metadata": {},
   "outputs": [],
   "source": []
  },
  {
   "cell_type": "code",
   "execution_count": null,
   "metadata": {},
   "outputs": [],
   "source": []
  },
  {
   "cell_type": "code",
   "execution_count": null,
   "metadata": {},
   "outputs": [],
   "source": []
  }
 ],
 "metadata": {
  "kernelspec": {
   "display_name": "Python 3",
   "language": "python",
   "name": "python3"
  },
  "language_info": {
   "codemirror_mode": {
    "name": "ipython",
    "version": 3
   },
   "file_extension": ".py",
   "mimetype": "text/x-python",
   "name": "python",
   "nbconvert_exporter": "python",
   "pygments_lexer": "ipython3",
   "version": "3.7.6"
  }
 },
 "nbformat": 4,
 "nbformat_minor": 4
}
