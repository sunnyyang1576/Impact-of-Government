{
 "cells": [
  {
   "cell_type": "code",
   "execution_count": 61,
   "metadata": {},
   "outputs": [],
   "source": [
    "import pandas as pd\n",
    "import numpy as np\n",
    "\n",
    "import jieba\n",
    "import jieba.analyse\n",
    "from collections import Counter\n",
    "\n",
    "import re\n",
    "from os import listdir"
   ]
  },
  {
   "cell_type": "code",
   "execution_count": 57,
   "metadata": {},
   "outputs": [],
   "source": [
    "policy_dir = listdir(\"data/policy_text/\")"
   ]
  },
  {
   "cell_type": "code",
   "execution_count": 58,
   "metadata": {},
   "outputs": [],
   "source": [
    "text_list = []\n",
    "\n",
    "for file in policy_dir:\n",
    "    file = \"data/policy_text/\"+file\n",
    "    \n",
    "    with open(file,\"r+\")  as f:\n",
    "        text = f.read()\n",
    "    \n",
    "    text = re.sub(\"\\n\",\"\",text)\n",
    "    text = re.sub(\"\\u3000\",\"\",text)\n",
    "    \n",
    "    text_list.append(text)\n",
    "    "
   ]
  },
  {
   "cell_type": "code",
   "execution_count": null,
   "metadata": {},
   "outputs": [],
   "source": []
  },
  {
   "cell_type": "code",
   "execution_count": null,
   "metadata": {},
   "outputs": [],
   "source": []
  },
  {
   "cell_type": "code",
   "execution_count": 59,
   "metadata": {},
   "outputs": [],
   "source": [
    "sample_text = text_list[0]"
   ]
  },
  {
   "cell_type": "code",
   "execution_count": 62,
   "metadata": {},
   "outputs": [
    {
     "data": {
      "text/plain": [
       "['农业',\n",
       " '开发',\n",
       " '管理',\n",
       " '农发',\n",
       " '综合',\n",
       " '办法',\n",
       " '项目',\n",
       " '财政部',\n",
       " '修订',\n",
       " '项目管理',\n",
       " '要求',\n",
       " '资金',\n",
       " '工作',\n",
       " '机构',\n",
       " '明确',\n",
       " '发展',\n",
       " '省级',\n",
       " '规定',\n",
       " '内容',\n",
       " '持续']"
      ]
     },
     "execution_count": 62,
     "metadata": {},
     "output_type": "execute_result"
    }
   ],
   "source": [
    "jieba.analyse.extract_tags(sample_text, topK=20)"
   ]
  },
  {
   "cell_type": "code",
   "execution_count": 89,
   "metadata": {},
   "outputs": [],
   "source": [
    "with open(\"data/user_idf_dict.txt\") as f:\n",
    "    a = f.read()"
   ]
  },
  {
   "cell_type": "code",
   "execution_count": null,
   "metadata": {},
   "outputs": [],
   "source": []
  },
  {
   "cell_type": "code",
   "execution_count": null,
   "metadata": {},
   "outputs": [],
   "source": []
  },
  {
   "cell_type": "code",
   "execution_count": 149,
   "metadata": {},
   "outputs": [],
   "source": [
    "jieba.analyse.set_idf_path(\"data/user_idf_dict.txt\")"
   ]
  },
  {
   "cell_type": "code",
   "execution_count": null,
   "metadata": {},
   "outputs": [],
   "source": []
  },
  {
   "cell_type": "code",
   "execution_count": 150,
   "metadata": {},
   "outputs": [
    {
     "data": {
      "text/plain": [
       "['农业',\n",
       " '开发',\n",
       " '管理',\n",
       " '综合',\n",
       " '办法',\n",
       " '项目',\n",
       " '农发',\n",
       " '发展',\n",
       " '资金',\n",
       " '要求',\n",
       " '工作',\n",
       " '机构',\n",
       " '财政部',\n",
       " '修订',\n",
       " '明确',\n",
       " '项目管理',\n",
       " '国家',\n",
       " '持续',\n",
       " '规定',\n",
       " '进行']"
      ]
     },
     "execution_count": 150,
     "metadata": {},
     "output_type": "execute_result"
    }
   ],
   "source": [
    "jieba.analyse.extract_tags(sample_text, topK=20)"
   ]
  },
  {
   "cell_type": "code",
   "execution_count": null,
   "metadata": {},
   "outputs": [],
   "source": []
  },
  {
   "cell_type": "code",
   "execution_count": 151,
   "metadata": {},
   "outputs": [
    {
     "data": {
      "text/plain": [
       "'data/user_idf_dict.txt'"
      ]
     },
     "execution_count": 151,
     "metadata": {},
     "output_type": "execute_result"
    }
   ],
   "source": [
    "\"data/user_idf_dict.txt\""
   ]
  },
  {
   "cell_type": "code",
   "execution_count": 152,
   "metadata": {},
   "outputs": [],
   "source": [
    "with open(\"data/user_idf_dict.txt\") as f:\n",
    "    \n",
    "    idf_dict = f.read()"
   ]
  },
  {
   "cell_type": "code",
   "execution_count": 153,
   "metadata": {},
   "outputs": [],
   "source": [
    "idf_dict = idf_dict.splitlines()"
   ]
  },
  {
   "cell_type": "code",
   "execution_count": 154,
   "metadata": {},
   "outputs": [],
   "source": [
    "word_list = []\n",
    "freq_list = []\n",
    "for string in idf_dict:\n",
    "    \n",
    "    word,freq = string.strip().split()\n",
    "    word_list.append(word)\n",
    "    freq_list.append(float(freq))"
   ]
  },
  {
   "cell_type": "code",
   "execution_count": 155,
   "metadata": {},
   "outputs": [],
   "source": [
    "df = pd.DataFrame({\"word\":word_list,\"freq\":freq_list})"
   ]
  },
  {
   "cell_type": "code",
   "execution_count": 156,
   "metadata": {},
   "outputs": [
    {
     "data": {
      "text/plain": [
       "<matplotlib.axes._subplots.AxesSubplot at 0x1327bbf10>"
      ]
     },
     "execution_count": 156,
     "metadata": {},
     "output_type": "execute_result"
    },
    {
     "data": {
      "image/png": "[encoded data removed]",
      "text/plain": [
       "<Figure size 432x288 with 1 Axes>"
      ]
     },
     "metadata": {
      "needs_background": "light"
     },
     "output_type": "display_data"
    }
   ],
   "source": [
    "df.freq.plot(kind=\"hist\")"
   ]
  },
  {
   "cell_type": "code",
   "execution_count": 173,
   "metadata": {},
   "outputs": [],
   "source": [
    "df[\"cut\"] = pd.qcut(df.freq,10,labels=False,duplicates=\"drop\")"
   ]
  },
  {
   "cell_type": "code",
   "execution_count": 175,
   "metadata": {},
   "outputs": [],
   "source": [
    "sub_df = df[df.cut==0]"
   ]
  },
  {
   "cell_type": "code",
   "execution_count": 177,
   "metadata": {},
   "outputs": [
    {
     "data": {
      "text/plain": [
       "3        以\n",
       "5       预算\n",
       "13    贯彻落实\n",
       "14      通过\n",
       "15       ）\n",
       "25       月\n",
       "27      工程\n",
       "29      十八\n",
       "32      附则\n",
       "Name: word, dtype: object"
      ]
     },
     "execution_count": 177,
     "metadata": {},
     "output_type": "execute_result"
    }
   ],
   "source": [
    "sub_df.word[1:10]"
   ]
  },
  {
   "cell_type": "code",
   "execution_count": 178,
   "metadata": {},
   "outputs": [
    {
     "data": {
      "text/plain": [
       "35      二是\n",
       "44       号\n",
       "50       下\n",
       "58      政策\n",
       "59       问\n",
       "60       令\n",
       "63    2016\n",
       "72      部分\n",
       "77      处理\n",
       "78      其他\n",
       "Name: word, dtype: object"
      ]
     },
     "execution_count": 178,
     "metadata": {},
     "output_type": "execute_result"
    }
   ],
   "source": [
    "sub_df.word[10:20]"
   ]
  },
  {
   "cell_type": "code",
   "execution_count": 180,
   "metadata": {},
   "outputs": [
    {
     "name": "stdout",
     "output_type": "stream",
     "text": [
      "好\n",
      "以\n",
      "预算\n",
      "贯彻落实\n",
      "通过\n",
      "）\n",
      "月\n",
      "工程\n",
      "十八\n",
      "附则\n",
      "二是\n",
      "号\n",
      "下\n",
      "政策\n",
      "问\n",
      "令\n",
      "2016\n",
      "部分\n",
      "处理\n",
      "其他\n",
      "职责\n",
      "配套\n",
      "修改\n",
      "与\n",
      "工作\n",
      "调整\n",
      "但\n",
      "接受\n",
      "党\n",
      "了\n",
      "各\n",
      "有\n",
      "同时\n",
      "将\n",
      "以下\n",
      "创新\n",
      "重要\n",
      "主要\n",
      "相应\n",
      "并\n",
      "做好\n",
      "程序\n",
      "五是\n",
      "？\n",
      "基础\n",
      "条例\n",
      "自\n",
      "其\n",
      "哪些\n",
      "提高\n",
      "新\n",
      "政府\n",
      "指导\n",
      "责任\n",
      "后\n",
      "信息\n",
      "体系\n",
      "应当\n",
      "提供\n",
      "资金\n",
      "条\n",
      "要求\n",
      "三是\n",
      "四是\n",
      "组织\n",
      "财政部\n",
      "年\n",
      "地方\n",
      "结合\n",
      "“\n",
      "由\n",
      "六是\n",
      "近日\n",
      "公开\n",
      "确定\n",
      "和\n",
      "突出\n",
      "情况\n",
      "为\n",
      "包括\n",
      "方面\n",
      "简称\n",
      "回答\n",
      "总则\n",
      "制定\n",
      "具体\n",
      "《\n",
      "规定\n",
      "举办\n",
      "执行\n",
      "实施\n",
      "施行\n",
      "对\n",
      "经营\n",
      "改革\n",
      "公布\n",
      "法\n",
      "规范\n",
      "有关\n",
      "范围\n",
      "明确\n",
      "管理\n",
      "重点\n",
      "作\n",
      "原则\n",
      "培训\n",
      "加强\n",
      "单位\n",
      "保障\n",
      "按照\n",
      "支付\n",
      "如何\n",
      "的\n",
      "决定\n",
      "财务管理\n",
      "抓紧\n",
      "3\n",
      "开展\n",
      "促进\n",
      "等\n",
      "可以\n",
      "负责人\n",
      "财政部门\n",
      "》\n",
      "进行\n",
      "根据\n",
      "从\n",
      "党中央\n",
      "使用\n",
      "社会\n",
      "服务\n",
      "或者\n",
      "、\n",
      "上\n",
      "日\n",
      "出台\n",
      "发展\n",
      "。\n",
      "中\n",
      "内容\n",
      "财政\n",
      "行政\n",
      "实践\n",
      "完善\n",
      "效益\n",
      "记者\n",
      "日起\n",
      "中央\n",
      "一步\n",
      "各级\n",
      "一是\n",
      "支出\n",
      "作用\n",
      "是\n",
      "：\n",
      "项目\n",
      "强化\n",
      "关于\n",
      "国家\n",
      "1\n",
      "制度\n",
      "修订\n",
      "；\n",
      "办法\n",
      "第\n",
      "国务院\n",
      "提问\n",
      "需要\n",
      "部门\n",
      "答\n",
      "落实\n",
      "不断\n",
      "”\n",
      "问题\n",
      "在\n",
      "，\n",
      "相关\n",
      "进一步\n",
      "（\n",
      "统一\n",
      "就\n",
      "结果\n",
      "编制\n",
      "也\n",
      "行为\n",
      "不\n",
      "为了\n",
      "随着\n",
      "不得\n",
      "对于\n",
      "基本\n",
      "遵循\n",
      "采购\n",
      "以及\n",
      "及\n",
      "本\n",
      "发挥\n",
      "或\n",
      "法律\n",
      "企业\n",
      "实际\n",
      "没有\n",
      "全面\n",
      "绩效评价\n",
      "什么\n",
      "依法\n"
     ]
    }
   ],
   "source": [
    "for word in sub_df.word:\n",
    "    print(word)"
   ]
  },
  {
   "cell_type": "code",
   "execution_count": 183,
   "metadata": {},
   "outputs": [],
   "source": [
    "high_DF_word = list(sub_df.word)"
   ]
  },
  {
   "cell_type": "code",
   "execution_count": null,
   "metadata": {},
   "outputs": [],
   "source": []
  },
  {
   "cell_type": "code",
   "execution_count": 185,
   "metadata": {},
   "outputs": [],
   "source": [
    "with open(\"data/idf_stopwords.txt\",\"w+\") as f:\n",
    "    \n",
    "    for word in high_DF_word:\n",
    "        \n",
    "        f.write(word+\"\\n\")\n",
    "    \n",
    "    \n",
    "    "
   ]
  },
  {
   "cell_type": "code",
   "execution_count": null,
   "metadata": {},
   "outputs": [],
   "source": []
  },
  {
   "cell_type": "code",
   "execution_count": null,
   "metadata": {},
   "outputs": [],
   "source": []
  },
  {
   "cell_type": "code",
   "execution_count": null,
   "metadata": {},
   "outputs": [],
   "source": []
  },
  {
   "cell_type": "code",
   "execution_count": null,
   "metadata": {},
   "outputs": [],
   "source": []
  },
  {
   "cell_type": "code",
   "execution_count": null,
   "metadata": {},
   "outputs": [],
   "source": []
  },
  {
   "cell_type": "code",
   "execution_count": null,
   "metadata": {},
   "outputs": [],
   "source": []
  },
  {
   "cell_type": "code",
   "execution_count": null,
   "metadata": {},
   "outputs": [],
   "source": []
  }
 ],
 "metadata": {
  "kernelspec": {
   "display_name": "Python 3",
   "language": "python",
   "name": "python3"
  },
  "language_info": {
   "codemirror_mode": {
    "name": "ipython",
    "version": 3
   },
   "file_extension": ".py",
   "mimetype": "text/x-python",
   "name": "python",
   "nbconvert_exporter": "python",
   "pygments_lexer": "ipython3",
   "version": "3.7.6"
  }
 },
 "nbformat": 4,
 "nbformat_minor": 4
}
