{
 "cells": [
  {
   "cell_type": "code",
   "execution_count": null,
   "metadata": {},
   "outputs": [],
   "source": []
  },
  {
   "cell_type": "code",
   "execution_count": 1,
   "metadata": {},
   "outputs": [
    {
     "name": "stderr",
     "output_type": "stream",
     "text": [
      "[nltk_data] Downloading package punkt to /Users/sunnyyang/nltk_data...\n",
      "[nltk_data]   Unzipping tokenizers/punkt.zip.\n"
     ]
    }
   ],
   "source": [
    "import numpy as np\n",
    "import pandas as pd\n",
    "import nltk\n",
    "nltk.download('punkt') # one time execution\n",
    "import re"
   ]
  },
  {
   "cell_type": "code",
   "execution_count": null,
   "metadata": {},
   "outputs": [],
   "source": []
  },
  {
   "cell_type": "code",
   "execution_count": 5,
   "metadata": {},
   "outputs": [],
   "source": [
    "df = pd.read_csv(\"data/tennis_articles.csv\",encoding = 'unicode_escape')"
   ]
  },
  {
   "cell_type": "code",
   "execution_count": 6,
   "metadata": {},
   "outputs": [
    {
     "data": {
      "text/html": [
       "<div>\n",
       "<style scoped>\n",
       "    .dataframe tbody tr th:only-of-type {\n",
       "        vertical-align: middle;\n",
       "    }\n",
       "\n",
       "    .dataframe tbody tr th {\n",
       "        vertical-align: top;\n",
       "    }\n",
       "\n",
       "    .dataframe thead th {\n",
       "        text-align: right;\n",
       "    }\n",
       "</style>\n",
       "<table border=\"1\" class=\"dataframe\">\n",
       "  <thead>\n",
       "    <tr style=\"text-align: right;\">\n",
       "      <th></th>\n",
       "      <th>article_id</th>\n",
       "      <th>article_title</th>\n",
       "      <th>article_text</th>\n",
       "      <th>source</th>\n",
       "    </tr>\n",
       "  </thead>\n",
       "  <tbody>\n",
       "    <tr>\n",
       "      <th>0</th>\n",
       "      <td>1</td>\n",
       "      <td>I do not have friends in tennis, says Maria Sh...</td>\n",
       "      <td>Maria Sharapova has basically no friends as te...</td>\n",
       "      <td>https://www.tennisworldusa.org/tennis/news/Mar...</td>\n",
       "    </tr>\n",
       "    <tr>\n",
       "      <th>1</th>\n",
       "      <td>2</td>\n",
       "      <td>Federer defeats Medvedev to advance to 14th Sw...</td>\n",
       "      <td>BASEL, Switzerland (AP)  Roger Federer advanc...</td>\n",
       "      <td>http://www.tennis.com/pro-game/2018/10/copil-s...</td>\n",
       "    </tr>\n",
       "    <tr>\n",
       "      <th>2</th>\n",
       "      <td>3</td>\n",
       "      <td>Tennis: Roger Federer ignored deadline set by ...</td>\n",
       "      <td>Roger Federer has revealed that organisers of ...</td>\n",
       "      <td>https://scroll.in/field/899938/tennis-roger-fe...</td>\n",
       "    </tr>\n",
       "    <tr>\n",
       "      <th>3</th>\n",
       "      <td>4</td>\n",
       "      <td>Nishikori to face off against Anderson in Vien...</td>\n",
       "      <td>Kei Nishikori will try to end his long losing ...</td>\n",
       "      <td>http://www.tennis.com/pro-game/2018/10/nishiko...</td>\n",
       "    </tr>\n",
       "    <tr>\n",
       "      <th>4</th>\n",
       "      <td>5</td>\n",
       "      <td>Roger Federer has made this huge change to ten...</td>\n",
       "      <td>Federer, 37, first broke through on tour over ...</td>\n",
       "      <td>https://www.express.co.uk/sport/tennis/1036101...</td>\n",
       "    </tr>\n",
       "    <tr>\n",
       "      <th>5</th>\n",
       "      <td>6</td>\n",
       "      <td>Rafael Nadal: World No 1 ARRIVES for Paris Mas...</td>\n",
       "      <td>Nadal has not played tennis since he was force...</td>\n",
       "      <td>https://www.express.co.uk/sport/tennis/1037119...</td>\n",
       "    </tr>\n",
       "    <tr>\n",
       "      <th>6</th>\n",
       "      <td>7</td>\n",
       "      <td>TENNIS.COM PODCAST: POINT DEFENSE, RANKING DRO...</td>\n",
       "      <td>Tennis giveth, and tennis taketh away. The end...</td>\n",
       "      <td>http://www.tennis.com/pro-game/2018/10/tennisc...</td>\n",
       "    </tr>\n",
       "    <tr>\n",
       "      <th>7</th>\n",
       "      <td>8</td>\n",
       "      <td>Tennis journalists heartbreaking insight on T...</td>\n",
       "      <td>I PLAYED golf last week with Todd Reid. He pic...</td>\n",
       "      <td>https://www.foxsports.com.au/tennis/tennis-jou...</td>\n",
       "    </tr>\n",
       "  </tbody>\n",
       "</table>\n",
       "</div>"
      ],
      "text/plain": [
       "   article_id                                      article_title  \\\n",
       "0           1  I do not have friends in tennis, says Maria Sh...   \n",
       "1           2  Federer defeats Medvedev to advance to 14th Sw...   \n",
       "2           3  Tennis: Roger Federer ignored deadline set by ...   \n",
       "3           4  Nishikori to face off against Anderson in Vien...   \n",
       "4           5  Roger Federer has made this huge change to ten...   \n",
       "5           6  Rafael Nadal: World No 1 ARRIVES for Paris Mas...   \n",
       "6           7  TENNIS.COM PODCAST: POINT DEFENSE, RANKING DRO...   \n",
       "7           8  Tennis journalists heartbreaking insight on T...   \n",
       "\n",
       "                                        article_text  \\\n",
       "0  Maria Sharapova has basically no friends as te...   \n",
       "1  BASEL, Switzerland (AP)  Roger Federer advanc...   \n",
       "2  Roger Federer has revealed that organisers of ...   \n",
       "3  Kei Nishikori will try to end his long losing ...   \n",
       "4  Federer, 37, first broke through on tour over ...   \n",
       "5  Nadal has not played tennis since he was force...   \n",
       "6  Tennis giveth, and tennis taketh away. The end...   \n",
       "7  I PLAYED golf last week with Todd Reid. He pic...   \n",
       "\n",
       "                                              source  \n",
       "0  https://www.tennisworldusa.org/tennis/news/Mar...  \n",
       "1  http://www.tennis.com/pro-game/2018/10/copil-s...  \n",
       "2  https://scroll.in/field/899938/tennis-roger-fe...  \n",
       "3  http://www.tennis.com/pro-game/2018/10/nishiko...  \n",
       "4  https://www.express.co.uk/sport/tennis/1036101...  \n",
       "5  https://www.express.co.uk/sport/tennis/1037119...  \n",
       "6  http://www.tennis.com/pro-game/2018/10/tennisc...  \n",
       "7  https://www.foxsports.com.au/tennis/tennis-jou...  "
      ]
     },
     "execution_count": 6,
     "metadata": {},
     "output_type": "execute_result"
    }
   ],
   "source": [
    "df"
   ]
  },
  {
   "cell_type": "code",
   "execution_count": 7,
   "metadata": {},
   "outputs": [
    {
     "data": {
      "text/plain": [
       "\"Maria Sharapova has basically no friends as tennis players on the WTA Tour. The Russian player has no problems in openly speaking about it and in a recent interview she said: 'I don't really hide any feelings too much. I think everyone knows this is my job here. When I'm on the courts or when I'm on the court playing, I'm a competitor and I want to beat every single person whether they're in the locker room or across the net. So I'm not the one to strike up a conversation about the weather and know that in the next few minutes I have to go and try to win a tennis match. I'm a pretty competitive girl. I say my hellos, but I'm not sending any players flowers as well. Uhm, I'm not really friendly or close to many players. I have not a lot of friends away from the courts.' When she said she is not really close to a lot of players, is that something strategic that she is doing? Is it different on the men's tour than the women's tour? 'No, not at all. I think just because you're in the same sport doesn't mean that you have to be friends with everyone just because you're categorized, you're a tennis player, so you're going to get along with tennis players. I think every person has different interests. I have friends that have completely different jobs and interests, and I've met them in very different parts of my life. I think everyone just thinks because we're tennis players we should be the greatest of friends. But ultimately tennis is just a very small part of what we do. There are so many other things that we're interested in, that we do.' ALSO READ: Maria Sharapova reveals how tennis keeps her motivated.\""
      ]
     },
     "execution_count": 7,
     "metadata": {},
     "output_type": "execute_result"
    }
   ],
   "source": [
    "df['article_text'][0]"
   ]
  },
  {
   "cell_type": "code",
   "execution_count": null,
   "metadata": {},
   "outputs": [],
   "source": []
  },
  {
   "cell_type": "code",
   "execution_count": 9,
   "metadata": {},
   "outputs": [],
   "source": [
    "from nltk.tokenize import sent_tokenize\n",
    "sentences = []\n",
    "for s in df['article_text']:\n",
    "    sentences.append(sent_tokenize(s))\n",
    "\n",
    "sentences = [y for x in sentences for y in x] # flatten list"
   ]
  },
  {
   "cell_type": "code",
   "execution_count": 11,
   "metadata": {},
   "outputs": [
    {
     "data": {
      "text/plain": [
       "130"
      ]
     },
     "execution_count": 11,
     "metadata": {},
     "output_type": "execute_result"
    }
   ],
   "source": [
    "len(sentences)"
   ]
  },
  {
   "cell_type": "code",
   "execution_count": null,
   "metadata": {},
   "outputs": [],
   "source": []
  },
  {
   "cell_type": "code",
   "execution_count": 13,
   "metadata": {},
   "outputs": [],
   "source": [
    "clean_sentences = pd.Series(sentences).str.replace(\"[^a-zA-Z]\", \" \")\n",
    "\n",
    "# make alphabets lowercase\n",
    "clean_sentences = [s.lower() for s in clean_sentences]"
   ]
  },
  {
   "cell_type": "code",
   "execution_count": 15,
   "metadata": {},
   "outputs": [
    {
     "name": "stderr",
     "output_type": "stream",
     "text": [
      "[nltk_data] Downloading package stopwords to\n",
      "[nltk_data]     /Users/sunnyyang/nltk_data...\n",
      "[nltk_data]   Unzipping corpora/stopwords.zip.\n"
     ]
    },
    {
     "data": {
      "text/plain": [
       "True"
      ]
     },
     "execution_count": 15,
     "metadata": {},
     "output_type": "execute_result"
    }
   ],
   "source": [
    "nltk.download('stopwords')"
   ]
  },
  {
   "cell_type": "code",
   "execution_count": 16,
   "metadata": {},
   "outputs": [],
   "source": [
    "from nltk.corpus import stopwords\n",
    "stop_words = stopwords.words('english')"
   ]
  },
  {
   "cell_type": "code",
   "execution_count": null,
   "metadata": {},
   "outputs": [],
   "source": []
  },
  {
   "cell_type": "code",
   "execution_count": 17,
   "metadata": {},
   "outputs": [],
   "source": [
    "def remove_stopwords(sen):\n",
    "    sen_new = \" \".join([i for i in sen if i not in stop_words])\n",
    "    return sen_new"
   ]
  },
  {
   "cell_type": "code",
   "execution_count": 18,
   "metadata": {},
   "outputs": [],
   "source": [
    "clean_sentences = [remove_stopwords(r.split()) for r in clean_sentences]"
   ]
  },
  {
   "cell_type": "code",
   "execution_count": null,
   "metadata": {},
   "outputs": [],
   "source": []
  },
  {
   "cell_type": "code",
   "execution_count": null,
   "metadata": {},
   "outputs": [],
   "source": []
  },
  {
   "cell_type": "code",
   "execution_count": 19,
   "metadata": {},
   "outputs": [],
   "source": [
    "word_embeddings = {}\n",
    "f = open('data/glove.6B.100d.txt', encoding='utf-8')\n",
    "for line in f:\n",
    "    values = line.split()\n",
    "    word = values[0]\n",
    "    coefs = np.asarray(values[1:], dtype='float32')\n",
    "    word_embeddings[word] = coefs\n",
    "f.close()"
   ]
  },
  {
   "cell_type": "code",
   "execution_count": null,
   "metadata": {},
   "outputs": [],
   "source": []
  },
  {
   "cell_type": "code",
   "execution_count": 24,
   "metadata": {},
   "outputs": [],
   "source": [
    "sentence_vectors = []\n",
    "\n",
    "for i in clean_sentences:\n",
    "    if len(i) != 0:\n",
    "        v = sum([word_embeddings.get(w, np.zeros((100,))) for w in i.split()])/(len(i.split())+0.001)\n",
    "    else:\n",
    "        v = np.zeros((100,))\n",
    "    \n",
    "    sentence_vectors.append(v)"
   ]
  },
  {
   "cell_type": "code",
   "execution_count": null,
   "metadata": {},
   "outputs": [],
   "source": []
  },
  {
   "cell_type": "code",
   "execution_count": null,
   "metadata": {},
   "outputs": [],
   "source": []
  },
  {
   "cell_type": "code",
   "execution_count": 27,
   "metadata": {},
   "outputs": [],
   "source": [
    "sim_mat = np.zeros([len(sentences), len(sentences)])"
   ]
  },
  {
   "cell_type": "code",
   "execution_count": 28,
   "metadata": {},
   "outputs": [],
   "source": [
    "from sklearn.metrics.pairwise import cosine_similarity"
   ]
  },
  {
   "cell_type": "code",
   "execution_count": 29,
   "metadata": {},
   "outputs": [],
   "source": [
    "for i in range(len(sentences)):\n",
    "    for j in range(len(sentences)):\n",
    "        if i != j:\n",
    "            sim_mat[i][j] = cosine_similarity(sentence_vectors[i].reshape(1,100), sentence_vectors[j].reshape(1,100))[0,0]\n",
    "    "
   ]
  },
  {
   "cell_type": "code",
   "execution_count": 32,
   "metadata": {},
   "outputs": [
    {
     "data": {
      "text/plain": [
       "array([[0.        , 0.64378333, 0.5915699 , ..., 0.83445835, 0.67481112,\n",
       "        0.56470358],\n",
       "       [0.64378333, 0.        , 0.83267683, ..., 0.75498432, 0.8464365 ,\n",
       "        0.72113991],\n",
       "       [0.5915699 , 0.83267683, 0.        , ..., 0.6928525 , 0.83097279,\n",
       "        0.66373777],\n",
       "       ...,\n",
       "       [0.83445835, 0.75498432, 0.6928525 , ..., 0.        , 0.78325516,\n",
       "        0.67270464],\n",
       "       [0.67481112, 0.8464365 , 0.83097279, ..., 0.78325516, 0.        ,\n",
       "        0.75144422],\n",
       "       [0.56470358, 0.72113991, 0.66373777, ..., 0.67270464, 0.75144422,\n",
       "        0.        ]])"
      ]
     },
     "execution_count": 32,
     "metadata": {},
     "output_type": "execute_result"
    }
   ],
   "source": [
    "sim_mat"
   ]
  },
  {
   "cell_type": "code",
   "execution_count": null,
   "metadata": {},
   "outputs": [],
   "source": []
  },
  {
   "cell_type": "code",
   "execution_count": 33,
   "metadata": {},
   "outputs": [],
   "source": [
    "import networkx as nx"
   ]
  },
  {
   "cell_type": "code",
   "execution_count": 34,
   "metadata": {},
   "outputs": [],
   "source": [
    "nx_graph = nx.from_numpy_array(sim_mat)"
   ]
  },
  {
   "cell_type": "code",
   "execution_count": 37,
   "metadata": {},
   "outputs": [],
   "source": [
    "scores = nx.pagerank(nx_graph)"
   ]
  },
  {
   "cell_type": "code",
   "execution_count": 38,
   "metadata": {},
   "outputs": [
    {
     "data": {
      "text/plain": [
       "{0: 0.007346221090050093,\n",
       " 1: 0.007831539913977895,\n",
       " 2: 0.007188734007130622,\n",
       " 3: 0.00820147673730496,\n",
       " 4: 0.008452754199868451,\n",
       " 5: 0.006900753545749467,\n",
       " 6: 0.007457164730002992,\n",
       " 7: 0.0077519974660682466,\n",
       " 8: 0.007573027579152764,\n",
       " 9: 0.00790787040590474,\n",
       " 10: 0.007548487198523171,\n",
       " 11: 0.00116144201139666,\n",
       " 12: 0.008092102851545645,\n",
       " 13: 0.007405939530541618,\n",
       " 14: 0.007497863333497912,\n",
       " 15: 0.00771883135135532,\n",
       " 16: 0.007830369888036122,\n",
       " 17: 0.007165460007728705,\n",
       " 18: 0.007497010554996814,\n",
       " 19: 0.007309036865282253,\n",
       " 20: 0.007624419927443686,\n",
       " 21: 0.008048153183624654,\n",
       " 22: 0.008106134367330204,\n",
       " 23: 0.006742385779599381,\n",
       " 24: 0.007457504934892267,\n",
       " 25: 0.008193202871220438,\n",
       " 26: 0.007779816052041085,\n",
       " 27: 0.006086319949642691,\n",
       " 28: 0.007512104336266764,\n",
       " 29: 0.00813956571526167,\n",
       " 30: 0.008285806531440799,\n",
       " 31: 0.008323071559607285,\n",
       " 32: 0.0084467531291671,\n",
       " 33: 0.008277174979045392,\n",
       " 34: 0.006622587283472015,\n",
       " 35: 0.008354391561425204,\n",
       " 36: 0.008332115014628775,\n",
       " 37: 0.006997659276003519,\n",
       " 38: 0.00809766351142099,\n",
       " 39: 0.008485391801162813,\n",
       " 40: 0.008306718973811368,\n",
       " 41: 0.007360940114592935,\n",
       " 42: 0.00734703187640239,\n",
       " 43: 0.00646241753876403,\n",
       " 44: 0.0083288583323367,\n",
       " 45: 0.00784114630595734,\n",
       " 46: 0.008241794885237434,\n",
       " 47: 0.006569701593009244,\n",
       " 48: 0.007182471728131693,\n",
       " 49: 0.007937084752363125,\n",
       " 50: 0.00611980501611331,\n",
       " 51: 0.008007969624407866,\n",
       " 52: 0.007955225747880011,\n",
       " 53: 0.0073712757783338115,\n",
       " 54: 0.008431508142522505,\n",
       " 55: 0.0074979222778833905,\n",
       " 56: 0.00836166199381629,\n",
       " 57: 0.007365269069502499,\n",
       " 58: 0.008357193281705935,\n",
       " 59: 0.0082076805695584,\n",
       " 60: 0.007778042525804362,\n",
       " 61: 0.008305732213900527,\n",
       " 62: 0.008008314355010763,\n",
       " 63: 0.007963643920013712,\n",
       " 64: 0.007883641005792363,\n",
       " 65: 0.006687159324832237,\n",
       " 66: 0.00842840750050877,\n",
       " 67: 0.007958860020796866,\n",
       " 68: 0.008263921436491121,\n",
       " 69: 0.008416201984795429,\n",
       " 70: 0.008071448429005873,\n",
       " 71: 0.007224796781434052,\n",
       " 72: 0.008277135649173305,\n",
       " 73: 0.007480445590036301,\n",
       " 74: 0.007256048900223065,\n",
       " 75: 0.007358455299684669,\n",
       " 76: 0.007823200747306734,\n",
       " 77: 0.008172400634476138,\n",
       " 78: 0.008104748592632363,\n",
       " 79: 0.007945943340850097,\n",
       " 80: 0.007863842188437706,\n",
       " 81: 0.008047520465583166,\n",
       " 82: 0.008128386446070916,\n",
       " 83: 0.007894611049296226,\n",
       " 84: 0.007580251556295727,\n",
       " 85: 0.00800265403973736,\n",
       " 86: 0.007954217068828495,\n",
       " 87: 0.007787226665786212,\n",
       " 88: 0.005098539485471878,\n",
       " 89: 0.008211492017646474,\n",
       " 90: 0.007882751983258525,\n",
       " 91: 0.008028159304554092,\n",
       " 92: 0.008059049594221993,\n",
       " 93: 0.0079986193763898,\n",
       " 94: 0.008167807601852525,\n",
       " 95: 0.007660171365360869,\n",
       " 96: 0.0081038378743482,\n",
       " 97: 0.0077144265460842455,\n",
       " 98: 0.007901051000631978,\n",
       " 99: 0.007541138280257883,\n",
       " 100: 0.0053195197762749705,\n",
       " 101: 0.007738587909067186,\n",
       " 102: 0.008407194894020637,\n",
       " 103: 0.007821689804043689,\n",
       " 104: 0.007492084624070308,\n",
       " 105: 0.007918422386197594,\n",
       " 106: 0.008430546277527125,\n",
       " 107: 0.008297627091759836,\n",
       " 108: 0.007525299957019082,\n",
       " 109: 0.0070909152741444595,\n",
       " 110: 0.007369032987350592,\n",
       " 111: 0.0072412893528873545,\n",
       " 112: 0.007764283108366955,\n",
       " 113: 0.006717950946997545,\n",
       " 114: 0.00831869942947813,\n",
       " 115: 0.00825169589295224,\n",
       " 116: 0.007826652603614877,\n",
       " 117: 0.008320919408111157,\n",
       " 118: 0.007822156468741957,\n",
       " 119: 0.008542794975958714,\n",
       " 120: 0.007827493366176956,\n",
       " 121: 0.008172406796448728,\n",
       " 122: 0.007970781189930772,\n",
       " 123: 0.007804900496528384,\n",
       " 124: 0.007230895677093138,\n",
       " 125: 0.007935305825826916,\n",
       " 126: 0.0074531709944828895,\n",
       " 127: 0.008223153388559319,\n",
       " 128: 0.007851235600151085,\n",
       " 129: 0.007275008698193072}"
      ]
     },
     "execution_count": 38,
     "metadata": {},
     "output_type": "execute_result"
    }
   ],
   "source": [
    "scores"
   ]
  },
  {
   "cell_type": "code",
   "execution_count": 39,
   "metadata": {},
   "outputs": [],
   "source": [
    "ranked_sentences = sorted(((scores[i],s) for i,s in enumerate(sentences)), reverse=True)"
   ]
  },
  {
   "cell_type": "code",
   "execution_count": 41,
   "metadata": {},
   "outputs": [
    {
     "name": "stdout",
     "output_type": "stream",
     "text": [
      "I was on a nice trajectorythen, Reid recalled.If I hadnt got sick, I think I could have started pushing towards the second week at the slams and then who knows. Duringa comeback attempt some five years later, Reid added Bernard Tomic and 2018 US Open Federer slayer John Millman to his list of career scalps.\n",
      "Major players feel that a big event in late November combined with one in January before the Australian Open will mean too much tennis and too little rest.\n",
      "So I'm not the one to strike up a conversation about the weather and know that in the next few minutes I have to go and try to win a tennis match.\n",
      "Speaking at the Swiss Indoors tournament where he will play in Sundays final against Romanian qualifier Marius Copil, the world number three said that given the impossibly short time frame to make a decision, he opted out of any commitment.\n",
      "Currently in ninth place, Nishikori with a win could move to within 125 points of the cut for the eight-man event in London next month.\n",
      "Exhausted after spending half his round deep in the bushes searching for my ball, as well as those of two other golfers hed never met before, our incredibly giving designated driver asked if we didnt mind going straight home after signing off so he could rest up a little before heading to work.\n",
      "I felt like the best weeks that I had to get to know players when I was playing were the Fed Cup weeks or the Olympic weeks, not necessarily during the tournaments.\n",
      "I just felt like it really kind of changed where people were a little bit, definitely in the '90s, a lot more quiet, into themselves, and then it started to become better. Meanwhile, Federer is hoping he can improve his service game as he hunts his ninth Swiss Indoors title this week.\n",
      "The former Wimbledon junior champion was full of hope, excited about getting his life back together after a troubled few years and a touch-and-go battle with pancreatitis.\n",
      "He used his first break point to close out the first set before going up 3-0 in the second and wrapping up the win on his first match point.\n"
     ]
    }
   ],
   "source": [
    "for i in range(10):\n",
    "    print(ranked_sentences[i][1])"
   ]
  },
  {
   "cell_type": "code",
   "execution_count": null,
   "metadata": {},
   "outputs": [],
   "source": []
  }
 ],
 "metadata": {
  "kernelspec": {
   "display_name": "Python 3",
   "language": "python",
   "name": "python3"
  },
  "language_info": {
   "codemirror_mode": {
    "name": "ipython",
    "version": 3
   },
   "file_extension": ".py",
   "mimetype": "text/x-python",
   "name": "python",
   "nbconvert_exporter": "python",
   "pygments_lexer": "ipython3",
   "version": "3.7.6"
  }
 },
 "nbformat": 4,
 "nbformat_minor": 4
}
