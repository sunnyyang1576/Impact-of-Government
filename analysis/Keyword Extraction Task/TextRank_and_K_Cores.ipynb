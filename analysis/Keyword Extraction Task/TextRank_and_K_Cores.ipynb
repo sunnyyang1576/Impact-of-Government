{
 "cells": [
  {
   "cell_type": "code",
   "execution_count": 1,
   "metadata": {},
   "outputs": [
    {
     "ename": "ModuleNotFoundError",
     "evalue": "No module named 'text_rank'",
     "output_type": "error",
     "traceback": [
      "\u001b[0;31m---------------------------------------------------------------------------\u001b[0m",
      "\u001b[0;31mModuleNotFoundError\u001b[0m                       Traceback (most recent call last)",
      "\u001b[0;32m<ipython-input-1-e691207d61ba>\u001b[0m in \u001b[0;36m<module>\u001b[0;34m\u001b[0m\n\u001b[1;32m     13\u001b[0m \u001b[0;34m\u001b[0m\u001b[0m\n\u001b[1;32m     14\u001b[0m \u001b[0;34m\u001b[0m\u001b[0m\n\u001b[0;32m---> 15\u001b[0;31m \u001b[0;32mfrom\u001b[0m \u001b[0mtext_rank\u001b[0m \u001b[0;32mimport\u001b[0m \u001b[0mTextRank\u001b[0m\u001b[0;34m\u001b[0m\u001b[0;34m\u001b[0m\u001b[0m\n\u001b[0m\u001b[1;32m     16\u001b[0m \u001b[0;34m\u001b[0m\u001b[0m\n\u001b[1;32m     17\u001b[0m \u001b[0;32mimport\u001b[0m \u001b[0mplotly\u001b[0m\u001b[0;34m.\u001b[0m\u001b[0moffline\u001b[0m \u001b[0;32mas\u001b[0m \u001b[0mpy\u001b[0m\u001b[0;34m\u001b[0m\u001b[0;34m\u001b[0m\u001b[0m\n",
      "\u001b[0;31mModuleNotFoundError\u001b[0m: No module named 'text_rank'"
     ]
    }
   ],
   "source": [
    "import pandas as pd\n",
    "import numpy as np\n",
    "\n",
    "import jieba\n",
    "import jieba.analyse\n",
    "\n",
    "import networkx as nx\n",
    "from collections import defaultdict\n",
    "import sys\n",
    "\n",
    "from os import listdir\n",
    "import re\n",
    "\n",
    "\n",
    "from text_rank import TextRank\n",
    "\n",
    "import plotly.offline as py\n",
    "import plotly.graph_objects as go"
   ]
  },
  {
   "cell_type": "code",
   "execution_count": null,
   "metadata": {},
   "outputs": [],
   "source": [
    "policy_dir = listdir(\"data/policy_text/\")"
   ]
  },
  {
   "cell_type": "code",
   "execution_count": null,
   "metadata": {},
   "outputs": [],
   "source": [
    "text_list = []\n",
    "\n",
    "for file in policy_dir:\n",
    "    file = \"data/policy_text/\"+file\n",
    "    \n",
    "    with open(file,\"r+\")  as f:\n",
    "        text = f.read()\n",
    "    \n",
    "    text = re.sub(\"\\n\",\"\",text)\n",
    "    text = re.sub(\"\\u3000\",\"\",text)\n",
    "    \n",
    "    text_list.append(text)"
   ]
  },
  {
   "cell_type": "code",
   "execution_count": 2,
   "metadata": {},
   "outputs": [
    {
     "ename": "SyntaxError",
     "evalue": "EOL while scanning string literal (<ipython-input-2-4d49312eb549>, line 1)",
     "output_type": "error",
     "traceback": [
      "\u001b[0;36m  File \u001b[0;32m\"<ipython-input-2-4d49312eb549>\"\u001b[0;36m, line \u001b[0;32m1\u001b[0m\n\u001b[0;31m    sample_text = \"当事人：恒泰证券股份有限公司（以下简称恒泰证券），住所：内蒙古自治区呼和浩特市新城区。\u001b[0m\n\u001b[0m                                                              ^\u001b[0m\n\u001b[0;31mSyntaxError\u001b[0m\u001b[0;31m:\u001b[0m EOL while scanning string literal\n"
     ]
    }
   ],
   "source": [
    "sample_text = "
   ]
  },
  {
   "cell_type": "code",
   "execution_count": 5,
   "metadata": {},
   "outputs": [],
   "source": [
    "allowPOS = [\"n\"]\n",
    "stopwords = [\"为了\"]\n",
    "span = 3"
   ]
  },
  {
   "cell_type": "code",
   "execution_count": 6,
   "metadata": {},
   "outputs": [],
   "source": [
    "tr_keyword = TextRank(allowPOS,stopwords,span)"
   ]
  },
  {
   "cell_type": "code",
   "execution_count": 7,
   "metadata": {},
   "outputs": [
    {
     "name": "stderr",
     "output_type": "stream",
     "text": [
      "Building prefix dict from the default dictionary ...\n",
      "Loading model from cache /var/folders/1y/w6y_szxn0m12nsrrdnzgp4540000gn/T/jieba.cache\n",
      "Loading model cost 1.438 seconds.\n",
      "Prefix dict has been built successfully.\n"
     ]
    }
   ],
   "source": [
    "word_pair = tr_keyword._cut(sample_text)"
   ]
  },
  {
   "cell_type": "code",
   "execution_count": 8,
   "metadata": {},
   "outputs": [],
   "source": [
    "co_graph = tr_keyword.co_occurance_matrix(word_pair)"
   ]
  },
  {
   "cell_type": "code",
   "execution_count": 9,
   "metadata": {},
   "outputs": [],
   "source": [
    "df = tr_keyword.co_occur_graph_to_matrix(co_graph)"
   ]
  },
  {
   "cell_type": "code",
   "execution_count": 10,
   "metadata": {},
   "outputs": [
    {
     "data": {
      "text/plain": [
       "[('政府', 1.0),\n",
       " ('投标', 0.827760277212172),\n",
       " ('规定', 0.6730274892790196),\n",
       " ('招标', 0.6434285302673138),\n",
       " ('文件', 0.563854451634106),\n",
       " ('公告', 0.4249362311884827),\n",
       " ('制度', 0.41022366383450737),\n",
       " ('资格', 0.386210565304406),\n",
       " ('评标', 0.3763437298829126),\n",
       " ('中标', 0.3484562758666317)]"
      ]
     },
     "execution_count": 10,
     "metadata": {},
     "output_type": "execute_result"
    }
   ],
   "source": [
    "tr_keyword.text_rank(sample_text,10)"
   ]
  },
  {
   "cell_type": "code",
   "execution_count": null,
   "metadata": {},
   "outputs": [],
   "source": []
  },
  {
   "cell_type": "code",
   "execution_count": 11,
   "metadata": {},
   "outputs": [],
   "source": [
    "word_list = list(df.columns)"
   ]
  },
  {
   "cell_type": "code",
   "execution_count": 12,
   "metadata": {},
   "outputs": [],
   "source": [
    "name_dict = {}\n",
    "\n",
    "for i in range(len(word_list)):\n",
    "    \n",
    "    name_dict[i] = word_list[i]\n",
    "    "
   ]
  },
  {
   "cell_type": "code",
   "execution_count": 13,
   "metadata": {},
   "outputs": [
    {
     "ename": "NameError",
     "evalue": "name 'nx_graph' is not defined",
     "output_type": "error",
     "traceback": [
      "\u001b[0;31m---------------------------------------------------------------------------\u001b[0m",
      "\u001b[0;31mNameError\u001b[0m                                 Traceback (most recent call last)",
      "\u001b[0;32m<ipython-input-13-930356159ae9>\u001b[0m in \u001b[0;36m<module>\u001b[0;34m\u001b[0m\n\u001b[0;32m----> 1\u001b[0;31m \u001b[0;32mfor\u001b[0m \u001b[0medge\u001b[0m \u001b[0;32min\u001b[0m \u001b[0mnx_graph\u001b[0m\u001b[0;34m.\u001b[0m\u001b[0medges\u001b[0m\u001b[0;34m(\u001b[0m\u001b[0;34m)\u001b[0m\u001b[0;34m:\u001b[0m\u001b[0;34m\u001b[0m\u001b[0;34m\u001b[0m\u001b[0m\n\u001b[0m\u001b[1;32m      2\u001b[0m \u001b[0;34m\u001b[0m\u001b[0m\n\u001b[1;32m      3\u001b[0m     \u001b[0;32mif\u001b[0m \u001b[0mnx_graph\u001b[0m\u001b[0;34m.\u001b[0m\u001b[0medges\u001b[0m\u001b[0;34m(\u001b[0m\u001b[0;34m)\u001b[0m\u001b[0;34m[\u001b[0m\u001b[0medge\u001b[0m\u001b[0;34m]\u001b[0m\u001b[0;34m[\u001b[0m\u001b[0;34m'weight'\u001b[0m\u001b[0;34m]\u001b[0m \u001b[0;34m<\u001b[0m \u001b[0;36m0.17\u001b[0m\u001b[0;34m:\u001b[0m\u001b[0;34m\u001b[0m\u001b[0;34m\u001b[0m\u001b[0m\n\u001b[1;32m      4\u001b[0m \u001b[0;34m\u001b[0m\u001b[0m\n\u001b[1;32m      5\u001b[0m         \u001b[0mnx_graph\u001b[0m\u001b[0;34m.\u001b[0m\u001b[0medges\u001b[0m\u001b[0;34m(\u001b[0m\u001b[0;34m)\u001b[0m\u001b[0;34m[\u001b[0m\u001b[0medge\u001b[0m\u001b[0;34m]\u001b[0m\u001b[0;34m[\u001b[0m\u001b[0;34m'weight'\u001b[0m\u001b[0;34m]\u001b[0m \u001b[0;34m=\u001b[0m \u001b[0;36m0\u001b[0m\u001b[0;34m\u001b[0m\u001b[0;34m\u001b[0m\u001b[0m\n",
      "\u001b[0;31mNameError\u001b[0m: name 'nx_graph' is not defined"
     ]
    }
   ],
   "source": [
    "for edge in nx_graph.edges():\n",
    "    \n",
    "    if nx_graph.edges()[edge]['weight'] < 0.17:\n",
    "        \n",
    "        nx_graph.edges()[edge]['weight'] = 0"
   ]
  },
  {
   "cell_type": "code",
   "execution_count": null,
   "metadata": {},
   "outputs": [],
   "source": []
  },
  {
   "cell_type": "code",
   "execution_count": null,
   "metadata": {},
   "outputs": [],
   "source": []
  },
  {
   "cell_type": "code",
   "execution_count": 89,
   "metadata": {},
   "outputs": [],
   "source": [
    "pos_ = nx.spring_layout(nx_graph)"
   ]
  },
  {
   "cell_type": "code",
   "execution_count": 90,
   "metadata": {},
   "outputs": [],
   "source": [
    "def make_edge(x, y, text, width):\n",
    "    return  go.Scatter(x         = x,\n",
    "                       y         = y,\n",
    "                       line      = dict(width = width,\n",
    "                                   color = 'cornflowerblue'),\n",
    "                       hoverinfo = 'text',\n",
    "                       text      = ([text]),\n",
    "                       mode      = 'lines')"
   ]
  },
  {
   "cell_type": "code",
   "execution_count": 91,
   "metadata": {},
   "outputs": [],
   "source": [
    "# For each edge, make an edge_trace, append to list\n",
    "edge_trace = []\n",
    "for edge in nx_graph.edges():\n",
    "    \n",
    "    if nx_graph.edges()[edge]['weight'] > 0:\n",
    "        char_1 = edge[0]\n",
    "        char_2 = edge[1]\n",
    "\n",
    "        x0, y0 = pos_[char_1]\n",
    "        x1, y1 = pos_[char_2]\n",
    "        text   = char_1 + '--' + char_2 + ': ' + str(nx_graph.edges()[edge]['weight'])\n",
    "        \n",
    "        trace  = make_edge([x0, x1, None], [y0, y1, None], text, \n",
    "                           width = 0.3*nx_graph.edges()[edge]['weight']**1.75)\n",
    "        \n",
    "        edge_trace.append(trace)"
   ]
  },
  {
   "cell_type": "code",
   "execution_count": 92,
   "metadata": {},
   "outputs": [],
   "source": [
    "node_trace = go.Scatter(x         = [],\n",
    "                        y         = [],\n",
    "                        text      = [],\n",
    "                        textposition = \"top center\",\n",
    "                        textfont_size = 10,\n",
    "                        mode      = 'markers+text',\n",
    "                        hoverinfo = 'none',\n",
    "                        marker    = dict(color = [],\n",
    "                                         size  = [],\n",
    "                                         line  = None))"
   ]
  },
  {
   "cell_type": "code",
   "execution_count": 95,
   "metadata": {},
   "outputs": [],
   "source": [
    "for node in nx_graph.nodes():\n",
    "    x, y = pos_[node]\n",
    "    node_trace['x'] += tuple([x])\n",
    "    node_trace['y'] += tuple([y])\n",
    "    node_trace['marker']['color'] += tuple(['cornflowerblue'])\n",
    "    node_trace['marker']['size'] += tuple([5*1])\n",
    "    node_trace['text'] += tuple(['<b>' + node + '</b>'])"
   ]
  },
  {
   "cell_type": "code",
   "execution_count": 96,
   "metadata": {},
   "outputs": [],
   "source": [
    "layout = go.Layout(\n",
    "    paper_bgcolor='rgba(0,0,0,0)', # transparent background\n",
    "    plot_bgcolor='rgba(0,0,0,0)', # transparent 2nd background\n",
    "    xaxis =  {'showgrid': False, 'zeroline': False}, # no gridlines\n",
    "    yaxis = {'showgrid': False, 'zeroline': False}, # no gridlines\n",
    ")"
   ]
  },
  {
   "cell_type": "code",
   "execution_count": 97,
   "metadata": {},
   "outputs": [
    {
     "data": {
      "application/vnd.plotly.v1+json": {
       "config": {
        "plotlyServerURL": "https://plot.ly"
       },
       "data": [
        {
         "hoverinfo": "text",
         "line": {
          "color": "cornflowerblue",
          "width": 0.08919053362520407
         },
         "mode": "lines",
         "text": [
          "规范--政府: 0.5"
         ],
         "type": "scatter",
         "x": [
          0.22324407118837666,
          0.2413477822778381,
          null
         ],
         "y": [
          -0.04129712591756876,
          -0.09302028710463639,
          null
         ]
        },
        {
         "hoverinfo": "text",
         "line": {
          "color": "cornflowerblue",
          "width": 0.3
         },
         "mode": "lines",
         "text": [
          "政府--货物: 1.0"
         ],
         "type": "scatter",
         "x": [
          0.2413477822778381,
          0.2747584345007895,
          null
         ],
         "y": [
          -0.09302028710463639,
          -0.07074628858229655,
          null
         ]
        },
        {
         "hoverinfo": "text",
         "line": {
          "color": "cornflowerblue",
          "width": 0.1475575892933762
         },
         "mode": "lines",
         "text": [
          "政府--制度: 0.6666666666666666"
         ],
         "type": "scatter",
         "x": [
          0.2413477822778381,
          0.21502720054732777,
          null
         ],
         "y": [
          -0.09302028710463639,
          -0.13106506508543683,
          null
         ]
        },
        {
         "hoverinfo": "text",
         "line": {
          "color": "cornflowerblue",
          "width": 0.04386913376508308
         },
         "mode": "lines",
         "text": [
          "政府--号令: 0.3333333333333333"
         ],
         "type": "scatter",
         "x": [
          0.2413477822778381,
          0.2995310324264848,
          null
         ],
         "y": [
          -0.09302028710463639,
          -0.13199285279562403,
          null
         ]
        },
        {
         "hoverinfo": "text",
         "line": {
          "color": "cornflowerblue",
          "width": 0.3
         },
         "mode": "lines",
         "text": [
          "招标--投标: 1.0"
         ],
         "type": "scatter",
         "x": [
          -0.2545914880476129,
          -0.30030128100465797,
          null
         ],
         "y": [
          -0.21833848275682305,
          -0.17271560166264244,
          null
         ]
        },
        {
         "hoverinfo": "text",
         "line": {
          "color": "cornflowerblue",
          "width": 0.04386913376508308
         },
         "mode": "lines",
         "text": [
          "招标--程序: 0.3333333333333333"
         ],
         "type": "scatter",
         "x": [
          -0.2545914880476129,
          -0.1880815352282892,
          null
         ],
         "y": [
          -0.21833848275682305,
          -0.22771551159258654,
          null
         ]
        },
        {
         "hoverinfo": "text",
         "line": {
          "color": "cornflowerblue",
          "width": 0.21804898737335532
         },
         "mode": "lines",
         "text": [
          "招标--文件: 0.8333333333333334"
         ],
         "type": "scatter",
         "x": [
          -0.2545914880476129,
          -0.2491502346947246,
          null
         ],
         "y": [
          -0.21833848275682305,
          -0.27779500352076186,
          null
         ]
        },
        {
         "hoverinfo": "text",
         "line": {
          "color": "cornflowerblue",
          "width": 0.04386913376508308
         },
         "mode": "lines",
         "text": [
          "投标--办法: 0.3333333333333333"
         ],
         "type": "scatter",
         "x": [
          -0.30030128100465797,
          -0.3589159863293346,
          null
         ],
         "y": [
          -0.17271560166264244,
          -0.21452802085633568,
          null
         ]
        },
        {
         "hoverinfo": "text",
         "line": {
          "color": "cornflowerblue",
          "width": 0.04386913376508308
         },
         "mode": "lines",
         "text": [
          "投标--供应商: 0.3333333333333333"
         ],
         "type": "scatter",
         "x": [
          -0.30030128100465797,
          -0.3756026696558197,
          null
         ],
         "y": [
          -0.17271560166264244,
          -0.15735883359333647,
          null
         ]
        },
        {
         "hoverinfo": "text",
         "line": {
          "color": "cornflowerblue",
          "width": 0.04386913376508308
         },
         "mode": "lines",
         "text": [
          "投标--投标人: 0.3333333333333333"
         ],
         "type": "scatter",
         "x": [
          -0.30030128100465797,
          -0.33780819295334863,
          null
         ],
         "y": [
          -0.17271560166264244,
          -0.10897672566095866,
          null
         ]
        },
        {
         "hoverinfo": "text",
         "line": {
          "color": "cornflowerblue",
          "width": 0.04386913376508308
         },
         "mode": "lines",
         "text": [
          "投标--保证金: 0.3333333333333333"
         ],
         "type": "scatter",
         "x": [
          -0.30030128100465797,
          -0.2741644676404495,
          null
         ],
         "y": [
          -0.17271560166264244,
          -0.1094262261665919,
          null
         ]
        },
        {
         "hoverinfo": "text",
         "line": {
          "color": "cornflowerblue",
          "width": 0.04386913376508308
         },
         "mode": "lines",
         "text": [
          "决策--部署: 0.3333333333333333"
         ],
         "type": "scatter",
         "x": [
          -0.6213432599782313,
          -0.5828445795184267,
          null
         ],
         "y": [
          -0.5460841574677907,
          -0.5130294911704619,
          null
         ]
        },
        {
         "hoverinfo": "text",
         "line": {
          "color": "cornflowerblue",
          "width": 0.04386913376508308
         },
         "mode": "lines",
         "text": [
          "导向--结果: 0.3333333333333333"
         ],
         "type": "scatter",
         "x": [
          0.107292130671185,
          0.056131965233822995,
          null
         ],
         "y": [
          0.7277056072597243,
          0.7474086467098735,
          null
         ]
        },
        {
         "hoverinfo": "text",
         "line": {
          "color": "cornflowerblue",
          "width": 0.04386913376508308
         },
         "mode": "lines",
         "text": [
          "结果--中标: 0.3333333333333333"
         ],
         "type": "scatter",
         "x": [
          0.056131965233822995,
          0.017128163303499477,
          null
         ],
         "y": [
          0.7474086467098735,
          0.7834303682035472,
          null
         ]
        },
        {
         "hoverinfo": "text",
         "line": {
          "color": "cornflowerblue",
          "width": 0.04386913376508308
         },
         "mode": "lines",
         "text": [
          "结果--公告: 0.3333333333333333"
         ],
         "type": "scatter",
         "x": [
          0.056131965233822995,
          0.04609615933506878,
          null
         ],
         "y": [
          0.7474086467098735,
          0.8092832974553059,
          null
         ]
        },
        {
         "hoverinfo": "text",
         "line": {
          "color": "cornflowerblue",
          "width": 0.04386913376508308
         },
         "mode": "lines",
         "text": [
          "规定--评标: 0.3333333333333333"
         ],
         "type": "scatter",
         "x": [
          0.9280807045674304,
          0.8663639905385303,
          null
         ],
         "y": [
          -0.3496619809219439,
          -0.3102952734745747,
          null
         ]
        },
        {
         "hoverinfo": "text",
         "line": {
          "color": "cornflowerblue",
          "width": 0.1475575892933762
         },
         "mode": "lines",
         "text": [
          "评标--委员会: 0.6666666666666666"
         ],
         "type": "scatter",
         "x": [
          0.8663639905385303,
          0.8368839240266752,
          null
         ],
         "y": [
          -0.3102952734745747,
          -0.2714685964989451,
          null
         ]
        },
        {
         "hoverinfo": "text",
         "line": {
          "color": "cornflowerblue",
          "width": 0.04386913376508308
         },
         "mode": "lines",
         "text": [
          "方面--法律责任: 0.3333333333333333"
         ],
         "type": "scatter",
         "x": [
          0.6174434690523031,
          0.6666779922776841,
          null
         ],
         "y": [
          -0.608338527659137,
          -0.6631385751269689,
          null
         ]
        },
        {
         "hoverinfo": "text",
         "line": {
          "color": "cornflowerblue",
          "width": 0.08919053362520407
         },
         "mode": "lines",
         "text": [
          "中标--公告: 0.5"
         ],
         "type": "scatter",
         "x": [
          0.017128163303499477,
          0.04609615933506878,
          null
         ],
         "y": [
          0.7834303682035472,
          0.8092832974553059,
          null
         ]
        },
        {
         "hoverinfo": "text",
         "line": {
          "color": "cornflowerblue",
          "width": 0.04386913376508308
         },
         "mode": "lines",
         "text": [
          "主体--责任: 0.3333333333333333"
         ],
         "type": "scatter",
         "x": [
          0.033956863819551014,
          0.029716873579226293,
          null
         ],
         "y": [
          -0.9497203552796974,
          -0.8765697274141817,
          null
         ]
        },
        {
         "hoverinfo": "text",
         "line": {
          "color": "cornflowerblue",
          "width": 0.08919053362520407
         },
         "mode": "lines",
         "text": [
          "制度性--交易成本: 0.5"
         ],
         "type": "scatter",
         "x": [
          0.9490391652459417,
          0.9239479677083006,
          null
         ],
         "y": [
          -0.16994361192253304,
          -0.2196910468084001,
          null
         ]
        },
        {
         "hoverinfo": "text",
         "line": {
          "color": "cornflowerblue",
          "width": 0.1475575892933762
         },
         "mode": "lines",
         "text": [
          "代理--机构: 0.6666666666666666"
         ],
         "type": "scatter",
         "x": [
          0.4077790754424156,
          0.386415876262776,
          null
         ],
         "y": [
          0.8073635411117016,
          0.7638590066950529,
          null
         ]
        },
        {
         "hoverinfo": "text",
         "line": {
          "color": "cornflowerblue",
          "width": 0.08919053362520407
         },
         "mode": "lines",
         "text": [
          "资格--文件: 0.5"
         ],
         "type": "scatter",
         "x": [
          -0.24838987518282166,
          -0.2491502346947246,
          null
         ],
         "y": [
          -0.3384643393615117,
          -0.27779500352076186,
          null
         ]
        },
        {
         "hoverinfo": "text",
         "line": {
          "color": "cornflowerblue",
          "width": 0.04386913376508308
         },
         "mode": "lines",
         "text": [
          "委员会--成员: 0.3333333333333333"
         ],
         "type": "scatter",
         "x": [
          0.8368839240266752,
          0.7968660060488078,
          null
         ],
         "y": [
          -0.2714685964989451,
          -0.21919344374841931,
          null
         ]
        },
        {
         "hoverinfo": "none",
         "marker": {
          "color": [
           "cornflowerblue",
           "cornflowerblue",
           "cornflowerblue",
           "cornflowerblue",
           "cornflowerblue",
           "cornflowerblue",
           "cornflowerblue",
           "cornflowerblue",
           "cornflowerblue",
           "cornflowerblue",
           "cornflowerblue",
           "cornflowerblue",
           "cornflowerblue",
           "cornflowerblue",
           "cornflowerblue",
           "cornflowerblue",
           "cornflowerblue",
           "cornflowerblue",
           "cornflowerblue",
           "cornflowerblue",
           "cornflowerblue",
           "cornflowerblue",
           "cornflowerblue",
           "cornflowerblue",
           "cornflowerblue",
           "cornflowerblue",
           "cornflowerblue",
           "cornflowerblue",
           "cornflowerblue",
           "cornflowerblue",
           "cornflowerblue",
           "cornflowerblue",
           "cornflowerblue",
           "cornflowerblue",
           "cornflowerblue",
           "cornflowerblue",
           "cornflowerblue",
           "cornflowerblue",
           "cornflowerblue",
           "cornflowerblue",
           "cornflowerblue",
           "cornflowerblue",
           "cornflowerblue",
           "cornflowerblue",
           "cornflowerblue",
           "cornflowerblue",
           "cornflowerblue",
           "cornflowerblue",
           "cornflowerblue",
           "cornflowerblue",
           "cornflowerblue",
           "cornflowerblue",
           "cornflowerblue",
           "cornflowerblue",
           "cornflowerblue",
           "cornflowerblue",
           "cornflowerblue",
           "cornflowerblue",
           "cornflowerblue",
           "cornflowerblue",
           "cornflowerblue",
           "cornflowerblue",
           "cornflowerblue",
           "cornflowerblue",
           "cornflowerblue",
           "cornflowerblue",
           "cornflowerblue",
           "cornflowerblue",
           "cornflowerblue",
           "cornflowerblue",
           "cornflowerblue",
           "cornflowerblue",
           "cornflowerblue",
           "cornflowerblue",
           "cornflowerblue",
           "cornflowerblue",
           "cornflowerblue",
           "cornflowerblue",
           "cornflowerblue",
           "cornflowerblue",
           "cornflowerblue",
           "cornflowerblue",
           "cornflowerblue",
           "cornflowerblue",
           "cornflowerblue",
           "cornflowerblue",
           "cornflowerblue",
           "cornflowerblue",
           "cornflowerblue",
           "cornflowerblue",
           "cornflowerblue",
           "cornflowerblue",
           "cornflowerblue",
           "cornflowerblue",
           "cornflowerblue",
           "cornflowerblue",
           "cornflowerblue",
           "cornflowerblue",
           "cornflowerblue",
           "cornflowerblue",
           "cornflowerblue",
           "cornflowerblue",
           "cornflowerblue",
           "cornflowerblue",
           "cornflowerblue",
           "cornflowerblue",
           "cornflowerblue",
           "cornflowerblue"
          ],
          "size": [
           5,
           5,
           5,
           5,
           5,
           5,
           5,
           5,
           5,
           5,
           5,
           5,
           5,
           5,
           5,
           5,
           5,
           5,
           5,
           5,
           5,
           5,
           5,
           5,
           5,
           5,
           5,
           5,
           5,
           5,
           5,
           5,
           5,
           5,
           5,
           5,
           5,
           5,
           5,
           5,
           5,
           5,
           5,
           5,
           5,
           5,
           5,
           5,
           5,
           5,
           5,
           5,
           5,
           5,
           5,
           5,
           5,
           5,
           5,
           5,
           5,
           5,
           5,
           5,
           5,
           5,
           5,
           5,
           5,
           5,
           5,
           5,
           5,
           5,
           5,
           5,
           5,
           5,
           5,
           5,
           5,
           5,
           5,
           5,
           5,
           5,
           5,
           5,
           5,
           5,
           5,
           5,
           5,
           5,
           5,
           5,
           5,
           5,
           5,
           5,
           5,
           5,
           5,
           5,
           5,
           5,
           5,
           5
          ]
         },
         "mode": "markers+text",
         "text": [
          "<b>条例</b>",
          "<b>规范</b>",
          "<b>政府</b>",
          "<b>货物</b>",
          "<b>招标</b>",
          "<b>投标</b>",
          "<b>办法</b>",
          "<b>决策</b>",
          "<b>部署</b>",
          "<b>市场</b>",
          "<b>关系</b>",
          "<b>交易规则</b>",
          "<b>权力</b>",
          "<b>制约</b>",
          "<b>政策</b>",
          "<b>功能</b>",
          "<b>基础性</b>",
          "<b>部门规章</b>",
          "<b>制度</b>",
          "<b>程序</b>",
          "<b>导向</b>",
          "<b>结果</b>",
          "<b>体系</b>",
          "<b>规定</b>",
          "<b>号令</b>",
          "<b>评标</b>",
          "<b>方法</b>",
          "<b>信息</b>",
          "<b>方面</b>",
          "<b>细化</b>",
          "<b>总则</b>",
          "<b>附则</b>",
          "<b>中标</b>",
          "<b>法律责任</b>",
          "<b>分章</b>",
          "<b>内容</b>",
          "<b>主体</b>",
          "<b>责任</b>",
          "<b>重点</b>",
          "<b>环节</b>",
          "<b>职责</b>",
          "<b>问题</b>",
          "<b>透明度</b>",
          "<b>当事人</b>",
          "<b>针对性</b>",
          "<b>措施</b>",
          "<b>制度性</b>",
          "<b>交易成本</b>",
          "<b>实体</b>",
          "<b>经济</b>",
          "<b>供应商</b>",
          "<b>合法权益</b>",
          "<b>成本</b>",
          "<b>时间</b>",
          "<b>社会</b>",
          "<b>诟病</b>",
          "<b>机制</b>",
          "<b>情况</b>",
          "<b>科学合理</b>",
          "<b>公平交易</b>",
          "<b>规则</b>",
          "<b>代理</b>",
          "<b>机构</b>",
          "<b>投标人</b>",
          "<b>资格</b>",
          "<b>品牌</b>",
          "<b>产品</b>",
          "<b>证明</b>",
          "<b>报价</b>",
          "<b>合理性</b>",
          "<b>委员会</b>",
          "<b>情形</b>",
          "<b>成员</b>",
          "<b>公告</b>",
          "<b>期限</b>",
          "<b>单位</b>",
          "<b>着力</b>",
          "<b>公开招标</b>",
          "<b>文件</b>",
          "<b>有效期</b>",
          "<b>因素</b>",
          "<b>分值</b>",
          "<b>汇总</b>",
          "<b>计算错误</b>",
          "<b>操作性</b>",
          "<b>环境</b>",
          "<b>信用</b>",
          "<b>参与权</b>",
          "<b>邀请书</b>",
          "<b>知情权</b>",
          "<b>样品</b>",
          "<b>售价</b>",
          "<b>原则</b>",
          "<b>营利</b>",
          "<b>目的</b>",
          "<b>保证金</b>",
          "<b>费用</b>",
          "<b>监管部门</b>",
          "<b>工作人员</b>",
          "<b>中标人</b>",
          "<b>不合理</b>",
          "<b>签订合同</b>",
          "<b>条件</b>",
          "<b>中央</b>",
          "<b>地方</b>",
          "<b>财政部门</b>",
          "<b>专项</b>",
          "<b>规程</b>"
         ],
         "textfont": {
          "size": 10
         },
         "textposition": "top center",
         "type": "scatter",
         "x": [
          0.07447342401974254,
          0.22324407118837666,
          0.2413477822778381,
          0.2747584345007895,
          -0.2545914880476129,
          -0.30030128100465797,
          -0.3589159863293346,
          -0.6213432599782313,
          -0.5828445795184267,
          -0.8073428792771343,
          0.8915512250011052,
          -0.2982982542803168,
          0.8451048340564327,
          0.4831245020563185,
          0.239041230064154,
          -0.595168358055478,
          -0.21533292226804848,
          -0.9513389395895233,
          0.21502720054732777,
          -0.1880815352282892,
          0.107292130671185,
          0.056131965233822995,
          0.6393971872051075,
          0.9280807045674304,
          0.2995310324264848,
          0.8663639905385303,
          0.9267752779267945,
          0.9356049882700624,
          0.6174434690523031,
          0.36679003137235505,
          0.8091922874661525,
          -0.9692148473510918,
          0.017128163303499477,
          0.6666779922776841,
          -0.5768811124712104,
          0.2446250899791481,
          0.033956863819551014,
          0.029716873579226293,
          0.47888728567205546,
          -0.8642614695155251,
          -0.684463013427018,
          -0.13182233132838325,
          -0.9412718810952088,
          -0.6550642544808443,
          0.9240752139028908,
          -0.2850109147311993,
          0.9490391652459417,
          0.9239479677083006,
          0.9979577741953455,
          0.5305472575441931,
          -0.3756026696558197,
          -0.6873693328155178,
          -0.9450515362456343,
          -0.7972627517866303,
          -0.9478578665650702,
          0.16973712173204494,
          -0.20207978414111177,
          -0.7661609891049376,
          -0.8466055422535601,
          -0.8850104032127482,
          -0.47990535807574164,
          0.4077790754424156,
          0.386415876262776,
          -0.33780819295334863,
          -0.24838987518282166,
          0.830543224977665,
          -0.03789096709867683,
          0.5904466244158193,
          -0.7555477725617189,
          -0.501482664600697,
          0.8368839240266752,
          -0.895636993921609,
          0.7968660060488078,
          0.04609615933506878,
          0.8148204368424614,
          0.6102234157204117,
          -0.9409522240280547,
          -0.8629426763770743,
          -0.2491502346947246,
          0.35522714711969966,
          0.5631682627110964,
          0.4532734357412838,
          -0.8781164035894001,
          0.13838885040716728,
          0.8042426476092273,
          -0.30907634513419463,
          0.8036767146137609,
          -0.03587612333336296,
          0.7430920983657192,
          -0.12305670207130724,
          -0.3163548362675646,
          -0.9338335723319245,
          -0.8607511717163648,
          0.7070530124039784,
          0.9232858330764006,
          -0.2741644676404495,
          0.9643751466676912,
          0.24192685900534341,
          0.7041077165466346,
          -0.3900756385018652,
          -0.9289483243150599,
          0.7546715596358791,
          -0.7380457141922161,
          -0.5030515381553761,
          -0.5755687153057901,
          0.3278795980662428,
          -0.41476287854029104,
          -0.4850765880962229
         ],
         "y": [
          0.991538918566581,
          -0.04129712591756876,
          -0.09302028710463639,
          -0.07074628858229655,
          -0.21833848275682305,
          -0.17271560166264244,
          -0.21452802085633568,
          -0.5460841574677907,
          -0.5130294911704619,
          0.6255750566048801,
          0.1412160630117646,
          -0.9553798397208387,
          0.2610304391289992,
          -0.7080852376368574,
          -0.9667911354559239,
          0.8107366960736917,
          0.9372969614255766,
          -0.023001163016132028,
          -0.13106506508543683,
          -0.22771551159258654,
          0.7277056072597243,
          0.7474086467098735,
          0.7903017385774356,
          -0.3496619809219439,
          -0.13199285279562403,
          -0.3102952734745747,
          -0.004666354861053818,
          -0.19345648528890663,
          -0.608338527659137,
          -0.9347623612789863,
          -0.514800448377163,
          -0.21761904489570835,
          0.7834303682035472,
          -0.6631385751269689,
          -0.8170001197375564,
          -0.8824723444029177,
          -0.9497203552796974,
          -0.8765697274141817,
          0.8836768606341009,
          0.43710572823844895,
          0.610740952949871,
          0.9747074080234055,
          0.16613463413407428,
          0.7431002453582926,
          0.4777927598611344,
          0.8520101264077197,
          -0.16994361192253304,
          -0.2196910468084001,
          0.23404572203146196,
          0.754465468237246,
          -0.15735883359333647,
          -0.7176467115879788,
          0.2405367649383877,
          -0.6469129282728849,
          -0.11286670807938957,
          0.9509860979490182,
          -0.9763361455580807,
          0.46165009305953103,
          -0.3991274400130687,
          0.029611637084533873,
          -0.8417304754920315,
          0.8073635411117016,
          0.7638590066950529,
          -0.10897672566095866,
          -0.3384643393615117,
          0.5262824988961298,
          -1,
          -0.7707999760362122,
          -0.5626192837649561,
          0.8190554717348498,
          -0.2714685964989451,
          -0.31528166291358206,
          -0.21919344374841931,
          0.8092832974553059,
          0.3996376386105194,
          0.6681493472007061,
          0.31823050643563733,
          0.5421806557366461,
          -0.27779500352076186,
          -0.8110361587776146,
          -0.8786043944419503,
          -0.8562197886705198,
          -0.20496885198100587,
          -0.9484427875791652,
          0.6771405878205934,
          0.9650987506674787,
          -0.4355792431190676,
          0.9606154676091542,
          -0.5719268179963384,
          -0.9561396497501625,
          -0.8790879190567,
          0.4087973798733284,
          -0.4968931263508527,
          0.5009906741648911,
          0.32337476961172645,
          -0.1094262261665919,
          0.08998130404201052,
          0.8776240447903066,
          0.6214410276784149,
          0.9003899824790631,
          0.09202211314849554,
          -0.7024718617110881,
          0.7036235231873802,
          0.6770073825463765,
          -0.7318269862048589,
          0.948677060667963,
          -0.9046993335741532,
          0.8961969111208402
         ]
        }
       ],
       "layout": {
        "paper_bgcolor": "rgba(0,0,0,0)",
        "plot_bgcolor": "rgba(0,0,0,0)",
        "showlegend": false,
        "template": {
         "data": {
          "bar": [
           {
            "error_x": {
             "color": "#2a3f5f"
            },
            "error_y": {
             "color": "#2a3f5f"
            },
            "marker": {
             "line": {
              "color": "#E5ECF6",
              "width": 0.5
             }
            },
            "type": "bar"
           }
          ],
          "barpolar": [
           {
            "marker": {
             "line": {
              "color": "#E5ECF6",
              "width": 0.5
             }
            },
            "type": "barpolar"
           }
          ],
          "carpet": [
           {
            "aaxis": {
             "endlinecolor": "#2a3f5f",
             "gridcolor": "white",
             "linecolor": "white",
             "minorgridcolor": "white",
             "startlinecolor": "#2a3f5f"
            },
            "baxis": {
             "endlinecolor": "#2a3f5f",
             "gridcolor": "white",
             "linecolor": "white",
             "minorgridcolor": "white",
             "startlinecolor": "#2a3f5f"
            },
            "type": "carpet"
           }
          ],
          "choropleth": [
           {
            "colorbar": {
             "outlinewidth": 0,
             "ticks": ""
            },
            "type": "choropleth"
           }
          ],
          "contour": [
           {
            "colorbar": {
             "outlinewidth": 0,
             "ticks": ""
            },
            "colorscale": [
             [
              0,
              "#0d0887"
             ],
             [
              0.1111111111111111,
              "#46039f"
             ],
             [
              0.2222222222222222,
              "#7201a8"
             ],
             [
              0.3333333333333333,
              "#9c179e"
             ],
             [
              0.4444444444444444,
              "#bd3786"
             ],
             [
              0.5555555555555556,
              "#d8576b"
             ],
             [
              0.6666666666666666,
              "#ed7953"
             ],
             [
              0.7777777777777778,
              "#fb9f3a"
             ],
             [
              0.8888888888888888,
              "#fdca26"
             ],
             [
              1,
              "#f0f921"
             ]
            ],
            "type": "contour"
           }
          ],
          "contourcarpet": [
           {
            "colorbar": {
             "outlinewidth": 0,
             "ticks": ""
            },
            "type": "contourcarpet"
           }
          ],
          "heatmap": [
           {
            "colorbar": {
             "outlinewidth": 0,
             "ticks": ""
            },
            "colorscale": [
             [
              0,
              "#0d0887"
             ],
             [
              0.1111111111111111,
              "#46039f"
             ],
             [
              0.2222222222222222,
              "#7201a8"
             ],
             [
              0.3333333333333333,
              "#9c179e"
             ],
             [
              0.4444444444444444,
              "#bd3786"
             ],
             [
              0.5555555555555556,
              "#d8576b"
             ],
             [
              0.6666666666666666,
              "#ed7953"
             ],
             [
              0.7777777777777778,
              "#fb9f3a"
             ],
             [
              0.8888888888888888,
              "#fdca26"
             ],
             [
              1,
              "#f0f921"
             ]
            ],
            "type": "heatmap"
           }
          ],
          "heatmapgl": [
           {
            "colorbar": {
             "outlinewidth": 0,
             "ticks": ""
            },
            "colorscale": [
             [
              0,
              "#0d0887"
             ],
             [
              0.1111111111111111,
              "#46039f"
             ],
             [
              0.2222222222222222,
              "#7201a8"
             ],
             [
              0.3333333333333333,
              "#9c179e"
             ],
             [
              0.4444444444444444,
              "#bd3786"
             ],
             [
              0.5555555555555556,
              "#d8576b"
             ],
             [
              0.6666666666666666,
              "#ed7953"
             ],
             [
              0.7777777777777778,
              "#fb9f3a"
             ],
             [
              0.8888888888888888,
              "#fdca26"
             ],
             [
              1,
              "#f0f921"
             ]
            ],
            "type": "heatmapgl"
           }
          ],
          "histogram": [
           {
            "marker": {
             "colorbar": {
              "outlinewidth": 0,
              "ticks": ""
             }
            },
            "type": "histogram"
           }
          ],
          "histogram2d": [
           {
            "colorbar": {
             "outlinewidth": 0,
             "ticks": ""
            },
            "colorscale": [
             [
              0,
              "#0d0887"
             ],
             [
              0.1111111111111111,
              "#46039f"
             ],
             [
              0.2222222222222222,
              "#7201a8"
             ],
             [
              0.3333333333333333,
              "#9c179e"
             ],
             [
              0.4444444444444444,
              "#bd3786"
             ],
             [
              0.5555555555555556,
              "#d8576b"
             ],
             [
              0.6666666666666666,
              "#ed7953"
             ],
             [
              0.7777777777777778,
              "#fb9f3a"
             ],
             [
              0.8888888888888888,
              "#fdca26"
             ],
             [
              1,
              "#f0f921"
             ]
            ],
            "type": "histogram2d"
           }
          ],
          "histogram2dcontour": [
           {
            "colorbar": {
             "outlinewidth": 0,
             "ticks": ""
            },
            "colorscale": [
             [
              0,
              "#0d0887"
             ],
             [
              0.1111111111111111,
              "#46039f"
             ],
             [
              0.2222222222222222,
              "#7201a8"
             ],
             [
              0.3333333333333333,
              "#9c179e"
             ],
             [
              0.4444444444444444,
              "#bd3786"
             ],
             [
              0.5555555555555556,
              "#d8576b"
             ],
             [
              0.6666666666666666,
              "#ed7953"
             ],
             [
              0.7777777777777778,
              "#fb9f3a"
             ],
             [
              0.8888888888888888,
              "#fdca26"
             ],
             [
              1,
              "#f0f921"
             ]
            ],
            "type": "histogram2dcontour"
           }
          ],
          "mesh3d": [
           {
            "colorbar": {
             "outlinewidth": 0,
             "ticks": ""
            },
            "type": "mesh3d"
           }
          ],
          "parcoords": [
           {
            "line": {
             "colorbar": {
              "outlinewidth": 0,
              "ticks": ""
             }
            },
            "type": "parcoords"
           }
          ],
          "pie": [
           {
            "automargin": true,
            "type": "pie"
           }
          ],
          "scatter": [
           {
            "marker": {
             "colorbar": {
              "outlinewidth": 0,
              "ticks": ""
             }
            },
            "type": "scatter"
           }
          ],
          "scatter3d": [
           {
            "line": {
             "colorbar": {
              "outlinewidth": 0,
              "ticks": ""
             }
            },
            "marker": {
             "colorbar": {
              "outlinewidth": 0,
              "ticks": ""
             }
            },
            "type": "scatter3d"
           }
          ],
          "scattercarpet": [
           {
            "marker": {
             "colorbar": {
              "outlinewidth": 0,
              "ticks": ""
             }
            },
            "type": "scattercarpet"
           }
          ],
          "scattergeo": [
           {
            "marker": {
             "colorbar": {
              "outlinewidth": 0,
              "ticks": ""
             }
            },
            "type": "scattergeo"
           }
          ],
          "scattergl": [
           {
            "marker": {
             "colorbar": {
              "outlinewidth": 0,
              "ticks": ""
             }
            },
            "type": "scattergl"
           }
          ],
          "scattermapbox": [
           {
            "marker": {
             "colorbar": {
              "outlinewidth": 0,
              "ticks": ""
             }
            },
            "type": "scattermapbox"
           }
          ],
          "scatterpolar": [
           {
            "marker": {
             "colorbar": {
              "outlinewidth": 0,
              "ticks": ""
             }
            },
            "type": "scatterpolar"
           }
          ],
          "scatterpolargl": [
           {
            "marker": {
             "colorbar": {
              "outlinewidth": 0,
              "ticks": ""
             }
            },
            "type": "scatterpolargl"
           }
          ],
          "scatterternary": [
           {
            "marker": {
             "colorbar": {
              "outlinewidth": 0,
              "ticks": ""
             }
            },
            "type": "scatterternary"
           }
          ],
          "surface": [
           {
            "colorbar": {
             "outlinewidth": 0,
             "ticks": ""
            },
            "colorscale": [
             [
              0,
              "#0d0887"
             ],
             [
              0.1111111111111111,
              "#46039f"
             ],
             [
              0.2222222222222222,
              "#7201a8"
             ],
             [
              0.3333333333333333,
              "#9c179e"
             ],
             [
              0.4444444444444444,
              "#bd3786"
             ],
             [
              0.5555555555555556,
              "#d8576b"
             ],
             [
              0.6666666666666666,
              "#ed7953"
             ],
             [
              0.7777777777777778,
              "#fb9f3a"
             ],
             [
              0.8888888888888888,
              "#fdca26"
             ],
             [
              1,
              "#f0f921"
             ]
            ],
            "type": "surface"
           }
          ],
          "table": [
           {
            "cells": {
             "fill": {
              "color": "#EBF0F8"
             },
             "line": {
              "color": "white"
             }
            },
            "header": {
             "fill": {
              "color": "#C8D4E3"
             },
             "line": {
              "color": "white"
             }
            },
            "type": "table"
           }
          ]
         },
         "layout": {
          "annotationdefaults": {
           "arrowcolor": "#2a3f5f",
           "arrowhead": 0,
           "arrowwidth": 1
          },
          "coloraxis": {
           "colorbar": {
            "outlinewidth": 0,
            "ticks": ""
           }
          },
          "colorscale": {
           "diverging": [
            [
             0,
             "#8e0152"
            ],
            [
             0.1,
             "#c51b7d"
            ],
            [
             0.2,
             "#de77ae"
            ],
            [
             0.3,
             "#f1b6da"
            ],
            [
             0.4,
             "#fde0ef"
            ],
            [
             0.5,
             "#f7f7f7"
            ],
            [
             0.6,
             "#e6f5d0"
            ],
            [
             0.7,
             "#b8e186"
            ],
            [
             0.8,
             "#7fbc41"
            ],
            [
             0.9,
             "#4d9221"
            ],
            [
             1,
             "#276419"
            ]
           ],
           "sequential": [
            [
             0,
             "#0d0887"
            ],
            [
             0.1111111111111111,
             "#46039f"
            ],
            [
             0.2222222222222222,
             "#7201a8"
            ],
            [
             0.3333333333333333,
             "#9c179e"
            ],
            [
             0.4444444444444444,
             "#bd3786"
            ],
            [
             0.5555555555555556,
             "#d8576b"
            ],
            [
             0.6666666666666666,
             "#ed7953"
            ],
            [
             0.7777777777777778,
             "#fb9f3a"
            ],
            [
             0.8888888888888888,
             "#fdca26"
            ],
            [
             1,
             "#f0f921"
            ]
           ],
           "sequentialminus": [
            [
             0,
             "#0d0887"
            ],
            [
             0.1111111111111111,
             "#46039f"
            ],
            [
             0.2222222222222222,
             "#7201a8"
            ],
            [
             0.3333333333333333,
             "#9c179e"
            ],
            [
             0.4444444444444444,
             "#bd3786"
            ],
            [
             0.5555555555555556,
             "#d8576b"
            ],
            [
             0.6666666666666666,
             "#ed7953"
            ],
            [
             0.7777777777777778,
             "#fb9f3a"
            ],
            [
             0.8888888888888888,
             "#fdca26"
            ],
            [
             1,
             "#f0f921"
            ]
           ]
          },
          "colorway": [
           "#636efa",
           "#EF553B",
           "#00cc96",
           "#ab63fa",
           "#FFA15A",
           "#19d3f3",
           "#FF6692",
           "#B6E880",
           "#FF97FF",
           "#FECB52"
          ],
          "font": {
           "color": "#2a3f5f"
          },
          "geo": {
           "bgcolor": "white",
           "lakecolor": "white",
           "landcolor": "#E5ECF6",
           "showlakes": true,
           "showland": true,
           "subunitcolor": "white"
          },
          "hoverlabel": {
           "align": "left"
          },
          "hovermode": "closest",
          "mapbox": {
           "style": "light"
          },
          "paper_bgcolor": "white",
          "plot_bgcolor": "#E5ECF6",
          "polar": {
           "angularaxis": {
            "gridcolor": "white",
            "linecolor": "white",
            "ticks": ""
           },
           "bgcolor": "#E5ECF6",
           "radialaxis": {
            "gridcolor": "white",
            "linecolor": "white",
            "ticks": ""
           }
          },
          "scene": {
           "xaxis": {
            "backgroundcolor": "#E5ECF6",
            "gridcolor": "white",
            "gridwidth": 2,
            "linecolor": "white",
            "showbackground": true,
            "ticks": "",
            "zerolinecolor": "white"
           },
           "yaxis": {
            "backgroundcolor": "#E5ECF6",
            "gridcolor": "white",
            "gridwidth": 2,
            "linecolor": "white",
            "showbackground": true,
            "ticks": "",
            "zerolinecolor": "white"
           },
           "zaxis": {
            "backgroundcolor": "#E5ECF6",
            "gridcolor": "white",
            "gridwidth": 2,
            "linecolor": "white",
            "showbackground": true,
            "ticks": "",
            "zerolinecolor": "white"
           }
          },
          "shapedefaults": {
           "line": {
            "color": "#2a3f5f"
           }
          },
          "ternary": {
           "aaxis": {
            "gridcolor": "white",
            "linecolor": "white",
            "ticks": ""
           },
           "baxis": {
            "gridcolor": "white",
            "linecolor": "white",
            "ticks": ""
           },
           "bgcolor": "#E5ECF6",
           "caxis": {
            "gridcolor": "white",
            "linecolor": "white",
            "ticks": ""
           }
          },
          "title": {
           "x": 0.05
          },
          "xaxis": {
           "automargin": true,
           "gridcolor": "white",
           "linecolor": "white",
           "ticks": "",
           "title": {
            "standoff": 15
           },
           "zerolinecolor": "white",
           "zerolinewidth": 2
          },
          "yaxis": {
           "automargin": true,
           "gridcolor": "white",
           "linecolor": "white",
           "ticks": "",
           "title": {
            "standoff": 15
           },
           "zerolinecolor": "white",
           "zerolinewidth": 2
          }
         }
        },
        "xaxis": {
         "showgrid": false,
         "showticklabels": false,
         "zeroline": false
        },
        "yaxis": {
         "showgrid": false,
         "showticklabels": false,
         "zeroline": false
        }
       }
      },
      "text/html": [
       "<div>\n",
       "        \n",
       "        \n",
       "            <div id=\"0e51f9d2-b68b-405f-888b-c033ce5b50ce\" class=\"plotly-graph-div\" style=\"height:525px; width:100%;\"></div>\n",
       "            <script type=\"text/javascript\">\n",
       "                require([\"plotly\"], function(Plotly) {\n",
       "                    window.PLOTLYENV=window.PLOTLYENV || {};\n",
       "                    \n",
       "                if (document.getElementById(\"0e51f9d2-b68b-405f-888b-c033ce5b50ce\")) {\n",
       "                    Plotly.newPlot(\n",
       "                        '0e51f9d2-b68b-405f-888b-c033ce5b50ce',\n",
       "                        [{\"hoverinfo\": \"text\", \"line\": {\"color\": \"cornflowerblue\", \"width\": 0.08919053362520407}, \"mode\": \"lines\", \"text\": [\"\\u89c4\\u8303--\\u653f\\u5e9c: 0.5\"], \"type\": \"scatter\", \"x\": [0.22324407118837666, 0.2413477822778381, null], \"y\": [-0.04129712591756876, -0.09302028710463639, null]}, {\"hoverinfo\": \"text\", \"line\": {\"color\": \"cornflowerblue\", \"width\": 0.3}, \"mode\": \"lines\", \"text\": [\"\\u653f\\u5e9c--\\u8d27\\u7269: 1.0\"], \"type\": \"scatter\", \"x\": [0.2413477822778381, 0.2747584345007895, null], \"y\": [-0.09302028710463639, -0.07074628858229655, null]}, {\"hoverinfo\": \"text\", \"line\": {\"color\": \"cornflowerblue\", \"width\": 0.1475575892933762}, \"mode\": \"lines\", \"text\": [\"\\u653f\\u5e9c--\\u5236\\u5ea6: 0.6666666666666666\"], \"type\": \"scatter\", \"x\": [0.2413477822778381, 0.21502720054732777, null], \"y\": [-0.09302028710463639, -0.13106506508543683, null]}, {\"hoverinfo\": \"text\", \"line\": {\"color\": \"cornflowerblue\", \"width\": 0.04386913376508308}, \"mode\": \"lines\", \"text\": [\"\\u653f\\u5e9c--\\u53f7\\u4ee4: 0.3333333333333333\"], \"type\": \"scatter\", \"x\": [0.2413477822778381, 0.2995310324264848, null], \"y\": [-0.09302028710463639, -0.13199285279562403, null]}, {\"hoverinfo\": \"text\", \"line\": {\"color\": \"cornflowerblue\", \"width\": 0.3}, \"mode\": \"lines\", \"text\": [\"\\u62db\\u6807--\\u6295\\u6807: 1.0\"], \"type\": \"scatter\", \"x\": [-0.2545914880476129, -0.30030128100465797, null], \"y\": [-0.21833848275682305, -0.17271560166264244, null]}, {\"hoverinfo\": \"text\", \"line\": {\"color\": \"cornflowerblue\", \"width\": 0.04386913376508308}, \"mode\": \"lines\", \"text\": [\"\\u62db\\u6807--\\u7a0b\\u5e8f: 0.3333333333333333\"], \"type\": \"scatter\", \"x\": [-0.2545914880476129, -0.1880815352282892, null], \"y\": [-0.21833848275682305, -0.22771551159258654, null]}, {\"hoverinfo\": \"text\", \"line\": {\"color\": \"cornflowerblue\", \"width\": 0.21804898737335532}, \"mode\": \"lines\", \"text\": [\"\\u62db\\u6807--\\u6587\\u4ef6: 0.8333333333333334\"], \"type\": \"scatter\", \"x\": [-0.2545914880476129, -0.2491502346947246, null], \"y\": [-0.21833848275682305, -0.27779500352076186, null]}, {\"hoverinfo\": \"text\", \"line\": {\"color\": \"cornflowerblue\", \"width\": 0.04386913376508308}, \"mode\": \"lines\", \"text\": [\"\\u6295\\u6807--\\u529e\\u6cd5: 0.3333333333333333\"], \"type\": \"scatter\", \"x\": [-0.30030128100465797, -0.3589159863293346, null], \"y\": [-0.17271560166264244, -0.21452802085633568, null]}, {\"hoverinfo\": \"text\", \"line\": {\"color\": \"cornflowerblue\", \"width\": 0.04386913376508308}, \"mode\": \"lines\", \"text\": [\"\\u6295\\u6807--\\u4f9b\\u5e94\\u5546: 0.3333333333333333\"], \"type\": \"scatter\", \"x\": [-0.30030128100465797, -0.3756026696558197, null], \"y\": [-0.17271560166264244, -0.15735883359333647, null]}, {\"hoverinfo\": \"text\", \"line\": {\"color\": \"cornflowerblue\", \"width\": 0.04386913376508308}, \"mode\": \"lines\", \"text\": [\"\\u6295\\u6807--\\u6295\\u6807\\u4eba: 0.3333333333333333\"], \"type\": \"scatter\", \"x\": [-0.30030128100465797, -0.33780819295334863, null], \"y\": [-0.17271560166264244, -0.10897672566095866, null]}, {\"hoverinfo\": \"text\", \"line\": {\"color\": \"cornflowerblue\", \"width\": 0.04386913376508308}, \"mode\": \"lines\", \"text\": [\"\\u6295\\u6807--\\u4fdd\\u8bc1\\u91d1: 0.3333333333333333\"], \"type\": \"scatter\", \"x\": [-0.30030128100465797, -0.2741644676404495, null], \"y\": [-0.17271560166264244, -0.1094262261665919, null]}, {\"hoverinfo\": \"text\", \"line\": {\"color\": \"cornflowerblue\", \"width\": 0.04386913376508308}, \"mode\": \"lines\", \"text\": [\"\\u51b3\\u7b56--\\u90e8\\u7f72: 0.3333333333333333\"], \"type\": \"scatter\", \"x\": [-0.6213432599782313, -0.5828445795184267, null], \"y\": [-0.5460841574677907, -0.5130294911704619, null]}, {\"hoverinfo\": \"text\", \"line\": {\"color\": \"cornflowerblue\", \"width\": 0.04386913376508308}, \"mode\": \"lines\", \"text\": [\"\\u5bfc\\u5411--\\u7ed3\\u679c: 0.3333333333333333\"], \"type\": \"scatter\", \"x\": [0.107292130671185, 0.056131965233822995, null], \"y\": [0.7277056072597243, 0.7474086467098735, null]}, {\"hoverinfo\": \"text\", \"line\": {\"color\": \"cornflowerblue\", \"width\": 0.04386913376508308}, \"mode\": \"lines\", \"text\": [\"\\u7ed3\\u679c--\\u4e2d\\u6807: 0.3333333333333333\"], \"type\": \"scatter\", \"x\": [0.056131965233822995, 0.017128163303499477, null], \"y\": [0.7474086467098735, 0.7834303682035472, null]}, {\"hoverinfo\": \"text\", \"line\": {\"color\": \"cornflowerblue\", \"width\": 0.04386913376508308}, \"mode\": \"lines\", \"text\": [\"\\u7ed3\\u679c--\\u516c\\u544a: 0.3333333333333333\"], \"type\": \"scatter\", \"x\": [0.056131965233822995, 0.04609615933506878, null], \"y\": [0.7474086467098735, 0.8092832974553059, null]}, {\"hoverinfo\": \"text\", \"line\": {\"color\": \"cornflowerblue\", \"width\": 0.04386913376508308}, \"mode\": \"lines\", \"text\": [\"\\u89c4\\u5b9a--\\u8bc4\\u6807: 0.3333333333333333\"], \"type\": \"scatter\", \"x\": [0.9280807045674304, 0.8663639905385303, null], \"y\": [-0.3496619809219439, -0.3102952734745747, null]}, {\"hoverinfo\": \"text\", \"line\": {\"color\": \"cornflowerblue\", \"width\": 0.1475575892933762}, \"mode\": \"lines\", \"text\": [\"\\u8bc4\\u6807--\\u59d4\\u5458\\u4f1a: 0.6666666666666666\"], \"type\": \"scatter\", \"x\": [0.8663639905385303, 0.8368839240266752, null], \"y\": [-0.3102952734745747, -0.2714685964989451, null]}, {\"hoverinfo\": \"text\", \"line\": {\"color\": \"cornflowerblue\", \"width\": 0.04386913376508308}, \"mode\": \"lines\", \"text\": [\"\\u65b9\\u9762--\\u6cd5\\u5f8b\\u8d23\\u4efb: 0.3333333333333333\"], \"type\": \"scatter\", \"x\": [0.6174434690523031, 0.6666779922776841, null], \"y\": [-0.608338527659137, -0.6631385751269689, null]}, {\"hoverinfo\": \"text\", \"line\": {\"color\": \"cornflowerblue\", \"width\": 0.08919053362520407}, \"mode\": \"lines\", \"text\": [\"\\u4e2d\\u6807--\\u516c\\u544a: 0.5\"], \"type\": \"scatter\", \"x\": [0.017128163303499477, 0.04609615933506878, null], \"y\": [0.7834303682035472, 0.8092832974553059, null]}, {\"hoverinfo\": \"text\", \"line\": {\"color\": \"cornflowerblue\", \"width\": 0.04386913376508308}, \"mode\": \"lines\", \"text\": [\"\\u4e3b\\u4f53--\\u8d23\\u4efb: 0.3333333333333333\"], \"type\": \"scatter\", \"x\": [0.033956863819551014, 0.029716873579226293, null], \"y\": [-0.9497203552796974, -0.8765697274141817, null]}, {\"hoverinfo\": \"text\", \"line\": {\"color\": \"cornflowerblue\", \"width\": 0.08919053362520407}, \"mode\": \"lines\", \"text\": [\"\\u5236\\u5ea6\\u6027--\\u4ea4\\u6613\\u6210\\u672c: 0.5\"], \"type\": \"scatter\", \"x\": [0.9490391652459417, 0.9239479677083006, null], \"y\": [-0.16994361192253304, -0.2196910468084001, null]}, {\"hoverinfo\": \"text\", \"line\": {\"color\": \"cornflowerblue\", \"width\": 0.1475575892933762}, \"mode\": \"lines\", \"text\": [\"\\u4ee3\\u7406--\\u673a\\u6784: 0.6666666666666666\"], \"type\": \"scatter\", \"x\": [0.4077790754424156, 0.386415876262776, null], \"y\": [0.8073635411117016, 0.7638590066950529, null]}, {\"hoverinfo\": \"text\", \"line\": {\"color\": \"cornflowerblue\", \"width\": 0.08919053362520407}, \"mode\": \"lines\", \"text\": [\"\\u8d44\\u683c--\\u6587\\u4ef6: 0.5\"], \"type\": \"scatter\", \"x\": [-0.24838987518282166, -0.2491502346947246, null], \"y\": [-0.3384643393615117, -0.27779500352076186, null]}, {\"hoverinfo\": \"text\", \"line\": {\"color\": \"cornflowerblue\", \"width\": 0.04386913376508308}, \"mode\": \"lines\", \"text\": [\"\\u59d4\\u5458\\u4f1a--\\u6210\\u5458: 0.3333333333333333\"], \"type\": \"scatter\", \"x\": [0.8368839240266752, 0.7968660060488078, null], \"y\": [-0.2714685964989451, -0.21919344374841931, null]}, {\"hoverinfo\": \"none\", \"marker\": {\"color\": [\"cornflowerblue\", \"cornflowerblue\", \"cornflowerblue\", \"cornflowerblue\", \"cornflowerblue\", \"cornflowerblue\", \"cornflowerblue\", \"cornflowerblue\", \"cornflowerblue\", \"cornflowerblue\", \"cornflowerblue\", \"cornflowerblue\", \"cornflowerblue\", \"cornflowerblue\", \"cornflowerblue\", \"cornflowerblue\", \"cornflowerblue\", \"cornflowerblue\", \"cornflowerblue\", \"cornflowerblue\", \"cornflowerblue\", \"cornflowerblue\", \"cornflowerblue\", \"cornflowerblue\", \"cornflowerblue\", \"cornflowerblue\", \"cornflowerblue\", \"cornflowerblue\", \"cornflowerblue\", \"cornflowerblue\", \"cornflowerblue\", \"cornflowerblue\", \"cornflowerblue\", \"cornflowerblue\", \"cornflowerblue\", \"cornflowerblue\", \"cornflowerblue\", \"cornflowerblue\", \"cornflowerblue\", \"cornflowerblue\", \"cornflowerblue\", \"cornflowerblue\", \"cornflowerblue\", \"cornflowerblue\", \"cornflowerblue\", \"cornflowerblue\", \"cornflowerblue\", \"cornflowerblue\", \"cornflowerblue\", \"cornflowerblue\", \"cornflowerblue\", \"cornflowerblue\", \"cornflowerblue\", \"cornflowerblue\", \"cornflowerblue\", \"cornflowerblue\", \"cornflowerblue\", \"cornflowerblue\", \"cornflowerblue\", \"cornflowerblue\", \"cornflowerblue\", \"cornflowerblue\", \"cornflowerblue\", \"cornflowerblue\", \"cornflowerblue\", \"cornflowerblue\", \"cornflowerblue\", \"cornflowerblue\", \"cornflowerblue\", \"cornflowerblue\", \"cornflowerblue\", \"cornflowerblue\", \"cornflowerblue\", \"cornflowerblue\", \"cornflowerblue\", \"cornflowerblue\", \"cornflowerblue\", \"cornflowerblue\", \"cornflowerblue\", \"cornflowerblue\", \"cornflowerblue\", \"cornflowerblue\", \"cornflowerblue\", \"cornflowerblue\", \"cornflowerblue\", \"cornflowerblue\", \"cornflowerblue\", \"cornflowerblue\", \"cornflowerblue\", \"cornflowerblue\", \"cornflowerblue\", \"cornflowerblue\", \"cornflowerblue\", \"cornflowerblue\", \"cornflowerblue\", \"cornflowerblue\", \"cornflowerblue\", \"cornflowerblue\", \"cornflowerblue\", \"cornflowerblue\", \"cornflowerblue\", \"cornflowerblue\", \"cornflowerblue\", \"cornflowerblue\", \"cornflowerblue\", \"cornflowerblue\", \"cornflowerblue\", \"cornflowerblue\"], \"size\": [5, 5, 5, 5, 5, 5, 5, 5, 5, 5, 5, 5, 5, 5, 5, 5, 5, 5, 5, 5, 5, 5, 5, 5, 5, 5, 5, 5, 5, 5, 5, 5, 5, 5, 5, 5, 5, 5, 5, 5, 5, 5, 5, 5, 5, 5, 5, 5, 5, 5, 5, 5, 5, 5, 5, 5, 5, 5, 5, 5, 5, 5, 5, 5, 5, 5, 5, 5, 5, 5, 5, 5, 5, 5, 5, 5, 5, 5, 5, 5, 5, 5, 5, 5, 5, 5, 5, 5, 5, 5, 5, 5, 5, 5, 5, 5, 5, 5, 5, 5, 5, 5, 5, 5, 5, 5, 5, 5]}, \"mode\": \"markers+text\", \"text\": [\"<b>\\u6761\\u4f8b</b>\", \"<b>\\u89c4\\u8303</b>\", \"<b>\\u653f\\u5e9c</b>\", \"<b>\\u8d27\\u7269</b>\", \"<b>\\u62db\\u6807</b>\", \"<b>\\u6295\\u6807</b>\", \"<b>\\u529e\\u6cd5</b>\", \"<b>\\u51b3\\u7b56</b>\", \"<b>\\u90e8\\u7f72</b>\", \"<b>\\u5e02\\u573a</b>\", \"<b>\\u5173\\u7cfb</b>\", \"<b>\\u4ea4\\u6613\\u89c4\\u5219</b>\", \"<b>\\u6743\\u529b</b>\", \"<b>\\u5236\\u7ea6</b>\", \"<b>\\u653f\\u7b56</b>\", \"<b>\\u529f\\u80fd</b>\", \"<b>\\u57fa\\u7840\\u6027</b>\", \"<b>\\u90e8\\u95e8\\u89c4\\u7ae0</b>\", \"<b>\\u5236\\u5ea6</b>\", \"<b>\\u7a0b\\u5e8f</b>\", \"<b>\\u5bfc\\u5411</b>\", \"<b>\\u7ed3\\u679c</b>\", \"<b>\\u4f53\\u7cfb</b>\", \"<b>\\u89c4\\u5b9a</b>\", \"<b>\\u53f7\\u4ee4</b>\", \"<b>\\u8bc4\\u6807</b>\", \"<b>\\u65b9\\u6cd5</b>\", \"<b>\\u4fe1\\u606f</b>\", \"<b>\\u65b9\\u9762</b>\", \"<b>\\u7ec6\\u5316</b>\", \"<b>\\u603b\\u5219</b>\", \"<b>\\u9644\\u5219</b>\", \"<b>\\u4e2d\\u6807</b>\", \"<b>\\u6cd5\\u5f8b\\u8d23\\u4efb</b>\", \"<b>\\u5206\\u7ae0</b>\", \"<b>\\u5185\\u5bb9</b>\", \"<b>\\u4e3b\\u4f53</b>\", \"<b>\\u8d23\\u4efb</b>\", \"<b>\\u91cd\\u70b9</b>\", \"<b>\\u73af\\u8282</b>\", \"<b>\\u804c\\u8d23</b>\", \"<b>\\u95ee\\u9898</b>\", \"<b>\\u900f\\u660e\\u5ea6</b>\", \"<b>\\u5f53\\u4e8b\\u4eba</b>\", \"<b>\\u9488\\u5bf9\\u6027</b>\", \"<b>\\u63aa\\u65bd</b>\", \"<b>\\u5236\\u5ea6\\u6027</b>\", \"<b>\\u4ea4\\u6613\\u6210\\u672c</b>\", \"<b>\\u5b9e\\u4f53</b>\", \"<b>\\u7ecf\\u6d4e</b>\", \"<b>\\u4f9b\\u5e94\\u5546</b>\", \"<b>\\u5408\\u6cd5\\u6743\\u76ca</b>\", \"<b>\\u6210\\u672c</b>\", \"<b>\\u65f6\\u95f4</b>\", \"<b>\\u793e\\u4f1a</b>\", \"<b>\\u8bdf\\u75c5</b>\", \"<b>\\u673a\\u5236</b>\", \"<b>\\u60c5\\u51b5</b>\", \"<b>\\u79d1\\u5b66\\u5408\\u7406</b>\", \"<b>\\u516c\\u5e73\\u4ea4\\u6613</b>\", \"<b>\\u89c4\\u5219</b>\", \"<b>\\u4ee3\\u7406</b>\", \"<b>\\u673a\\u6784</b>\", \"<b>\\u6295\\u6807\\u4eba</b>\", \"<b>\\u8d44\\u683c</b>\", \"<b>\\u54c1\\u724c</b>\", \"<b>\\u4ea7\\u54c1</b>\", \"<b>\\u8bc1\\u660e</b>\", \"<b>\\u62a5\\u4ef7</b>\", \"<b>\\u5408\\u7406\\u6027</b>\", \"<b>\\u59d4\\u5458\\u4f1a</b>\", \"<b>\\u60c5\\u5f62</b>\", \"<b>\\u6210\\u5458</b>\", \"<b>\\u516c\\u544a</b>\", \"<b>\\u671f\\u9650</b>\", \"<b>\\u5355\\u4f4d</b>\", \"<b>\\u7740\\u529b</b>\", \"<b>\\u516c\\u5f00\\u62db\\u6807</b>\", \"<b>\\u6587\\u4ef6</b>\", \"<b>\\u6709\\u6548\\u671f</b>\", \"<b>\\u56e0\\u7d20</b>\", \"<b>\\u5206\\u503c</b>\", \"<b>\\u6c47\\u603b</b>\", \"<b>\\u8ba1\\u7b97\\u9519\\u8bef</b>\", \"<b>\\u64cd\\u4f5c\\u6027</b>\", \"<b>\\u73af\\u5883</b>\", \"<b>\\u4fe1\\u7528</b>\", \"<b>\\u53c2\\u4e0e\\u6743</b>\", \"<b>\\u9080\\u8bf7\\u4e66</b>\", \"<b>\\u77e5\\u60c5\\u6743</b>\", \"<b>\\u6837\\u54c1</b>\", \"<b>\\u552e\\u4ef7</b>\", \"<b>\\u539f\\u5219</b>\", \"<b>\\u8425\\u5229</b>\", \"<b>\\u76ee\\u7684</b>\", \"<b>\\u4fdd\\u8bc1\\u91d1</b>\", \"<b>\\u8d39\\u7528</b>\", \"<b>\\u76d1\\u7ba1\\u90e8\\u95e8</b>\", \"<b>\\u5de5\\u4f5c\\u4eba\\u5458</b>\", \"<b>\\u4e2d\\u6807\\u4eba</b>\", \"<b>\\u4e0d\\u5408\\u7406</b>\", \"<b>\\u7b7e\\u8ba2\\u5408\\u540c</b>\", \"<b>\\u6761\\u4ef6</b>\", \"<b>\\u4e2d\\u592e</b>\", \"<b>\\u5730\\u65b9</b>\", \"<b>\\u8d22\\u653f\\u90e8\\u95e8</b>\", \"<b>\\u4e13\\u9879</b>\", \"<b>\\u89c4\\u7a0b</b>\"], \"textfont\": {\"size\": 10}, \"textposition\": \"top center\", \"type\": \"scatter\", \"x\": [0.07447342401974254, 0.22324407118837666, 0.2413477822778381, 0.2747584345007895, -0.2545914880476129, -0.30030128100465797, -0.3589159863293346, -0.6213432599782313, -0.5828445795184267, -0.8073428792771343, 0.8915512250011052, -0.2982982542803168, 0.8451048340564327, 0.4831245020563185, 0.239041230064154, -0.595168358055478, -0.21533292226804848, -0.9513389395895233, 0.21502720054732777, -0.1880815352282892, 0.107292130671185, 0.056131965233822995, 0.6393971872051075, 0.9280807045674304, 0.2995310324264848, 0.8663639905385303, 0.9267752779267945, 0.9356049882700624, 0.6174434690523031, 0.36679003137235505, 0.8091922874661525, -0.9692148473510918, 0.017128163303499477, 0.6666779922776841, -0.5768811124712104, 0.2446250899791481, 0.033956863819551014, 0.029716873579226293, 0.47888728567205546, -0.8642614695155251, -0.684463013427018, -0.13182233132838325, -0.9412718810952088, -0.6550642544808443, 0.9240752139028908, -0.2850109147311993, 0.9490391652459417, 0.9239479677083006, 0.9979577741953455, 0.5305472575441931, -0.3756026696558197, -0.6873693328155178, -0.9450515362456343, -0.7972627517866303, -0.9478578665650702, 0.16973712173204494, -0.20207978414111177, -0.7661609891049376, -0.8466055422535601, -0.8850104032127482, -0.47990535807574164, 0.4077790754424156, 0.386415876262776, -0.33780819295334863, -0.24838987518282166, 0.830543224977665, -0.03789096709867683, 0.5904466244158193, -0.7555477725617189, -0.501482664600697, 0.8368839240266752, -0.895636993921609, 0.7968660060488078, 0.04609615933506878, 0.8148204368424614, 0.6102234157204117, -0.9409522240280547, -0.8629426763770743, -0.2491502346947246, 0.35522714711969966, 0.5631682627110964, 0.4532734357412838, -0.8781164035894001, 0.13838885040716728, 0.8042426476092273, -0.30907634513419463, 0.8036767146137609, -0.03587612333336296, 0.7430920983657192, -0.12305670207130724, -0.3163548362675646, -0.9338335723319245, -0.8607511717163648, 0.7070530124039784, 0.9232858330764006, -0.2741644676404495, 0.9643751466676912, 0.24192685900534341, 0.7041077165466346, -0.3900756385018652, -0.9289483243150599, 0.7546715596358791, -0.7380457141922161, -0.5030515381553761, -0.5755687153057901, 0.3278795980662428, -0.41476287854029104, -0.4850765880962229], \"y\": [0.991538918566581, -0.04129712591756876, -0.09302028710463639, -0.07074628858229655, -0.21833848275682305, -0.17271560166264244, -0.21452802085633568, -0.5460841574677907, -0.5130294911704619, 0.6255750566048801, 0.1412160630117646, -0.9553798397208387, 0.2610304391289992, -0.7080852376368574, -0.9667911354559239, 0.8107366960736917, 0.9372969614255766, -0.023001163016132028, -0.13106506508543683, -0.22771551159258654, 0.7277056072597243, 0.7474086467098735, 0.7903017385774356, -0.3496619809219439, -0.13199285279562403, -0.3102952734745747, -0.004666354861053818, -0.19345648528890663, -0.608338527659137, -0.9347623612789863, -0.514800448377163, -0.21761904489570835, 0.7834303682035472, -0.6631385751269689, -0.8170001197375564, -0.8824723444029177, -0.9497203552796974, -0.8765697274141817, 0.8836768606341009, 0.43710572823844895, 0.610740952949871, 0.9747074080234055, 0.16613463413407428, 0.7431002453582926, 0.4777927598611344, 0.8520101264077197, -0.16994361192253304, -0.2196910468084001, 0.23404572203146196, 0.754465468237246, -0.15735883359333647, -0.7176467115879788, 0.2405367649383877, -0.6469129282728849, -0.11286670807938957, 0.9509860979490182, -0.9763361455580807, 0.46165009305953103, -0.3991274400130687, 0.029611637084533873, -0.8417304754920315, 0.8073635411117016, 0.7638590066950529, -0.10897672566095866, -0.3384643393615117, 0.5262824988961298, -1.0, -0.7707999760362122, -0.5626192837649561, 0.8190554717348498, -0.2714685964989451, -0.31528166291358206, -0.21919344374841931, 0.8092832974553059, 0.3996376386105194, 0.6681493472007061, 0.31823050643563733, 0.5421806557366461, -0.27779500352076186, -0.8110361587776146, -0.8786043944419503, -0.8562197886705198, -0.20496885198100587, -0.9484427875791652, 0.6771405878205934, 0.9650987506674787, -0.4355792431190676, 0.9606154676091542, -0.5719268179963384, -0.9561396497501625, -0.8790879190567, 0.4087973798733284, -0.4968931263508527, 0.5009906741648911, 0.32337476961172645, -0.1094262261665919, 0.08998130404201052, 0.8776240447903066, 0.6214410276784149, 0.9003899824790631, 0.09202211314849554, -0.7024718617110881, 0.7036235231873802, 0.6770073825463765, -0.7318269862048589, 0.948677060667963, -0.9046993335741532, 0.8961969111208402]}],\n",
       "                        {\"paper_bgcolor\": \"rgba(0,0,0,0)\", \"plot_bgcolor\": \"rgba(0,0,0,0)\", \"showlegend\": false, \"template\": {\"data\": {\"bar\": [{\"error_x\": {\"color\": \"#2a3f5f\"}, \"error_y\": {\"color\": \"#2a3f5f\"}, \"marker\": {\"line\": {\"color\": \"#E5ECF6\", \"width\": 0.5}}, \"type\": \"bar\"}], \"barpolar\": [{\"marker\": {\"line\": {\"color\": \"#E5ECF6\", \"width\": 0.5}}, \"type\": \"barpolar\"}], \"carpet\": [{\"aaxis\": {\"endlinecolor\": \"#2a3f5f\", \"gridcolor\": \"white\", \"linecolor\": \"white\", \"minorgridcolor\": \"white\", \"startlinecolor\": \"#2a3f5f\"}, \"baxis\": {\"endlinecolor\": \"#2a3f5f\", \"gridcolor\": \"white\", \"linecolor\": \"white\", \"minorgridcolor\": \"white\", \"startlinecolor\": \"#2a3f5f\"}, \"type\": \"carpet\"}], \"choropleth\": [{\"colorbar\": {\"outlinewidth\": 0, \"ticks\": \"\"}, \"type\": \"choropleth\"}], \"contour\": [{\"colorbar\": {\"outlinewidth\": 0, \"ticks\": \"\"}, \"colorscale\": [[0.0, \"#0d0887\"], [0.1111111111111111, \"#46039f\"], [0.2222222222222222, \"#7201a8\"], [0.3333333333333333, \"#9c179e\"], [0.4444444444444444, \"#bd3786\"], [0.5555555555555556, \"#d8576b\"], [0.6666666666666666, \"#ed7953\"], [0.7777777777777778, \"#fb9f3a\"], [0.8888888888888888, \"#fdca26\"], [1.0, \"#f0f921\"]], \"type\": \"contour\"}], \"contourcarpet\": [{\"colorbar\": {\"outlinewidth\": 0, \"ticks\": \"\"}, \"type\": \"contourcarpet\"}], \"heatmap\": [{\"colorbar\": {\"outlinewidth\": 0, \"ticks\": \"\"}, \"colorscale\": [[0.0, \"#0d0887\"], [0.1111111111111111, \"#46039f\"], [0.2222222222222222, \"#7201a8\"], [0.3333333333333333, \"#9c179e\"], [0.4444444444444444, \"#bd3786\"], [0.5555555555555556, \"#d8576b\"], [0.6666666666666666, \"#ed7953\"], [0.7777777777777778, \"#fb9f3a\"], [0.8888888888888888, \"#fdca26\"], [1.0, \"#f0f921\"]], \"type\": \"heatmap\"}], \"heatmapgl\": [{\"colorbar\": {\"outlinewidth\": 0, \"ticks\": \"\"}, \"colorscale\": [[0.0, \"#0d0887\"], [0.1111111111111111, \"#46039f\"], [0.2222222222222222, \"#7201a8\"], [0.3333333333333333, \"#9c179e\"], [0.4444444444444444, \"#bd3786\"], [0.5555555555555556, \"#d8576b\"], [0.6666666666666666, \"#ed7953\"], [0.7777777777777778, \"#fb9f3a\"], [0.8888888888888888, \"#fdca26\"], [1.0, \"#f0f921\"]], \"type\": \"heatmapgl\"}], \"histogram\": [{\"marker\": {\"colorbar\": {\"outlinewidth\": 0, \"ticks\": \"\"}}, \"type\": \"histogram\"}], \"histogram2d\": [{\"colorbar\": {\"outlinewidth\": 0, \"ticks\": \"\"}, \"colorscale\": [[0.0, \"#0d0887\"], [0.1111111111111111, \"#46039f\"], [0.2222222222222222, \"#7201a8\"], [0.3333333333333333, \"#9c179e\"], [0.4444444444444444, \"#bd3786\"], [0.5555555555555556, \"#d8576b\"], [0.6666666666666666, \"#ed7953\"], [0.7777777777777778, \"#fb9f3a\"], [0.8888888888888888, \"#fdca26\"], [1.0, \"#f0f921\"]], \"type\": \"histogram2d\"}], \"histogram2dcontour\": [{\"colorbar\": {\"outlinewidth\": 0, \"ticks\": \"\"}, \"colorscale\": [[0.0, \"#0d0887\"], [0.1111111111111111, \"#46039f\"], [0.2222222222222222, \"#7201a8\"], [0.3333333333333333, \"#9c179e\"], [0.4444444444444444, \"#bd3786\"], [0.5555555555555556, \"#d8576b\"], [0.6666666666666666, \"#ed7953\"], [0.7777777777777778, \"#fb9f3a\"], [0.8888888888888888, \"#fdca26\"], [1.0, \"#f0f921\"]], \"type\": \"histogram2dcontour\"}], \"mesh3d\": [{\"colorbar\": {\"outlinewidth\": 0, \"ticks\": \"\"}, \"type\": \"mesh3d\"}], \"parcoords\": [{\"line\": {\"colorbar\": {\"outlinewidth\": 0, \"ticks\": \"\"}}, \"type\": \"parcoords\"}], \"pie\": [{\"automargin\": true, \"type\": \"pie\"}], \"scatter\": [{\"marker\": {\"colorbar\": {\"outlinewidth\": 0, \"ticks\": \"\"}}, \"type\": \"scatter\"}], \"scatter3d\": [{\"line\": {\"colorbar\": {\"outlinewidth\": 0, \"ticks\": \"\"}}, \"marker\": {\"colorbar\": {\"outlinewidth\": 0, \"ticks\": \"\"}}, \"type\": \"scatter3d\"}], \"scattercarpet\": [{\"marker\": {\"colorbar\": {\"outlinewidth\": 0, \"ticks\": \"\"}}, \"type\": \"scattercarpet\"}], \"scattergeo\": [{\"marker\": {\"colorbar\": {\"outlinewidth\": 0, \"ticks\": \"\"}}, \"type\": \"scattergeo\"}], \"scattergl\": [{\"marker\": {\"colorbar\": {\"outlinewidth\": 0, \"ticks\": \"\"}}, \"type\": \"scattergl\"}], \"scattermapbox\": [{\"marker\": {\"colorbar\": {\"outlinewidth\": 0, \"ticks\": \"\"}}, \"type\": \"scattermapbox\"}], \"scatterpolar\": [{\"marker\": {\"colorbar\": {\"outlinewidth\": 0, \"ticks\": \"\"}}, \"type\": \"scatterpolar\"}], \"scatterpolargl\": [{\"marker\": {\"colorbar\": {\"outlinewidth\": 0, \"ticks\": \"\"}}, \"type\": \"scatterpolargl\"}], \"scatterternary\": [{\"marker\": {\"colorbar\": {\"outlinewidth\": 0, \"ticks\": \"\"}}, \"type\": \"scatterternary\"}], \"surface\": [{\"colorbar\": {\"outlinewidth\": 0, \"ticks\": \"\"}, \"colorscale\": [[0.0, \"#0d0887\"], [0.1111111111111111, \"#46039f\"], [0.2222222222222222, \"#7201a8\"], [0.3333333333333333, \"#9c179e\"], [0.4444444444444444, \"#bd3786\"], [0.5555555555555556, \"#d8576b\"], [0.6666666666666666, \"#ed7953\"], [0.7777777777777778, \"#fb9f3a\"], [0.8888888888888888, \"#fdca26\"], [1.0, \"#f0f921\"]], \"type\": \"surface\"}], \"table\": [{\"cells\": {\"fill\": {\"color\": \"#EBF0F8\"}, \"line\": {\"color\": \"white\"}}, \"header\": {\"fill\": {\"color\": \"#C8D4E3\"}, \"line\": {\"color\": \"white\"}}, \"type\": \"table\"}]}, \"layout\": {\"annotationdefaults\": {\"arrowcolor\": \"#2a3f5f\", \"arrowhead\": 0, \"arrowwidth\": 1}, \"coloraxis\": {\"colorbar\": {\"outlinewidth\": 0, \"ticks\": \"\"}}, \"colorscale\": {\"diverging\": [[0, \"#8e0152\"], [0.1, \"#c51b7d\"], [0.2, \"#de77ae\"], [0.3, \"#f1b6da\"], [0.4, \"#fde0ef\"], [0.5, \"#f7f7f7\"], [0.6, \"#e6f5d0\"], [0.7, \"#b8e186\"], [0.8, \"#7fbc41\"], [0.9, \"#4d9221\"], [1, \"#276419\"]], \"sequential\": [[0.0, \"#0d0887\"], [0.1111111111111111, \"#46039f\"], [0.2222222222222222, \"#7201a8\"], [0.3333333333333333, \"#9c179e\"], [0.4444444444444444, \"#bd3786\"], [0.5555555555555556, \"#d8576b\"], [0.6666666666666666, \"#ed7953\"], [0.7777777777777778, \"#fb9f3a\"], [0.8888888888888888, \"#fdca26\"], [1.0, \"#f0f921\"]], \"sequentialminus\": [[0.0, \"#0d0887\"], [0.1111111111111111, \"#46039f\"], [0.2222222222222222, \"#7201a8\"], [0.3333333333333333, \"#9c179e\"], [0.4444444444444444, \"#bd3786\"], [0.5555555555555556, \"#d8576b\"], [0.6666666666666666, \"#ed7953\"], [0.7777777777777778, \"#fb9f3a\"], [0.8888888888888888, \"#fdca26\"], [1.0, \"#f0f921\"]]}, \"colorway\": [\"#636efa\", \"#EF553B\", \"#00cc96\", \"#ab63fa\", \"#FFA15A\", \"#19d3f3\", \"#FF6692\", \"#B6E880\", \"#FF97FF\", \"#FECB52\"], \"font\": {\"color\": \"#2a3f5f\"}, \"geo\": {\"bgcolor\": \"white\", \"lakecolor\": \"white\", \"landcolor\": \"#E5ECF6\", \"showlakes\": true, \"showland\": true, \"subunitcolor\": \"white\"}, \"hoverlabel\": {\"align\": \"left\"}, \"hovermode\": \"closest\", \"mapbox\": {\"style\": \"light\"}, \"paper_bgcolor\": \"white\", \"plot_bgcolor\": \"#E5ECF6\", \"polar\": {\"angularaxis\": {\"gridcolor\": \"white\", \"linecolor\": \"white\", \"ticks\": \"\"}, \"bgcolor\": \"#E5ECF6\", \"radialaxis\": {\"gridcolor\": \"white\", \"linecolor\": \"white\", \"ticks\": \"\"}}, \"scene\": {\"xaxis\": {\"backgroundcolor\": \"#E5ECF6\", \"gridcolor\": \"white\", \"gridwidth\": 2, \"linecolor\": \"white\", \"showbackground\": true, \"ticks\": \"\", \"zerolinecolor\": \"white\"}, \"yaxis\": {\"backgroundcolor\": \"#E5ECF6\", \"gridcolor\": \"white\", \"gridwidth\": 2, \"linecolor\": \"white\", \"showbackground\": true, \"ticks\": \"\", \"zerolinecolor\": \"white\"}, \"zaxis\": {\"backgroundcolor\": \"#E5ECF6\", \"gridcolor\": \"white\", \"gridwidth\": 2, \"linecolor\": \"white\", \"showbackground\": true, \"ticks\": \"\", \"zerolinecolor\": \"white\"}}, \"shapedefaults\": {\"line\": {\"color\": \"#2a3f5f\"}}, \"ternary\": {\"aaxis\": {\"gridcolor\": \"white\", \"linecolor\": \"white\", \"ticks\": \"\"}, \"baxis\": {\"gridcolor\": \"white\", \"linecolor\": \"white\", \"ticks\": \"\"}, \"bgcolor\": \"#E5ECF6\", \"caxis\": {\"gridcolor\": \"white\", \"linecolor\": \"white\", \"ticks\": \"\"}}, \"title\": {\"x\": 0.05}, \"xaxis\": {\"automargin\": true, \"gridcolor\": \"white\", \"linecolor\": \"white\", \"ticks\": \"\", \"title\": {\"standoff\": 15}, \"zerolinecolor\": \"white\", \"zerolinewidth\": 2}, \"yaxis\": {\"automargin\": true, \"gridcolor\": \"white\", \"linecolor\": \"white\", \"ticks\": \"\", \"title\": {\"standoff\": 15}, \"zerolinecolor\": \"white\", \"zerolinewidth\": 2}}}, \"xaxis\": {\"showgrid\": false, \"showticklabels\": false, \"zeroline\": false}, \"yaxis\": {\"showgrid\": false, \"showticklabels\": false, \"zeroline\": false}},\n",
       "                        {\"responsive\": true}\n",
       "                    ).then(function(){\n",
       "                            \n",
       "var gd = document.getElementById('0e51f9d2-b68b-405f-888b-c033ce5b50ce');\n",
       "var x = new MutationObserver(function (mutations, observer) {{\n",
       "        var display = window.getComputedStyle(gd).display;\n",
       "        if (!display || display === 'none') {{\n",
       "            console.log([gd, 'removed!']);\n",
       "            Plotly.purge(gd);\n",
       "            observer.disconnect();\n",
       "        }}\n",
       "}});\n",
       "\n",
       "// Listen for the removal of the full notebook cells\n",
       "var notebookContainer = gd.closest('#notebook-container');\n",
       "if (notebookContainer) {{\n",
       "    x.observe(notebookContainer, {childList: true});\n",
       "}}\n",
       "\n",
       "// Listen for the clearing of the current output cell\n",
       "var outputEl = gd.closest('.output');\n",
       "if (outputEl) {{\n",
       "    x.observe(outputEl, {childList: true});\n",
       "}}\n",
       "\n",
       "                        })\n",
       "                };\n",
       "                });\n",
       "            </script>\n",
       "        </div>"
      ]
     },
     "metadata": {},
     "output_type": "display_data"
    }
   ],
   "source": [
    "fig = go.Figure(layout = layout)\n",
    "# Add all edge traces\n",
    "for trace in edge_trace:\n",
    "    fig.add_trace(trace)\n",
    "# Add node trace\n",
    "fig.add_trace(node_trace)\n",
    "# Remove legend\n",
    "fig.update_layout(showlegend = False)\n",
    "# Remove tick labels\n",
    "fig.update_xaxes(showticklabels = False)\n",
    "fig.update_yaxes(showticklabels = False)\n",
    "# Show figure\n",
    "fig.show()"
   ]
  },
  {
   "cell_type": "code",
   "execution_count": null,
   "metadata": {},
   "outputs": [],
   "source": []
  },
  {
   "cell_type": "code",
   "execution_count": null,
   "metadata": {},
   "outputs": [],
   "source": []
  },
  {
   "cell_type": "code",
   "execution_count": null,
   "metadata": {},
   "outputs": [],
   "source": []
  },
  {
   "cell_type": "code",
   "execution_count": 122,
   "metadata": {},
   "outputs": [],
   "source": [
    "k_core = nx.k_core(nx_graph,k=3)"
   ]
  },
  {
   "cell_type": "code",
   "execution_count": 123,
   "metadata": {},
   "outputs": [
    {
     "data": {
      "text/plain": [
       "NodeView(('细化', '中标', '内容', '期限', '资格', '投标', '招标', '号令', '文件', '投标人', '公告', '政府', '规定'))"
      ]
     },
     "execution_count": 123,
     "metadata": {},
     "output_type": "execute_result"
    }
   ],
   "source": [
    "k_core.nodes()"
   ]
  },
  {
   "cell_type": "code",
   "execution_count": null,
   "metadata": {},
   "outputs": [],
   "source": []
  },
  {
   "cell_type": "code",
   "execution_count": null,
   "metadata": {},
   "outputs": [],
   "source": []
  },
  {
   "cell_type": "code",
   "execution_count": null,
   "metadata": {},
   "outputs": [],
   "source": []
  },
  {
   "cell_type": "code",
   "execution_count": null,
   "metadata": {},
   "outputs": [],
   "source": []
  },
  {
   "cell_type": "code",
   "execution_count": null,
   "metadata": {},
   "outputs": [],
   "source": []
  },
  {
   "cell_type": "code",
   "execution_count": null,
   "metadata": {},
   "outputs": [],
   "source": []
  },
  {
   "cell_type": "code",
   "execution_count": null,
   "metadata": {},
   "outputs": [],
   "source": []
  }
 ],
 "metadata": {
  "kernelspec": {
   "display_name": "Python 3",
   "language": "python",
   "name": "python3"
  },
  "language_info": {
   "codemirror_mode": {
    "name": "ipython",
    "version": 3
   },
   "file_extension": ".py",
   "mimetype": "text/x-python",
   "name": "python",
   "nbconvert_exporter": "python",
   "pygments_lexer": "ipython3",
   "version": "3.7.6"
  }
 },
 "nbformat": 4,
 "nbformat_minor": 4
}
