{
 "cells": [
  {
   "cell_type": "code",
   "execution_count": 1,
   "metadata": {},
   "outputs": [],
   "source": [
    "import pandas as pd\n",
    "import numpy as np\n",
    "\n",
    "import networkx as nx\n",
    "\n",
    "from os import listdir\n",
    "import re\n",
    "\n",
    "import plotly.offline as py\n",
    "import plotly.graph_objects as go\n",
    "\n",
    "\n",
    "from src.text_rank import TextRank"
   ]
  },
  {
   "cell_type": "code",
   "execution_count": null,
   "metadata": {},
   "outputs": [],
   "source": []
  },
  {
   "cell_type": "code",
   "execution_count": 2,
   "metadata": {},
   "outputs": [],
   "source": [
    "text_directory = \"output/policy_text/\""
   ]
  },
  {
   "cell_type": "code",
   "execution_count": 3,
   "metadata": {},
   "outputs": [],
   "source": [
    "policy_dir = listdir(text_directory)\n",
    "\n",
    "text_list = []\n",
    "\n",
    "for file in policy_dir:\n",
    "    file = text_directory+file\n",
    "    \n",
    "    with open(file,\"r+\")  as f:\n",
    "        text = f.read()\n",
    "    \n",
    "    text = re.sub(\"\\n\",\"\",text)\n",
    "    text = re.sub(\"\\u3000\",\"\",text)\n",
    "    \n",
    "    text_list.append(text)\n",
    "\n",
    "\n",
    "sample_text = text_list[2]"
   ]
  },
  {
   "cell_type": "code",
   "execution_count": null,
   "metadata": {},
   "outputs": [],
   "source": []
  },
  {
   "cell_type": "code",
   "execution_count": 8,
   "metadata": {},
   "outputs": [],
   "source": [
    "allowPOS = [\"n\",\"v\"]\n",
    "stopwords = [\"为了\",\"依法\"]\n",
    "span = 3"
   ]
  },
  {
   "cell_type": "code",
   "execution_count": null,
   "metadata": {},
   "outputs": [],
   "source": []
  },
  {
   "cell_type": "code",
   "execution_count": 6,
   "metadata": {},
   "outputs": [
    {
     "name": "stderr",
     "output_type": "stream",
     "text": [
      "Building prefix dict from the default dictionary ...\n",
      "Dumping model to file cache /var/folders/1y/w6y_szxn0m12nsrrdnzgp4540000gn/T/jieba.cache\n",
      "Loading model cost 1.268 seconds.\n",
      "Prefix dict has been built successfully.\n"
     ]
    }
   ],
   "source": [
    "all_keywords = []\n",
    "\n",
    "for text in text_list:\n",
    "    \n",
    "    tr_keyword = TextRank(allowPOS,stopwords,span)\n",
    "    key_word_list = tr_keyword.text_rank(text,5)\n",
    "    \n",
    "    all_keywords += key_word_list\n",
    "    "
   ]
  },
  {
   "cell_type": "code",
   "execution_count": 127,
   "metadata": {},
   "outputs": [],
   "source": [
    "all_keywords = [word_tuple[0] for word_tuple in all_keywords]"
   ]
  },
  {
   "cell_type": "code",
   "execution_count": 128,
   "metadata": {},
   "outputs": [],
   "source": [
    "all_keywords = set(all_keywords)"
   ]
  },
  {
   "cell_type": "code",
   "execution_count": 129,
   "metadata": {},
   "outputs": [
    {
     "data": {
      "text/plain": [
       "564"
      ]
     },
     "execution_count": 129,
     "metadata": {},
     "output_type": "execute_result"
    }
   ],
   "source": [
    "len(all_keywords)"
   ]
  },
  {
   "cell_type": "code",
   "execution_count": 112,
   "metadata": {},
   "outputs": [],
   "source": [
    "with open(\"output/keyword_level_1.txt\",\"w+\") as f:\n",
    "    \n",
    "    for word in all_keywords:\n",
    "        \n",
    "        f.write(word+\"\\n\")"
   ]
  },
  {
   "cell_type": "code",
   "execution_count": null,
   "metadata": {},
   "outputs": [],
   "source": []
  },
  {
   "cell_type": "code",
   "execution_count": null,
   "metadata": {},
   "outputs": [],
   "source": []
  },
  {
   "cell_type": "code",
   "execution_count": 130,
   "metadata": {},
   "outputs": [],
   "source": [
    "with open(\"data/stopwords_keyword_filter.txt\") as f:\n",
    "    \n",
    "    keywords_stopwords = f.readlines()\n",
    "    "
   ]
  },
  {
   "cell_type": "code",
   "execution_count": 131,
   "metadata": {},
   "outputs": [],
   "source": [
    "keywords_stopwords = [word.strip() for word in keywords_stopwords]"
   ]
  },
  {
   "cell_type": "code",
   "execution_count": null,
   "metadata": {},
   "outputs": [],
   "source": []
  },
  {
   "cell_type": "code",
   "execution_count": 132,
   "metadata": {},
   "outputs": [],
   "source": [
    "keywords_filtered = [word for word in all_keywords if word not in keywords_stopwords]"
   ]
  },
  {
   "cell_type": "code",
   "execution_count": 133,
   "metadata": {},
   "outputs": [
    {
     "data": {
      "text/plain": [
       "326"
      ]
     },
     "execution_count": 133,
     "metadata": {},
     "output_type": "execute_result"
    }
   ],
   "source": [
    "len(keywords_filtered)"
   ]
  },
  {
   "cell_type": "code",
   "execution_count": 136,
   "metadata": {},
   "outputs": [],
   "source": [
    "with open(\"output/filtered_keywords.txt\",\"w+\") as f:\n",
    "    \n",
    "    for word in keywords_filtered:\n",
    "        f.write(word+\"\\n\")"
   ]
  },
  {
   "cell_type": "code",
   "execution_count": null,
   "metadata": {},
   "outputs": [],
   "source": []
  },
  {
   "cell_type": "code",
   "execution_count": null,
   "metadata": {},
   "outputs": [],
   "source": []
  },
  {
   "cell_type": "code",
   "execution_count": 23,
   "metadata": {},
   "outputs": [],
   "source": [
    "sample_text = text_list[1]"
   ]
  },
  {
   "cell_type": "code",
   "execution_count": 24,
   "metadata": {},
   "outputs": [],
   "source": [
    "allowPOS = [\"n\",\"v\"]\n",
    "stopwords = [\"为了\",\"依法\"]\n",
    "span = 3\n",
    "tr_keyword = TextRank(allowPOS,stopwords,span)"
   ]
  },
  {
   "cell_type": "code",
   "execution_count": 26,
   "metadata": {},
   "outputs": [
    {
     "data": {
      "application/vnd.plotly.v1+json": {
       "config": {
        "plotlyServerURL": "https://plot.ly"
       },
       "data": [
        {
         "hoverinfo": "text",
         "line": {
          "color": "cornflowerblue",
          "width": 0.3
         },
         "mode": "lines",
         "text": [
          "进项税额--抵扣: 1.0"
         ],
         "type": "scatter",
         "x": [
          0.03724212101693734,
          0.033983141916174034,
          null
         ],
         "y": [
          0.03736959190197523,
          0.0034172320301626593,
          null
         ]
        },
        {
         "hoverinfo": "text",
         "line": {
          "color": "cornflowerblue",
          "width": 0.08919053362520407
         },
         "mode": "lines",
         "text": [
          "抵扣--通行费: 0.5"
         ],
         "type": "scatter",
         "x": [
          0.033983141916174034,
          0.027803390346876688,
          null
         ],
         "y": [
          0.0034172320301626593,
          -0.05425826432451457,
          null
         ]
        },
        {
         "hoverinfo": "text",
         "line": {
          "color": "cornflowerblue",
          "width": 0.1475575892933762
         },
         "mode": "lines",
         "text": [
          "增值税--政策: 0.6666666666666666"
         ],
         "type": "scatter",
         "x": [
          -0.036137386471773475,
          -0.051666776895716894,
          null
         ],
         "y": [
          -0.07510393917436547,
          -0.11339542045728422,
          null
         ]
        },
        {
         "hoverinfo": "text",
         "line": {
          "color": "cornflowerblue",
          "width": 0.3
         },
         "mode": "lines",
         "text": [
          "增值税--免征: 1.0"
         ],
         "type": "scatter",
         "x": [
          -0.036137386471773475,
          -0.068792805556145,
          null
         ],
         "y": [
          -0.07510393917436547,
          -0.086925595376643,
          null
         ]
        },
        {
         "hoverinfo": "text",
         "line": {
          "color": "cornflowerblue",
          "width": 0.3
         },
         "mode": "lines",
         "text": [
          "增值税--缴纳: 1.0"
         ],
         "type": "scatter",
         "x": [
          -0.036137386471773475,
          -0.065532655296772,
          null
         ],
         "y": [
          -0.07510393917436547,
          -0.05716001472856355,
          null
         ]
        },
        {
         "hoverinfo": "text",
         "line": {
          "color": "cornflowerblue",
          "width": 0.08919053362520407
         },
         "mode": "lines",
         "text": [
          "增值税--通行费: 0.5"
         ],
         "type": "scatter",
         "x": [
          -0.036137386471773475,
          0.027803390346876688,
          null
         ],
         "y": [
          -0.07510393917436547,
          -0.05425826432451457,
          null
         ]
        },
        {
         "hoverinfo": "text",
         "line": {
          "color": "cornflowerblue",
          "width": 0.08919053362520407
         },
         "mode": "lines",
         "text": [
          "增值税--收费公路: 0.5"
         ],
         "type": "scatter",
         "x": [
          -0.036137386471773475,
          -0.008362643197860465,
          null
         ],
         "y": [
          -0.07510393917436547,
          -0.05685560596743851,
          null
         ]
        },
        {
         "hoverinfo": "text",
         "line": {
          "color": "cornflowerblue",
          "width": 0.1475575892933762
         },
         "mode": "lines",
         "text": [
          "纳税人--支付: 0.6666666666666666"
         ],
         "type": "scatter",
         "x": [
          0.14423500444738188,
          0.14518655672394953,
          null
         ],
         "y": [
          0.5495549254851126,
          0.5760196770407174,
          null
         ]
        },
        {
         "hoverinfo": "text",
         "line": {
          "color": "cornflowerblue",
          "width": 0.08919053362520407
         },
         "mode": "lines",
         "text": [
          "收入--担保费: 0.5"
         ],
         "type": "scatter",
         "x": [
          -0.3570860252823039,
          -0.3405626179679248,
          null
         ],
         "y": [
          -0.7264418015366374,
          -0.6904757491859475,
          null
         ]
        },
        {
         "hoverinfo": "text",
         "line": {
          "color": "cornflowerblue",
          "width": 0.08919053362520407
         },
         "mode": "lines",
         "text": [
          "收入--营业: 0.5"
         ],
         "type": "scatter",
         "x": [
          -0.3570860252823039,
          -0.37275858575907833,
          null
         ],
         "y": [
          -0.7264418015366374,
          -0.7607267392433426,
          null
         ]
        },
        {
         "hoverinfo": "text",
         "line": {
          "color": "cornflowerblue",
          "width": 0.08919053362520407
         },
         "mode": "lines",
         "text": [
          "取得--通行费: 0.5"
         ],
         "type": "scatter",
         "x": [
          0.061056858968294825,
          0.027803390346876688,
          null
         ],
         "y": [
          -0.08268983082008552,
          -0.05425826432451457,
          null
         ]
        },
        {
         "hoverinfo": "text",
         "line": {
          "color": "cornflowerblue",
          "width": 0.08919053362520407
         },
         "mode": "lines",
         "text": [
          "单位--个人: 0.5"
         ],
         "type": "scatter",
         "x": [
          0.5361107918368381,
          0.5539185365231425,
          null
         ],
         "y": [
          0.5565908590266139,
          0.5770866479375835,
          null
         ]
        },
        {
         "hoverinfo": "text",
         "line": {
          "color": "cornflowerblue",
          "width": 0.1475575892933762
         },
         "mode": "lines",
         "text": [
          "发票--通行费: 0.6666666666666666"
         ],
         "type": "scatter",
         "x": [
          0.07617346962010937,
          0.027803390346876688,
          null
         ],
         "y": [
          -0.04854225880032235,
          -0.05425826432451457,
          null
         ]
        },
        {
         "hoverinfo": "text",
         "line": {
          "color": "cornflowerblue",
          "width": 0.1475575892933762
         },
         "mode": "lines",
         "text": [
          "发票--注明: 0.6666666666666666"
         ],
         "type": "scatter",
         "x": [
          0.07617346962010937,
          0.11546170853173236,
          null
         ],
         "y": [
          -0.04854225880032235,
          -0.04680489730541108,
          null
         ]
        },
        {
         "hoverinfo": "text",
         "line": {
          "color": "cornflowerblue",
          "width": 0.08919053362520407
         },
         "mode": "lines",
         "text": [
          "资管--产品: 0.5"
         ],
         "type": "scatter",
         "x": [
          0.38411953930533793,
          0.3566294842350054,
          null
         ],
         "y": [
          0.2236019580376215,
          0.22071350999011707,
          null
         ]
        },
        {
         "hoverinfo": "text",
         "line": {
          "color": "cornflowerblue",
          "width": 0.08919053362520407
         },
         "mode": "lines",
         "text": [
          "计算--公式: 0.5"
         ],
         "type": "scatter",
         "x": [
          -0.7253744428764374,
          -0.7504960447209592,
          null
         ],
         "y": [
          0.1865749583468494,
          0.19194023755042167,
          null
         ]
        },
        {
         "hoverinfo": "text",
         "line": {
          "color": "cornflowerblue",
          "width": 0.08919053362520407
         },
         "mode": "lines",
         "text": [
          "担保--生效: 0.5"
         ],
         "type": "scatter",
         "x": [
          -0.42708853706433214,
          -0.41817324918531945,
          null
         ],
         "y": [
          0.17149824848495918,
          0.19744177007651548,
          null
         ]
        },
        {
         "hoverinfo": "text",
         "line": {
          "color": "cornflowerblue",
          "width": 0.21804898737335532
         },
         "mode": "lines",
         "text": [
          "团体--社会: 0.8333333333333334"
         ],
         "type": "scatter",
         "x": [
          0.14508095488343792,
          0.12972140334406343,
          null
         ],
         "y": [
          -0.7451331669980397,
          -0.7278149851449741,
          null
         ]
        },
        {
         "hoverinfo": "text",
         "line": {
          "color": "cornflowerblue",
          "width": 0.08919053362520407
         },
         "mode": "lines",
         "text": [
          "通行费--收费公路: 0.5"
         ],
         "type": "scatter",
         "x": [
          0.027803390346876688,
          -0.008362643197860465,
          null
         ],
         "y": [
          -0.05425826432451457,
          -0.05685560596743851,
          null
         ]
        },
        {
         "hoverinfo": "text",
         "line": {
          "color": "cornflowerblue",
          "width": 0.08919053362520407
         },
         "mode": "lines",
         "text": [
          "通行费--公路: 0.5"
         ],
         "type": "scatter",
         "x": [
          0.027803390346876688,
          0.03311900083900905,
          null
         ],
         "y": [
          -0.05425826432451457,
          -0.09913286817230024,
          null
         ]
        },
        {
         "hoverinfo": "none",
         "marker": {
          "color": [
           "cornflowerblue",
           "cornflowerblue",
           "cornflowerblue",
           "cornflowerblue",
           "cornflowerblue",
           "cornflowerblue",
           "cornflowerblue",
           "cornflowerblue",
           "cornflowerblue",
           "cornflowerblue",
           "cornflowerblue",
           "cornflowerblue",
           "cornflowerblue",
           "cornflowerblue",
           "cornflowerblue",
           "cornflowerblue",
           "cornflowerblue",
           "cornflowerblue",
           "cornflowerblue",
           "cornflowerblue",
           "cornflowerblue",
           "cornflowerblue",
           "cornflowerblue",
           "cornflowerblue",
           "cornflowerblue",
           "cornflowerblue",
           "cornflowerblue",
           "cornflowerblue",
           "cornflowerblue",
           "cornflowerblue",
           "cornflowerblue",
           "cornflowerblue",
           "cornflowerblue",
           "cornflowerblue",
           "cornflowerblue",
           "cornflowerblue",
           "cornflowerblue",
           "cornflowerblue",
           "cornflowerblue",
           "cornflowerblue",
           "cornflowerblue",
           "cornflowerblue",
           "cornflowerblue",
           "cornflowerblue",
           "cornflowerblue",
           "cornflowerblue",
           "cornflowerblue",
           "cornflowerblue",
           "cornflowerblue",
           "cornflowerblue",
           "cornflowerblue",
           "cornflowerblue",
           "cornflowerblue",
           "cornflowerblue",
           "cornflowerblue",
           "cornflowerblue",
           "cornflowerblue",
           "cornflowerblue",
           "cornflowerblue",
           "cornflowerblue",
           "cornflowerblue",
           "cornflowerblue",
           "cornflowerblue",
           "cornflowerblue",
           "cornflowerblue",
           "cornflowerblue",
           "cornflowerblue",
           "cornflowerblue",
           "cornflowerblue",
           "cornflowerblue",
           "cornflowerblue",
           "cornflowerblue",
           "cornflowerblue",
           "cornflowerblue",
           "cornflowerblue",
           "cornflowerblue",
           "cornflowerblue",
           "cornflowerblue",
           "cornflowerblue",
           "cornflowerblue",
           "cornflowerblue",
           "cornflowerblue",
           "cornflowerblue",
           "cornflowerblue",
           "cornflowerblue",
           "cornflowerblue",
           "cornflowerblue",
           "cornflowerblue",
           "cornflowerblue",
           "cornflowerblue",
           "cornflowerblue",
           "cornflowerblue",
           "cornflowerblue",
           "cornflowerblue",
           "cornflowerblue",
           "cornflowerblue",
           "cornflowerblue",
           "cornflowerblue",
           "cornflowerblue",
           "cornflowerblue",
           "cornflowerblue",
           "cornflowerblue",
           "cornflowerblue",
           "cornflowerblue",
           "cornflowerblue",
           "cornflowerblue",
           "cornflowerblue",
           "cornflowerblue",
           "cornflowerblue",
           "cornflowerblue",
           "cornflowerblue",
           "cornflowerblue",
           "cornflowerblue",
           "cornflowerblue",
           "cornflowerblue",
           "cornflowerblue",
           "cornflowerblue",
           "cornflowerblue",
           "cornflowerblue",
           "cornflowerblue",
           "cornflowerblue",
           "cornflowerblue",
           "cornflowerblue",
           "cornflowerblue",
           "cornflowerblue",
           "cornflowerblue",
           "cornflowerblue",
           "cornflowerblue",
           "cornflowerblue",
           "cornflowerblue",
           "cornflowerblue",
           "cornflowerblue",
           "cornflowerblue",
           "cornflowerblue",
           "cornflowerblue",
           "cornflowerblue",
           "cornflowerblue",
           "cornflowerblue",
           "cornflowerblue",
           "cornflowerblue",
           "cornflowerblue",
           "cornflowerblue",
           "cornflowerblue",
           "cornflowerblue",
           "cornflowerblue",
           "cornflowerblue",
           "cornflowerblue",
           "cornflowerblue",
           "cornflowerblue",
           "cornflowerblue",
           "cornflowerblue",
           "cornflowerblue",
           "cornflowerblue",
           "cornflowerblue",
           "cornflowerblue",
           "cornflowerblue",
           "cornflowerblue",
           "cornflowerblue",
           "cornflowerblue",
           "cornflowerblue",
           "cornflowerblue",
           "cornflowerblue",
           "cornflowerblue",
           "cornflowerblue",
           "cornflowerblue",
           "cornflowerblue",
           "cornflowerblue",
           "cornflowerblue",
           "cornflowerblue",
           "cornflowerblue",
           "cornflowerblue",
           "cornflowerblue",
           "cornflowerblue",
           "cornflowerblue",
           "cornflowerblue",
           "cornflowerblue",
           "cornflowerblue",
           "cornflowerblue",
           "cornflowerblue",
           "cornflowerblue",
           "cornflowerblue",
           "cornflowerblue",
           "cornflowerblue",
           "cornflowerblue",
           "cornflowerblue",
           "cornflowerblue",
           "cornflowerblue",
           "cornflowerblue",
           "cornflowerblue",
           "cornflowerblue",
           "cornflowerblue",
           "cornflowerblue",
           "cornflowerblue",
           "cornflowerblue",
           "cornflowerblue",
           "cornflowerblue",
           "cornflowerblue",
           "cornflowerblue",
           "cornflowerblue",
           "cornflowerblue",
           "cornflowerblue",
           "cornflowerblue",
           "cornflowerblue",
           "cornflowerblue",
           "cornflowerblue",
           "cornflowerblue",
           "cornflowerblue",
           "cornflowerblue",
           "cornflowerblue",
           "cornflowerblue",
           "cornflowerblue",
           "cornflowerblue",
           "cornflowerblue",
           "cornflowerblue",
           "cornflowerblue",
           "cornflowerblue",
           "cornflowerblue",
           "cornflowerblue",
           "cornflowerblue",
           "cornflowerblue",
           "cornflowerblue",
           "cornflowerblue",
           "cornflowerblue",
           "cornflowerblue",
           "cornflowerblue",
           "cornflowerblue",
           "cornflowerblue"
          ],
          "size": [
           5,
           5,
           5,
           5,
           5,
           5,
           5,
           5,
           5,
           5,
           5,
           5,
           5,
           5,
           5,
           5,
           5,
           5,
           5,
           5,
           5,
           5,
           5,
           5,
           5,
           5,
           5,
           5,
           5,
           5,
           5,
           5,
           5,
           5,
           5,
           5,
           5,
           5,
           5,
           5,
           5,
           5,
           5,
           5,
           5,
           5,
           5,
           5,
           5,
           5,
           5,
           5,
           5,
           5,
           5,
           5,
           5,
           5,
           5,
           5,
           5,
           5,
           5,
           5,
           5,
           5,
           5,
           5,
           5,
           5,
           5,
           5,
           5,
           5,
           5,
           5,
           5,
           5,
           5,
           5,
           5,
           5,
           5,
           5,
           5,
           5,
           5,
           5,
           5,
           5,
           5,
           5,
           5,
           5,
           5,
           5,
           5,
           5,
           5,
           5,
           5,
           5,
           5,
           5,
           5,
           5,
           5,
           5,
           5,
           5,
           5,
           5,
           5,
           5,
           5,
           5,
           5,
           5,
           5,
           5,
           5,
           5,
           5,
           5,
           5,
           5,
           5,
           5,
           5,
           5,
           5,
           5,
           5,
           5,
           5,
           5,
           5,
           5,
           5,
           5,
           5,
           5,
           5,
           5,
           5,
           5,
           5,
           5,
           5,
           5,
           5,
           5,
           5,
           5,
           5,
           5,
           5,
           5,
           5,
           5,
           5,
           5,
           5,
           5,
           5,
           5,
           5,
           5,
           5,
           5,
           5,
           5,
           5,
           5,
           5,
           5,
           5,
           5,
           5,
           5,
           5,
           5,
           5,
           5,
           5,
           5,
           5,
           5,
           5,
           5,
           5,
           5,
           5,
           5,
           5,
           5,
           5,
           5,
           5,
           5,
           5,
           5,
           5,
           5,
           5,
           5,
           5,
           5,
           5,
           5,
           5,
           5,
           5,
           5,
           5,
           5,
           5,
           5,
           5,
           5,
           5,
           5,
           5,
           5,
           5,
           5,
           5
          ]
         },
         "mode": "markers+text",
         "text": [
          "<b>自治区</b>",
          "<b>直辖市</b>",
          "<b>计划单列市</b>",
          "<b>租入</b>",
          "<b>进项税额</b>",
          "<b>抵扣</b>",
          "<b>增值税</b>",
          "<b>政策</b>",
          "<b>通知</b>",
          "<b>纳税人</b>",
          "<b>用于</b>",
          "<b>计税</b>",
          "<b>方法</b>",
          "<b>项目</b>",
          "<b>免征</b>",
          "<b>集体福利</b>",
          "<b>个人消费</b>",
          "<b>准予</b>",
          "<b>销项税额</b>",
          "<b>全额</b>",
          "<b>售票</b>",
          "<b>客户</b>",
          "<b>票证</b>",
          "<b>收入</b>",
          "<b>缴纳</b>",
          "<b>办理</b>",
          "<b>退票</b>",
          "<b>收取</b>",
          "<b>退票费</b>",
          "<b>手续费</b>",
          "<b>代理</b>",
          "<b>企业</b>",
          "<b>提供</b>",
          "<b>航段</b>",
          "<b>机票代理</b>",
          "<b>取得</b>",
          "<b>全部</b>",
          "<b>价款</b>",
          "<b>价外</b>",
          "<b>费用</b>",
          "<b>扣除</b>",
          "<b>支付</b>",
          "<b>单位</b>",
          "<b>个人</b>",
          "<b>机票</b>",
          "<b>结算</b>",
          "<b>相关</b>",
          "<b>余额</b>",
          "<b>销售额</b>",
          "<b>款项</b>",
          "<b>发票</b>",
          "<b>行程</b>",
          "<b>合法</b>",
          "<b>凭证</b>",
          "<b>签收</b>",
          "<b>单据</b>",
          "<b>税务机关</b>",
          "<b>疑义</b>",
          "<b>要求</b>",
          "<b>公证</b>",
          "<b>机构</b>",
          "<b>确认</b>",
          "<b>证明</b>",
          "<b>资质</b>",
          "<b>认可</b>",
          "<b>办法</b>",
          "<b>协会</b>",
          "<b>颁发</b>",
          "<b>业务</b>",
          "<b>证书</b>",
          "<b>委托</b>",
          "<b>双方</b>",
          "<b>签订</b>",
          "<b>代理服务</b>",
          "<b>采取</b>",
          "<b>转包</b>",
          "<b>出租</b>",
          "<b>互换</b>",
          "<b>转让</b>",
          "<b>入股</b>",
          "<b>方式</b>",
          "<b>承包地</b>",
          "<b>流转</b>",
          "<b>农业生产者</b>",
          "<b>农业</b>",
          "<b>下发</b>",
          "<b>可抵</b>",
          "<b>月份</b>",
          "<b>退税</b>",
          "<b>资管</b>",
          "<b>产品</b>",
          "<b>问题</b>",
          "<b>贷款</b>",
          "<b>发生</b>",
          "<b>部分</b>",
          "<b>金融</b>",
          "<b>商品</b>",
          "<b>规定</b>",
          "<b>确定</b>",
          "<b>产生</b>",
          "<b>利息</b>",
          "<b>性质</b>",
          "<b>股票</b>",
          "<b>包括</b>",
          "<b>限售</b>",
          "<b>债券</b>",
          "<b>基金</b>",
          "<b>货物</b>",
          "<b>期货</b>",
          "<b>选择</b>",
          "<b>实际</b>",
          "<b>买入价</b>",
          "<b>计算</b>",
          "<b>交易日</b>",
          "<b>收盘价</b>",
          "<b>处于</b>",
          "<b>停牌</b>",
          "<b>估值</b>",
          "<b>中债</b>",
          "<b>中心</b>",
          "<b>有限公司</b>",
          "<b>指数</b>",
          "<b>份额</b>",
          "<b>净值</b>",
          "<b>价格</b>",
          "<b>作为</b>",
          "<b>农户</b>",
          "<b>小型企业</b>",
          "<b>个体</b>",
          "<b>工商户</b>",
          "<b>借款</b>",
          "<b>发行</b>",
          "<b>担保</b>",
          "<b>担保费</b>",
          "<b>适用</b>",
          "<b>免税</b>",
          "<b>材料</b>",
          "<b>留存</b>",
          "<b>核算</b>",
          "<b>符合</b>",
          "<b>条件</b>",
          "<b>现行</b>",
          "<b>主管</b>",
          "<b>纳税</b>",
          "<b>不得</b>",
          "<b>居住</b>",
          "<b>乡镇</b>",
          "<b>行政</b>",
          "<b>区域</b>",
          "<b>行政村</b>",
          "<b>范围</b>",
          "<b>住户</b>",
          "<b>户口</b>",
          "<b>农场</b>",
          "<b>职工</b>",
          "<b>位于</b>",
          "<b>国有经济</b>",
          "<b>机关</b>",
          "<b>团体</b>",
          "<b>学校</b>",
          "<b>企事业</b>",
          "<b>集体户</b>",
          "<b>举家</b>",
          "<b>外出</b>",
          "<b>谋生</b>",
          "<b>是否</b>",
          "<b>保留</b>",
          "<b>承包</b>",
          "<b>耕地</b>",
          "<b>属于</b>",
          "<b>统计</b>",
          "<b>从事</b>",
          "<b>判定</b>",
          "<b>应以</b>",
          "<b>生效</b>",
          "<b>被担保人</b>",
          "<b>为准</b>",
          "<b>部联</b>",
          "<b>资产</b>",
          "<b>总额</b>",
          "<b>状态</b>",
          "<b>营业</b>",
          "<b>指标</b>",
          "<b>累计数</b>",
          "<b>公式</b>",
          "<b>存续</b>",
          "<b>全面</b>",
          "<b>推开</b>",
          "<b>营业税</b>",
          "<b>改征</b>",
          "<b>试点</b>",
          "<b>过渡</b>",
          "<b>信用</b>",
          "<b>停止</b>",
          "<b>执行</b>",
          "<b>享受</b>",
          "<b>继续</b>",
          "<b>期满</b>",
          "<b>为止</b>",
          "<b>道路</b>",
          "<b>通行费</b>",
          "<b>收费公路</b>",
          "<b>电子</b>",
          "<b>普通发票</b>",
          "<b>注明</b>",
          "<b>公路</b>",
          "<b>未能</b>",
          "<b>收费</b>",
          "<b>金额</b>",
          "<b>下列</b>",
          "<b>设立</b>",
          "<b>过路</b>",
          "<b>过桥</b>",
          "<b>过闸</b>",
          "<b>社会</b>",
          "<b>会费</b>",
          "<b>法律法规</b>",
          "<b>登记</b>",
          "<b>法人</b>",
          "<b>国家</b>",
          "<b>社团</b>",
          "<b>章程</b>",
          "<b>会员</b>",
          "<b>团体会员</b>",
          "<b>开展</b>",
          "<b>服务性</b>",
          "<b>照章</b>"
         ],
         "textfont": {
          "size": 10
         },
         "textposition": "top center",
         "type": "scatter",
         "x": [
          -0.8159274802905753,
          -0.002941652197406012,
          -0.5888842356260774,
          0.28950054714069207,
          0.03724212101693734,
          0.033983141916174034,
          -0.036137386471773475,
          -0.051666776895716894,
          -0.9415577425004278,
          0.14423500444738188,
          -0.9043322155676231,
          0.7394346416667704,
          -0.5507513929325195,
          0.5858712716543844,
          -0.068792805556145,
          -0.6672547747155648,
          0.5636587571126922,
          -0.7750012406946716,
          -0.9587106245217079,
          0.790758912986041,
          -0.8371532456899897,
          0.8564518908342837,
          0.8583603515617516,
          -0.3570860252823039,
          -0.065532655296772,
          -0.4417486398190369,
          -0.48274941410838074,
          0.7565818843260763,
          0.46005411719434774,
          0.731643874040537,
          0.6852092909242024,
          -0.008025364545661046,
          -0.7175775790123897,
          0.8515427618424041,
          -0.26470333359559595,
          0.061056858968294825,
          -0.36971800571612584,
          0.03225127552746806,
          -0.8745299348425163,
          0.8174090326997474,
          -0.6127115665839619,
          0.14518655672394953,
          0.5361107918368381,
          0.5539185365231425,
          -0.6971590679127673,
          0.5163338042273922,
          0.5899547286210958,
          -0.9576731857004519,
          -0.5619431596729779,
          0.9712769596852843,
          0.07617346962010937,
          0.7968428386937357,
          -0.8842635199890984,
          0.08760391827418454,
          0.1779701755892024,
          -0.7118856087613737,
          -0.9303139659092835,
          -0.6772226984599385,
          -0.8410689400005869,
          0.6940727286044608,
          0.6170291582641932,
          0.9374661729664973,
          -0.8220699582854764,
          -0.2944332585480402,
          -0.9564658663106718,
          0.33897312543862435,
          0.9466894597043966,
          0.40485481539569323,
          0.4786597766674482,
          0.9006111613372741,
          -0.33315551663177556,
          0.15645920913327319,
          0.9719787687478206,
          0.9232158561732188,
          -0.35009286397288847,
          -0.4829015577330738,
          -0.1041578120601939,
          -0.9847704727026669,
          0.255853699468173,
          0.6742978559365537,
          0.5348111371387059,
          0.22749068471782766,
          -0.9728829731345859,
          0.7468392334991353,
          -0.7075816073638679,
          -0.8352591689926104,
          -0.12019065158781546,
          -0.637681853639553,
          0.9090674623051649,
          0.38411953930533793,
          0.3566294842350054,
          -0.0792096375695326,
          0.9927254882337591,
          0.037725469364899726,
          -0.9533490799966031,
          -0.8427442994793978,
          0.2850090031049291,
          0.7638092729184857,
          -0.49608666116624367,
          0.9974738761529824,
          0.937432877297149,
          0.9468894353668029,
          0.985296265043272,
          0.46743005321843367,
          0.005299009755812167,
          0.9161908907983762,
          0.8364112800196416,
          -0.9206149764896747,
          -0.5626934382681377,
          -0.39447589119609017,
          0.18453326199522738,
          -0.9600200447593954,
          -0.7253744428764374,
          0.6873921666540368,
          0.865857533276516,
          0.9139622365018266,
          0.7864260921738581,
          0.13779902957916793,
          -0.9312370063020572,
          0.6525676598646365,
          -0.8903641588439012,
          0.7759513176451989,
          -0.05869930629273138,
          -0.9119798404377095,
          0.34450329111087563,
          0.10564044179014045,
          0.9542699786661983,
          0.9672360550997523,
          0.7199931270604504,
          -0.7153400216569914,
          0.24302374874763014,
          0.497686072908648,
          -0.42708853706433214,
          -0.3405626179679248,
          -0.04135576680785923,
          0.45562475181892303,
          -0.08811233617257622,
          -0.18965328420958996,
          -0.9874279247989965,
          -0.6285581189158644,
          0.07264245072972003,
          -0.6128343748322925,
          -0.11342108288362902,
          -0.7672031297791606,
          -0.4187829278054074,
          0.4402194200384593,
          -0.300810492715927,
          -0.9757250507033786,
          -0.16540726337927086,
          0.791503458217986,
          -0.9135269062479615,
          -0.2518471956691299,
          -0.9112387334063653,
          0.8944678994035555,
          -0.935769824680625,
          -0.7886033288374753,
          -0.2601599518210656,
          0.872382491625739,
          0.14508095488343792,
          0.5969341824177757,
          -0.46998005980794144,
          -0.13468542380912507,
          -0.20998258619509305,
          -0.6629786636568721,
          -0.5522773660760915,
          -0.7726476869028478,
          -0.750213038628442,
          -0.8978859750703532,
          0.09407977572878136,
          -0.8443923844062179,
          -0.9203434803538897,
          -0.37628672810352104,
          0.8848745225996343,
          -0.5777253568390595,
          -0.41817324918531945,
          -0.7197412826453466,
          0.39425187776180753,
          -0.7812164715185297,
          0.9544007573683612,
          0.6822837469232761,
          0.8870757503422237,
          -0.37275858575907833,
          0.8583912799794494,
          0.4529042272901782,
          -0.7504960447209592,
          -0.4802878959875071,
          0.7734024402802888,
          0.35556632541218947,
          0.32704401737065436,
          -0.8711544894205437,
          0.6127093735300535,
          -0.23071388648893268,
          0.7414036560385356,
          -0.9005826944069542,
          -0.7734621616226064,
          -0.849444120869503,
          0.9306172534682455,
          -0.16278032869977346,
          -0.6596138427629898,
          -0.3400984478944623,
          0.027803390346876688,
          -0.008362643197860465,
          -0.19138039780476673,
          0.267991059351953,
          0.11546170853173236,
          0.03311900083900905,
          -0.8144811962744473,
          -0.9463938765285106,
          0.9162338022521713,
          0.10197789704641778,
          0.8932075818668626,
          0.1977321175063169,
          0.496958794399315,
          0.8398587203569245,
          0.12972140334406343,
          0.6589632027562035,
          0.35109904109417384,
          0.9853386940174321,
          -0.42714036092219393,
          0.8346536436677691,
          -0.8618687159237807,
          -0.5150248012632795,
          0.5617134584622344,
          -0.9320440467715589,
          0.8127708119642586,
          0.9485089886847257,
          0.3883180356243882
         ],
         "y": [
          0.5851621615666168,
          -0.9638127123931255,
          -0.8651555802725995,
          -0.8765938221990445,
          0.03736959190197523,
          0.0034172320301626593,
          -0.07510393917436547,
          -0.11339542045728422,
          0.12658388112683008,
          0.5495549254851126,
          0.4576741507987252,
          0.640968215583127,
          -0.6690857104497544,
          -0.7566336425607804,
          -0.086925595376643,
          0.6375975238490056,
          0.7981295033140273,
          -0.5023686402175709,
          -0.2901917854272995,
          0.5885884565472566,
          0.4484219898275659,
          0.2525421682921327,
          0.41955247463510253,
          -0.7264418015366374,
          -0.05716001472856355,
          0.8977491807437668,
          0.7067841282971064,
          -0.699040955488739,
          0.7192992747475807,
          0.7647328404857537,
          0.6398818437540658,
          0.9564693133246537,
          0.6361556676643473,
          0.5253670186025713,
          -0.9663300098152691,
          -0.08268983082008552,
          0.8029654192440702,
          0.9867289836217416,
          0.5414034206908507,
          0.6394309755940893,
          -0.720595745461867,
          0.5760196770407174,
          0.5565908590266139,
          0.5770866479375835,
          -0.5292171904817818,
          -0.8471376566334379,
          -0.6801155539190655,
          0.07943373349598562,
          -0.801490827380793,
          0.1691209094466497,
          -0.04854225880032235,
          -0.25944303127219576,
          -0.49419048342984756,
          -0.9822656445032564,
          0.9694515138416391,
          -0.7628845809458619,
          0.3231072265805759,
          -0.7339535528200324,
          -0.5595647344239447,
          0.5302793184900397,
          0.7863784522155713,
          0.34970854388439876,
          -0.5000080738701732,
          0.9289904097285758,
          -0.07157964594752855,
          0.8561621130041279,
          -0.15723773041029646,
          -0.812983750019196,
          -0.7519723256297974,
          -0.37547814483325886,
          -0.9384122147416185,
          -0.993374119683257,
          -0.0025229315788162314,
          -0.06506314690452557,
          0.9389603188647064,
          0.782106936771999,
          -0.8358871769113646,
          0.15759390772986337,
          -0.9684701510347814,
          -0.6359088655902696,
          0.8469592206146754,
          -0.9216265568446214,
          -0.2232075258546801,
          -0.5087809655761605,
          0.5454836754583487,
          -0.638071841606669,
          0.9831344129863491,
          0.8098443313911984,
          -0.32653097553366395,
          0.2236019580376215,
          0.22071350999011707,
          -0.9776360830384583,
          0.11444250187680566,
          -0.9342860809861057,
          0.24203347726122812,
          0.33026073817213186,
          0.9282447374309121,
          0.31286697058330765,
          0.8489999635811087,
          0.038627676829423536,
          -0.22871831612433507,
          0.21836049606779892,
          -0.05611829443214864,
          0.8556405175099421,
          0.8973325871316006,
          0.3002851988883892,
          -0.5512097183584506,
          -0.10487376209706145,
          0.702890967840476,
          -0.9473925137249689,
          -0.8942030875132116,
          -0.13399703762859916,
          0.1865749583468494,
          -0.7244294487545155,
          0.4684043212198345,
          -0.41899814256225687,
          0.4622469917293897,
          0.9448608139781013,
          0.18732263480898317,
          0.7322466007448348,
          0.21164871704390925,
          -0.41876362347604923,
          0.9720233728485695,
          -0.3319013140030132,
          0.9279126222076791,
          -0.917020358030935,
          0.0811774373788423,
          -0.10771240603164364,
          0.7072420939378209,
          -0.6622774837379182,
          0.9629218677112575,
          -0.6726800842213202,
          0.17149824848495918,
          -0.6904757491859475,
          -0.9183318691161738,
          0.9039536872251758,
          0.9248476917408857,
          -1,
          -0.03447867318728725,
          -0.7996164133794763,
          0.9313070495652356,
          0.7142751527849126,
          -0.9198830476762452,
          -0.6843319991413379,
          -0.8752368445319628,
          -0.9088092991482722,
          0.852177289003487,
          0.031659691588196516,
          0.9297256979134167,
          0.5336615770170511,
          -0.43675263999864433,
          0.9647677657332163,
          0.2824134140559532,
          0.006668094012654245,
          -0.010648152765657544,
          0.67853191602698,
          -0.9116708093880883,
          0.3600397622850927,
          -0.7451331669980397,
          0.7099219886224363,
          -0.9009588357905012,
          0.8558337421682752,
          -0.8783667961882308,
          0.7188489065497673,
          0.8509884552325573,
          0.5923511664998098,
          0.45414832531210314,
          0.04797381870188227,
          0.9718726482503154,
          -0.30424574200768567,
          0.3845216705176601,
          0.8937005165168196,
          -0.2743735384228622,
          0.7878689413734015,
          0.19744177007651548,
          0.7208246182790538,
          0.8929735246761789,
          -0.6068966680466408,
          0.26656658887560647,
          -0.782127930427546,
          -0.4904610607779258,
          -0.7607267392433426,
          0.09584502489455855,
          -0.8492636685770888,
          0.19194023755042167,
          -0.7827671257010993,
          -0.5687883689032677,
          -0.9533023143798013,
          -0.8132948232199577,
          -0.17144483302636843,
          -0.806774162482003,
          0.8835007307046387,
          -0.6414959426830665,
          -0.25084644437462106,
          -0.37714822484833793,
          -0.40861099151446534,
          0.4158609331544587,
          -0.946324350846989,
          -0.6161582438508851,
          -0.8691379538049333,
          -0.05425826432451457,
          -0.05685560596743851,
          0.9667988755565272,
          0.8903312797210244,
          -0.04680489730541108,
          -0.09913286817230024,
          0.5099118424212196,
          -0.18698667315262454,
          0.16211920041406733,
          -0.854096957183613,
          -0.16428122975893764,
          0.917658455411196,
          0.7863819017398241,
          -0.397618186802007,
          -0.7278149851449741,
          -0.5818724486111947,
          -0.9037893173888097,
          -0.1887741664060673,
          0.8430126210069158,
          -0.48184067977794615,
          0.3872079851661621,
          -0.858629306377046,
          -0.8605574098933245,
          -0.37626269088648423,
          -0.6196436777617828,
          -0.28320101369201583,
          0.8012093302976762
         ]
        }
       ],
       "layout": {
        "paper_bgcolor": "rgba(0,0,0,0)",
        "plot_bgcolor": "rgba(0,0,0,0)",
        "showlegend": false,
        "template": {
         "data": {
          "bar": [
           {
            "error_x": {
             "color": "#2a3f5f"
            },
            "error_y": {
             "color": "#2a3f5f"
            },
            "marker": {
             "line": {
              "color": "#E5ECF6",
              "width": 0.5
             }
            },
            "type": "bar"
           }
          ],
          "barpolar": [
           {
            "marker": {
             "line": {
              "color": "#E5ECF6",
              "width": 0.5
             }
            },
            "type": "barpolar"
           }
          ],
          "carpet": [
           {
            "aaxis": {
             "endlinecolor": "#2a3f5f",
             "gridcolor": "white",
             "linecolor": "white",
             "minorgridcolor": "white",
             "startlinecolor": "#2a3f5f"
            },
            "baxis": {
             "endlinecolor": "#2a3f5f",
             "gridcolor": "white",
             "linecolor": "white",
             "minorgridcolor": "white",
             "startlinecolor": "#2a3f5f"
            },
            "type": "carpet"
           }
          ],
          "choropleth": [
           {
            "colorbar": {
             "outlinewidth": 0,
             "ticks": ""
            },
            "type": "choropleth"
           }
          ],
          "contour": [
           {
            "colorbar": {
             "outlinewidth": 0,
             "ticks": ""
            },
            "colorscale": [
             [
              0,
              "#0d0887"
             ],
             [
              0.1111111111111111,
              "#46039f"
             ],
             [
              0.2222222222222222,
              "#7201a8"
             ],
             [
              0.3333333333333333,
              "#9c179e"
             ],
             [
              0.4444444444444444,
              "#bd3786"
             ],
             [
              0.5555555555555556,
              "#d8576b"
             ],
             [
              0.6666666666666666,
              "#ed7953"
             ],
             [
              0.7777777777777778,
              "#fb9f3a"
             ],
             [
              0.8888888888888888,
              "#fdca26"
             ],
             [
              1,
              "#f0f921"
             ]
            ],
            "type": "contour"
           }
          ],
          "contourcarpet": [
           {
            "colorbar": {
             "outlinewidth": 0,
             "ticks": ""
            },
            "type": "contourcarpet"
           }
          ],
          "heatmap": [
           {
            "colorbar": {
             "outlinewidth": 0,
             "ticks": ""
            },
            "colorscale": [
             [
              0,
              "#0d0887"
             ],
             [
              0.1111111111111111,
              "#46039f"
             ],
             [
              0.2222222222222222,
              "#7201a8"
             ],
             [
              0.3333333333333333,
              "#9c179e"
             ],
             [
              0.4444444444444444,
              "#bd3786"
             ],
             [
              0.5555555555555556,
              "#d8576b"
             ],
             [
              0.6666666666666666,
              "#ed7953"
             ],
             [
              0.7777777777777778,
              "#fb9f3a"
             ],
             [
              0.8888888888888888,
              "#fdca26"
             ],
             [
              1,
              "#f0f921"
             ]
            ],
            "type": "heatmap"
           }
          ],
          "heatmapgl": [
           {
            "colorbar": {
             "outlinewidth": 0,
             "ticks": ""
            },
            "colorscale": [
             [
              0,
              "#0d0887"
             ],
             [
              0.1111111111111111,
              "#46039f"
             ],
             [
              0.2222222222222222,
              "#7201a8"
             ],
             [
              0.3333333333333333,
              "#9c179e"
             ],
             [
              0.4444444444444444,
              "#bd3786"
             ],
             [
              0.5555555555555556,
              "#d8576b"
             ],
             [
              0.6666666666666666,
              "#ed7953"
             ],
             [
              0.7777777777777778,
              "#fb9f3a"
             ],
             [
              0.8888888888888888,
              "#fdca26"
             ],
             [
              1,
              "#f0f921"
             ]
            ],
            "type": "heatmapgl"
           }
          ],
          "histogram": [
           {
            "marker": {
             "colorbar": {
              "outlinewidth": 0,
              "ticks": ""
             }
            },
            "type": "histogram"
           }
          ],
          "histogram2d": [
           {
            "colorbar": {
             "outlinewidth": 0,
             "ticks": ""
            },
            "colorscale": [
             [
              0,
              "#0d0887"
             ],
             [
              0.1111111111111111,
              "#46039f"
             ],
             [
              0.2222222222222222,
              "#7201a8"
             ],
             [
              0.3333333333333333,
              "#9c179e"
             ],
             [
              0.4444444444444444,
              "#bd3786"
             ],
             [
              0.5555555555555556,
              "#d8576b"
             ],
             [
              0.6666666666666666,
              "#ed7953"
             ],
             [
              0.7777777777777778,
              "#fb9f3a"
             ],
             [
              0.8888888888888888,
              "#fdca26"
             ],
             [
              1,
              "#f0f921"
             ]
            ],
            "type": "histogram2d"
           }
          ],
          "histogram2dcontour": [
           {
            "colorbar": {
             "outlinewidth": 0,
             "ticks": ""
            },
            "colorscale": [
             [
              0,
              "#0d0887"
             ],
             [
              0.1111111111111111,
              "#46039f"
             ],
             [
              0.2222222222222222,
              "#7201a8"
             ],
             [
              0.3333333333333333,
              "#9c179e"
             ],
             [
              0.4444444444444444,
              "#bd3786"
             ],
             [
              0.5555555555555556,
              "#d8576b"
             ],
             [
              0.6666666666666666,
              "#ed7953"
             ],
             [
              0.7777777777777778,
              "#fb9f3a"
             ],
             [
              0.8888888888888888,
              "#fdca26"
             ],
             [
              1,
              "#f0f921"
             ]
            ],
            "type": "histogram2dcontour"
           }
          ],
          "mesh3d": [
           {
            "colorbar": {
             "outlinewidth": 0,
             "ticks": ""
            },
            "type": "mesh3d"
           }
          ],
          "parcoords": [
           {
            "line": {
             "colorbar": {
              "outlinewidth": 0,
              "ticks": ""
             }
            },
            "type": "parcoords"
           }
          ],
          "pie": [
           {
            "automargin": true,
            "type": "pie"
           }
          ],
          "scatter": [
           {
            "marker": {
             "colorbar": {
              "outlinewidth": 0,
              "ticks": ""
             }
            },
            "type": "scatter"
           }
          ],
          "scatter3d": [
           {
            "line": {
             "colorbar": {
              "outlinewidth": 0,
              "ticks": ""
             }
            },
            "marker": {
             "colorbar": {
              "outlinewidth": 0,
              "ticks": ""
             }
            },
            "type": "scatter3d"
           }
          ],
          "scattercarpet": [
           {
            "marker": {
             "colorbar": {
              "outlinewidth": 0,
              "ticks": ""
             }
            },
            "type": "scattercarpet"
           }
          ],
          "scattergeo": [
           {
            "marker": {
             "colorbar": {
              "outlinewidth": 0,
              "ticks": ""
             }
            },
            "type": "scattergeo"
           }
          ],
          "scattergl": [
           {
            "marker": {
             "colorbar": {
              "outlinewidth": 0,
              "ticks": ""
             }
            },
            "type": "scattergl"
           }
          ],
          "scattermapbox": [
           {
            "marker": {
             "colorbar": {
              "outlinewidth": 0,
              "ticks": ""
             }
            },
            "type": "scattermapbox"
           }
          ],
          "scatterpolar": [
           {
            "marker": {
             "colorbar": {
              "outlinewidth": 0,
              "ticks": ""
             }
            },
            "type": "scatterpolar"
           }
          ],
          "scatterpolargl": [
           {
            "marker": {
             "colorbar": {
              "outlinewidth": 0,
              "ticks": ""
             }
            },
            "type": "scatterpolargl"
           }
          ],
          "scatterternary": [
           {
            "marker": {
             "colorbar": {
              "outlinewidth": 0,
              "ticks": ""
             }
            },
            "type": "scatterternary"
           }
          ],
          "surface": [
           {
            "colorbar": {
             "outlinewidth": 0,
             "ticks": ""
            },
            "colorscale": [
             [
              0,
              "#0d0887"
             ],
             [
              0.1111111111111111,
              "#46039f"
             ],
             [
              0.2222222222222222,
              "#7201a8"
             ],
             [
              0.3333333333333333,
              "#9c179e"
             ],
             [
              0.4444444444444444,
              "#bd3786"
             ],
             [
              0.5555555555555556,
              "#d8576b"
             ],
             [
              0.6666666666666666,
              "#ed7953"
             ],
             [
              0.7777777777777778,
              "#fb9f3a"
             ],
             [
              0.8888888888888888,
              "#fdca26"
             ],
             [
              1,
              "#f0f921"
             ]
            ],
            "type": "surface"
           }
          ],
          "table": [
           {
            "cells": {
             "fill": {
              "color": "#EBF0F8"
             },
             "line": {
              "color": "white"
             }
            },
            "header": {
             "fill": {
              "color": "#C8D4E3"
             },
             "line": {
              "color": "white"
             }
            },
            "type": "table"
           }
          ]
         },
         "layout": {
          "annotationdefaults": {
           "arrowcolor": "#2a3f5f",
           "arrowhead": 0,
           "arrowwidth": 1
          },
          "coloraxis": {
           "colorbar": {
            "outlinewidth": 0,
            "ticks": ""
           }
          },
          "colorscale": {
           "diverging": [
            [
             0,
             "#8e0152"
            ],
            [
             0.1,
             "#c51b7d"
            ],
            [
             0.2,
             "#de77ae"
            ],
            [
             0.3,
             "#f1b6da"
            ],
            [
             0.4,
             "#fde0ef"
            ],
            [
             0.5,
             "#f7f7f7"
            ],
            [
             0.6,
             "#e6f5d0"
            ],
            [
             0.7,
             "#b8e186"
            ],
            [
             0.8,
             "#7fbc41"
            ],
            [
             0.9,
             "#4d9221"
            ],
            [
             1,
             "#276419"
            ]
           ],
           "sequential": [
            [
             0,
             "#0d0887"
            ],
            [
             0.1111111111111111,
             "#46039f"
            ],
            [
             0.2222222222222222,
             "#7201a8"
            ],
            [
             0.3333333333333333,
             "#9c179e"
            ],
            [
             0.4444444444444444,
             "#bd3786"
            ],
            [
             0.5555555555555556,
             "#d8576b"
            ],
            [
             0.6666666666666666,
             "#ed7953"
            ],
            [
             0.7777777777777778,
             "#fb9f3a"
            ],
            [
             0.8888888888888888,
             "#fdca26"
            ],
            [
             1,
             "#f0f921"
            ]
           ],
           "sequentialminus": [
            [
             0,
             "#0d0887"
            ],
            [
             0.1111111111111111,
             "#46039f"
            ],
            [
             0.2222222222222222,
             "#7201a8"
            ],
            [
             0.3333333333333333,
             "#9c179e"
            ],
            [
             0.4444444444444444,
             "#bd3786"
            ],
            [
             0.5555555555555556,
             "#d8576b"
            ],
            [
             0.6666666666666666,
             "#ed7953"
            ],
            [
             0.7777777777777778,
             "#fb9f3a"
            ],
            [
             0.8888888888888888,
             "#fdca26"
            ],
            [
             1,
             "#f0f921"
            ]
           ]
          },
          "colorway": [
           "#636efa",
           "#EF553B",
           "#00cc96",
           "#ab63fa",
           "#FFA15A",
           "#19d3f3",
           "#FF6692",
           "#B6E880",
           "#FF97FF",
           "#FECB52"
          ],
          "font": {
           "color": "#2a3f5f"
          },
          "geo": {
           "bgcolor": "white",
           "lakecolor": "white",
           "landcolor": "#E5ECF6",
           "showlakes": true,
           "showland": true,
           "subunitcolor": "white"
          },
          "hoverlabel": {
           "align": "left"
          },
          "hovermode": "closest",
          "mapbox": {
           "style": "light"
          },
          "paper_bgcolor": "white",
          "plot_bgcolor": "#E5ECF6",
          "polar": {
           "angularaxis": {
            "gridcolor": "white",
            "linecolor": "white",
            "ticks": ""
           },
           "bgcolor": "#E5ECF6",
           "radialaxis": {
            "gridcolor": "white",
            "linecolor": "white",
            "ticks": ""
           }
          },
          "scene": {
           "xaxis": {
            "backgroundcolor": "#E5ECF6",
            "gridcolor": "white",
            "gridwidth": 2,
            "linecolor": "white",
            "showbackground": true,
            "ticks": "",
            "zerolinecolor": "white"
           },
           "yaxis": {
            "backgroundcolor": "#E5ECF6",
            "gridcolor": "white",
            "gridwidth": 2,
            "linecolor": "white",
            "showbackground": true,
            "ticks": "",
            "zerolinecolor": "white"
           },
           "zaxis": {
            "backgroundcolor": "#E5ECF6",
            "gridcolor": "white",
            "gridwidth": 2,
            "linecolor": "white",
            "showbackground": true,
            "ticks": "",
            "zerolinecolor": "white"
           }
          },
          "shapedefaults": {
           "line": {
            "color": "#2a3f5f"
           }
          },
          "ternary": {
           "aaxis": {
            "gridcolor": "white",
            "linecolor": "white",
            "ticks": ""
           },
           "baxis": {
            "gridcolor": "white",
            "linecolor": "white",
            "ticks": ""
           },
           "bgcolor": "#E5ECF6",
           "caxis": {
            "gridcolor": "white",
            "linecolor": "white",
            "ticks": ""
           }
          },
          "title": {
           "x": 0.05
          },
          "xaxis": {
           "automargin": true,
           "gridcolor": "white",
           "linecolor": "white",
           "ticks": "",
           "title": {
            "standoff": 15
           },
           "zerolinecolor": "white",
           "zerolinewidth": 2
          },
          "yaxis": {
           "automargin": true,
           "gridcolor": "white",
           "linecolor": "white",
           "ticks": "",
           "title": {
            "standoff": 15
           },
           "zerolinecolor": "white",
           "zerolinewidth": 2
          }
         }
        },
        "xaxis": {
         "showgrid": false,
         "showticklabels": false,
         "zeroline": false
        },
        "yaxis": {
         "showgrid": false,
         "showticklabels": false,
         "zeroline": false
        }
       }
      },
      "text/html": [
       "<div>\n",
       "        \n",
       "        \n",
       "            <div id=\"3a8b48e0-0e79-42a3-8f54-7cda1e8f7149\" class=\"plotly-graph-div\" style=\"height:525px; width:100%;\"></div>\n",
       "            <script type=\"text/javascript\">\n",
       "                require([\"plotly\"], function(Plotly) {\n",
       "                    window.PLOTLYENV=window.PLOTLYENV || {};\n",
       "                    \n",
       "                if (document.getElementById(\"3a8b48e0-0e79-42a3-8f54-7cda1e8f7149\")) {\n",
       "                    Plotly.newPlot(\n",
       "                        '3a8b48e0-0e79-42a3-8f54-7cda1e8f7149',\n",
       "                        [{\"hoverinfo\": \"text\", \"line\": {\"color\": \"cornflowerblue\", \"width\": 0.3}, \"mode\": \"lines\", \"text\": [\"\\u8fdb\\u9879\\u7a0e\\u989d--\\u62b5\\u6263: 1.0\"], \"type\": \"scatter\", \"x\": [0.03724212101693734, 0.033983141916174034, null], \"y\": [0.03736959190197523, 0.0034172320301626593, null]}, {\"hoverinfo\": \"text\", \"line\": {\"color\": \"cornflowerblue\", \"width\": 0.08919053362520407}, \"mode\": \"lines\", \"text\": [\"\\u62b5\\u6263--\\u901a\\u884c\\u8d39: 0.5\"], \"type\": \"scatter\", \"x\": [0.033983141916174034, 0.027803390346876688, null], \"y\": [0.0034172320301626593, -0.05425826432451457, null]}, {\"hoverinfo\": \"text\", \"line\": {\"color\": \"cornflowerblue\", \"width\": 0.1475575892933762}, \"mode\": \"lines\", \"text\": [\"\\u589e\\u503c\\u7a0e--\\u653f\\u7b56: 0.6666666666666666\"], \"type\": \"scatter\", \"x\": [-0.036137386471773475, -0.051666776895716894, null], \"y\": [-0.07510393917436547, -0.11339542045728422, null]}, {\"hoverinfo\": \"text\", \"line\": {\"color\": \"cornflowerblue\", \"width\": 0.3}, \"mode\": \"lines\", \"text\": [\"\\u589e\\u503c\\u7a0e--\\u514d\\u5f81: 1.0\"], \"type\": \"scatter\", \"x\": [-0.036137386471773475, -0.068792805556145, null], \"y\": [-0.07510393917436547, -0.086925595376643, null]}, {\"hoverinfo\": \"text\", \"line\": {\"color\": \"cornflowerblue\", \"width\": 0.3}, \"mode\": \"lines\", \"text\": [\"\\u589e\\u503c\\u7a0e--\\u7f34\\u7eb3: 1.0\"], \"type\": \"scatter\", \"x\": [-0.036137386471773475, -0.065532655296772, null], \"y\": [-0.07510393917436547, -0.05716001472856355, null]}, {\"hoverinfo\": \"text\", \"line\": {\"color\": \"cornflowerblue\", \"width\": 0.08919053362520407}, \"mode\": \"lines\", \"text\": [\"\\u589e\\u503c\\u7a0e--\\u901a\\u884c\\u8d39: 0.5\"], \"type\": \"scatter\", \"x\": [-0.036137386471773475, 0.027803390346876688, null], \"y\": [-0.07510393917436547, -0.05425826432451457, null]}, {\"hoverinfo\": \"text\", \"line\": {\"color\": \"cornflowerblue\", \"width\": 0.08919053362520407}, \"mode\": \"lines\", \"text\": [\"\\u589e\\u503c\\u7a0e--\\u6536\\u8d39\\u516c\\u8def: 0.5\"], \"type\": \"scatter\", \"x\": [-0.036137386471773475, -0.008362643197860465, null], \"y\": [-0.07510393917436547, -0.05685560596743851, null]}, {\"hoverinfo\": \"text\", \"line\": {\"color\": \"cornflowerblue\", \"width\": 0.1475575892933762}, \"mode\": \"lines\", \"text\": [\"\\u7eb3\\u7a0e\\u4eba--\\u652f\\u4ed8: 0.6666666666666666\"], \"type\": \"scatter\", \"x\": [0.14423500444738188, 0.14518655672394953, null], \"y\": [0.5495549254851126, 0.5760196770407174, null]}, {\"hoverinfo\": \"text\", \"line\": {\"color\": \"cornflowerblue\", \"width\": 0.08919053362520407}, \"mode\": \"lines\", \"text\": [\"\\u6536\\u5165--\\u62c5\\u4fdd\\u8d39: 0.5\"], \"type\": \"scatter\", \"x\": [-0.3570860252823039, -0.3405626179679248, null], \"y\": [-0.7264418015366374, -0.6904757491859475, null]}, {\"hoverinfo\": \"text\", \"line\": {\"color\": \"cornflowerblue\", \"width\": 0.08919053362520407}, \"mode\": \"lines\", \"text\": [\"\\u6536\\u5165--\\u8425\\u4e1a: 0.5\"], \"type\": \"scatter\", \"x\": [-0.3570860252823039, -0.37275858575907833, null], \"y\": [-0.7264418015366374, -0.7607267392433426, null]}, {\"hoverinfo\": \"text\", \"line\": {\"color\": \"cornflowerblue\", \"width\": 0.08919053362520407}, \"mode\": \"lines\", \"text\": [\"\\u53d6\\u5f97--\\u901a\\u884c\\u8d39: 0.5\"], \"type\": \"scatter\", \"x\": [0.061056858968294825, 0.027803390346876688, null], \"y\": [-0.08268983082008552, -0.05425826432451457, null]}, {\"hoverinfo\": \"text\", \"line\": {\"color\": \"cornflowerblue\", \"width\": 0.08919053362520407}, \"mode\": \"lines\", \"text\": [\"\\u5355\\u4f4d--\\u4e2a\\u4eba: 0.5\"], \"type\": \"scatter\", \"x\": [0.5361107918368381, 0.5539185365231425, null], \"y\": [0.5565908590266139, 0.5770866479375835, null]}, {\"hoverinfo\": \"text\", \"line\": {\"color\": \"cornflowerblue\", \"width\": 0.1475575892933762}, \"mode\": \"lines\", \"text\": [\"\\u53d1\\u7968--\\u901a\\u884c\\u8d39: 0.6666666666666666\"], \"type\": \"scatter\", \"x\": [0.07617346962010937, 0.027803390346876688, null], \"y\": [-0.04854225880032235, -0.05425826432451457, null]}, {\"hoverinfo\": \"text\", \"line\": {\"color\": \"cornflowerblue\", \"width\": 0.1475575892933762}, \"mode\": \"lines\", \"text\": [\"\\u53d1\\u7968--\\u6ce8\\u660e: 0.6666666666666666\"], \"type\": \"scatter\", \"x\": [0.07617346962010937, 0.11546170853173236, null], \"y\": [-0.04854225880032235, -0.04680489730541108, null]}, {\"hoverinfo\": \"text\", \"line\": {\"color\": \"cornflowerblue\", \"width\": 0.08919053362520407}, \"mode\": \"lines\", \"text\": [\"\\u8d44\\u7ba1--\\u4ea7\\u54c1: 0.5\"], \"type\": \"scatter\", \"x\": [0.38411953930533793, 0.3566294842350054, null], \"y\": [0.2236019580376215, 0.22071350999011707, null]}, {\"hoverinfo\": \"text\", \"line\": {\"color\": \"cornflowerblue\", \"width\": 0.08919053362520407}, \"mode\": \"lines\", \"text\": [\"\\u8ba1\\u7b97--\\u516c\\u5f0f: 0.5\"], \"type\": \"scatter\", \"x\": [-0.7253744428764374, -0.7504960447209592, null], \"y\": [0.1865749583468494, 0.19194023755042167, null]}, {\"hoverinfo\": \"text\", \"line\": {\"color\": \"cornflowerblue\", \"width\": 0.08919053362520407}, \"mode\": \"lines\", \"text\": [\"\\u62c5\\u4fdd--\\u751f\\u6548: 0.5\"], \"type\": \"scatter\", \"x\": [-0.42708853706433214, -0.41817324918531945, null], \"y\": [0.17149824848495918, 0.19744177007651548, null]}, {\"hoverinfo\": \"text\", \"line\": {\"color\": \"cornflowerblue\", \"width\": 0.21804898737335532}, \"mode\": \"lines\", \"text\": [\"\\u56e2\\u4f53--\\u793e\\u4f1a: 0.8333333333333334\"], \"type\": \"scatter\", \"x\": [0.14508095488343792, 0.12972140334406343, null], \"y\": [-0.7451331669980397, -0.7278149851449741, null]}, {\"hoverinfo\": \"text\", \"line\": {\"color\": \"cornflowerblue\", \"width\": 0.08919053362520407}, \"mode\": \"lines\", \"text\": [\"\\u901a\\u884c\\u8d39--\\u6536\\u8d39\\u516c\\u8def: 0.5\"], \"type\": \"scatter\", \"x\": [0.027803390346876688, -0.008362643197860465, null], \"y\": [-0.05425826432451457, -0.05685560596743851, null]}, {\"hoverinfo\": \"text\", \"line\": {\"color\": \"cornflowerblue\", \"width\": 0.08919053362520407}, \"mode\": \"lines\", \"text\": [\"\\u901a\\u884c\\u8d39--\\u516c\\u8def: 0.5\"], \"type\": \"scatter\", \"x\": [0.027803390346876688, 0.03311900083900905, null], \"y\": [-0.05425826432451457, -0.09913286817230024, null]}, {\"hoverinfo\": \"none\", \"marker\": {\"color\": [\"cornflowerblue\", \"cornflowerblue\", \"cornflowerblue\", \"cornflowerblue\", \"cornflowerblue\", \"cornflowerblue\", \"cornflowerblue\", \"cornflowerblue\", \"cornflowerblue\", \"cornflowerblue\", \"cornflowerblue\", \"cornflowerblue\", \"cornflowerblue\", \"cornflowerblue\", \"cornflowerblue\", \"cornflowerblue\", \"cornflowerblue\", \"cornflowerblue\", \"cornflowerblue\", \"cornflowerblue\", \"cornflowerblue\", \"cornflowerblue\", \"cornflowerblue\", \"cornflowerblue\", \"cornflowerblue\", \"cornflowerblue\", \"cornflowerblue\", \"cornflowerblue\", \"cornflowerblue\", \"cornflowerblue\", \"cornflowerblue\", \"cornflowerblue\", \"cornflowerblue\", \"cornflowerblue\", \"cornflowerblue\", \"cornflowerblue\", \"cornflowerblue\", \"cornflowerblue\", \"cornflowerblue\", \"cornflowerblue\", \"cornflowerblue\", \"cornflowerblue\", \"cornflowerblue\", \"cornflowerblue\", \"cornflowerblue\", \"cornflowerblue\", \"cornflowerblue\", \"cornflowerblue\", \"cornflowerblue\", \"cornflowerblue\", \"cornflowerblue\", \"cornflowerblue\", \"cornflowerblue\", \"cornflowerblue\", \"cornflowerblue\", \"cornflowerblue\", \"cornflowerblue\", \"cornflowerblue\", \"cornflowerblue\", \"cornflowerblue\", \"cornflowerblue\", \"cornflowerblue\", \"cornflowerblue\", \"cornflowerblue\", \"cornflowerblue\", \"cornflowerblue\", \"cornflowerblue\", \"cornflowerblue\", \"cornflowerblue\", \"cornflowerblue\", \"cornflowerblue\", \"cornflowerblue\", \"cornflowerblue\", \"cornflowerblue\", \"cornflowerblue\", \"cornflowerblue\", \"cornflowerblue\", \"cornflowerblue\", \"cornflowerblue\", \"cornflowerblue\", \"cornflowerblue\", \"cornflowerblue\", \"cornflowerblue\", \"cornflowerblue\", \"cornflowerblue\", \"cornflowerblue\", \"cornflowerblue\", \"cornflowerblue\", \"cornflowerblue\", \"cornflowerblue\", \"cornflowerblue\", \"cornflowerblue\", \"cornflowerblue\", \"cornflowerblue\", \"cornflowerblue\", \"cornflowerblue\", \"cornflowerblue\", \"cornflowerblue\", \"cornflowerblue\", \"cornflowerblue\", \"cornflowerblue\", \"cornflowerblue\", \"cornflowerblue\", \"cornflowerblue\", \"cornflowerblue\", \"cornflowerblue\", \"cornflowerblue\", \"cornflowerblue\", \"cornflowerblue\", \"cornflowerblue\", \"cornflowerblue\", \"cornflowerblue\", \"cornflowerblue\", \"cornflowerblue\", \"cornflowerblue\", \"cornflowerblue\", \"cornflowerblue\", \"cornflowerblue\", \"cornflowerblue\", \"cornflowerblue\", \"cornflowerblue\", \"cornflowerblue\", \"cornflowerblue\", \"cornflowerblue\", \"cornflowerblue\", \"cornflowerblue\", \"cornflowerblue\", \"cornflowerblue\", \"cornflowerblue\", \"cornflowerblue\", \"cornflowerblue\", \"cornflowerblue\", \"cornflowerblue\", \"cornflowerblue\", \"cornflowerblue\", \"cornflowerblue\", \"cornflowerblue\", \"cornflowerblue\", \"cornflowerblue\", \"cornflowerblue\", \"cornflowerblue\", \"cornflowerblue\", \"cornflowerblue\", \"cornflowerblue\", \"cornflowerblue\", \"cornflowerblue\", \"cornflowerblue\", \"cornflowerblue\", \"cornflowerblue\", \"cornflowerblue\", \"cornflowerblue\", \"cornflowerblue\", \"cornflowerblue\", \"cornflowerblue\", \"cornflowerblue\", \"cornflowerblue\", \"cornflowerblue\", \"cornflowerblue\", \"cornflowerblue\", \"cornflowerblue\", \"cornflowerblue\", \"cornflowerblue\", \"cornflowerblue\", \"cornflowerblue\", \"cornflowerblue\", \"cornflowerblue\", \"cornflowerblue\", \"cornflowerblue\", \"cornflowerblue\", \"cornflowerblue\", \"cornflowerblue\", \"cornflowerblue\", \"cornflowerblue\", \"cornflowerblue\", \"cornflowerblue\", \"cornflowerblue\", \"cornflowerblue\", \"cornflowerblue\", \"cornflowerblue\", \"cornflowerblue\", \"cornflowerblue\", \"cornflowerblue\", \"cornflowerblue\", \"cornflowerblue\", \"cornflowerblue\", \"cornflowerblue\", \"cornflowerblue\", \"cornflowerblue\", \"cornflowerblue\", \"cornflowerblue\", \"cornflowerblue\", \"cornflowerblue\", \"cornflowerblue\", \"cornflowerblue\", \"cornflowerblue\", \"cornflowerblue\", \"cornflowerblue\", \"cornflowerblue\", \"cornflowerblue\", \"cornflowerblue\", \"cornflowerblue\", \"cornflowerblue\", \"cornflowerblue\", \"cornflowerblue\", \"cornflowerblue\", \"cornflowerblue\", \"cornflowerblue\", \"cornflowerblue\", \"cornflowerblue\", \"cornflowerblue\", \"cornflowerblue\", \"cornflowerblue\", \"cornflowerblue\", \"cornflowerblue\", \"cornflowerblue\", \"cornflowerblue\", \"cornflowerblue\", \"cornflowerblue\", \"cornflowerblue\", \"cornflowerblue\", \"cornflowerblue\", \"cornflowerblue\", \"cornflowerblue\", \"cornflowerblue\", \"cornflowerblue\", \"cornflowerblue\", \"cornflowerblue\"], \"size\": [5, 5, 5, 5, 5, 5, 5, 5, 5, 5, 5, 5, 5, 5, 5, 5, 5, 5, 5, 5, 5, 5, 5, 5, 5, 5, 5, 5, 5, 5, 5, 5, 5, 5, 5, 5, 5, 5, 5, 5, 5, 5, 5, 5, 5, 5, 5, 5, 5, 5, 5, 5, 5, 5, 5, 5, 5, 5, 5, 5, 5, 5, 5, 5, 5, 5, 5, 5, 5, 5, 5, 5, 5, 5, 5, 5, 5, 5, 5, 5, 5, 5, 5, 5, 5, 5, 5, 5, 5, 5, 5, 5, 5, 5, 5, 5, 5, 5, 5, 5, 5, 5, 5, 5, 5, 5, 5, 5, 5, 5, 5, 5, 5, 5, 5, 5, 5, 5, 5, 5, 5, 5, 5, 5, 5, 5, 5, 5, 5, 5, 5, 5, 5, 5, 5, 5, 5, 5, 5, 5, 5, 5, 5, 5, 5, 5, 5, 5, 5, 5, 5, 5, 5, 5, 5, 5, 5, 5, 5, 5, 5, 5, 5, 5, 5, 5, 5, 5, 5, 5, 5, 5, 5, 5, 5, 5, 5, 5, 5, 5, 5, 5, 5, 5, 5, 5, 5, 5, 5, 5, 5, 5, 5, 5, 5, 5, 5, 5, 5, 5, 5, 5, 5, 5, 5, 5, 5, 5, 5, 5, 5, 5, 5, 5, 5, 5, 5, 5, 5, 5, 5, 5, 5, 5, 5, 5, 5]}, \"mode\": \"markers+text\", \"text\": [\"<b>\\u81ea\\u6cbb\\u533a</b>\", \"<b>\\u76f4\\u8f96\\u5e02</b>\", \"<b>\\u8ba1\\u5212\\u5355\\u5217\\u5e02</b>\", \"<b>\\u79df\\u5165</b>\", \"<b>\\u8fdb\\u9879\\u7a0e\\u989d</b>\", \"<b>\\u62b5\\u6263</b>\", \"<b>\\u589e\\u503c\\u7a0e</b>\", \"<b>\\u653f\\u7b56</b>\", \"<b>\\u901a\\u77e5</b>\", \"<b>\\u7eb3\\u7a0e\\u4eba</b>\", \"<b>\\u7528\\u4e8e</b>\", \"<b>\\u8ba1\\u7a0e</b>\", \"<b>\\u65b9\\u6cd5</b>\", \"<b>\\u9879\\u76ee</b>\", \"<b>\\u514d\\u5f81</b>\", \"<b>\\u96c6\\u4f53\\u798f\\u5229</b>\", \"<b>\\u4e2a\\u4eba\\u6d88\\u8d39</b>\", \"<b>\\u51c6\\u4e88</b>\", \"<b>\\u9500\\u9879\\u7a0e\\u989d</b>\", \"<b>\\u5168\\u989d</b>\", \"<b>\\u552e\\u7968</b>\", \"<b>\\u5ba2\\u6237</b>\", \"<b>\\u7968\\u8bc1</b>\", \"<b>\\u6536\\u5165</b>\", \"<b>\\u7f34\\u7eb3</b>\", \"<b>\\u529e\\u7406</b>\", \"<b>\\u9000\\u7968</b>\", \"<b>\\u6536\\u53d6</b>\", \"<b>\\u9000\\u7968\\u8d39</b>\", \"<b>\\u624b\\u7eed\\u8d39</b>\", \"<b>\\u4ee3\\u7406</b>\", \"<b>\\u4f01\\u4e1a</b>\", \"<b>\\u63d0\\u4f9b</b>\", \"<b>\\u822a\\u6bb5</b>\", \"<b>\\u673a\\u7968\\u4ee3\\u7406</b>\", \"<b>\\u53d6\\u5f97</b>\", \"<b>\\u5168\\u90e8</b>\", \"<b>\\u4ef7\\u6b3e</b>\", \"<b>\\u4ef7\\u5916</b>\", \"<b>\\u8d39\\u7528</b>\", \"<b>\\u6263\\u9664</b>\", \"<b>\\u652f\\u4ed8</b>\", \"<b>\\u5355\\u4f4d</b>\", \"<b>\\u4e2a\\u4eba</b>\", \"<b>\\u673a\\u7968</b>\", \"<b>\\u7ed3\\u7b97</b>\", \"<b>\\u76f8\\u5173</b>\", \"<b>\\u4f59\\u989d</b>\", \"<b>\\u9500\\u552e\\u989d</b>\", \"<b>\\u6b3e\\u9879</b>\", \"<b>\\u53d1\\u7968</b>\", \"<b>\\u884c\\u7a0b</b>\", \"<b>\\u5408\\u6cd5</b>\", \"<b>\\u51ed\\u8bc1</b>\", \"<b>\\u7b7e\\u6536</b>\", \"<b>\\u5355\\u636e</b>\", \"<b>\\u7a0e\\u52a1\\u673a\\u5173</b>\", \"<b>\\u7591\\u4e49</b>\", \"<b>\\u8981\\u6c42</b>\", \"<b>\\u516c\\u8bc1</b>\", \"<b>\\u673a\\u6784</b>\", \"<b>\\u786e\\u8ba4</b>\", \"<b>\\u8bc1\\u660e</b>\", \"<b>\\u8d44\\u8d28</b>\", \"<b>\\u8ba4\\u53ef</b>\", \"<b>\\u529e\\u6cd5</b>\", \"<b>\\u534f\\u4f1a</b>\", \"<b>\\u9881\\u53d1</b>\", \"<b>\\u4e1a\\u52a1</b>\", \"<b>\\u8bc1\\u4e66</b>\", \"<b>\\u59d4\\u6258</b>\", \"<b>\\u53cc\\u65b9</b>\", \"<b>\\u7b7e\\u8ba2</b>\", \"<b>\\u4ee3\\u7406\\u670d\\u52a1</b>\", \"<b>\\u91c7\\u53d6</b>\", \"<b>\\u8f6c\\u5305</b>\", \"<b>\\u51fa\\u79df</b>\", \"<b>\\u4e92\\u6362</b>\", \"<b>\\u8f6c\\u8ba9</b>\", \"<b>\\u5165\\u80a1</b>\", \"<b>\\u65b9\\u5f0f</b>\", \"<b>\\u627f\\u5305\\u5730</b>\", \"<b>\\u6d41\\u8f6c</b>\", \"<b>\\u519c\\u4e1a\\u751f\\u4ea7\\u8005</b>\", \"<b>\\u519c\\u4e1a</b>\", \"<b>\\u4e0b\\u53d1</b>\", \"<b>\\u53ef\\u62b5</b>\", \"<b>\\u6708\\u4efd</b>\", \"<b>\\u9000\\u7a0e</b>\", \"<b>\\u8d44\\u7ba1</b>\", \"<b>\\u4ea7\\u54c1</b>\", \"<b>\\u95ee\\u9898</b>\", \"<b>\\u8d37\\u6b3e</b>\", \"<b>\\u53d1\\u751f</b>\", \"<b>\\u90e8\\u5206</b>\", \"<b>\\u91d1\\u878d</b>\", \"<b>\\u5546\\u54c1</b>\", \"<b>\\u89c4\\u5b9a</b>\", \"<b>\\u786e\\u5b9a</b>\", \"<b>\\u4ea7\\u751f</b>\", \"<b>\\u5229\\u606f</b>\", \"<b>\\u6027\\u8d28</b>\", \"<b>\\u80a1\\u7968</b>\", \"<b>\\u5305\\u62ec</b>\", \"<b>\\u9650\\u552e</b>\", \"<b>\\u503a\\u5238</b>\", \"<b>\\u57fa\\u91d1</b>\", \"<b>\\u8d27\\u7269</b>\", \"<b>\\u671f\\u8d27</b>\", \"<b>\\u9009\\u62e9</b>\", \"<b>\\u5b9e\\u9645</b>\", \"<b>\\u4e70\\u5165\\u4ef7</b>\", \"<b>\\u8ba1\\u7b97</b>\", \"<b>\\u4ea4\\u6613\\u65e5</b>\", \"<b>\\u6536\\u76d8\\u4ef7</b>\", \"<b>\\u5904\\u4e8e</b>\", \"<b>\\u505c\\u724c</b>\", \"<b>\\u4f30\\u503c</b>\", \"<b>\\u4e2d\\u503a</b>\", \"<b>\\u4e2d\\u5fc3</b>\", \"<b>\\u6709\\u9650\\u516c\\u53f8</b>\", \"<b>\\u6307\\u6570</b>\", \"<b>\\u4efd\\u989d</b>\", \"<b>\\u51c0\\u503c</b>\", \"<b>\\u4ef7\\u683c</b>\", \"<b>\\u4f5c\\u4e3a</b>\", \"<b>\\u519c\\u6237</b>\", \"<b>\\u5c0f\\u578b\\u4f01\\u4e1a</b>\", \"<b>\\u4e2a\\u4f53</b>\", \"<b>\\u5de5\\u5546\\u6237</b>\", \"<b>\\u501f\\u6b3e</b>\", \"<b>\\u53d1\\u884c</b>\", \"<b>\\u62c5\\u4fdd</b>\", \"<b>\\u62c5\\u4fdd\\u8d39</b>\", \"<b>\\u9002\\u7528</b>\", \"<b>\\u514d\\u7a0e</b>\", \"<b>\\u6750\\u6599</b>\", \"<b>\\u7559\\u5b58</b>\", \"<b>\\u6838\\u7b97</b>\", \"<b>\\u7b26\\u5408</b>\", \"<b>\\u6761\\u4ef6</b>\", \"<b>\\u73b0\\u884c</b>\", \"<b>\\u4e3b\\u7ba1</b>\", \"<b>\\u7eb3\\u7a0e</b>\", \"<b>\\u4e0d\\u5f97</b>\", \"<b>\\u5c45\\u4f4f</b>\", \"<b>\\u4e61\\u9547</b>\", \"<b>\\u884c\\u653f</b>\", \"<b>\\u533a\\u57df</b>\", \"<b>\\u884c\\u653f\\u6751</b>\", \"<b>\\u8303\\u56f4</b>\", \"<b>\\u4f4f\\u6237</b>\", \"<b>\\u6237\\u53e3</b>\", \"<b>\\u519c\\u573a</b>\", \"<b>\\u804c\\u5de5</b>\", \"<b>\\u4f4d\\u4e8e</b>\", \"<b>\\u56fd\\u6709\\u7ecf\\u6d4e</b>\", \"<b>\\u673a\\u5173</b>\", \"<b>\\u56e2\\u4f53</b>\", \"<b>\\u5b66\\u6821</b>\", \"<b>\\u4f01\\u4e8b\\u4e1a</b>\", \"<b>\\u96c6\\u4f53\\u6237</b>\", \"<b>\\u4e3e\\u5bb6</b>\", \"<b>\\u5916\\u51fa</b>\", \"<b>\\u8c0b\\u751f</b>\", \"<b>\\u662f\\u5426</b>\", \"<b>\\u4fdd\\u7559</b>\", \"<b>\\u627f\\u5305</b>\", \"<b>\\u8015\\u5730</b>\", \"<b>\\u5c5e\\u4e8e</b>\", \"<b>\\u7edf\\u8ba1</b>\", \"<b>\\u4ece\\u4e8b</b>\", \"<b>\\u5224\\u5b9a</b>\", \"<b>\\u5e94\\u4ee5</b>\", \"<b>\\u751f\\u6548</b>\", \"<b>\\u88ab\\u62c5\\u4fdd\\u4eba</b>\", \"<b>\\u4e3a\\u51c6</b>\", \"<b>\\u90e8\\u8054</b>\", \"<b>\\u8d44\\u4ea7</b>\", \"<b>\\u603b\\u989d</b>\", \"<b>\\u72b6\\u6001</b>\", \"<b>\\u8425\\u4e1a</b>\", \"<b>\\u6307\\u6807</b>\", \"<b>\\u7d2f\\u8ba1\\u6570</b>\", \"<b>\\u516c\\u5f0f</b>\", \"<b>\\u5b58\\u7eed</b>\", \"<b>\\u5168\\u9762</b>\", \"<b>\\u63a8\\u5f00</b>\", \"<b>\\u8425\\u4e1a\\u7a0e</b>\", \"<b>\\u6539\\u5f81</b>\", \"<b>\\u8bd5\\u70b9</b>\", \"<b>\\u8fc7\\u6e21</b>\", \"<b>\\u4fe1\\u7528</b>\", \"<b>\\u505c\\u6b62</b>\", \"<b>\\u6267\\u884c</b>\", \"<b>\\u4eab\\u53d7</b>\", \"<b>\\u7ee7\\u7eed</b>\", \"<b>\\u671f\\u6ee1</b>\", \"<b>\\u4e3a\\u6b62</b>\", \"<b>\\u9053\\u8def</b>\", \"<b>\\u901a\\u884c\\u8d39</b>\", \"<b>\\u6536\\u8d39\\u516c\\u8def</b>\", \"<b>\\u7535\\u5b50</b>\", \"<b>\\u666e\\u901a\\u53d1\\u7968</b>\", \"<b>\\u6ce8\\u660e</b>\", \"<b>\\u516c\\u8def</b>\", \"<b>\\u672a\\u80fd</b>\", \"<b>\\u6536\\u8d39</b>\", \"<b>\\u91d1\\u989d</b>\", \"<b>\\u4e0b\\u5217</b>\", \"<b>\\u8bbe\\u7acb</b>\", \"<b>\\u8fc7\\u8def</b>\", \"<b>\\u8fc7\\u6865</b>\", \"<b>\\u8fc7\\u95f8</b>\", \"<b>\\u793e\\u4f1a</b>\", \"<b>\\u4f1a\\u8d39</b>\", \"<b>\\u6cd5\\u5f8b\\u6cd5\\u89c4</b>\", \"<b>\\u767b\\u8bb0</b>\", \"<b>\\u6cd5\\u4eba</b>\", \"<b>\\u56fd\\u5bb6</b>\", \"<b>\\u793e\\u56e2</b>\", \"<b>\\u7ae0\\u7a0b</b>\", \"<b>\\u4f1a\\u5458</b>\", \"<b>\\u56e2\\u4f53\\u4f1a\\u5458</b>\", \"<b>\\u5f00\\u5c55</b>\", \"<b>\\u670d\\u52a1\\u6027</b>\", \"<b>\\u7167\\u7ae0</b>\"], \"textfont\": {\"size\": 10}, \"textposition\": \"top center\", \"type\": \"scatter\", \"x\": [-0.8159274802905753, -0.002941652197406012, -0.5888842356260774, 0.28950054714069207, 0.03724212101693734, 0.033983141916174034, -0.036137386471773475, -0.051666776895716894, -0.9415577425004278, 0.14423500444738188, -0.9043322155676231, 0.7394346416667704, -0.5507513929325195, 0.5858712716543844, -0.068792805556145, -0.6672547747155648, 0.5636587571126922, -0.7750012406946716, -0.9587106245217079, 0.790758912986041, -0.8371532456899897, 0.8564518908342837, 0.8583603515617516, -0.3570860252823039, -0.065532655296772, -0.4417486398190369, -0.48274941410838074, 0.7565818843260763, 0.46005411719434774, 0.731643874040537, 0.6852092909242024, -0.008025364545661046, -0.7175775790123897, 0.8515427618424041, -0.26470333359559595, 0.061056858968294825, -0.36971800571612584, 0.03225127552746806, -0.8745299348425163, 0.8174090326997474, -0.6127115665839619, 0.14518655672394953, 0.5361107918368381, 0.5539185365231425, -0.6971590679127673, 0.5163338042273922, 0.5899547286210958, -0.9576731857004519, -0.5619431596729779, 0.9712769596852843, 0.07617346962010937, 0.7968428386937357, -0.8842635199890984, 0.08760391827418454, 0.1779701755892024, -0.7118856087613737, -0.9303139659092835, -0.6772226984599385, -0.8410689400005869, 0.6940727286044608, 0.6170291582641932, 0.9374661729664973, -0.8220699582854764, -0.2944332585480402, -0.9564658663106718, 0.33897312543862435, 0.9466894597043966, 0.40485481539569323, 0.4786597766674482, 0.9006111613372741, -0.33315551663177556, 0.15645920913327319, 0.9719787687478206, 0.9232158561732188, -0.35009286397288847, -0.4829015577330738, -0.1041578120601939, -0.9847704727026669, 0.255853699468173, 0.6742978559365537, 0.5348111371387059, 0.22749068471782766, -0.9728829731345859, 0.7468392334991353, -0.7075816073638679, -0.8352591689926104, -0.12019065158781546, -0.637681853639553, 0.9090674623051649, 0.38411953930533793, 0.3566294842350054, -0.0792096375695326, 0.9927254882337591, 0.037725469364899726, -0.9533490799966031, -0.8427442994793978, 0.2850090031049291, 0.7638092729184857, -0.49608666116624367, 0.9974738761529824, 0.937432877297149, 0.9468894353668029, 0.985296265043272, 0.46743005321843367, 0.005299009755812167, 0.9161908907983762, 0.8364112800196416, -0.9206149764896747, -0.5626934382681377, -0.39447589119609017, 0.18453326199522738, -0.9600200447593954, -0.7253744428764374, 0.6873921666540368, 0.865857533276516, 0.9139622365018266, 0.7864260921738581, 0.13779902957916793, -0.9312370063020572, 0.6525676598646365, -0.8903641588439012, 0.7759513176451989, -0.05869930629273138, -0.9119798404377095, 0.34450329111087563, 0.10564044179014045, 0.9542699786661983, 0.9672360550997523, 0.7199931270604504, -0.7153400216569914, 0.24302374874763014, 0.497686072908648, -0.42708853706433214, -0.3405626179679248, -0.04135576680785923, 0.45562475181892303, -0.08811233617257622, -0.18965328420958996, -0.9874279247989965, -0.6285581189158644, 0.07264245072972003, -0.6128343748322925, -0.11342108288362902, -0.7672031297791606, -0.4187829278054074, 0.4402194200384593, -0.300810492715927, -0.9757250507033786, -0.16540726337927086, 0.791503458217986, -0.9135269062479615, -0.2518471956691299, -0.9112387334063653, 0.8944678994035555, -0.935769824680625, -0.7886033288374753, -0.2601599518210656, 0.872382491625739, 0.14508095488343792, 0.5969341824177757, -0.46998005980794144, -0.13468542380912507, -0.20998258619509305, -0.6629786636568721, -0.5522773660760915, -0.7726476869028478, -0.750213038628442, -0.8978859750703532, 0.09407977572878136, -0.8443923844062179, -0.9203434803538897, -0.37628672810352104, 0.8848745225996343, -0.5777253568390595, -0.41817324918531945, -0.7197412826453466, 0.39425187776180753, -0.7812164715185297, 0.9544007573683612, 0.6822837469232761, 0.8870757503422237, -0.37275858575907833, 0.8583912799794494, 0.4529042272901782, -0.7504960447209592, -0.4802878959875071, 0.7734024402802888, 0.35556632541218947, 0.32704401737065436, -0.8711544894205437, 0.6127093735300535, -0.23071388648893268, 0.7414036560385356, -0.9005826944069542, -0.7734621616226064, -0.849444120869503, 0.9306172534682455, -0.16278032869977346, -0.6596138427629898, -0.3400984478944623, 0.027803390346876688, -0.008362643197860465, -0.19138039780476673, 0.267991059351953, 0.11546170853173236, 0.03311900083900905, -0.8144811962744473, -0.9463938765285106, 0.9162338022521713, 0.10197789704641778, 0.8932075818668626, 0.1977321175063169, 0.496958794399315, 0.8398587203569245, 0.12972140334406343, 0.6589632027562035, 0.35109904109417384, 0.9853386940174321, -0.42714036092219393, 0.8346536436677691, -0.8618687159237807, -0.5150248012632795, 0.5617134584622344, -0.9320440467715589, 0.8127708119642586, 0.9485089886847257, 0.3883180356243882], \"y\": [0.5851621615666168, -0.9638127123931255, -0.8651555802725995, -0.8765938221990445, 0.03736959190197523, 0.0034172320301626593, -0.07510393917436547, -0.11339542045728422, 0.12658388112683008, 0.5495549254851126, 0.4576741507987252, 0.640968215583127, -0.6690857104497544, -0.7566336425607804, -0.086925595376643, 0.6375975238490056, 0.7981295033140273, -0.5023686402175709, -0.2901917854272995, 0.5885884565472566, 0.4484219898275659, 0.2525421682921327, 0.41955247463510253, -0.7264418015366374, -0.05716001472856355, 0.8977491807437668, 0.7067841282971064, -0.699040955488739, 0.7192992747475807, 0.7647328404857537, 0.6398818437540658, 0.9564693133246537, 0.6361556676643473, 0.5253670186025713, -0.9663300098152691, -0.08268983082008552, 0.8029654192440702, 0.9867289836217416, 0.5414034206908507, 0.6394309755940893, -0.720595745461867, 0.5760196770407174, 0.5565908590266139, 0.5770866479375835, -0.5292171904817818, -0.8471376566334379, -0.6801155539190655, 0.07943373349598562, -0.801490827380793, 0.1691209094466497, -0.04854225880032235, -0.25944303127219576, -0.49419048342984756, -0.9822656445032564, 0.9694515138416391, -0.7628845809458619, 0.3231072265805759, -0.7339535528200324, -0.5595647344239447, 0.5302793184900397, 0.7863784522155713, 0.34970854388439876, -0.5000080738701732, 0.9289904097285758, -0.07157964594752855, 0.8561621130041279, -0.15723773041029646, -0.812983750019196, -0.7519723256297974, -0.37547814483325886, -0.9384122147416185, -0.993374119683257, -0.0025229315788162314, -0.06506314690452557, 0.9389603188647064, 0.782106936771999, -0.8358871769113646, 0.15759390772986337, -0.9684701510347814, -0.6359088655902696, 0.8469592206146754, -0.9216265568446214, -0.2232075258546801, -0.5087809655761605, 0.5454836754583487, -0.638071841606669, 0.9831344129863491, 0.8098443313911984, -0.32653097553366395, 0.2236019580376215, 0.22071350999011707, -0.9776360830384583, 0.11444250187680566, -0.9342860809861057, 0.24203347726122812, 0.33026073817213186, 0.9282447374309121, 0.31286697058330765, 0.8489999635811087, 0.038627676829423536, -0.22871831612433507, 0.21836049606779892, -0.05611829443214864, 0.8556405175099421, 0.8973325871316006, 0.3002851988883892, -0.5512097183584506, -0.10487376209706145, 0.702890967840476, -0.9473925137249689, -0.8942030875132116, -0.13399703762859916, 0.1865749583468494, -0.7244294487545155, 0.4684043212198345, -0.41899814256225687, 0.4622469917293897, 0.9448608139781013, 0.18732263480898317, 0.7322466007448348, 0.21164871704390925, -0.41876362347604923, 0.9720233728485695, -0.3319013140030132, 0.9279126222076791, -0.917020358030935, 0.0811774373788423, -0.10771240603164364, 0.7072420939378209, -0.6622774837379182, 0.9629218677112575, -0.6726800842213202, 0.17149824848495918, -0.6904757491859475, -0.9183318691161738, 0.9039536872251758, 0.9248476917408857, -1.0, -0.03447867318728725, -0.7996164133794763, 0.9313070495652356, 0.7142751527849126, -0.9198830476762452, -0.6843319991413379, -0.8752368445319628, -0.9088092991482722, 0.852177289003487, 0.031659691588196516, 0.9297256979134167, 0.5336615770170511, -0.43675263999864433, 0.9647677657332163, 0.2824134140559532, 0.006668094012654245, -0.010648152765657544, 0.67853191602698, -0.9116708093880883, 0.3600397622850927, -0.7451331669980397, 0.7099219886224363, -0.9009588357905012, 0.8558337421682752, -0.8783667961882308, 0.7188489065497673, 0.8509884552325573, 0.5923511664998098, 0.45414832531210314, 0.04797381870188227, 0.9718726482503154, -0.30424574200768567, 0.3845216705176601, 0.8937005165168196, -0.2743735384228622, 0.7878689413734015, 0.19744177007651548, 0.7208246182790538, 0.8929735246761789, -0.6068966680466408, 0.26656658887560647, -0.782127930427546, -0.4904610607779258, -0.7607267392433426, 0.09584502489455855, -0.8492636685770888, 0.19194023755042167, -0.7827671257010993, -0.5687883689032677, -0.9533023143798013, -0.8132948232199577, -0.17144483302636843, -0.806774162482003, 0.8835007307046387, -0.6414959426830665, -0.25084644437462106, -0.37714822484833793, -0.40861099151446534, 0.4158609331544587, -0.946324350846989, -0.6161582438508851, -0.8691379538049333, -0.05425826432451457, -0.05685560596743851, 0.9667988755565272, 0.8903312797210244, -0.04680489730541108, -0.09913286817230024, 0.5099118424212196, -0.18698667315262454, 0.16211920041406733, -0.854096957183613, -0.16428122975893764, 0.917658455411196, 0.7863819017398241, -0.397618186802007, -0.7278149851449741, -0.5818724486111947, -0.9037893173888097, -0.1887741664060673, 0.8430126210069158, -0.48184067977794615, 0.3872079851661621, -0.858629306377046, -0.8605574098933245, -0.37626269088648423, -0.6196436777617828, -0.28320101369201583, 0.8012093302976762]}],\n",
       "                        {\"paper_bgcolor\": \"rgba(0,0,0,0)\", \"plot_bgcolor\": \"rgba(0,0,0,0)\", \"showlegend\": false, \"template\": {\"data\": {\"bar\": [{\"error_x\": {\"color\": \"#2a3f5f\"}, \"error_y\": {\"color\": \"#2a3f5f\"}, \"marker\": {\"line\": {\"color\": \"#E5ECF6\", \"width\": 0.5}}, \"type\": \"bar\"}], \"barpolar\": [{\"marker\": {\"line\": {\"color\": \"#E5ECF6\", \"width\": 0.5}}, \"type\": \"barpolar\"}], \"carpet\": [{\"aaxis\": {\"endlinecolor\": \"#2a3f5f\", \"gridcolor\": \"white\", \"linecolor\": \"white\", \"minorgridcolor\": \"white\", \"startlinecolor\": \"#2a3f5f\"}, \"baxis\": {\"endlinecolor\": \"#2a3f5f\", \"gridcolor\": \"white\", \"linecolor\": \"white\", \"minorgridcolor\": \"white\", \"startlinecolor\": \"#2a3f5f\"}, \"type\": \"carpet\"}], \"choropleth\": [{\"colorbar\": {\"outlinewidth\": 0, \"ticks\": \"\"}, \"type\": \"choropleth\"}], \"contour\": [{\"colorbar\": {\"outlinewidth\": 0, \"ticks\": \"\"}, \"colorscale\": [[0.0, \"#0d0887\"], [0.1111111111111111, \"#46039f\"], [0.2222222222222222, \"#7201a8\"], [0.3333333333333333, \"#9c179e\"], [0.4444444444444444, \"#bd3786\"], [0.5555555555555556, \"#d8576b\"], [0.6666666666666666, \"#ed7953\"], [0.7777777777777778, \"#fb9f3a\"], [0.8888888888888888, \"#fdca26\"], [1.0, \"#f0f921\"]], \"type\": \"contour\"}], \"contourcarpet\": [{\"colorbar\": {\"outlinewidth\": 0, \"ticks\": \"\"}, \"type\": \"contourcarpet\"}], \"heatmap\": [{\"colorbar\": {\"outlinewidth\": 0, \"ticks\": \"\"}, \"colorscale\": [[0.0, \"#0d0887\"], [0.1111111111111111, \"#46039f\"], [0.2222222222222222, \"#7201a8\"], [0.3333333333333333, \"#9c179e\"], [0.4444444444444444, \"#bd3786\"], [0.5555555555555556, \"#d8576b\"], [0.6666666666666666, \"#ed7953\"], [0.7777777777777778, \"#fb9f3a\"], [0.8888888888888888, \"#fdca26\"], [1.0, \"#f0f921\"]], \"type\": \"heatmap\"}], \"heatmapgl\": [{\"colorbar\": {\"outlinewidth\": 0, \"ticks\": \"\"}, \"colorscale\": [[0.0, \"#0d0887\"], [0.1111111111111111, \"#46039f\"], [0.2222222222222222, \"#7201a8\"], [0.3333333333333333, \"#9c179e\"], [0.4444444444444444, \"#bd3786\"], [0.5555555555555556, \"#d8576b\"], [0.6666666666666666, \"#ed7953\"], [0.7777777777777778, \"#fb9f3a\"], [0.8888888888888888, \"#fdca26\"], [1.0, \"#f0f921\"]], \"type\": \"heatmapgl\"}], \"histogram\": [{\"marker\": {\"colorbar\": {\"outlinewidth\": 0, \"ticks\": \"\"}}, \"type\": \"histogram\"}], \"histogram2d\": [{\"colorbar\": {\"outlinewidth\": 0, \"ticks\": \"\"}, \"colorscale\": [[0.0, \"#0d0887\"], [0.1111111111111111, \"#46039f\"], [0.2222222222222222, \"#7201a8\"], [0.3333333333333333, \"#9c179e\"], [0.4444444444444444, \"#bd3786\"], [0.5555555555555556, \"#d8576b\"], [0.6666666666666666, \"#ed7953\"], [0.7777777777777778, \"#fb9f3a\"], [0.8888888888888888, \"#fdca26\"], [1.0, \"#f0f921\"]], \"type\": \"histogram2d\"}], \"histogram2dcontour\": [{\"colorbar\": {\"outlinewidth\": 0, \"ticks\": \"\"}, \"colorscale\": [[0.0, \"#0d0887\"], [0.1111111111111111, \"#46039f\"], [0.2222222222222222, \"#7201a8\"], [0.3333333333333333, \"#9c179e\"], [0.4444444444444444, \"#bd3786\"], [0.5555555555555556, \"#d8576b\"], [0.6666666666666666, \"#ed7953\"], [0.7777777777777778, \"#fb9f3a\"], [0.8888888888888888, \"#fdca26\"], [1.0, \"#f0f921\"]], \"type\": \"histogram2dcontour\"}], \"mesh3d\": [{\"colorbar\": {\"outlinewidth\": 0, \"ticks\": \"\"}, \"type\": \"mesh3d\"}], \"parcoords\": [{\"line\": {\"colorbar\": {\"outlinewidth\": 0, \"ticks\": \"\"}}, \"type\": \"parcoords\"}], \"pie\": [{\"automargin\": true, \"type\": \"pie\"}], \"scatter\": [{\"marker\": {\"colorbar\": {\"outlinewidth\": 0, \"ticks\": \"\"}}, \"type\": \"scatter\"}], \"scatter3d\": [{\"line\": {\"colorbar\": {\"outlinewidth\": 0, \"ticks\": \"\"}}, \"marker\": {\"colorbar\": {\"outlinewidth\": 0, \"ticks\": \"\"}}, \"type\": \"scatter3d\"}], \"scattercarpet\": [{\"marker\": {\"colorbar\": {\"outlinewidth\": 0, \"ticks\": \"\"}}, \"type\": \"scattercarpet\"}], \"scattergeo\": [{\"marker\": {\"colorbar\": {\"outlinewidth\": 0, \"ticks\": \"\"}}, \"type\": \"scattergeo\"}], \"scattergl\": [{\"marker\": {\"colorbar\": {\"outlinewidth\": 0, \"ticks\": \"\"}}, \"type\": \"scattergl\"}], \"scattermapbox\": [{\"marker\": {\"colorbar\": {\"outlinewidth\": 0, \"ticks\": \"\"}}, \"type\": \"scattermapbox\"}], \"scatterpolar\": [{\"marker\": {\"colorbar\": {\"outlinewidth\": 0, \"ticks\": \"\"}}, \"type\": \"scatterpolar\"}], \"scatterpolargl\": [{\"marker\": {\"colorbar\": {\"outlinewidth\": 0, \"ticks\": \"\"}}, \"type\": \"scatterpolargl\"}], \"scatterternary\": [{\"marker\": {\"colorbar\": {\"outlinewidth\": 0, \"ticks\": \"\"}}, \"type\": \"scatterternary\"}], \"surface\": [{\"colorbar\": {\"outlinewidth\": 0, \"ticks\": \"\"}, \"colorscale\": [[0.0, \"#0d0887\"], [0.1111111111111111, \"#46039f\"], [0.2222222222222222, \"#7201a8\"], [0.3333333333333333, \"#9c179e\"], [0.4444444444444444, \"#bd3786\"], [0.5555555555555556, \"#d8576b\"], [0.6666666666666666, \"#ed7953\"], [0.7777777777777778, \"#fb9f3a\"], [0.8888888888888888, \"#fdca26\"], [1.0, \"#f0f921\"]], \"type\": \"surface\"}], \"table\": [{\"cells\": {\"fill\": {\"color\": \"#EBF0F8\"}, \"line\": {\"color\": \"white\"}}, \"header\": {\"fill\": {\"color\": \"#C8D4E3\"}, \"line\": {\"color\": \"white\"}}, \"type\": \"table\"}]}, \"layout\": {\"annotationdefaults\": {\"arrowcolor\": \"#2a3f5f\", \"arrowhead\": 0, \"arrowwidth\": 1}, \"coloraxis\": {\"colorbar\": {\"outlinewidth\": 0, \"ticks\": \"\"}}, \"colorscale\": {\"diverging\": [[0, \"#8e0152\"], [0.1, \"#c51b7d\"], [0.2, \"#de77ae\"], [0.3, \"#f1b6da\"], [0.4, \"#fde0ef\"], [0.5, \"#f7f7f7\"], [0.6, \"#e6f5d0\"], [0.7, \"#b8e186\"], [0.8, \"#7fbc41\"], [0.9, \"#4d9221\"], [1, \"#276419\"]], \"sequential\": [[0.0, \"#0d0887\"], [0.1111111111111111, \"#46039f\"], [0.2222222222222222, \"#7201a8\"], [0.3333333333333333, \"#9c179e\"], [0.4444444444444444, \"#bd3786\"], [0.5555555555555556, \"#d8576b\"], [0.6666666666666666, \"#ed7953\"], [0.7777777777777778, \"#fb9f3a\"], [0.8888888888888888, \"#fdca26\"], [1.0, \"#f0f921\"]], \"sequentialminus\": [[0.0, \"#0d0887\"], [0.1111111111111111, \"#46039f\"], [0.2222222222222222, \"#7201a8\"], [0.3333333333333333, \"#9c179e\"], [0.4444444444444444, \"#bd3786\"], [0.5555555555555556, \"#d8576b\"], [0.6666666666666666, \"#ed7953\"], [0.7777777777777778, \"#fb9f3a\"], [0.8888888888888888, \"#fdca26\"], [1.0, \"#f0f921\"]]}, \"colorway\": [\"#636efa\", \"#EF553B\", \"#00cc96\", \"#ab63fa\", \"#FFA15A\", \"#19d3f3\", \"#FF6692\", \"#B6E880\", \"#FF97FF\", \"#FECB52\"], \"font\": {\"color\": \"#2a3f5f\"}, \"geo\": {\"bgcolor\": \"white\", \"lakecolor\": \"white\", \"landcolor\": \"#E5ECF6\", \"showlakes\": true, \"showland\": true, \"subunitcolor\": \"white\"}, \"hoverlabel\": {\"align\": \"left\"}, \"hovermode\": \"closest\", \"mapbox\": {\"style\": \"light\"}, \"paper_bgcolor\": \"white\", \"plot_bgcolor\": \"#E5ECF6\", \"polar\": {\"angularaxis\": {\"gridcolor\": \"white\", \"linecolor\": \"white\", \"ticks\": \"\"}, \"bgcolor\": \"#E5ECF6\", \"radialaxis\": {\"gridcolor\": \"white\", \"linecolor\": \"white\", \"ticks\": \"\"}}, \"scene\": {\"xaxis\": {\"backgroundcolor\": \"#E5ECF6\", \"gridcolor\": \"white\", \"gridwidth\": 2, \"linecolor\": \"white\", \"showbackground\": true, \"ticks\": \"\", \"zerolinecolor\": \"white\"}, \"yaxis\": {\"backgroundcolor\": \"#E5ECF6\", \"gridcolor\": \"white\", \"gridwidth\": 2, \"linecolor\": \"white\", \"showbackground\": true, \"ticks\": \"\", \"zerolinecolor\": \"white\"}, \"zaxis\": {\"backgroundcolor\": \"#E5ECF6\", \"gridcolor\": \"white\", \"gridwidth\": 2, \"linecolor\": \"white\", \"showbackground\": true, \"ticks\": \"\", \"zerolinecolor\": \"white\"}}, \"shapedefaults\": {\"line\": {\"color\": \"#2a3f5f\"}}, \"ternary\": {\"aaxis\": {\"gridcolor\": \"white\", \"linecolor\": \"white\", \"ticks\": \"\"}, \"baxis\": {\"gridcolor\": \"white\", \"linecolor\": \"white\", \"ticks\": \"\"}, \"bgcolor\": \"#E5ECF6\", \"caxis\": {\"gridcolor\": \"white\", \"linecolor\": \"white\", \"ticks\": \"\"}}, \"title\": {\"x\": 0.05}, \"xaxis\": {\"automargin\": true, \"gridcolor\": \"white\", \"linecolor\": \"white\", \"ticks\": \"\", \"title\": {\"standoff\": 15}, \"zerolinecolor\": \"white\", \"zerolinewidth\": 2}, \"yaxis\": {\"automargin\": true, \"gridcolor\": \"white\", \"linecolor\": \"white\", \"ticks\": \"\", \"title\": {\"standoff\": 15}, \"zerolinecolor\": \"white\", \"zerolinewidth\": 2}}}, \"xaxis\": {\"showgrid\": false, \"showticklabels\": false, \"zeroline\": false}, \"yaxis\": {\"showgrid\": false, \"showticklabels\": false, \"zeroline\": false}},\n",
       "                        {\"responsive\": true}\n",
       "                    ).then(function(){\n",
       "                            \n",
       "var gd = document.getElementById('3a8b48e0-0e79-42a3-8f54-7cda1e8f7149');\n",
       "var x = new MutationObserver(function (mutations, observer) {{\n",
       "        var display = window.getComputedStyle(gd).display;\n",
       "        if (!display || display === 'none') {{\n",
       "            console.log([gd, 'removed!']);\n",
       "            Plotly.purge(gd);\n",
       "            observer.disconnect();\n",
       "        }}\n",
       "}});\n",
       "\n",
       "// Listen for the removal of the full notebook cells\n",
       "var notebookContainer = gd.closest('#notebook-container');\n",
       "if (notebookContainer) {{\n",
       "    x.observe(notebookContainer, {childList: true});\n",
       "}}\n",
       "\n",
       "// Listen for the clearing of the current output cell\n",
       "var outputEl = gd.closest('.output');\n",
       "if (outputEl) {{\n",
       "    x.observe(outputEl, {childList: true});\n",
       "}}\n",
       "\n",
       "                        })\n",
       "                };\n",
       "                });\n",
       "            </script>\n",
       "        </div>"
      ]
     },
     "metadata": {},
     "output_type": "display_data"
    }
   ],
   "source": [
    "# Text relationship Study\n",
    "\n",
    "## cut the text into list of words\n",
    "word_pair = tr_keyword._cut(sample_text)\n",
    "\n",
    "\n",
    "## create the co-occurance matrix (this is for )\n",
    "co_graph = tr_keyword.co_occurance_matrix(word_pair)\n",
    "df = tr_keyword.co_occur_graph_to_matrix(co_graph,normalization=True)\n",
    "\n",
    "\n",
    "## Visulize the text graph\n",
    "\n",
    "word_list = list(df.columns)\n",
    "\n",
    "\n",
    "name_dict = {}\n",
    "for i in range(len(word_list)):\n",
    "    \n",
    "    name_dict[i] = word_list[i]\n",
    "\n",
    "\n",
    "nx_graph = nx.from_numpy_array(df.values)\n",
    "nx_graph = nx.relabel_nodes(nx_graph,name_dict)  \n",
    "\n",
    "\n",
    "\n",
    "\n",
    "### Use the Plotly graphing function\n",
    "\n",
    "#### Filter the edge with low weight\n",
    "for edge in nx_graph.edges():\n",
    "    \n",
    "    if nx_graph.edges()[edge]['weight'] < 0.5:\n",
    "        \n",
    "        nx_graph.edges()[edge]['weight'] = 0\n",
    "\n",
    "\n",
    "pos_ = nx.spring_layout(nx_graph)\n",
    "\n",
    "\n",
    "\n",
    "#### Create the edge plot\n",
    "\n",
    "def make_edge(x, y, text, width):\n",
    "    return  go.Scatter(x         = x,\n",
    "                       y         = y,\n",
    "                       line      = dict(width = width,\n",
    "                                   color = 'cornflowerblue'),\n",
    "                       hoverinfo = 'text',\n",
    "                       text      = ([text]),\n",
    "                       mode      = 'lines')\n",
    "\n",
    "\n",
    "\n",
    "\n",
    "edge_trace = []\n",
    "\n",
    "for edge in nx_graph.edges():\n",
    "\n",
    "\tif nx_graph.edges()[edge]['weight'] > 0:\n",
    "\n",
    "\t\tchar_1 = edge[0]\n",
    "\t\tchar_2 = edge[1]\n",
    "\n",
    "\n",
    "\t\tx0, y0 = pos_[char_1]\n",
    "\t\tx1, y1 = pos_[char_2]\n",
    "\n",
    "\t\ttext   = char_1 + '--' + char_2 + ': ' + str(nx_graph.edges()[edge]['weight'])\n",
    "\n",
    "\t\ttrace  = make_edge([x0, x1, None], [y0, y1, None], text, \n",
    "                           width = 0.3*nx_graph.edges()[edge]['weight']**1.75)\n",
    "\n",
    "\n",
    "\t\tedge_trace.append(trace)\n",
    "\n",
    "\n",
    "#### Create the node plot\n",
    "\n",
    "node_trace = go.Scatter(x         = [],\n",
    "                        y         = [],\n",
    "                        text      = [],\n",
    "                        textposition = \"top center\",\n",
    "                        textfont_size = 10,\n",
    "                        mode      = 'markers+text',\n",
    "                        hoverinfo = 'none',\n",
    "                        marker    = dict(color = [],\n",
    "                                         size  = [],\n",
    "                                         line  = None))\n",
    "\n",
    "\n",
    "\n",
    "for node in nx_graph.nodes():\n",
    "    x, y = pos_[node]\n",
    "    node_trace['x'] += tuple([x])\n",
    "    node_trace['y'] += tuple([y])\n",
    "    node_trace['marker']['color'] += tuple(['cornflowerblue'])\n",
    "    node_trace['marker']['size'] += tuple([5*1]) # this could control the size of node (could have size varying with weight)\n",
    "    node_trace['text'] += tuple(['<b>' + node + '</b>'])\n",
    "\n",
    "\n",
    "\n",
    "\n",
    "#### Set the layout\n",
    "\n",
    "layout = go.Layout(\n",
    "    paper_bgcolor='rgba(0,0,0,0)', # transparent background\n",
    "    plot_bgcolor='rgba(0,0,0,0)', # transparent 2nd background\n",
    "    xaxis =  {'showgrid': False, 'zeroline': False}, # no gridlines\n",
    "    yaxis = {'showgrid': False, 'zeroline': False}, # no gridlines\n",
    ")\n",
    "\n",
    "\n",
    "\n",
    "fig = go.Figure(layout = layout)\n",
    "#### Add all edge traces\n",
    "for trace in edge_trace:\n",
    "    fig.add_trace(trace)\n",
    "\n",
    "#### Add node trace\n",
    "fig.add_trace(node_trace)\n",
    "\n",
    "#### Remove legend\n",
    "fig.update_layout(showlegend = False)\n",
    "\n",
    "#### Remove tick labels\n",
    "fig.update_xaxes(showticklabels = False)\n",
    "fig.update_yaxes(showticklabels = False)\n",
    "\n",
    "#### Show figure\n",
    "fig.show()\n"
   ]
  },
  {
   "cell_type": "code",
   "execution_count": 27,
   "metadata": {},
   "outputs": [
    {
     "data": {
      "text/plain": [
       "'财税〔2017〕90号各省、自治区、直辖市、计划单列市财政厅（局）、国家税务局、地方税务局，新疆生产建设兵团财务局：现将租入固定资产进项税额抵扣等增值税政策通知如下：一、自2018年1月1日起，纳税人租入固定资产、不动产，既用于一般计税方法计税项目，又用于简易计税方法计税项目、免征增值税项目、集体福利或者个人消费的，其进项税额准予从销项税额中全额抵扣。二、自2018年1月1日起，纳税人已售票但客户逾期未消费取得的运输逾期票证收入，按照“交通运输服务”缴纳增值税。纳税人为客户办理退票而向客户收取的退票费、手续费等收入，按照“其他现代服务”缴纳增值税。三、自2018年1月1日起，航空运输销售代理企业提供境外航段机票代理服务，以取得的全部价款和价外费用，扣除向客户收取并支付给其他单位或者个人的境外航段机票结算款和相关费用后的余额为销售额。其中，支付给境内单位或者个人的款项，以发票或行程单为合法有效凭证；支付给境外单位或者个人的款项，以签收单据为合法有效凭证，税务机关对签收单据有疑义的，可以要求其提供境外公证机构的确认证明。航空运输销售代理企业，是指根据《航空运输销售代理资质认可办法》取得中国航空运输协会颁发的“航空运输销售代理业务资质认可证书”，接受中国航空运输企业或通航中国的外国航空运输企业委托，依照双方签订的委托销售代理合同提供代理服务的企业。四、自2016年5月1日至2017年6月30日，纳税人采取转包、出租、互换、转让、入股等方式将承包地流转给农业生产者用于农业生产，免征增值税。本通知下发前已征的增值税，可抵减以后月份应缴纳的增值税，或办理退税。五、根据《财政部 税务总局关于资管产品增值税有关问题的通知》（财税〔2017〕56号）有关规定，自2018年1月1日起,资管产品管理人运营资管产品提供的贷款服务、发生的部分金融商品转让业务，按照以下规定确定销售额：（一）提供贷款服务，以2018年1月1日起产生的利息及利息性质的收入为销售额；（二）转让2017年12月31日前取得的股票（不包括限售股）、债券、基金、非货物期货，可以选择按照实际买入价计算销售额，或者以2017年最后一个交易日的股票收盘价（2017年最后一个交易日处于停牌期间的股票，为停牌前最后一个交易日收盘价）、债券估值（中债金融估值中心有限公司或中证指数有限公司提供的债券估值）、基金份额净值、非货物期货结算价格作为买入价计算销售额。六、自2018年1月1日至2019年12月31日，纳税人为农户、小型企业、微型企业及个体工商户借款、发行债券提供融资担保取得的担保费收入，以及为上述融资担保（以下称“原担保”）提供再担保取得的再担保费收入，免征增值税。再担保合同对应多个原担保合同的，原担保合同应全部适用免征增值税政策。否则，再担保合同应按规定缴纳增值税。纳税人应将相关免税证明材料留存备查，单独核算符合免税条件的融资担保费和再担保费收入，按现行规定向主管税务机关办理纳税申报；未单独核算的，不得免征增值税。农户，是指长期（一年以上）居住在乡镇（不包括城关镇）行政管理区域内的住户，还包括长期居住在城关镇所辖行政村范围内的住户和户口不在本地而在本地居住一年以上的住户，国有农场的职工。位于乡镇（不包括城关镇）行政管理区域内和在城关镇所辖行政村范围内的国有经济的机关、团体、学校、企事业单位的集体户；有本地户口，但举家外出谋生一年以上的住户，无论是否保留承包耕地均不属于农户。农户以户为统计单位，既可以从事农业生产经营，也可以从事非农业生产经营。农户担保、再担保的判定应以原担保生效时的被担保人是否属于农户为准。小型企业、微型企业，是指符合《中小企业划型标准规定》（工信部联企业〔2011〕300号）的小型企业和微型企业。其中，资产总额和从业人员指标均以原担保生效时的实际状态确定；营业收入指标以原担保生效前12个自然月的累计数确定，不满12个自然月的，按照以下公式计算：营业收入（年）=企业实际存续期间营业收入/企业实际存续月数×12《财政部 税务总局关于全面推开营业税改征增值税试点的通知》（财税〔2016〕36号）附件3《营业税改征增值税试点过渡政策的规定》第一条第（二十四）款规定的中小企业信用担保增值税免税政策自2018年1月1日起停止执行。纳税人享受中小企业信用担保增值税免税政策在2017年12月31日前未满3年的，可以继续享受至3年期满为止。七、自2018年1月1日起，纳税人支付的道路、桥、闸通行费，按照以下规定抵扣进项税额：（一）纳税人支付的道路通行费，按照收费公路通行费增值税电子普通发票上注明的增值税额抵扣进项税额。2018年1月1日至12月31日，纳税人支付的一级、二级公路通行费，如暂未能取得收费公路通行费增值税电子普通发票，可凭取得的通行费发票上注明的收费金额按照下列公式计算可抵扣进项税额：一级、二级公路通行费可抵扣进项税额=一级、二级公路通行费发票上注明的金额÷（1+5%）×5%（二）纳税人支付的桥、闸通行费，暂凭取得的通行费发票上注明的收费金额按照下列公式计算可抵扣的进项税额：桥、闸通行费可抵扣进项税额=桥、闸通行费发票上注明的金额÷（1+5%）×5%（三）本通知所称通行费，是指有关单位依法或者依规设立并收取的过路、过桥和过闸费用。《财政部 国家税务总局关于收费公路通行费增值税抵扣有关问题的通知》（财税〔2016〕86号）自2018年1月1日起停止执行。八、自2016年5月1日起，社会团体收取的会费，免征增值税。本通知下发前已征的增值税，可抵减以后月份应缴纳的增值税，或办理退税。社会团体，是指依照国家有关法律法规设立或登记并取得《社会团体法人登记证书》的非营利法人。会费，是指社会团体在国家法律法规、政策许可的范围内，依照社团章程的规定，收取的个人会员、单位会员和团体会员的会费。社会团体开展经营服务性活动取得的其他收入，一律照章缴纳增值税。财政部\\xa0\\xa0\\xa0税务总局2017年12月25日'"
      ]
     },
     "execution_count": 27,
     "metadata": {},
     "output_type": "execute_result"
    }
   ],
   "source": [
    "sample_text"
   ]
  },
  {
   "cell_type": "code",
   "execution_count": null,
   "metadata": {},
   "outputs": [],
   "source": []
  },
  {
   "cell_type": "code",
   "execution_count": null,
   "metadata": {},
   "outputs": [],
   "source": []
  },
  {
   "cell_type": "code",
   "execution_count": null,
   "metadata": {},
   "outputs": [],
   "source": []
  },
  {
   "cell_type": "code",
   "execution_count": null,
   "metadata": {},
   "outputs": [],
   "source": []
  }
 ],
 "metadata": {
  "kernelspec": {
   "display_name": "Python 3",
   "language": "python",
   "name": "python3"
  },
  "language_info": {
   "codemirror_mode": {
    "name": "ipython",
    "version": 3
   },
   "file_extension": ".py",
   "mimetype": "text/x-python",
   "name": "python",
   "nbconvert_exporter": "python",
   "pygments_lexer": "ipython3",
   "version": "3.7.6"
  }
 },
 "nbformat": 4,
 "nbformat_minor": 4
}
