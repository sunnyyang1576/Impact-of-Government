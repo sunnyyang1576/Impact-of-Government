{
 "cells": [
  {
   "cell_type": "code",
   "execution_count": 1,
   "metadata": {},
   "outputs": [],
   "source": [
    "import pandas as pd\n",
    "import numpy as np\n",
    "from src.utils.SenAna_Dictionary import chi_square_test,accuracy_precision"
   ]
  },
  {
   "cell_type": "code",
   "execution_count": 2,
   "metadata": {},
   "outputs": [],
   "source": [
    "def group_chi_square_test(seed_list,text,label_reform,label_market,label_intervention,label_regulation):\n",
    "    \n",
    "    reform_test = []\n",
    "    market_test = []\n",
    "    intervention_test = []\n",
    "    regulation_test = []\n",
    "\n",
    "    for test_word in seed_list:\n",
    "        result_reform = chi_square_test(test_word,text,label_reform)\n",
    "        result_market = chi_square_test(test_word,text,label_market)\n",
    "        result_intervention = chi_square_test(test_word,text,label_intervention)\n",
    "        result_regulation = chi_square_test(test_word,text,label_regulation)\n",
    "        \n",
    "        reform_test.append(result_reform)\n",
    "        market_test.append(result_market)\n",
    "        intervention_test.append(result_intervention)\n",
    "        regulation_test.append(result_regulation)\n",
    "    \n",
    "    reform_test = pd.Series(reform_test)\n",
    "    market_test = pd.Series(market_test)\n",
    "    intervention_test = pd.Series(intervention_test)\n",
    "    regulation_test = pd.Series(regulation_test)\n",
    "    \n",
    "    result_df = pd.concat([reform_test,market_test,intervention_test,regulation_test],axis=1)\n",
    "    result_df.index = seed_list\n",
    "    result_df.columns = [\"reform\",\"market\",\"intervention\",\"regulation\"]\n",
    "    result_df = result_df.round(2)\n",
    "    \n",
    "    return result_df\n",
    "\n",
    "\n",
    "def group_accuracy_precision(seed_list,text,label):\n",
    "    \n",
    "    accuracy_list = []\n",
    "    precision_list = []\n",
    "    \n",
    "    for word in seed_list:\n",
    "        \n",
    "        accuracy,precision = accuracy_precision(word,text,label)\n",
    "        accuracy_list.append(accuracy)\n",
    "        precision_list.append(precision)\n",
    "    \n",
    "    accuracy_list = pd.Series(accuracy_list)\n",
    "    precision_list = pd.Series(precision_list)\n",
    "    \n",
    "    acc_pre_df = pd.concat([accuracy_list,precision_list],axis=1)\n",
    "    acc_pre_df.index = seed_list\n",
    "    acc_pre_df.columns = [\"Accuracy\",\"Precision\"]\n",
    "    \n",
    "    return acc_pre_df"
   ]
  },
  {
   "cell_type": "code",
   "execution_count": null,
   "metadata": {},
   "outputs": [],
   "source": []
  },
  {
   "cell_type": "code",
   "execution_count": 3,
   "metadata": {},
   "outputs": [],
   "source": [
    "test_set_directory = \"output/sentiment样本.xlsx\""
   ]
  },
  {
   "cell_type": "code",
   "execution_count": 4,
   "metadata": {},
   "outputs": [],
   "source": [
    "df = pd.read_excel(test_set_directory)\n",
    "df = df.fillna(0)\n",
    "df.iloc[:,0:4] = df.iloc[:,0:4].astype('int32')"
   ]
  },
  {
   "cell_type": "code",
   "execution_count": null,
   "metadata": {},
   "outputs": [],
   "source": []
  },
  {
   "cell_type": "code",
   "execution_count": 5,
   "metadata": {},
   "outputs": [],
   "source": [
    "reform_seed_list = [\"改革\",\"改善\",\"转变\",\"创新\",\"探索\",\"重构\",\"废止\",\"简化\",\"适应\",\"修改\",\"修订\"]\n",
    "market_seed_list = [\"公平\",\"市场\",\"公开\",\"竞争\",\"高效\",\"灵活\",\"资源配置\",\"减少政府\",\"积极性\",\"民间投资\",\"自主\",\"招标\",\"中标\"]\n",
    "intervention_seed_list = [\"政府购买\",\"政府采购\",\"政府投资\",\"介入\",\"干预\",\"担保\",\"减税\",\"降费\",\"减轻\",\"支持\",\"鼓励\",\"激励\",\n",
    "                          \"引导\",\"调节\",\"集中采购\",\"招标采购\",\"扶持\",\"购买服务\",\"统筹\",\"整合\"]\n",
    "regulation_seed_list = [\"监督\",\"管理\",\"质疑\",\"投诉\",\"规定\",\"规范\",\"处理\",\"处罚\",\"追究\",\"明确\",\"检查\",\"考核\",\"完善\",\"指导\",\"建立健全\",\n",
    "                        \"规则\",\"加强\",\"限制\",\"督促\",\"监控\"]"
   ]
  },
  {
   "cell_type": "code",
   "execution_count": 6,
   "metadata": {},
   "outputs": [],
   "source": [
    "text = df.iloc[:,4]\n",
    "\n",
    "label_reform = df.iloc[:,0]\n",
    "label_market = df.iloc[:,1]\n",
    "label_intervention = df.iloc[:,2]\n",
    "label_regulation = df.iloc[:,3]"
   ]
  },
  {
   "cell_type": "code",
   "execution_count": null,
   "metadata": {},
   "outputs": [],
   "source": []
  },
  {
   "cell_type": "code",
   "execution_count": 7,
   "metadata": {},
   "outputs": [],
   "source": [
    "reform_chi = group_chi_square_test(reform_seed_list,text,label_reform,label_market,label_intervention,label_regulation)\n",
    "market_chi = group_chi_square_test(market_seed_list,text,label_reform,label_market,label_intervention,label_regulation)\n",
    "intervention_chi = group_chi_square_test(intervention_seed_list,text,label_reform,label_market,label_intervention,label_regulation)\n",
    "regulation_chi = group_chi_square_test(regulation_seed_list,text,label_reform,label_market,label_intervention,label_regulation)\n"
   ]
  },
  {
   "cell_type": "code",
   "execution_count": 18,
   "metadata": {},
   "outputs": [],
   "source": [
    "reform_chi.to_excel(\"output/chi_test_reform.xlsx\")\n",
    "market_chi.to_excel(\"output/chi_test_market.xlsx\")    \n",
    "intervention_chi.to_excel(\"output/chi_test_intervention.xlsx\")    \n",
    "regulation_chi.to_excel(\"output/chi_test_regulation.xlsx\")"
   ]
  },
  {
   "cell_type": "code",
   "execution_count": null,
   "metadata": {},
   "outputs": [],
   "source": []
  },
  {
   "cell_type": "code",
   "execution_count": null,
   "metadata": {},
   "outputs": [],
   "source": []
  },
  {
   "cell_type": "code",
   "execution_count": 12,
   "metadata": {},
   "outputs": [],
   "source": [
    "reform_acc = group_accuracy_precision(reform_seed_list,text,label_reform)\n",
    "market_acc = group_accuracy_precision(market_seed_list,text,label_market)\n",
    "intervention_acc = group_accuracy_precision(intervention_seed_list,text,label_intervention)\n",
    "regulation_acc = group_accuracy_precision(regulation_seed_list,text,label_regulation)"
   ]
  },
  {
   "cell_type": "code",
   "execution_count": 19,
   "metadata": {},
   "outputs": [],
   "source": [
    "reform_acc.to_excel(\"output/acc_reform.xlsx\")\n",
    "market_acc.to_excel(\"output/acc_market.xlsx\")\n",
    "intervention_acc.to_excel(\"output/acc_intervention.xlsx\")\n",
    "regulation_acc.to_excel(\"output/acc_regulation.xlsx\")"
   ]
  },
  {
   "cell_type": "code",
   "execution_count": null,
   "metadata": {},
   "outputs": [],
   "source": []
  },
  {
   "cell_type": "code",
   "execution_count": null,
   "metadata": {},
   "outputs": [],
   "source": []
  },
  {
   "cell_type": "code",
   "execution_count": null,
   "metadata": {},
   "outputs": [],
   "source": []
  },
  {
   "cell_type": "code",
   "execution_count": null,
   "metadata": {},
   "outputs": [],
   "source": []
  },
  {
   "cell_type": "code",
   "execution_count": null,
   "metadata": {},
   "outputs": [],
   "source": []
  },
  {
   "cell_type": "code",
   "execution_count": null,
   "metadata": {},
   "outputs": [],
   "source": []
  }
 ],
 "metadata": {
  "kernelspec": {
   "display_name": "Python 3",
   "language": "python",
   "name": "python3"
  },
  "language_info": {
   "codemirror_mode": {
    "name": "ipython",
    "version": 3
   },
   "file_extension": ".py",
   "mimetype": "text/x-python",
   "name": "python",
   "nbconvert_exporter": "python",
   "pygments_lexer": "ipython3",
   "version": "3.7.6"
  }
 },
 "nbformat": 4,
 "nbformat_minor": 4
}
