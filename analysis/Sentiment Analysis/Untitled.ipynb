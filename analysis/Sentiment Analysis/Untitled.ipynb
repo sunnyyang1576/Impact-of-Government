{
 "cells": [
  {
   "cell_type": "code",
   "execution_count": 1,
   "metadata": {},
   "outputs": [],
   "source": [
    "import os\n",
    "import re\n",
    "import numpy as np\n",
    "\n",
    "\n",
    "\n",
    "directory = \"data/policy_text/\"\n",
    "file_list = os.listdir(\"data/policy_text\")\n"
   ]
  },
  {
   "cell_type": "code",
   "execution_count": 2,
   "metadata": {},
   "outputs": [],
   "source": [
    "total_sentence_list = []\n",
    "\n",
    "for file in file_list:\n",
    "    \n",
    "    file_directory = directory+file\n",
    "    \n",
    "    with open(file_directory) as f:\n",
    "        \n",
    "        text = f.read()\n",
    "        sentence_list = re.split(\"。|！|；\",text)\n",
    "        \n",
    "        sentence_list = [sent.strip() for sent in sentence_list]\n",
    "        sentence_list = [sent for sent in sentence_list if sent != \"\"]\n",
    "        sentence_list = [sent for sent in sentence_list if sent != \"\"]\n",
    "        \n",
    "        \n",
    "        total_sentence_list += sentence_list\n",
    "\n",
    "\n",
    "\n",
    "random_index = np.random.randint(0,len(total_sentence_list),100)\n",
    "random_sample = [total_sentence_list[index] for index in random_index]\n",
    "\n",
    "\n",
    "\n",
    "\n",
    "with open(\"random_sample_sentence_2.txt\",\"w+\") as f:\n",
    "    \n",
    "    for sent in random_sample:\n",
    "        sent = sent+\"\\n\"+\"\\n\"\n",
    "        f.write(sent)\n",
    "\n",
    "\n",
    "\n",
    "        \n",
    "\n"
   ]
  },
  {
   "cell_type": "code",
   "execution_count": 3,
   "metadata": {},
   "outputs": [],
   "source": [
    "total_sentence_list = []\n",
    "\n",
    "for file in file_list:\n",
    "    \n",
    "    file_directory = directory+file\n",
    "    \n",
    "    with open(file_directory) as f:\n",
    "        \n",
    "        text = f.read()\n",
    "        sentence_list = re.split(\"。|！|；\",text)\n",
    "        \n",
    "        sentence_list = [sent.strip() for sent in sentence_list]\n",
    "        sentence_list = [sent for sent in sentence_list if sent != \"\"]\n",
    "        sentence_list = [sent for sent in sentence_list if sent != \"\"]\n",
    "        \n",
    "        \n",
    "        total_sentence_list += sentence_list"
   ]
  },
  {
   "cell_type": "code",
   "execution_count": null,
   "metadata": {},
   "outputs": [],
   "source": []
  },
  {
   "cell_type": "code",
   "execution_count": null,
   "metadata": {},
   "outputs": [],
   "source": []
  },
  {
   "cell_type": "code",
   "execution_count": 67,
   "metadata": {},
   "outputs": [],
   "source": [
    "test_word = \"优化\""
   ]
  },
  {
   "cell_type": "code",
   "execution_count": 68,
   "metadata": {},
   "outputs": [],
   "source": [
    "test_sent = [sent for sent in total_sentence_list if test_word in sent]"
   ]
  },
  {
   "cell_type": "code",
   "execution_count": 69,
   "metadata": {},
   "outputs": [
    {
     "data": {
      "text/plain": [
       "6"
      ]
     },
     "execution_count": 69,
     "metadata": {},
     "output_type": "execute_result"
    }
   ],
   "source": [
    "len(test_sent)"
   ]
  },
  {
   "cell_type": "code",
   "execution_count": 70,
   "metadata": {},
   "outputs": [],
   "source": [
    "direc = \"test_word_\"+test_word+\".txt\"\n",
    "\n",
    "with open(direc,\"w+\") as f:\n",
    "    \n",
    "    for sent in test_sent:\n",
    "        sent = sent+\"\\n\"+\"\\n\"\n",
    "        f.write(sent)"
   ]
  },
  {
   "cell_type": "code",
   "execution_count": null,
   "metadata": {},
   "outputs": [],
   "source": []
  },
  {
   "cell_type": "code",
   "execution_count": null,
   "metadata": {},
   "outputs": [],
   "source": []
  },
  {
   "cell_type": "code",
   "execution_count": null,
   "metadata": {},
   "outputs": [],
   "source": []
  },
  {
   "cell_type": "code",
   "execution_count": null,
   "metadata": {},
   "outputs": [],
   "source": []
  }
 ],
 "metadata": {
  "kernelspec": {
   "display_name": "Python 3",
   "language": "python",
   "name": "python3"
  },
  "language_info": {
   "codemirror_mode": {
    "name": "ipython",
    "version": 3
   },
   "file_extension": ".py",
   "mimetype": "text/x-python",
   "name": "python",
   "nbconvert_exporter": "python",
   "pygments_lexer": "ipython3",
   "version": "3.7.6"
  }
 },
 "nbformat": 4,
 "nbformat_minor": 4
}
