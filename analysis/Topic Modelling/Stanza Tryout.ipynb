{
 "cells": [
  {
   "cell_type": "code",
   "execution_count": null,
   "metadata": {},
   "outputs": [],
   "source": []
  },
  {
   "cell_type": "code",
   "execution_count": null,
   "metadata": {},
   "outputs": [],
   "source": []
  },
  {
   "cell_type": "code",
   "execution_count": 1,
   "metadata": {},
   "outputs": [],
   "source": [
    "import pandas as pd\n",
    "import re\n",
    "import stanza"
   ]
  },
  {
   "cell_type": "code",
   "execution_count": null,
   "metadata": {},
   "outputs": [],
   "source": []
  },
  {
   "cell_type": "code",
   "execution_count": 2,
   "metadata": {},
   "outputs": [],
   "source": [
    "data_directory = \"data/\"\n",
    "file = \"content.csv\"\n",
    "df = pd.read_csv(data_directory+file)\n",
    "df[\"date\"] = pd.to_datetime(df[\"date\"])\n",
    "text = list(df[\"content\"])\n",
    "sample_text = text[1]"
   ]
  },
  {
   "cell_type": "code",
   "execution_count": null,
   "metadata": {},
   "outputs": [],
   "source": []
  },
  {
   "cell_type": "code",
   "execution_count": 3,
   "metadata": {},
   "outputs": [
    {
     "name": "stderr",
     "output_type": "stream",
     "text": [
      "Downloading https://raw.githubusercontent.com/stanfordnlp/stanza-resources/master/resources_1.1.0.json: 122kB [00:00, 930kB/s]                     \n",
      "2020-12-25 16:36:02 INFO: \"zh\" is an alias for \"zh-hans\"\n",
      "2020-12-25 16:36:02 INFO: Downloading default packages for language: zh-hans (Simplified_Chinese)...\n",
      "Downloading http://nlp.stanford.edu/software/stanza/1.1.0/zh-hans/default.zip: 100%|██████████| 755M/755M [02:27<00:00, 5.12MB/s] \n",
      "2020-12-25 16:39:00 INFO: Finished downloading models and saved to /Users/sunnyyang/stanza_resources.\n"
     ]
    }
   ],
   "source": [
    "stanza.download('zh')"
   ]
  },
  {
   "cell_type": "code",
   "execution_count": null,
   "metadata": {},
   "outputs": [],
   "source": []
  },
  {
   "cell_type": "code",
   "execution_count": 4,
   "metadata": {},
   "outputs": [
    {
     "name": "stderr",
     "output_type": "stream",
     "text": [
      "2020-12-25 16:40:53 INFO: \"zh\" is an alias for \"zh-hans\"\n",
      "2020-12-25 16:40:53 INFO: Loading these models for language: zh-hans (Simplified_Chinese):\n",
      "=========================\n",
      "| Processor | Package   |\n",
      "-------------------------\n",
      "| tokenize  | gsdsimp   |\n",
      "| pos       | gsdsimp   |\n",
      "| lemma     | gsdsimp   |\n",
      "| depparse  | gsdsimp   |\n",
      "| sentiment | ren       |\n",
      "| ner       | ontonotes |\n",
      "=========================\n",
      "\n",
      "2020-12-25 16:40:53 INFO: Use device: cpu\n",
      "2020-12-25 16:40:53 INFO: Loading: tokenize\n",
      "2020-12-25 16:40:53 INFO: Loading: pos\n",
      "2020-12-25 16:40:58 INFO: Loading: lemma\n",
      "2020-12-25 16:40:58 INFO: Loading: depparse\n",
      "2020-12-25 16:41:05 INFO: Loading: sentiment\n",
      "2020-12-25 16:41:11 INFO: Loading: ner\n",
      "2020-12-25 16:41:13 INFO: Done loading processors!\n"
     ]
    }
   ],
   "source": [
    "nlp = stanza.Pipeline('zh')"
   ]
  },
  {
   "cell_type": "code",
   "execution_count": null,
   "metadata": {},
   "outputs": [],
   "source": []
  },
  {
   "cell_type": "code",
   "execution_count": 5,
   "metadata": {},
   "outputs": [],
   "source": [
    "doc = nlp(sample_text)"
   ]
  },
  {
   "cell_type": "code",
   "execution_count": null,
   "metadata": {},
   "outputs": [],
   "source": []
  },
  {
   "cell_type": "code",
   "execution_count": 7,
   "metadata": {},
   "outputs": [
    {
     "name": "stdout",
     "output_type": "stream",
     "text": [
      "[{\n",
      "  \"text\": \"今年年底前\",\n",
      "  \"type\": \"DATE\",\n",
      "  \"start_char\": 0,\n",
      "  \"end_char\": 5\n",
      "}, {\n",
      "  \"text\": \"58项\",\n",
      "  \"type\": \"CARDINAL\",\n",
      "  \"start_char\": 7,\n",
      "  \"end_char\": 10\n",
      "}, {\n",
      "  \"text\": \"明年\",\n",
      "  \"type\": \"DATE\",\n",
      "  \"start_char\": 17,\n",
      "  \"end_char\": 19\n",
      "}, {\n",
      "  \"text\": \"74项\",\n",
      "  \"type\": \"CARDINAL\",\n",
      "  \"start_char\": 23,\n",
      "  \"end_char\": 26\n",
      "}, {\n",
      "  \"text\": \"李\",\n",
      "  \"type\": \"PERSON\",\n",
      "  \"start_char\": 64,\n",
      "  \"end_char\": 65\n",
      "}, {\n",
      "  \"text\": \"克强\",\n",
      "  \"type\": \"PERSON\",\n",
      "  \"start_char\": 65,\n",
      "  \"end_char\": 67\n",
      "}, {\n",
      "  \"text\": \"9月17日\",\n",
      "  \"type\": \"DATE\",\n",
      "  \"start_char\": 69,\n",
      "  \"end_char\": 74\n",
      "}, {\n",
      "  \"text\": \"当天\",\n",
      "  \"type\": \"DATE\",\n",
      "  \"start_char\": 94,\n",
      "  \"end_char\": 96\n",
      "}, {\n",
      "  \"text\": \"李\",\n",
      "  \"type\": \"PERSON\",\n",
      "  \"start_char\": 127,\n",
      "  \"end_char\": 128\n",
      "}, {\n",
      "  \"text\": \"克强\",\n",
      "  \"type\": \"PERSON\",\n",
      "  \"start_char\": 128,\n",
      "  \"end_char\": 130\n",
      "}, {\n",
      "  \"text\": \"李\",\n",
      "  \"type\": \"PERSON\",\n",
      "  \"start_char\": 308,\n",
      "  \"end_char\": 309\n",
      "}, {\n",
      "  \"text\": \"克强\",\n",
      "  \"type\": \"PERSON\",\n",
      "  \"start_char\": 309,\n",
      "  \"end_char\": 311\n",
      "}, {\n",
      "  \"text\": \"今年底前\",\n",
      "  \"type\": \"DATE\",\n",
      "  \"start_char\": 416,\n",
      "  \"end_char\": 420\n",
      "}, {\n",
      "  \"text\": \"58项\",\n",
      "  \"type\": \"CARDINAL\",\n",
      "  \"start_char\": 462,\n",
      "  \"end_char\": 465\n",
      "}, {\n",
      "  \"text\": \"明年\",\n",
      "  \"type\": \"DATE\",\n",
      "  \"start_char\": 472,\n",
      "  \"end_char\": 474\n",
      "}, {\n",
      "  \"text\": \"74项\",\n",
      "  \"type\": \"CARDINAL\",\n",
      "  \"start_char\": 506,\n",
      "  \"end_char\": 509\n",
      "}, {\n",
      "  \"text\": \"李\",\n",
      "  \"type\": \"PERSON\",\n",
      "  \"start_char\": 671,\n",
      "  \"end_char\": 672\n",
      "}, {\n",
      "  \"text\": \"克强\",\n",
      "  \"type\": \"PERSON\",\n",
      "  \"start_char\": 672,\n",
      "  \"end_char\": 674\n",
      "}, {\n",
      "  \"text\": \"当天\",\n",
      "  \"type\": \"DATE\",\n",
      "  \"start_char\": 774,\n",
      "  \"end_char\": 776\n",
      "}, {\n",
      "  \"text\": \"近年来\",\n",
      "  \"type\": \"DATE\",\n",
      "  \"start_char\": 808,\n",
      "  \"end_char\": 811\n",
      "}, {\n",
      "  \"text\": \"世界银行\",\n",
      "  \"type\": \"ORG\",\n",
      "  \"start_char\": 852,\n",
      "  \"end_char\": 856\n",
      "}, {\n",
      "  \"text\": \"2017年\",\n",
      "  \"type\": \"DATE\",\n",
      "  \"start_char\": 874,\n",
      "  \"end_char\": 879\n",
      "}, {\n",
      "  \"text\": \"第98位\",\n",
      "  \"type\": \"ORDINAL\",\n",
      "  \"start_char\": 880,\n",
      "  \"end_char\": 884\n",
      "}, {\n",
      "  \"text\": \"2019年\",\n",
      "  \"type\": \"DATE\",\n",
      "  \"start_char\": 887,\n",
      "  \"end_char\": 892\n",
      "}, {\n",
      "  \"text\": \"第12位\",\n",
      "  \"type\": \"ORDINAL\",\n",
      "  \"start_char\": 893,\n",
      "  \"end_char\": 897\n",
      "}, {\n",
      "  \"text\": \"两年\",\n",
      "  \"type\": \"DATE\",\n",
      "  \"start_char\": 900,\n",
      "  \"end_char\": 902\n",
      "}, {\n",
      "  \"text\": \"当天\",\n",
      "  \"type\": \"DATE\",\n",
      "  \"start_char\": 911,\n",
      "  \"end_char\": 913\n",
      "}, {\n",
      "  \"text\": \"今年底前\",\n",
      "  \"type\": \"DATE\",\n",
      "  \"start_char\": 949,\n",
      "  \"end_char\": 953\n",
      "}, {\n",
      "  \"text\": \"三\",\n",
      "  \"type\": \"CARDINAL\",\n",
      "  \"start_char\": 978,\n",
      "  \"end_char\": 979\n",
      "}, {\n",
      "  \"text\": \"5个\",\n",
      "  \"type\": \"CARDINAL\",\n",
      "  \"start_char\": 1003,\n",
      "  \"end_char\": 1005\n",
      "}, {\n",
      "  \"text\": \"25个\",\n",
      "  \"type\": \"CARDINAL\",\n",
      "  \"start_char\": 1006,\n",
      "  \"end_char\": 1009\n",
      "}, {\n",
      "  \"text\": \"2022年底前\",\n",
      "  \"type\": \"DATE\",\n",
      "  \"start_char\": 1033,\n",
      "  \"end_char\": 1040\n",
      "}, {\n",
      "  \"text\": \"三\",\n",
      "  \"type\": \"CARDINAL\",\n",
      "  \"start_char\": 1055,\n",
      "  \"end_char\": 1056\n",
      "}, {\n",
      "  \"text\": \"15个\",\n",
      "  \"type\": \"CARDINAL\",\n",
      "  \"start_char\": 1077,\n",
      "  \"end_char\": 1080\n",
      "}, {\n",
      "  \"text\": \"三年\",\n",
      "  \"type\": \"DATE\",\n",
      "  \"start_char\": 1089,\n",
      "  \"end_char\": 1091\n",
      "}, {\n",
      "  \"text\": \"1300亿元\",\n",
      "  \"type\": \"MONEY\",\n",
      "  \"start_char\": 1104,\n",
      "  \"end_char\": 1110\n",
      "}]\n"
     ]
    }
   ],
   "source": [
    "print(doc.entities)"
   ]
  },
  {
   "cell_type": "code",
   "execution_count": null,
   "metadata": {},
   "outputs": [],
   "source": []
  },
  {
   "cell_type": "code",
   "execution_count": null,
   "metadata": {},
   "outputs": [],
   "source": []
  },
  {
   "cell_type": "code",
   "execution_count": null,
   "metadata": {},
   "outputs": [],
   "source": []
  },
  {
   "cell_type": "code",
   "execution_count": null,
   "metadata": {},
   "outputs": [],
   "source": []
  },
  {
   "cell_type": "code",
   "execution_count": null,
   "metadata": {},
   "outputs": [],
   "source": []
  },
  {
   "cell_type": "code",
   "execution_count": null,
   "metadata": {},
   "outputs": [],
   "source": []
  },
  {
   "cell_type": "code",
   "execution_count": null,
   "metadata": {},
   "outputs": [],
   "source": []
  },
  {
   "cell_type": "code",
   "execution_count": null,
   "metadata": {},
   "outputs": [],
   "source": []
  },
  {
   "cell_type": "code",
   "execution_count": null,
   "metadata": {},
   "outputs": [],
   "source": []
  },
  {
   "cell_type": "code",
   "execution_count": null,
   "metadata": {},
   "outputs": [],
   "source": []
  },
  {
   "cell_type": "code",
   "execution_count": null,
   "metadata": {},
   "outputs": [],
   "source": []
  }
 ],
 "metadata": {
  "kernelspec": {
   "display_name": "Python 3",
   "language": "python",
   "name": "python3"
  },
  "language_info": {
   "codemirror_mode": {
    "name": "ipython",
    "version": 3
   },
   "file_extension": ".py",
   "mimetype": "text/x-python",
   "name": "python",
   "nbconvert_exporter": "python",
   "pygments_lexer": "ipython3",
   "version": "3.7.6"
  }
 },
 "nbformat": 4,
 "nbformat_minor": 4
}
