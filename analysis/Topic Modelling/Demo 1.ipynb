{
 "cells": [
  {
   "cell_type": "code",
   "execution_count": null,
   "metadata": {},
   "outputs": [],
   "source": []
  },
  {
   "cell_type": "code",
   "execution_count": 1,
   "metadata": {},
   "outputs": [],
   "source": [
    "import pandas as pd\n",
    "import jieba\n",
    "import numpy as np\n",
    "from pprint import pprint\n",
    "import gensim\n",
    "import gensim.corpora as corpora\n",
    "from gensim.utils import simple_preprocess\n",
    "from gensim.models import CoherenceModel\n",
    "from gensim import corpora, models, similarities\n",
    "from gensim.corpora import Dictionary"
   ]
  },
  {
   "cell_type": "code",
   "execution_count": 2,
   "metadata": {},
   "outputs": [],
   "source": [
    "import pyLDAvis\n",
    "import pyLDAvis.gensim\n",
    "import matplotlib.pyplot as plt"
   ]
  },
  {
   "cell_type": "code",
   "execution_count": 3,
   "metadata": {},
   "outputs": [],
   "source": [
    "import re\n",
    "import math\n",
    "from gensim.models import TfidfModel"
   ]
  },
  {
   "cell_type": "code",
   "execution_count": null,
   "metadata": {},
   "outputs": [],
   "source": []
  },
  {
   "cell_type": "code",
   "execution_count": 4,
   "metadata": {},
   "outputs": [],
   "source": [
    "def remove_punc(word_list):\n",
    "    \n",
    "    punc = \"！？｡。＂＃＄％＆＇（）＊＋，－／：；＜＝＞＠［＼］＾＿｀｛｜｝～｟｠｢｣､、〃》「」『』【】〔〕〖〗〘〙〚〛〜〝〞〟〰〾〿–—‘’‛“”„‟…‧﹏.\"\n",
    "    word_list = [word for word in word_list if word not in punc]\n",
    "    \n",
    "    return word_list\n",
    "\n",
    "def remove_num(word_list):\n",
    "    \n",
    "    word_list = [re.sub(r'[0-9]+', '', word) for word in word_list]\n",
    "    \n",
    "    return word_list\n",
    "\n",
    "def remove_single_character(word_list):\n",
    "    \n",
    "    word_list = [word for word in word_list if len(word)>1]\n",
    "    \n",
    "    return word_list\n",
    "\n",
    "def remove_stopwords(word_list,stopwords_list):\n",
    "    \n",
    "    word_list = [word for word in word_list if word not in stopwords_list]\n",
    "    \n",
    "    return word_list"
   ]
  },
  {
   "cell_type": "code",
   "execution_count": 5,
   "metadata": {},
   "outputs": [],
   "source": [
    "def aggregate_preprocess(text):\n",
    "    \n",
    "    word_cut = jieba.cut(text,HMM=True,use_paddle=True,cut_all=False)\n",
    "    \n",
    "    word_cut_list = list(word_cut)\n",
    "    \n",
    "    word_cut_list = remove_punc(word_cut_list)\n",
    "    \n",
    "    word_cut_list = remove_num(word_cut_list)\n",
    "    \n",
    "    word_cut_list = remove_single_character(word_cut_list)\n",
    "    \n",
    "    word_cut_list = remove_stopwords(word_cut_list,stopwords_list)\n",
    "    \n",
    "    return word_cut_list"
   ]
  },
  {
   "cell_type": "code",
   "execution_count": null,
   "metadata": {},
   "outputs": [],
   "source": []
  },
  {
   "cell_type": "markdown",
   "metadata": {},
   "source": [
    "### Import Text"
   ]
  },
  {
   "cell_type": "code",
   "execution_count": 6,
   "metadata": {},
   "outputs": [],
   "source": [
    "data_directory = \"data/\"\n",
    "file = \"content.csv\"\n",
    "\n",
    "df = pd.read_csv(data_directory+file)\n",
    "df[\"date\"] = pd.to_datetime(df[\"date\"])\n",
    "\n",
    "text = list(df[\"content\"])\n"
   ]
  },
  {
   "cell_type": "code",
   "execution_count": 7,
   "metadata": {},
   "outputs": [],
   "source": [
    "stopwords_directory = \"data/stopwords/\"\n",
    "file_1 = \"aggregate_stopwords.txt\"\n",
    "\n",
    "with open(stopwords_directory+file_1,\"r\") as f:\n",
    "    \n",
    "    stopwords_list = f.readlines()\n",
    "    stopwords_list = [word.strip() for word in stopwords_list]\n",
    "    \n",
    "    "
   ]
  },
  {
   "cell_type": "code",
   "execution_count": null,
   "metadata": {},
   "outputs": [],
   "source": []
  },
  {
   "cell_type": "code",
   "execution_count": 8,
   "metadata": {},
   "outputs": [],
   "source": [
    "sample_text = text[1]"
   ]
  },
  {
   "cell_type": "code",
   "execution_count": 9,
   "metadata": {},
   "outputs": [
    {
     "data": {
      "text/plain": [
       "'今年年底前实现58项事项异地办理，明年底前实现74项事项异地办理，下一步还要加快实现新生儿入户、社保参保缴费查询等“跨省通办”。李克强总理9月17日主持召开国务院常务会议重点部署这项工作。当天会议确定政务服务“跨省通办”和提升“获得电力”服务水平的措施。李克强说：“推进与企业发展、群众生活密切相关的高频事项‘跨省通办’，是深化‘放管服’改革、优化营商环境的重要举措，有利于各类要素自由流动、建立全国统一大市场。”他强调，要进一步深化“放管服”改革，持续优化企业和群众办事创业环境。优化线上办理方式，使“跨省通办”便捷、易操作“现在很多城市都推行‘一网通办’，很受群众欢迎，有的连续几年被群众投票为最受欢迎的改革。”李克强说，“这里必须明确，‘一网通办’只是把市场化改革的措施和公共服务保障等内容，从线下搬到了线上，并不是另设新的办事项目、增加新的行政许可。”总理要求，要抓紧将现有线下政务服务转为线上办，在抓好“省内通办”的同时，今年底前实现市场主体登记注册、养老保险关系转移接续、职业资格证书核验、学历公证、驾驶证公证等58项事项异地办理，明年底前实现工业产品生产许可证、就医结算备案、社保卡申领、户口迁移等74项事项异地办理。下一步还要加快实现新生儿入户、社保参保缴费查询等“跨省通办”。他强调，推进线下政务服务线上办理，既要优化线上办理方式，使“跨省通办”便捷、易操作，又要保障少数群体线下办事需求，保护数据安全和个人隐私。“‘一网通办’是政府提供的公共服务，目的是提高办事效率、减少寻租空间，给人民群众和市场主体办事提供更多方便。”李克强说。总理明确要求，政务服务网上办理必须确保不收取额外费用；对不使用智能手机的少数群体，也要考虑他们的生活便利，保障他们能获取应有的公共服务。全面推广居民和小微企业低压用电报装“零上门、零审批、零投资”当天会议还确定了提升“获得电力”服务水平的措施。有关部门负责人汇报，近年来，我国电力接入工程审批时间大幅压缩，电网企业的业务办理环节和工程施工时间大幅压减。世界银行数据显示，我国“获得电力”指标排名从2017年的第98位提升至2019年的第12位，连续两年保持全球领先水平。当天会议确定，全面推广居民和小微企业低压用电报装“零上门、零审批、零投资”，今年底前在全国实现用电报装业务线上办理，将居民用户和实行“三零”服务的低压非居民用户全过程办电时间分别压减至5个和25个工作日内，其他用户办电时间也大幅压缩。会议决定，2022年底前，实现居民和低压用户用电报装“三零”服务全覆盖，其中非居民用户办电时间减至15个工作日内。上述措施三年累计可为小微企业节省投资约1300亿元。'"
      ]
     },
     "execution_count": 9,
     "metadata": {},
     "output_type": "execute_result"
    }
   ],
   "source": [
    "sample_text"
   ]
  },
  {
   "cell_type": "code",
   "execution_count": null,
   "metadata": {},
   "outputs": [],
   "source": []
  },
  {
   "cell_type": "code",
   "execution_count": null,
   "metadata": {},
   "outputs": [],
   "source": []
  },
  {
   "cell_type": "markdown",
   "metadata": {},
   "source": [
    "### Preprocess Text"
   ]
  },
  {
   "cell_type": "code",
   "execution_count": null,
   "metadata": {},
   "outputs": [],
   "source": []
  },
  {
   "cell_type": "code",
   "execution_count": 10,
   "metadata": {},
   "outputs": [
    {
     "name": "stderr",
     "output_type": "stream",
     "text": [
      "Building prefix dict from the default dictionary ...\n",
      "Dumping model to file cache /var/folders/1y/w6y_szxn0m12nsrrdnzgp4540000gn/T/jieba.cache\n",
      "Loading model cost 1.663 seconds.\n",
      "Prefix dict has been built successfully.\n"
     ]
    }
   ],
   "source": [
    "word_list = aggregate_preprocess(sample_text)"
   ]
  },
  {
   "cell_type": "code",
   "execution_count": 11,
   "metadata": {},
   "outputs": [
    {
     "data": {
      "text/plain": [
       "329"
      ]
     },
     "execution_count": 11,
     "metadata": {},
     "output_type": "execute_result"
    }
   ],
   "source": [
    "len(word_list)"
   ]
  },
  {
   "cell_type": "code",
   "execution_count": null,
   "metadata": {},
   "outputs": [],
   "source": []
  },
  {
   "cell_type": "markdown",
   "metadata": {},
   "source": [
    "### Word Frequency Test"
   ]
  },
  {
   "cell_type": "code",
   "execution_count": 12,
   "metadata": {},
   "outputs": [
    {
     "data": {
      "text/plain": [
       "'今年年底前实现58项事项异地办理，明年底前实现74项事项异地办理，下一步还要加快实现新生儿入户、社保参保缴费查询等“跨省通办”。李克强总理9月17日主持召开国务院常务会议重点部署这项工作。当天会议确定政务服务“跨省通办”和提升“获得电力”服务水平的措施。李克强说：“推进与企业发展、群众生活密切相关的高频事项‘跨省通办’，是深化‘放管服’改革、优化营商环境的重要举措，有利于各类要素自由流动、建立全国统一大市场。”他强调，要进一步深化“放管服”改革，持续优化企业和群众办事创业环境。优化线上办理方式，使“跨省通办”便捷、易操作“现在很多城市都推行‘一网通办’，很受群众欢迎，有的连续几年被群众投票为最受欢迎的改革。”李克强说，“这里必须明确，‘一网通办’只是把市场化改革的措施和公共服务保障等内容，从线下搬到了线上，并不是另设新的办事项目、增加新的行政许可。”总理要求，要抓紧将现有线下政务服务转为线上办，在抓好“省内通办”的同时，今年底前实现市场主体登记注册、养老保险关系转移接续、职业资格证书核验、学历公证、驾驶证公证等58项事项异地办理，明年底前实现工业产品生产许可证、就医结算备案、社保卡申领、户口迁移等74项事项异地办理。下一步还要加快实现新生儿入户、社保参保缴费查询等“跨省通办”。他强调，推进线下政务服务线上办理，既要优化线上办理方式，使“跨省通办”便捷、易操作，又要保障少数群体线下办事需求，保护数据安全和个人隐私。“‘一网通办’是政府提供的公共服务，目的是提高办事效率、减少寻租空间，给人民群众和市场主体办事提供更多方便。”李克强说。总理明确要求，政务服务网上办理必须确保不收取额外费用；对不使用智能手机的少数群体，也要考虑他们的生活便利，保障他们能获取应有的公共服务。全面推广居民和小微企业低压用电报装“零上门、零审批、零投资”当天会议还确定了提升“获得电力”服务水平的措施。有关部门负责人汇报，近年来，我国电力接入工程审批时间大幅压缩，电网企业的业务办理环节和工程施工时间大幅压减。世界银行数据显示，我国“获得电力”指标排名从2017年的第98位提升至2019年的第12位，连续两年保持全球领先水平。当天会议确定，全面推广居民和小微企业低压用电报装“零上门、零审批、零投资”，今年底前在全国实现用电报装业务线上办理，将居民用户和实行“三零”服务的低压非居民用户全过程办电时间分别压减至5个和25个工作日内，其他用户办电时间也大幅压缩。会议决定，2022年底前，实现居民和低压用户用电报装“三零”服务全覆盖，其中非居民用户办电时间减至15个工作日内。上述措施三年累计可为小微企业节省投资约1300亿元。'"
      ]
     },
     "execution_count": 12,
     "metadata": {},
     "output_type": "execute_result"
    }
   ],
   "source": [
    "text[1]"
   ]
  },
  {
   "cell_type": "markdown",
   "metadata": {},
   "source": [
    "#### Pre-process all the text first"
   ]
  },
  {
   "cell_type": "code",
   "execution_count": 13,
   "metadata": {},
   "outputs": [],
   "source": [
    "text_after_preprocess = []\n",
    "\n",
    "for one_text in text:\n",
    "    \n",
    "    if one_text != one_text:\n",
    "        \n",
    "        word_list = []\n",
    "        text_after_preprocess.append(word_list)\n",
    "        continue\n",
    "    \n",
    "    word_list = aggregate_preprocess(one_text)\n",
    "    text_after_preprocess.append(word_list)"
   ]
  },
  {
   "cell_type": "code",
   "execution_count": 14,
   "metadata": {},
   "outputs": [
    {
     "data": {
      "text/plain": [
       "2800"
      ]
     },
     "execution_count": 14,
     "metadata": {},
     "output_type": "execute_result"
    }
   ],
   "source": [
    "len(text_after_preprocess)"
   ]
  },
  {
   "cell_type": "code",
   "execution_count": null,
   "metadata": {},
   "outputs": [],
   "source": []
  },
  {
   "cell_type": "markdown",
   "metadata": {},
   "source": [
    "### Create BOW Model"
   ]
  },
  {
   "cell_type": "code",
   "execution_count": null,
   "metadata": {},
   "outputs": [],
   "source": []
  },
  {
   "cell_type": "code",
   "execution_count": 15,
   "metadata": {},
   "outputs": [],
   "source": [
    "dictionary = Dictionary(text_after_preprocess)"
   ]
  },
  {
   "cell_type": "code",
   "execution_count": null,
   "metadata": {},
   "outputs": [],
   "source": []
  },
  {
   "cell_type": "code",
   "execution_count": 16,
   "metadata": {},
   "outputs": [
    {
     "data": {
      "text/plain": [
       "29263"
      ]
     },
     "execution_count": 16,
     "metadata": {},
     "output_type": "execute_result"
    }
   ],
   "source": [
    "len(dictionary.token2id.keys())"
   ]
  },
  {
   "cell_type": "code",
   "execution_count": 17,
   "metadata": {},
   "outputs": [
    {
     "data": {
      "text/plain": [
       "2583"
      ]
     },
     "execution_count": 17,
     "metadata": {},
     "output_type": "execute_result"
    }
   ],
   "source": [
    "dictionary.cfs[261]"
   ]
  },
  {
   "cell_type": "code",
   "execution_count": 18,
   "metadata": {},
   "outputs": [
    {
     "data": {
      "text/plain": [
       "{'一系列': 0,\n",
       " '专业队伍': 1,\n",
       " '严厉查处': 2,\n",
       " '严峻': 3,\n",
       " '中共': 4,\n",
       " '中国': 5,\n",
       " '中央政治局常委': 6,\n",
       " '中秋': 7,\n",
       " '主体': 8,\n",
       " '习近平': 9,\n",
       " '人员': 10,\n",
       " '人民': 11,\n",
       " '人群': 12,\n",
       " '体系': 13,\n",
       " '作出': 14,\n",
       " '保障': 15,\n",
       " '做好': 16,\n",
       " '健全': 17,\n",
       " '党中央': 18,\n",
       " '全国': 19,\n",
       " '决战': 20,\n",
       " '决策': 21,\n",
       " '决胜': 22,\n",
       " '减灾': 23,\n",
       " '切实': 24,\n",
       " '制度': 25,\n",
       " '力量': 26,\n",
       " '加强': 27,\n",
       " '加快': 28,\n",
       " '区域': 29,\n",
       " '协作': 30,\n",
       " '协调': 31,\n",
       " '单位': 32,\n",
       " '压实': 33,\n",
       " '压紧': 34,\n",
       " '及时发现': 35,\n",
       " '发生': 36,\n",
       " '各方': 37,\n",
       " '各项': 38,\n",
       " '合力': 39,\n",
       " '国务委员': 40,\n",
       " '国务院': 41,\n",
       " '国家': 42,\n",
       " '国庆': 43,\n",
       " '地区': 44,\n",
       " '基层': 45,\n",
       " '基础设施': 46,\n",
       " '处置': 47,\n",
       " '大火': 48,\n",
       " '大灾': 49,\n",
       " '完善': 50,\n",
       " '小康社会': 51,\n",
       " '层层': 52,\n",
       " '属地': 53,\n",
       " '应急': 54,\n",
       " '建强': 55,\n",
       " '建成': 56,\n",
       " '建设': 57,\n",
       " '强化': 58,\n",
       " '强调': 59,\n",
       " '形势': 60,\n",
       " '思想': 61,\n",
       " '总书记': 62,\n",
       " '总指挥': 63,\n",
       " '总理': 64,\n",
       " '意识': 65,\n",
       " '手段': 66,\n",
       " '扎实': 67,\n",
       " '扑救': 68,\n",
       " '扑灭': 69,\n",
       " '执法': 70,\n",
       " '批示': 71,\n",
       " '指出': 72,\n",
       " '指导': 73,\n",
       " '指挥': 74,\n",
       " '指挥部': 75,\n",
       " '指示精神': 76,\n",
       " '排查': 77,\n",
       " '提升': 78,\n",
       " '提高': 79,\n",
       " '攻坚': 80,\n",
       " '救灾': 81,\n",
       " '教育': 82,\n",
       " '整合': 83,\n",
       " '整治': 84,\n",
       " '旅游': 85,\n",
       " '日前': 86,\n",
       " '日常': 87,\n",
       " '早期': 88,\n",
       " '时代': 89,\n",
       " '机制': 90,\n",
       " '李克强': 91,\n",
       " '构建': 92,\n",
       " '林草': 93,\n",
       " '格局': 94,\n",
       " '森林草原': 95,\n",
       " '森防指': 96,\n",
       " '水平': 97,\n",
       " '法规': 98,\n",
       " '消除': 99,\n",
       " '源头': 100,\n",
       " '演练': 101,\n",
       " '火情': 102,\n",
       " '火灾': 103,\n",
       " '灭火': 104,\n",
       " '特色': 105,\n",
       " '王勇': 106,\n",
       " '环境': 107,\n",
       " '生命': 108,\n",
       " '生命财产': 109,\n",
       " '生态': 110,\n",
       " '用火': 111,\n",
       " '电视电话会议': 112,\n",
       " '监管': 113,\n",
       " '相互配合': 114,\n",
       " '社会主义': 115,\n",
       " '秋冬季': 116,\n",
       " '科学': 117,\n",
       " '科技': 118,\n",
       " '稳定': 119,\n",
       " '突发': 120,\n",
       " '第一': 121,\n",
       " '管控': 122,\n",
       " '管理': 123,\n",
       " '紧密': 124,\n",
       " '紧盯': 125,\n",
       " '组织': 126,\n",
       " '经营': 127,\n",
       " '统筹': 128,\n",
       " '综合': 129,\n",
       " '群众': 130,\n",
       " '群防群治': 131,\n",
       " '能力': 132,\n",
       " '脱贫': 133,\n",
       " '至上': 134,\n",
       " '节假日': 135,\n",
       " '营造': 136,\n",
       " '落实': 137,\n",
       " '装备': 138,\n",
       " '规划': 139,\n",
       " '认真贯彻': 140,\n",
       " '责任': 141,\n",
       " '贯彻': 142,\n",
       " '资源': 143,\n",
       " '进一步': 144,\n",
       " '违法': 145,\n",
       " '违规': 146,\n",
       " '遏制': 147,\n",
       " '部署': 148,\n",
       " '部门': 149,\n",
       " '配合': 150,\n",
       " '重点': 151,\n",
       " '重特大': 152,\n",
       " '重要': 153,\n",
       " '重要批示': 154,\n",
       " '野外': 155,\n",
       " '防御能力': 156,\n",
       " '防控': 157,\n",
       " '防火': 158,\n",
       " '防灭': 159,\n",
       " '防灾': 160,\n",
       " '防范': 161,\n",
       " '隐患': 162,\n",
       " '靠前': 163,\n",
       " '预案': 164,\n",
       " '领导': 165,\n",
       " '风险': 166,\n",
       " '高峰期': 167,\n",
       " '一步': 168,\n",
       " '一网通': 169,\n",
       " '三年': 170,\n",
       " '三零': 171,\n",
       " '上门': 172,\n",
       " '世界银行': 173,\n",
       " '业务': 174,\n",
       " '两年': 175,\n",
       " '个人隐私': 176,\n",
       " '主持': 177,\n",
       " '举措': 178,\n",
       " '产品': 179,\n",
       " '亿元': 180,\n",
       " '今年年底': 181,\n",
       " '今年底': 182,\n",
       " '企业': 183,\n",
       " '优化': 184,\n",
       " '会议': 185,\n",
       " '低压': 186,\n",
       " '便利': 187,\n",
       " '便捷': 188,\n",
       " '保护': 189,\n",
       " '保持': 190,\n",
       " '入户': 191,\n",
       " '全球': 192,\n",
       " '全过程': 193,\n",
       " '全面推广': 194,\n",
       " '公共服务': 195,\n",
       " '公证': 196,\n",
       " '关系': 197,\n",
       " '养老保险': 198,\n",
       " '减少': 199,\n",
       " '减至': 200,\n",
       " '几年': 201,\n",
       " '创业': 202,\n",
       " '办事': 203,\n",
       " '办事效率': 204,\n",
       " '办理': 205,\n",
       " '办电': 206,\n",
       " '压减': 207,\n",
       " '压缩': 208,\n",
       " '参保': 209,\n",
       " '发展': 210,\n",
       " '受欢迎': 211,\n",
       " '另设': 212,\n",
       " '召开': 213,\n",
       " '可为': 214,\n",
       " '各类': 215,\n",
       " '城市': 216,\n",
       " '增加': 217,\n",
       " '备案': 218,\n",
       " '大幅': 219,\n",
       " '学历': 220,\n",
       " '实现': 221,\n",
       " '实行': 222,\n",
       " '审批': 223,\n",
       " '密切相关': 224,\n",
       " '寻租': 225,\n",
       " '小微': 226,\n",
       " '就医': 227,\n",
       " '居民': 228,\n",
       " '工业': 229,\n",
       " '工作日内': 230,\n",
       " '工程': 231,\n",
       " '工程施工': 232,\n",
       " '市场': 233,\n",
       " '市场主体': 234,\n",
       " '市场化': 235,\n",
       " '常务会议': 236,\n",
       " '年底': 237,\n",
       " '应有': 238,\n",
       " '建立': 239,\n",
       " '异地': 240,\n",
       " '当天': 241,\n",
       " '很受': 242,\n",
       " '我国': 243,\n",
       " '户口': 244,\n",
       " '抓好': 245,\n",
       " '抓紧': 246,\n",
       " '投票': 247,\n",
       " '投资': 248,\n",
       " '持续': 249,\n",
       " '指标': 250,\n",
       " '排名': 251,\n",
       " '接入': 252,\n",
       " '接续': 253,\n",
       " '推行': 254,\n",
       " '推进': 255,\n",
       " '措施': 256,\n",
       " '提供': 257,\n",
       " '搬到': 258,\n",
       " '操作': 259,\n",
       " '收取': 260,\n",
       " '改革': 261,\n",
       " '放管服': 262,\n",
       " '政务': 263,\n",
       " '政府': 264,\n",
       " '数据': 265,\n",
       " '数据安全': 266,\n",
       " '新生儿': 267,\n",
       " '时间': 268,\n",
       " '明确': 269,\n",
       " '明确要求': 270,\n",
       " '显示': 271,\n",
       " '智能手机': 272,\n",
       " '有利于': 273,\n",
       " '服务': 274,\n",
       " '服务水平': 275,\n",
       " '查询': 276,\n",
       " '核验': 277,\n",
       " '汇报': 278,\n",
       " '流动': 279,\n",
       " '深化': 280,\n",
       " '环节': 281,\n",
       " '现有': 282,\n",
       " '生产': 283,\n",
       " '生活': 284,\n",
       " '用户': 285,\n",
       " '申领': 286,\n",
       " '电力': 287,\n",
       " '电报': 288,\n",
       " '电网': 289,\n",
       " '登记注册': 290,\n",
       " '目的': 291,\n",
       " '省内': 292,\n",
       " '确保': 293,\n",
       " '社保': 294,\n",
       " '社保卡': 295,\n",
       " '空间': 296,\n",
       " '累计': 297,\n",
       " '线上': 298,\n",
       " '线下': 299,\n",
       " '结算': 300,\n",
       " '统一': 301,\n",
       " '缴费': 302,\n",
       " '网上': 303,\n",
       " '群体': 304,\n",
       " '职业': 305,\n",
       " '自由': 306,\n",
       " '节省': 307,\n",
       " '获取': 308,\n",
       " '营商': 309,\n",
       " '行政许可': 310,\n",
       " '要素': 311,\n",
       " '覆盖': 312,\n",
       " '许可证': 313,\n",
       " '负责人': 314,\n",
       " '费用': 315,\n",
       " '资格证书': 316,\n",
       " '跨省': 317,\n",
       " '转为': 318,\n",
       " '转移': 319,\n",
       " '迁移': 320,\n",
       " '这项': 321,\n",
       " '连续': 322,\n",
       " '通办': 323,\n",
       " '需求': 324,\n",
       " '项目': 325,\n",
       " '领先水平': 326,\n",
       " '额外': 327,\n",
       " '驾驶证': 328,\n",
       " '高频': 329,\n",
       " '两个': 330,\n",
       " '中心': 331,\n",
       " '主业': 332,\n",
       " '二要': 333,\n",
       " '人才': 334,\n",
       " '作用': 335,\n",
       " '做强': 336,\n",
       " '公平': 337,\n",
       " '公平竞争': 338,\n",
       " '六保': 339,\n",
       " '六稳': 340,\n",
       " '关键技术': 341,\n",
       " '分担': 342,\n",
       " '创新': 343,\n",
       " '创造': 344,\n",
       " '制造': 345,\n",
       " '剥离': 346,\n",
       " '原始': 347,\n",
       " '参与': 348,\n",
       " '双创': 349,\n",
       " '发挥': 350,\n",
       " '后劲': 351,\n",
       " '围绕': 352,\n",
       " '国企': 353,\n",
       " '国企改革': 354,\n",
       " '国有企业': 355,\n",
       " '国民经济': 356,\n",
       " '基础': 357,\n",
       " '增强': 358,\n",
       " '增效': 359,\n",
       " '客货': 360,\n",
       " '就业': 361,\n",
       " '工业用地': 362,\n",
       " '市场准入': 363,\n",
       " '带动': 364,\n",
       " '开发': 365,\n",
       " '开放': 366,\n",
       " '所有制': 367,\n",
       " '扩大': 368,\n",
       " '技术': 369,\n",
       " '招拍': 370,\n",
       " '推动': 371,\n",
       " '提质': 372,\n",
       " '支持': 373,\n",
       " '支撑': 374,\n",
       " '攻关': 375,\n",
       " '放宽': 376,\n",
       " '更好': 377,\n",
       " '核心': 378,\n",
       " '毫不动摇': 379,\n",
       " '民企': 380,\n",
       " '民营企业': 381,\n",
       " '油气': 382,\n",
       " '混合': 383,\n",
       " '畅通': 384,\n",
       " '着力': 385,\n",
       " '研究': 386,\n",
       " '社会': 387,\n",
       " '科研': 388,\n",
       " '站场': 389,\n",
       " '竞争力': 390,\n",
       " '竞争性': 391,\n",
       " '经营机制': 392,\n",
       " '职称': 393,\n",
       " '职能': 394,\n",
       " '联合': 395,\n",
       " '认定': 396,\n",
       " '评审': 397,\n",
       " '贷款风险': 398,\n",
       " '通道': 399,\n",
       " '重大': 400,\n",
       " '铁路': 401,\n",
       " '非主业': 402,\n",
       " '鼓励': 403,\n",
       " '一视同仁': 404,\n",
       " '万人': 405,\n",
       " '不确定性': 406,\n",
       " '不稳定性': 407,\n",
       " '世界': 408,\n",
       " '严重': 409,\n",
       " '严重威胁': 410,\n",
       " '个体': 411,\n",
       " '为保': 412,\n",
       " '主义': 413,\n",
       " '主席': 414,\n",
       " '主题': 415,\n",
       " '互动': 416,\n",
       " '交流': 417,\n",
       " '产业链': 418,\n",
       " '人民大会堂': 419,\n",
       " '人类': 420,\n",
       " '介绍': 421,\n",
       " '代表': 422,\n",
       " '企业家': 423,\n",
       " '企稳': 424,\n",
       " '企纾困': 425,\n",
       " '何立峰': 426,\n",
       " '供应链': 427,\n",
       " '便利化': 428,\n",
       " '保住': 429,\n",
       " '保持稳定': 430,\n",
       " '信心': 431,\n",
       " '信息化': 432,\n",
       " '全球化': 433,\n",
       " '全球性': 434,\n",
       " '共同体': 435,\n",
       " '共识': 436,\n",
       " '内涵': 437,\n",
       " '内需': 438,\n",
       " '农业': 439,\n",
       " '冲击': 440,\n",
       " '凝聚': 441,\n",
       " '出席': 442,\n",
       " '利民': 443,\n",
       " '前提': 444,\n",
       " '力度': 445,\n",
       " '办法': 446,\n",
       " '势头': 447,\n",
       " '勤劳': 448,\n",
       " '协同': 449,\n",
       " '参加': 450,\n",
       " '双循环': 451,\n",
       " '发展中国家': 452,\n",
       " '发表': 453,\n",
       " '变化': 454,\n",
       " '各国': 455,\n",
       " '合作': 456,\n",
       " '合法权益': 457,\n",
       " '吸引外资': 458,\n",
       " '命运': 459,\n",
       " '和平': 460,\n",
       " '回升': 461,\n",
       " '回答': 462,\n",
       " '团结合作': 463,\n",
       " '困难': 464,\n",
       " '国内': 465,\n",
       " '国际': 466,\n",
       " '坚定不移': 467,\n",
       " '城镇': 468,\n",
       " '城镇化': 469,\n",
       " '增长': 470,\n",
       " '处于': 471,\n",
       " '外贸': 472,\n",
       " '外资': 473,\n",
       " '外资企业': 474,\n",
       " '外部环境': 475,\n",
       " '多边': 476,\n",
       " '大方向': 477,\n",
       " '奠定': 478,\n",
       " '好度': 479,\n",
       " '宏观政策': 480,\n",
       " '宏观调控': 481,\n",
       " '对冲': 482,\n",
       " '对外': 483,\n",
       " '对外开放': 484,\n",
       " '对话会': 485,\n",
       " '封闭': 486,\n",
       " '尚未': 487,\n",
       " '尽快恢复': 488,\n",
       " '工业化': 489,\n",
       " '工商户': 490,\n",
       " '巩固': 491,\n",
       " '市场潜力': 492,\n",
       " '希望': 493,\n",
       " '带来': 494,\n",
       " '年度': 495,\n",
       " '并重': 496,\n",
       " '广阔': 497,\n",
       " '应对': 498,\n",
       " '开辟': 499,\n",
       " '强大': 500,\n",
       " '影响': 501,\n",
       " '往来': 502,\n",
       " '循环': 503,\n",
       " '快捷': 504,\n",
       " '态势': 505,\n",
       " '恢复': 506,\n",
       " '惠企': 507,\n",
       " '成效': 508,\n",
       " '战胜': 509,\n",
       " '扩大开放': 510,\n",
       " '承担责任': 511,\n",
       " '把握': 512,\n",
       " '拥有': 513,\n",
       " '挑战': 514,\n",
       " '挖掘': 515,\n",
       " '控制': 516,\n",
       " '提问': 517,\n",
       " '改变': 518,\n",
       " '政策': 519,\n",
       " '新冠': 520,\n",
       " '新型': 521,\n",
       " '新增': 522,\n",
       " '施瓦布': 523,\n",
       " '既助': 524,\n",
       " '日晚': 525,\n",
       " '时效性': 526,\n",
       " '时说': 527,\n",
       " '显现': 528,\n",
       " '智慧': 529,\n",
       " '曲折': 530,\n",
       " '月份': 531,\n",
       " '有望': 532,\n",
       " '未来': 533,\n",
       " '民生': 534,\n",
       " '治理': 535,\n",
       " '注重': 536,\n",
       " '活力': 537,\n",
       " '活动': 538,\n",
       " '深刻': 539,\n",
       " '深化改革': 540,\n",
       " '深度': 541,\n",
       " '激发': 542,\n",
       " '特别': 543,\n",
       " '现代化': 544,\n",
       " '生命安全': 545,\n",
       " '疫情': 546,\n",
       " '目标': 547,\n",
       " '直达': 548,\n",
       " '相互促进': 549,\n",
       " '离不开': 550,\n",
       " '秩序': 551,\n",
       " '稳住': 552,\n",
       " '精准': 553,\n",
       " '繁荣': 554,\n",
       " '经济': 555,\n",
       " '经济社会': 556,\n",
       " '经过努力': 557,\n",
       " '维护': 558,\n",
       " '绿色通道': 559,\n",
       " '肺炎': 560,\n",
       " '自由化': 561,\n",
       " '自由贸易': 562,\n",
       " '致辞': 563,\n",
       " '落地': 564,\n",
       " '融入': 565,\n",
       " '表明': 566,\n",
       " '视频': 567,\n",
       " '论坛': 568,\n",
       " '财政资金': 569,\n",
       " '货物': 570,\n",
       " '贸易': 571,\n",
       " '趋势': 572,\n",
       " '跨国': 573,\n",
       " '过程': 574,\n",
       " '近几个月': 575,\n",
       " '适时': 576,\n",
       " '通关': 577,\n",
       " '重现': 578,\n",
       " '阶段': 579,\n",
       " '面临': 580,\n",
       " '面对': 581,\n",
       " '面广': 582,\n",
       " '韧性': 583,\n",
       " '预期': 584,\n",
       " '高水平': 585,\n",
       " '不符': 586,\n",
       " '业态': 587,\n",
       " '之外': 588,\n",
       " '作业': 589,\n",
       " '保险': 590,\n",
       " '信用': 591,\n",
       " '信贷': 592,\n",
       " '决心': 593,\n",
       " '准入': 594,\n",
       " '出口': 595,\n",
       " '受惠': 596,\n",
       " '口岸': 597,\n",
       " '听取': 598,\n",
       " '吸引力': 599,\n",
       " '商会': 600,\n",
       " '商品': 601,\n",
       " '外商': 602,\n",
       " '外商投资': 603,\n",
       " '外国': 604,\n",
       " '外贸企业': 605,\n",
       " '多元化': 606,\n",
       " '安商': 607,\n",
       " '引入': 608,\n",
       " '引商': 609,\n",
       " '归类': 610,\n",
       " '意见建议': 611,\n",
       " '打造': 612,\n",
       " '扶持': 613,\n",
       " '拓展': 614,\n",
       " '招商': 615,\n",
       " '探索': 616,\n",
       " '收费': 617,\n",
       " '放开': 618,\n",
       " '放心': 619,\n",
       " '效率': 620,\n",
       " '文件': 621,\n",
       " '更优': 622,\n",
       " '标准': 623,\n",
       " '检验': 624,\n",
       " '法及': 625,\n",
       " '流程': 626,\n",
       " '海外': 627,\n",
       " '清单': 628,\n",
       " '清理': 629,\n",
       " '用地': 630,\n",
       " '申报': 631,\n",
       " '相适应': 632,\n",
       " '稳商': 633,\n",
       " '竞争机制': 634,\n",
       " '结售汇': 635,\n",
       " '给予': 636,\n",
       " '行政': 637,\n",
       " '规范性': 638,\n",
       " '解决': 639,\n",
       " '设限': 640,\n",
       " '试点': 641,\n",
       " '负面': 642,\n",
       " '跨境': 643,\n",
       " '进出口': 644,\n",
       " '退税': 645,\n",
       " '部门规章': 646,\n",
       " '配套': 647,\n",
       " '降低': 648,\n",
       " '一事': 649,\n",
       " '一批': 650,\n",
       " '一竿子': 651,\n",
       " '严肃': 652,\n",
       " '举世瞩目': 653,\n",
       " '争取': 654,\n",
       " '以点带面': 655,\n",
       " '倒逼': 656,\n",
       " '做法': 657,\n",
       " '先行': 658,\n",
       " '先试': 659,\n",
       " '全局': 660,\n",
       " '公开': 661,\n",
       " '关切': 662,\n",
       " '典型': 663,\n",
       " '出发': 664,\n",
       " '创业投资': 665,\n",
       " '利益': 666,\n",
       " '动力': 667,\n",
       " '千差万别': 668,\n",
       " '反映': 669,\n",
       " '发言权': 670,\n",
       " '地方': 671,\n",
       " '增添': 672,\n",
       " '复制': 673,\n",
       " '多年': 674,\n",
       " '大势所趋': 675,\n",
       " '奶酪': 676,\n",
       " '安排': 677,\n",
       " '差评': 678,\n",
       " '常态': 679,\n",
       " '建立健全': 680,\n",
       " '意见': 681,\n",
       " '成就': 682,\n",
       " '成果': 683,\n",
       " '成熟': 684,\n",
       " '打破': 685,\n",
       " '担当': 686,\n",
       " '损害': 687,\n",
       " '授权': 688,\n",
       " '接诉': 689,\n",
       " '推广': 690,\n",
       " '推进改革': 691,\n",
       " '支付': 692,\n",
       " '改而改': 693,\n",
       " '改进': 694,\n",
       " '改革开放': 695,\n",
       " '政企': 696,\n",
       " '政府部门': 697,\n",
       " '整改': 698,\n",
       " '曝光': 699,\n",
       " '最有': 700,\n",
       " '沟通': 701,\n",
       " '满意度': 702,\n",
       " '激励': 703,\n",
       " '热土': 704,\n",
       " '督促': 705,\n",
       " '破解': 706,\n",
       " '第三方': 707,\n",
       " '精力': 708,\n",
       " '经验': 709,\n",
       " '群众利益': 710,\n",
       " '群众满意': 711,\n",
       " '耗费': 712,\n",
       " '自主': 713,\n",
       " '自拉自唱': 714,\n",
       " '表扬': 715,\n",
       " '设立': 716,\n",
       " '评价': 717,\n",
       " '评判': 718,\n",
       " '诉求': 719,\n",
       " '调查': 720,\n",
       " '进度': 721,\n",
       " '锐意改革': 722,\n",
       " '问责': 723,\n",
       " '难题': 724,\n",
       " '面向': 725,\n",
       " '一体化': 726,\n",
       " '一道': 727,\n",
       " '下决心': 728,\n",
       " '下放': 729,\n",
       " '不准': 730,\n",
       " '不必要': 731,\n",
       " '严惩': 732,\n",
       " '严管': 733,\n",
       " '严进宽': 734,\n",
       " '主动': 735,\n",
       " '事中': 736,\n",
       " '事后': 737,\n",
       " '互联网': 738,\n",
       " '互认': 739,\n",
       " '人为': 740,\n",
       " '人工': 741,\n",
       " '人户': 742,\n",
       " '人民满意': 743,\n",
       " '亿人': 744,\n",
       " '仅仅': 745,\n",
       " '代管': 746,\n",
       " '以批': 747,\n",
       " '优势': 748,\n",
       " '优胜劣汰': 749,\n",
       " '会上': 750,\n",
       " '体现': 751,\n",
       " '促进': 752,\n",
       " '入手': 753,\n",
       " '全面推行': 754,\n",
       " '公正': 755,\n",
       " '关口': 756,\n",
       " '养老': 757,\n",
       " '兼顾': 758,\n",
       " '决不能': 759,\n",
       " '减责': 760,\n",
       " '分离': 761,\n",
       " '分类': 762,\n",
       " '划定': 763,\n",
       " '创造力': 764,\n",
       " '前置': 765,\n",
       " '前要': 766,\n",
       " '包容': 767,\n",
       " '化学品': 768,\n",
       " '医疗': 769,\n",
       " '危险': 770,\n",
       " '发现': 771,\n",
       " '取消': 772,\n",
       " '可及': 773,\n",
       " '可控': 774,\n",
       " '合规': 775,\n",
       " '听障': 776,\n",
       " '品种': 777,\n",
       " '困难群众': 778,\n",
       " '多一些': 779,\n",
       " '多地': 780,\n",
       " '失信': 781,\n",
       " '威慑力': 782,\n",
       " '婚育': 783,\n",
       " '审慎': 784,\n",
       " '宽进': 785,\n",
       " '尽接': 786,\n",
       " '层级': 787,\n",
       " '布局': 788,\n",
       " '干预': 789,\n",
       " '平台': 790,\n",
       " '应接': 791,\n",
       " '底线': 792,\n",
       " '性质': 793,\n",
       " '惯例': 794,\n",
       " '成本': 795,\n",
       " '手脚': 796,\n",
       " '找人': 797,\n",
       " '承诺': 798,\n",
       " '承诺制': 799,\n",
       " '抽查': 800,\n",
       " '放任': 801,\n",
       " '放出': 802,\n",
       " '放权': 803,\n",
       " '放管': 804,\n",
       " '放要': 805,\n",
       " '数据共享': 806,\n",
       " '新兴产业': 807,\n",
       " '日益频繁': 808,\n",
       " '明年': 809,\n",
       " '更大': 810,\n",
       " '有所突破': 811,\n",
       " '服务型': 812,\n",
       " '权力': 813,\n",
       " '束缚': 814,\n",
       " '来回': 815,\n",
       " '柔性': 816,\n",
       " '标准化': 817,\n",
       " '梳理': 818,\n",
       " '检查': 819,\n",
       " '模式': 820,\n",
       " '歧视': 821,\n",
       " '残疾人': 822,\n",
       " '比较突出': 823,\n",
       " '涉及': 824,\n",
       " '特种设备': 825,\n",
       " '状态': 826,\n",
       " '现象': 827,\n",
       " '理念': 828,\n",
       " '电子': 829,\n",
       " '疫苗': 830,\n",
       " '登记': 831,\n",
       " '简政': 832,\n",
       " '精简': 833,\n",
       " '系统': 834,\n",
       " '老年人': 835,\n",
       " '自律': 836,\n",
       " '药品': 837,\n",
       " '行业': 838,\n",
       " '补充': 839,\n",
       " '裁量': 840,\n",
       " '要守': 841,\n",
       " '见面': 842,\n",
       " '视障': 843,\n",
       " '角度': 844,\n",
       " '触及': 845,\n",
       " '许可': 846,\n",
       " '证明': 847,\n",
       " '证照': 848,\n",
       " '试点经验': 849,\n",
       " '负责': 850,\n",
       " '质量': 851,\n",
       " '越重': 852,\n",
       " '越高': 853,\n",
       " '跟进': 854,\n",
       " '跨区': 855,\n",
       " '跨部门': 856,\n",
       " '身体健康': 857,\n",
       " '转变': 858,\n",
       " '透明度': 859,\n",
       " '重复': 860,\n",
       " '重大项目': 861,\n",
       " '针对性': 862,\n",
       " '链条': 863,\n",
       " '门槛': 864,\n",
       " '随机': 865,\n",
       " '隐私': 866,\n",
       " '集成': 867,\n",
       " '领域': 868,\n",
       " '飞行': 869,\n",
       " '万众': 870,\n",
       " '三管齐下': 871,\n",
       " '不合理': 872,\n",
       " '中央': 873,\n",
       " '主持会议': 874,\n",
       " '互为': 875,\n",
       " '人力资源': 876,\n",
       " '优惠': 877,\n",
       " '保护主义': 878,\n",
       " '催生': 879,\n",
       " '关键': 880,\n",
       " '减税': 881,\n",
       " '出席会议': 882,\n",
       " '刘鹤': 883,\n",
       " '前所未有': 884,\n",
       " '努力完成': 885,\n",
       " '发了': 886,\n",
       " '同志': 887,\n",
       " '回应': 888,\n",
       " '因地制宜': 889,\n",
       " '坚强': 890,\n",
       " '大众': 891,\n",
       " '奋发有为': 892,\n",
       " '孙春兰': 893,\n",
       " '实惠': 894,\n",
       " '实效': 895,\n",
       " '岗位': 896,\n",
       " '广东省政府': 897,\n",
       " '形态': 898,\n",
       " '快速': 899,\n",
       " '成长': 900,\n",
       " '抗击': 901,\n",
       " '服出': 902,\n",
       " '灵活': 903,\n",
       " '真抓实干': 904,\n",
       " '破除': 905,\n",
       " '社会保障部': 906,\n",
       " '积极性': 907,\n",
       " '管出': 908,\n",
       " '结合实际': 909,\n",
       " '肖捷': 910,\n",
       " '胡春华': 911,\n",
       " '蓬勃发展': 912,\n",
       " '融资': 913,\n",
       " '贯彻落实': 914,\n",
       " '赵克志': 915,\n",
       " '近些年': 916,\n",
       " '重要讲话': 917,\n",
       " '降费': 918,\n",
       " '障碍': 919,\n",
       " '韩正': 920,\n",
       " '高质量': 921,\n",
       " '与会': 922,\n",
       " '发言人': 923,\n",
       " '外交部': 924,\n",
       " '宣布': 925,\n",
       " '对话': 926,\n",
       " '赵立坚': 927,\n",
       " '一项': 928,\n",
       " '上扬': 929,\n",
       " '上线': 930,\n",
       " '不可或缺': 931,\n",
       " '主体作用': 932,\n",
       " '举例': 933,\n",
       " '事先': 934,\n",
       " '二季度': 935,\n",
       " '互联': 936,\n",
       " '交通枢纽': 937,\n",
       " '产业园': 938,\n",
       " '人力': 939,\n",
       " '人才资源': 940,\n",
       " '从业人员': 941,\n",
       " '众多': 942,\n",
       " '优先': 943,\n",
       " '传统': 944,\n",
       " '依法打击': 945,\n",
       " '侵权': 946,\n",
       " '促销': 947,\n",
       " '假冒': 948,\n",
       " '健身': 949,\n",
       " '共享': 950,\n",
       " '农产品': 951,\n",
       " '农商': 952,\n",
       " '农村': 953,\n",
       " '利用': 954,\n",
       " '制定': 955,\n",
       " '制约': 956,\n",
       " '前景': 957,\n",
       " '功夫': 958,\n",
       " '加大': 959,\n",
       " '努力': 960,\n",
       " '劳动': 961,\n",
       " '千兆': 962,\n",
       " '升级': 963,\n",
       " '卡脖子': 964,\n",
       " '发改委': 965,\n",
       " '受过': 966,\n",
       " '商业': 967,\n",
       " '商圈': 968,\n",
       " '商用': 969,\n",
       " '商贸': 970,\n",
       " '善待': 971,\n",
       " '国情': 972,\n",
       " '在线': 973,\n",
       " '坑蒙拐骗': 974,\n",
       " '坦率': 975,\n",
       " '培育': 976,\n",
       " '培训': 977,\n",
       " '堵点': 978,\n",
       " '增速': 979,\n",
       " '多方面': 980,\n",
       " '大力发展': 981,\n",
       " '大规模': 982,\n",
       " '安心': 983,\n",
       " '实事求是': 984,\n",
       " '实体': 985,\n",
       " '实地': 986,\n",
       " '实践证明': 987,\n",
       " '密不可分': 988,\n",
       " '居家': 989,\n",
       " '工业品': 990,\n",
       " '带动力': 991,\n",
       " '建议': 992,\n",
       " '开展': 993,\n",
       " '引擎': 994,\n",
       " '征求': 995,\n",
       " '很快': 996,\n",
       " '快件': 997,\n",
       " '恢复性': 998,\n",
       " '成功': 999,\n",
       " ...}"
      ]
     },
     "execution_count": 18,
     "metadata": {},
     "output_type": "execute_result"
    }
   ],
   "source": [
    "dictionary.token2id"
   ]
  },
  {
   "cell_type": "code",
   "execution_count": 19,
   "metadata": {},
   "outputs": [
    {
     "data": {
      "text/plain": [
       "2800"
      ]
     },
     "execution_count": 19,
     "metadata": {},
     "output_type": "execute_result"
    }
   ],
   "source": [
    "dictionary.num_docs"
   ]
  },
  {
   "cell_type": "code",
   "execution_count": 20,
   "metadata": {},
   "outputs": [
    {
     "data": {
      "text/plain": [
       "624730"
      ]
     },
     "execution_count": 20,
     "metadata": {},
     "output_type": "execute_result"
    }
   ],
   "source": [
    "dictionary.num_pos"
   ]
  },
  {
   "cell_type": "code",
   "execution_count": 21,
   "metadata": {},
   "outputs": [
    {
     "data": {
      "text/plain": [
       "396551"
      ]
     },
     "execution_count": 21,
     "metadata": {},
     "output_type": "execute_result"
    }
   ],
   "source": [
    "dictionary.num_nnz"
   ]
  },
  {
   "cell_type": "code",
   "execution_count": null,
   "metadata": {},
   "outputs": [],
   "source": []
  },
  {
   "cell_type": "markdown",
   "metadata": {},
   "source": [
    "#### Plot of Frequency"
   ]
  },
  {
   "cell_type": "code",
   "execution_count": null,
   "metadata": {},
   "outputs": [],
   "source": []
  },
  {
   "cell_type": "code",
   "execution_count": 22,
   "metadata": {},
   "outputs": [],
   "source": [
    "word_frequency = pd.Series(dictionary.cfs)"
   ]
  },
  {
   "cell_type": "code",
   "execution_count": 23,
   "metadata": {},
   "outputs": [
    {
     "data": {
      "text/plain": [
       "count    29263.000000\n",
       "mean        21.348802\n",
       "std        156.619962\n",
       "min          1.000000\n",
       "25%          1.000000\n",
       "50%          2.000000\n",
       "75%          7.000000\n",
       "max       9620.000000\n",
       "dtype: float64"
      ]
     },
     "execution_count": 23,
     "metadata": {},
     "output_type": "execute_result"
    }
   ],
   "source": [
    "word_frequency.describe()"
   ]
  },
  {
   "cell_type": "code",
   "execution_count": 24,
   "metadata": {},
   "outputs": [
    {
     "data": {
      "text/plain": [
       "<matplotlib.axes._subplots.AxesSubplot at 0x1a24af2790>"
      ]
     },
     "execution_count": 24,
     "metadata": {},
     "output_type": "execute_result"
    },
    {
     "data": {
      "image/png": "[encoded data removed]",
      "text/plain": [
       "<Figure size 1440x720 with 1 Axes>"
      ]
     },
     "metadata": {
      "needs_background": "light"
     },
     "output_type": "display_data"
    }
   ],
   "source": [
    "word_frequency.plot(figsize=(20,10))"
   ]
  },
  {
   "cell_type": "code",
   "execution_count": null,
   "metadata": {},
   "outputs": [],
   "source": []
  },
  {
   "cell_type": "code",
   "execution_count": 25,
   "metadata": {},
   "outputs": [],
   "source": [
    "document_frequency = pd.Series(dictionary.dfs)"
   ]
  },
  {
   "cell_type": "code",
   "execution_count": 26,
   "metadata": {},
   "outputs": [
    {
     "data": {
      "text/plain": [
       "<matplotlib.axes._subplots.AxesSubplot at 0x1a25c78590>"
      ]
     },
     "execution_count": 26,
     "metadata": {},
     "output_type": "execute_result"
    },
    {
     "data": {
      "image/png": "[encoded data removed]",
      "text/plain": [
       "<Figure size 1440x720 with 1 Axes>"
      ]
     },
     "metadata": {
      "needs_background": "light"
     },
     "output_type": "display_data"
    }
   ],
   "source": [
    "document_frequency.plot(figsize=(20,10))"
   ]
  },
  {
   "cell_type": "code",
   "execution_count": 27,
   "metadata": {},
   "outputs": [
    {
     "data": {
      "text/plain": [
       "count    29263.000000\n",
       "mean        13.551276\n",
       "std         59.863000\n",
       "min          1.000000\n",
       "25%          1.000000\n",
       "50%          2.000000\n",
       "75%          6.000000\n",
       "max       2578.000000\n",
       "dtype: float64"
      ]
     },
     "execution_count": 27,
     "metadata": {},
     "output_type": "execute_result"
    }
   ],
   "source": [
    "document_frequency.describe()"
   ]
  },
  {
   "cell_type": "code",
   "execution_count": null,
   "metadata": {},
   "outputs": [],
   "source": []
  },
  {
   "cell_type": "code",
   "execution_count": null,
   "metadata": {},
   "outputs": [],
   "source": []
  },
  {
   "cell_type": "code",
   "execution_count": null,
   "metadata": {},
   "outputs": [],
   "source": []
  },
  {
   "cell_type": "markdown",
   "metadata": {},
   "source": [
    "### Filter out Low frequency and high frequent word"
   ]
  },
  {
   "cell_type": "code",
   "execution_count": null,
   "metadata": {},
   "outputs": [],
   "source": []
  },
  {
   "cell_type": "markdown",
   "metadata": {},
   "source": [
    "Filter out words with low word frequency\n",
    "\n",
    "Filter out words with very high document frequency \n",
    "\n",
    "Filter out words with very low document frequency"
   ]
  },
  {
   "cell_type": "code",
   "execution_count": null,
   "metadata": {},
   "outputs": [],
   "source": []
  },
  {
   "cell_type": "code",
   "execution_count": 28,
   "metadata": {},
   "outputs": [],
   "source": [
    "wf_low_bound = 2\n",
    "wf_up_bound = 10000000\n",
    "\n",
    "df_low_bound = 5\n",
    "df_up_bound = 2000"
   ]
  },
  {
   "cell_type": "code",
   "execution_count": null,
   "metadata": {},
   "outputs": [],
   "source": []
  },
  {
   "cell_type": "code",
   "execution_count": 29,
   "metadata": {},
   "outputs": [
    {
     "data": {
      "text/plain": [
       "count    29263.000000\n",
       "mean        21.348802\n",
       "std        156.619962\n",
       "min          1.000000\n",
       "25%          1.000000\n",
       "50%          2.000000\n",
       "75%          7.000000\n",
       "max       9620.000000\n",
       "dtype: float64"
      ]
     },
     "execution_count": 29,
     "metadata": {},
     "output_type": "execute_result"
    }
   ],
   "source": [
    "word_frequency.describe()"
   ]
  },
  {
   "cell_type": "code",
   "execution_count": null,
   "metadata": {},
   "outputs": [],
   "source": []
  },
  {
   "cell_type": "code",
   "execution_count": null,
   "metadata": {},
   "outputs": [],
   "source": []
  },
  {
   "cell_type": "code",
   "execution_count": 30,
   "metadata": {},
   "outputs": [],
   "source": [
    "wf_low_list = list(word_frequency[word_frequency<wf_low_bound].index)\n",
    "wf_up_list = list(word_frequency[word_frequency>wf_up_bound].index)"
   ]
  },
  {
   "cell_type": "code",
   "execution_count": 31,
   "metadata": {},
   "outputs": [],
   "source": [
    "df_low_list = list(document_frequency[document_frequency<df_low_bound].index)\n",
    "df_up_list = list(document_frequency[document_frequency>df_up_bound].index)"
   ]
  },
  {
   "cell_type": "code",
   "execution_count": 38,
   "metadata": {},
   "outputs": [
    {
     "data": {
      "text/plain": [
       "[64, 91]"
      ]
     },
     "execution_count": 38,
     "metadata": {},
     "output_type": "execute_result"
    }
   ],
   "source": [
    "df_up_list"
   ]
  },
  {
   "cell_type": "code",
   "execution_count": null,
   "metadata": {},
   "outputs": [],
   "source": []
  },
  {
   "cell_type": "markdown",
   "metadata": {},
   "source": [
    "#### Filter Work Check "
   ]
  },
  {
   "cell_type": "code",
   "execution_count": null,
   "metadata": {},
   "outputs": [],
   "source": []
  },
  {
   "cell_type": "code",
   "execution_count": 39,
   "metadata": {},
   "outputs": [],
   "source": [
    "wf_low_list_word = []\n",
    "\n",
    "for idx in wf_low_list:\n",
    "    \n",
    "    wf_low_list_word.append(dictionary[idx])\n",
    "    \n",
    "\n",
    "df_low_list_word = []\n",
    "\n",
    "for idx in df_low_list:\n",
    "    \n",
    "    df_low_list_word.append(dictionary[idx])\n",
    "    \n",
    "\n",
    "df_up_list_word = []\n",
    "\n",
    "for idx in df_up_list:\n",
    "    \n",
    "    df_up_list_word.append(dictionary[idx])"
   ]
  },
  {
   "cell_type": "code",
   "execution_count": null,
   "metadata": {},
   "outputs": [],
   "source": []
  },
  {
   "cell_type": "code",
   "execution_count": null,
   "metadata": {},
   "outputs": [],
   "source": []
  },
  {
   "cell_type": "markdown",
   "metadata": {},
   "source": [
    "### Filter out words from BOW Model"
   ]
  },
  {
   "cell_type": "code",
   "execution_count": null,
   "metadata": {},
   "outputs": [],
   "source": []
  },
  {
   "cell_type": "code",
   "execution_count": 41,
   "metadata": {},
   "outputs": [],
   "source": [
    "filter_word_list = list(set(wf_low_list+wf_up_list+df_low_list+df_up_list))"
   ]
  },
  {
   "cell_type": "code",
   "execution_count": 42,
   "metadata": {},
   "outputs": [
    {
     "data": {
      "text/plain": [
       "20436"
      ]
     },
     "execution_count": 42,
     "metadata": {},
     "output_type": "execute_result"
    }
   ],
   "source": [
    "len(filter_word_list)"
   ]
  },
  {
   "cell_type": "code",
   "execution_count": null,
   "metadata": {},
   "outputs": [],
   "source": []
  },
  {
   "cell_type": "code",
   "execution_count": 43,
   "metadata": {},
   "outputs": [],
   "source": [
    "dictionary.filter_tokens(bad_ids=filter_word_list)"
   ]
  },
  {
   "cell_type": "code",
   "execution_count": 44,
   "metadata": {},
   "outputs": [
    {
     "data": {
      "text/plain": [
       "8827"
      ]
     },
     "execution_count": 44,
     "metadata": {},
     "output_type": "execute_result"
    }
   ],
   "source": [
    "len(dictionary.token2id)"
   ]
  },
  {
   "cell_type": "code",
   "execution_count": null,
   "metadata": {},
   "outputs": [],
   "source": []
  },
  {
   "cell_type": "code",
   "execution_count": null,
   "metadata": {},
   "outputs": [],
   "source": []
  },
  {
   "cell_type": "markdown",
   "metadata": {},
   "source": [
    "### Word Embedding"
   ]
  },
  {
   "cell_type": "code",
   "execution_count": null,
   "metadata": {},
   "outputs": [],
   "source": []
  },
  {
   "cell_type": "markdown",
   "metadata": {},
   "source": [
    "#### BOW"
   ]
  },
  {
   "cell_type": "code",
   "execution_count": null,
   "metadata": {},
   "outputs": [],
   "source": []
  },
  {
   "cell_type": "code",
   "execution_count": null,
   "metadata": {},
   "outputs": [],
   "source": []
  },
  {
   "cell_type": "code",
   "execution_count": 48,
   "metadata": {},
   "outputs": [],
   "source": [
    "word_embedding_bow = [dictionary.doc2bow(one_word_list) for one_word_list in text_after_preprocess]"
   ]
  },
  {
   "cell_type": "code",
   "execution_count": null,
   "metadata": {},
   "outputs": [],
   "source": []
  },
  {
   "cell_type": "markdown",
   "metadata": {},
   "source": [
    "### TF-IDF Embedding"
   ]
  },
  {
   "cell_type": "code",
   "execution_count": 49,
   "metadata": {},
   "outputs": [],
   "source": [
    "tf_idf_model = TfidfModel(word_embedding_bow)"
   ]
  },
  {
   "cell_type": "code",
   "execution_count": 50,
   "metadata": {},
   "outputs": [],
   "source": [
    "word_embedding_tf_idf = [tf_idf_model[one_bow] for one_bow in word_embedding_bow]"
   ]
  },
  {
   "cell_type": "code",
   "execution_count": null,
   "metadata": {},
   "outputs": [],
   "source": []
  },
  {
   "cell_type": "code",
   "execution_count": null,
   "metadata": {},
   "outputs": [],
   "source": []
  },
  {
   "cell_type": "code",
   "execution_count": null,
   "metadata": {},
   "outputs": [],
   "source": []
  },
  {
   "cell_type": "markdown",
   "metadata": {},
   "source": [
    "#### Fast Text Word Embedding"
   ]
  },
  {
   "cell_type": "code",
   "execution_count": null,
   "metadata": {},
   "outputs": [],
   "source": []
  },
  {
   "cell_type": "code",
   "execution_count": null,
   "metadata": {},
   "outputs": [],
   "source": [
    "### Skip For now"
   ]
  },
  {
   "cell_type": "code",
   "execution_count": null,
   "metadata": {},
   "outputs": [],
   "source": []
  },
  {
   "cell_type": "code",
   "execution_count": null,
   "metadata": {},
   "outputs": [],
   "source": []
  },
  {
   "cell_type": "code",
   "execution_count": null,
   "metadata": {},
   "outputs": [],
   "source": []
  },
  {
   "cell_type": "code",
   "execution_count": null,
   "metadata": {},
   "outputs": [],
   "source": []
  },
  {
   "cell_type": "code",
   "execution_count": null,
   "metadata": {},
   "outputs": [],
   "source": []
  },
  {
   "cell_type": "code",
   "execution_count": null,
   "metadata": {},
   "outputs": [],
   "source": []
  },
  {
   "cell_type": "markdown",
   "metadata": {},
   "source": [
    "### Word Segementation"
   ]
  },
  {
   "cell_type": "markdown",
   "metadata": {},
   "source": [
    "#### Test for different segmentation strategy"
   ]
  },
  {
   "cell_type": "markdown",
   "metadata": {},
   "source": [
    "Setting\n",
    "1. HMM=FALSE,PADDLE=FALSE,cut_all=FALSE\n",
    "2. HMM=TRUE,PADDLE=FALSE,cut_all=FALSE\n",
    "3. HMM=FALSE,PADDLE=TRUE,cut_all=FALSE\n",
    "4. HMM=TRUE,PADDLE=TRUE,cut_all=FALSE\n",
    "\n",
    "\n",
    "1 is same as 3\n",
    "2 is same as 4\n",
    "\n",
    "It depends on whether to use HMM or not.\n",
    "\n",
    "Based on the current result, I think HMM should be adopted unless we could add enough self-defined dictionary.\n",
    "\n",
    "Paddle does not matter that much."
   ]
  },
  {
   "cell_type": "code",
   "execution_count": null,
   "metadata": {},
   "outputs": [],
   "source": []
  },
  {
   "cell_type": "code",
   "execution_count": 153,
   "metadata": {},
   "outputs": [],
   "source": [
    "word_cut_1 = jieba.cut(sample_text_no_punct,HMM=False,use_paddle=False,cut_all=False)\n",
    "word_cut_list_1 = list(word_cut_1)"
   ]
  },
  {
   "cell_type": "code",
   "execution_count": null,
   "metadata": {},
   "outputs": [],
   "source": []
  },
  {
   "cell_type": "code",
   "execution_count": 154,
   "metadata": {},
   "outputs": [],
   "source": [
    "word_cut_2 = jieba.cut(sample_text_no_punct,HMM=True,use_paddle=False,cut_all=False)\n",
    "word_cut_list_2 = list(word_cut_2)"
   ]
  },
  {
   "cell_type": "code",
   "execution_count": null,
   "metadata": {},
   "outputs": [],
   "source": []
  },
  {
   "cell_type": "code",
   "execution_count": 155,
   "metadata": {},
   "outputs": [],
   "source": [
    "word_cut_3 = jieba.cut(sample_text_no_punct,HMM=False,use_paddle=True,cut_all=False)\n",
    "word_cut_list_3 = list(word_cut_3)"
   ]
  },
  {
   "cell_type": "code",
   "execution_count": null,
   "metadata": {},
   "outputs": [],
   "source": []
  },
  {
   "cell_type": "code",
   "execution_count": 156,
   "metadata": {},
   "outputs": [],
   "source": [
    "word_cut_4 = jieba.cut(sample_text_no_punct,HMM=True,use_paddle=True,cut_all=False)\n",
    "word_cut_list_4 = list(word_cut_4)"
   ]
  },
  {
   "cell_type": "code",
   "execution_count": null,
   "metadata": {},
   "outputs": [],
   "source": []
  },
  {
   "cell_type": "code",
   "execution_count": 160,
   "metadata": {},
   "outputs": [
    {
     "data": {
      "text/plain": [
       "set()"
      ]
     },
     "execution_count": 160,
     "metadata": {},
     "output_type": "execute_result"
    }
   ],
   "source": [
    "set(word_cut_list_1) - set(word_cut_list_3)"
   ]
  },
  {
   "cell_type": "code",
   "execution_count": 158,
   "metadata": {},
   "outputs": [
    {
     "data": {
      "text/plain": [
       "{'三零', '办是', '办电', '另设', '可为', '小微', '搬到', '放管服', '线上', '装三零', '装零', '通办'}"
      ]
     },
     "execution_count": 158,
     "metadata": {},
     "output_type": "execute_result"
    }
   ],
   "source": [
    "set(word_cut_list_2) - set(word_cut_list_1)"
   ]
  },
  {
   "cell_type": "code",
   "execution_count": null,
   "metadata": {},
   "outputs": [],
   "source": []
  },
  {
   "cell_type": "code",
   "execution_count": 163,
   "metadata": {},
   "outputs": [
    {
     "data": {
      "text/plain": [
       "546"
      ]
     },
     "execution_count": 163,
     "metadata": {},
     "output_type": "execute_result"
    }
   ],
   "source": [
    "len(word_cut_list_1)"
   ]
  },
  {
   "cell_type": "code",
   "execution_count": 164,
   "metadata": {},
   "outputs": [
    {
     "data": {
      "text/plain": [
       "515"
      ]
     },
     "execution_count": 164,
     "metadata": {},
     "output_type": "execute_result"
    }
   ],
   "source": [
    "len(word_cut_list_2)"
   ]
  },
  {
   "cell_type": "code",
   "execution_count": 165,
   "metadata": {},
   "outputs": [
    {
     "data": {
      "text/plain": [
       "546"
      ]
     },
     "execution_count": 165,
     "metadata": {},
     "output_type": "execute_result"
    }
   ],
   "source": [
    "len(word_cut_list_3)"
   ]
  },
  {
   "cell_type": "code",
   "execution_count": 166,
   "metadata": {},
   "outputs": [
    {
     "data": {
      "text/plain": [
       "515"
      ]
     },
     "execution_count": 166,
     "metadata": {},
     "output_type": "execute_result"
    }
   ],
   "source": [
    "len(word_cut_list_4)"
   ]
  },
  {
   "cell_type": "code",
   "execution_count": null,
   "metadata": {},
   "outputs": [],
   "source": []
  },
  {
   "cell_type": "code",
   "execution_count": null,
   "metadata": {},
   "outputs": [],
   "source": []
  },
  {
   "cell_type": "code",
   "execution_count": null,
   "metadata": {},
   "outputs": [],
   "source": []
  },
  {
   "cell_type": "markdown",
   "metadata": {},
   "source": [
    "### Topic Model "
   ]
  },
  {
   "cell_type": "code",
   "execution_count": null,
   "metadata": {},
   "outputs": [],
   "source": []
  },
  {
   "cell_type": "code",
   "execution_count": 82,
   "metadata": {},
   "outputs": [],
   "source": [
    "id2word = corpora.Dictionary(result_fenci)"
   ]
  },
  {
   "cell_type": "code",
   "execution_count": 83,
   "metadata": {},
   "outputs": [],
   "source": [
    "corpus = [id2word.doc2bow(sentence) for sentence in result_fenci]"
   ]
  },
  {
   "cell_type": "code",
   "execution_count": null,
   "metadata": {},
   "outputs": [],
   "source": []
  },
  {
   "cell_type": "code",
   "execution_count": 84,
   "metadata": {},
   "outputs": [
    {
     "name": "stdout",
     "output_type": "stream",
     "text": [
      "[[('18', 1), ('一系列', 1), ('专业队伍', 1), ('严厉查处', 1), ('严峻', 1), ('中共', 1), ('中央政治局常委', 1), ('中秋', 1), ('人民', 2), ('人群', 1), ('作出', 1), ('决战', 1), ('决胜', 1), ('准备', 2), ('减灾', 1), ('力量', 1), ('十分', 1), ('协作', 1), ('压实', 3), ('压紧', 2), ('及时发现', 1), ('各方', 1), ('合力', 1), ('国务委员', 1), ('国庆', 1), ('处置', 2), ('复杂', 1), ('大火', 1), ('大灾', 1), ('小康社会', 1), ('层层', 1), ('属地', 2), ('应急', 3), ('建强', 1), ('建成', 1), ('强调', 1), ('当前', 1), ('形势', 1), ('总指挥', 1), ('总理', 2), ('意识', 1), ('手段', 1), ('扎实', 2), ('扑救', 2), ('扑灭', 1), ('执法', 1), ('批示', 2), ('指出', 2), ('指挥', 1), ('指挥部', 1), ('指示精神', 1), ('排查', 2), ('救', 1), ('救灾', 1), ('整治', 1), ('旅游', 1), ('日常', 1), ('早期', 1), ('期', 1), ('李克强', 2), ('构建', 1), ('林草', 1), ('格局', 1), ('森林草原', 7), ('森防指', 1), ('法规', 1), ('消除', 1), ('源头', 1), ('演练', 1), ('火情', 2), ('火灾', 5), ('灭火', 6), ('王勇', 2), ('生命', 1), ('生命财产', 2), ('用火', 1), ('电视电话会议', 1), ('相互配合', 1), ('秋冬季', 2), ('突发', 1), ('第一', 1), ('管控', 1), ('紧密', 1), ('紧盯', 1), ('群防群治', 1), ('至上', 1), ('节假日', 1), ('营造', 1), ('装备', 1), ('认真贯彻', 2), ('进入', 1), ('违法', 1), ('遏制', 1), ('重特大', 2), ('重要批示', 1), ('野外', 1), ('防', 7), ('防御能力', 1), ('防火', 2), ('防灭', 1), ('防灾', 1), ('防范', 3), ('隐患', 2), ('靠前', 1), ('预案', 2), ('高峰期', 1)]]\n"
     ]
    }
   ],
   "source": [
    "print([[(id2word[id], freq) for id, freq in cp] for cp in corpus[:1]])"
   ]
  },
  {
   "cell_type": "code",
   "execution_count": null,
   "metadata": {},
   "outputs": [],
   "source": []
  },
  {
   "cell_type": "code",
   "execution_count": 55,
   "metadata": {},
   "outputs": [],
   "source": [
    "corpus = word_embedding_bow\n",
    "id2word = dictionary"
   ]
  },
  {
   "cell_type": "code",
   "execution_count": null,
   "metadata": {},
   "outputs": [],
   "source": []
  },
  {
   "cell_type": "code",
   "execution_count": 61,
   "metadata": {},
   "outputs": [],
   "source": [
    "lda_model = gensim.models.ldamodel.LdaModel(corpus=corpus,\n",
    "                id2word=id2word,\n",
    "                num_topics=5,\n",
    "                # random_state=100,\n",
    "                # update_every=1,\n",
    "                # chunksize=100,\n",
    "                # passes=10,\n",
    "                # alpha='auto',\n",
    "                # per_word_topics=True\n",
    "                )"
   ]
  },
  {
   "cell_type": "code",
   "execution_count": 62,
   "metadata": {
    "collapsed": true
   },
   "outputs": [
    {
     "name": "stdout",
     "output_type": "stream",
     "text": [
      "[(0,\n",
      "  '0.017*\"发展\" + 0.012*\"就业\" + 0.012*\"经济\" + 0.010*\"中国\" + 0.008*\"创新\" + 0.008*\"合作\" '\n",
      "  '+ 0.007*\"推动\" + 0.007*\"健康\" + 0.006*\"企业\" + 0.006*\"促进\" + 0.006*\"创业\" + '\n",
      "  '0.006*\"改革\" + 0.005*\"国务院\" + 0.005*\"推进\" + 0.004*\"澳门\" + 0.004*\"市场\" + '\n",
      "  '0.004*\"实现\" + 0.004*\"政府\" + 0.004*\"国家\" + 0.004*\"社会\"'),\n",
      " (1,\n",
      "  '0.020*\"中国\" + 0.014*\"发展\" + 0.012*\"经济\" + 0.012*\"企业\" + 0.011*\"合作\" + 0.007*\"政府\" '\n",
      "  '+ 0.007*\"创新\" + 0.006*\"推动\" + 0.006*\"世界\" + 0.005*\"市场\" + 0.005*\"推进\" + '\n",
      "  '0.005*\"国家\" + 0.005*\"国务院\" + 0.004*\"会议\" + 0.004*\"改革\" + 0.004*\"进一步\" + '\n",
      "  '0.004*\"部门\" + 0.004*\"投资\" + 0.004*\"领域\" + 0.004*\"中方\"'),\n",
      " (2,\n",
      "  '0.015*\"发展\" + 0.010*\"企业\" + 0.007*\"改革\" + 0.007*\"国务院\" + 0.007*\"经济\" + '\n",
      "  '0.007*\"政府\" + 0.007*\"推进\" + 0.006*\"社会\" + 0.006*\"会议\" + 0.006*\"创新\" + 0.006*\"推动\" '\n",
      "  '+ 0.005*\"服务\" + 0.005*\"促进\" + 0.005*\"部门\" + 0.005*\"就业\" + 0.005*\"建设\" + '\n",
      "  '0.005*\"国家\" + 0.004*\"加快\" + 0.004*\"支持\" + 0.004*\"群众\"'),\n",
      " (3,\n",
      "  '0.022*\"中国\" + 0.016*\"发展\" + 0.014*\"经济\" + 0.011*\"合作\" + 0.008*\"世界\" + 0.008*\"国际\" '\n",
      "  '+ 0.006*\"企业\" + 0.006*\"促进\" + 0.005*\"推动\" + 0.005*\"国务院\" + 0.005*\"投资\" + '\n",
      "  '0.005*\"国家\" + 0.004*\"出席\" + 0.004*\"推进\" + 0.004*\"关系\" + 0.004*\"支持\" + 0.004*\"改革\" '\n",
      "  '+ 0.004*\"加强\" + 0.004*\"稳定\" + 0.004*\"创新\"'),\n",
      " (4,\n",
      "  '0.029*\"合作\" + 0.025*\"发展\" + 0.023*\"中国\" + 0.011*\"经济\" + 0.009*\"中方\" + 0.008*\"国家\" '\n",
      "  '+ 0.008*\"领域\" + 0.007*\"关系\" + 0.007*\"地区\" + 0.006*\"东盟\" + 0.006*\"加强\" + '\n",
      "  '0.006*\"推动\" + 0.006*\"建设\" + 0.005*\"推进\" + 0.005*\"稳定\" + 0.005*\"国务院\" + '\n",
      "  '0.005*\"促进\" + 0.005*\"支持\" + 0.004*\"世界\" + 0.004*\"和平\"')]\n"
     ]
    }
   ],
   "source": [
    "pprint(lda_model.print_topics(num_words=20))"
   ]
  },
  {
   "cell_type": "code",
   "execution_count": null,
   "metadata": {},
   "outputs": [],
   "source": []
  },
  {
   "cell_type": "code",
   "execution_count": null,
   "metadata": {},
   "outputs": [],
   "source": []
  },
  {
   "cell_type": "code",
   "execution_count": 64,
   "metadata": {},
   "outputs": [
    {
     "data": {
      "text/plain": [
       "<gensim.models.coherencemodel.CoherenceModel at 0x1a26534310>"
      ]
     },
     "execution_count": 64,
     "metadata": {},
     "output_type": "execute_result"
    }
   ],
   "source": [
    "coherence_model_lda"
   ]
  },
  {
   "cell_type": "code",
   "execution_count": 66,
   "metadata": {},
   "outputs": [],
   "source": [
    "coherence_model_lda = CoherenceModel(model=lda_model, texts=text_after_preprocess, dictionary=id2word, coherence='c_v')"
   ]
  },
  {
   "cell_type": "code",
   "execution_count": 67,
   "metadata": {},
   "outputs": [],
   "source": [
    "coherence_lda = coherence_model_lda.get_coherence()"
   ]
  },
  {
   "cell_type": "code",
   "execution_count": 68,
   "metadata": {},
   "outputs": [
    {
     "name": "stdout",
     "output_type": "stream",
     "text": [
      "Coherence Score:  0.3635532850096101\n"
     ]
    }
   ],
   "source": [
    "print('Coherence Score: ', coherence_lda)"
   ]
  },
  {
   "cell_type": "code",
   "execution_count": 70,
   "metadata": {},
   "outputs": [
    {
     "data": {
      "text/plain": [
       "-7.594107021920879"
      ]
     },
     "execution_count": 70,
     "metadata": {},
     "output_type": "execute_result"
    }
   ],
   "source": [
    "lda_model.log_perplexity(corpus)"
   ]
  },
  {
   "cell_type": "code",
   "execution_count": null,
   "metadata": {},
   "outputs": [],
   "source": []
  },
  {
   "cell_type": "code",
   "execution_count": null,
   "metadata": {},
   "outputs": [],
   "source": []
  },
  {
   "cell_type": "code",
   "execution_count": 72,
   "metadata": {},
   "outputs": [],
   "source": [
    "coherence_values = []\n",
    "model_list = []\n",
    "\n",
    "for num_topics in range(2,41,2):\n",
    "    \n",
    "    lda_model = gensim.models.ldamodel.LdaModel(corpus=corpus,\n",
    "                    id2word=id2word,\n",
    "                    num_topics=num_topics,\n",
    "                    # random_state=100,\n",
    "                    # update_every=1,\n",
    "                    # chunksize=100,\n",
    "                    # passes=10,\n",
    "                    # alpha='auto',\n",
    "                    # per_word_topics=True\n",
    "                                               )\n",
    "                                                \n",
    "    model_list.append(lda_model)\n",
    "    coherencemodel = CoherenceModel(model=lda_model, texts=text_after_preprocess, dictionary=id2word, coherence='c_v')\n",
    "    coherence_values.append(round(coherencemodel.get_coherence(),3))"
   ]
  },
  {
   "cell_type": "code",
   "execution_count": 73,
   "metadata": {},
   "outputs": [
    {
     "data": {
      "image/png": "[encoded data removed]",
      "text/plain": [
       "<Figure size 432x288 with 1 Axes>"
      ]
     },
     "metadata": {
      "needs_background": "light"
     },
     "output_type": "display_data"
    }
   ],
   "source": [
    "x = range(2,41,2)\n",
    "plt.plot(x, coherence_values)\n",
    "plt.xlabel(\"Num Topics\")\n",
    "plt.ylabel(\"Coherence score\")\n",
    "plt.legend((\"coherence_values\"), loc='best')\n",
    "plt.show()"
   ]
  },
  {
   "cell_type": "code",
   "execution_count": 74,
   "metadata": {},
   "outputs": [
    {
     "name": "stdout",
     "output_type": "stream",
     "text": [
      "Num Topics = 2  has Coherence Value of 0.31\n",
      "Num Topics = 4  has Coherence Value of 0.334\n",
      "Num Topics = 6  has Coherence Value of 0.372\n",
      "Num Topics = 8  has Coherence Value of 0.332\n",
      "Num Topics = 10  has Coherence Value of 0.34\n",
      "Num Topics = 12  has Coherence Value of 0.348\n",
      "Num Topics = 14  has Coherence Value of 0.325\n",
      "Num Topics = 16  has Coherence Value of 0.371\n",
      "Num Topics = 18  has Coherence Value of 0.338\n",
      "Num Topics = 20  has Coherence Value of 0.372\n",
      "Num Topics = 22  has Coherence Value of 0.375\n",
      "Num Topics = 24  has Coherence Value of 0.36\n",
      "Num Topics = 26  has Coherence Value of 0.362\n",
      "Num Topics = 28  has Coherence Value of 0.37\n",
      "Num Topics = 30  has Coherence Value of 0.362\n",
      "Num Topics = 32  has Coherence Value of 0.344\n",
      "Num Topics = 34  has Coherence Value of 0.325\n",
      "Num Topics = 36  has Coherence Value of 0.357\n",
      "Num Topics = 38  has Coherence Value of 0.353\n",
      "Num Topics = 40  has Coherence Value of 0.352\n"
     ]
    }
   ],
   "source": [
    "for m, cv in zip(x, coherence_values):\n",
    "    print(\"Num Topics =\", m, \" has Coherence Value of\", round(cv, 4))"
   ]
  },
  {
   "cell_type": "code",
   "execution_count": 100,
   "metadata": {},
   "outputs": [
    {
     "name": "stdout",
     "output_type": "stream",
     "text": [
      "[(0,\n",
      "  '0.026*\"中国\" + 0.020*\"合作\" + 0.020*\"发展\" + 0.012*\"经济\" + 0.010*\"企业\" + 0.006*\"创新\" '\n",
      "  '+ 0.006*\"推动\" + 0.006*\"国家\" + 0.005*\"市场\" + 0.005*\"中方\"'),\n",
      " (1,\n",
      "  '0.029*\"合作\" + 0.024*\"中国\" + 0.019*\"发展\" + 0.010*\"国家\" + 0.010*\"中方\" + 0.009*\"经济\" '\n",
      "  '+ 0.009*\"关系\" + 0.008*\"领域\" + 0.007*\"加强\" + 0.007*\"地区\"'),\n",
      " (2,\n",
      "  '0.015*\"发展\" + 0.013*\"企业\" + 0.011*\"经济\" + 0.009*\"创新\" + 0.009*\"改革\" + 0.007*\"推进\" '\n",
      "  '+ 0.007*\"政府\" + 0.007*\"国务院\" + 0.007*\"中国\" + 0.007*\"推动\"'),\n",
      " (3,\n",
      "  '0.026*\"发展\" + 0.015*\"合作\" + 0.013*\"经济\" + 0.008*\"中国\" + 0.008*\"推动\" + 0.006*\"加强\" '\n",
      "  '+ 0.006*\"促进\" + 0.005*\"中方\" + 0.005*\"推进\" + 0.005*\"建设\"'),\n",
      " (4,\n",
      "  '0.016*\"就业\" + 0.014*\"发展\" + 0.007*\"经济\" + 0.007*\"中国\" + 0.007*\"社会\" + 0.006*\"政府\" '\n",
      "  '+ 0.006*\"国务院\" + 0.005*\"群众\" + 0.005*\"企业\" + 0.005*\"建设\"'),\n",
      " (5,\n",
      "  '0.019*\"中国\" + 0.016*\"发展\" + 0.009*\"经济\" + 0.008*\"合作\" + 0.008*\"国务院\" + '\n",
      "  '0.006*\"国家\" + 0.006*\"世界\" + 0.005*\"会议\" + 0.005*\"国际\" + 0.005*\"企业\"')]\n"
     ]
    }
   ],
   "source": [
    "optimal_model = model_list[2]\n",
    "model_topics = optimal_model.show_topics(formatted=False)\n",
    "pprint(optimal_model.print_topics(num_words=10))"
   ]
  },
  {
   "cell_type": "code",
   "execution_count": null,
   "metadata": {},
   "outputs": [],
   "source": []
  },
  {
   "cell_type": "code",
   "execution_count": 101,
   "metadata": {},
   "outputs": [],
   "source": [
    "def format_topics_sentences(ldamodel, corpus, texts):\n",
    "    # Init output\n",
    "    sent_topics_df = pd.DataFrame()\n",
    "    # Get main topic in each document\n",
    "    for i, row in enumerate(ldamodel[corpus]):\n",
    "        row = sorted(row, key=lambda x: (x[1]), reverse=True)\n",
    "        # Get the Dominant topic, Perc Contribution and Keywords for each document\n",
    "        for j, (topic_num, prop_topic) in enumerate(row):\n",
    "            if j == 0: # => dominant topic\n",
    "                wp = ldamodel.show_topic(topic_num)\n",
    "                topic_keywords = \", \".join([word for word, prop in wp])\n",
    "                sent_topics_df = sent_topics_df.append(pd.Series([int(topic_num),                 round(prop_topic,4), topic_keywords]), ignore_index=True)\n",
    "            else:\n",
    "                break\n",
    "    sent_topics_df.columns = ['Dominant_Topic', 'Perc_Contribution', 'Topic_Keywords']\n",
    "\n",
    "    # Add original text to the end of the output\n",
    "    contents = pd.Series(texts)\n",
    "    # print(contents)\n",
    "    sent_topics_df = pd.concat([sent_topics_df, contents], axis=1)\n",
    "    # print(sent_topics_df)\n",
    "    return(sent_topics_df)"
   ]
  },
  {
   "cell_type": "code",
   "execution_count": null,
   "metadata": {},
   "outputs": [],
   "source": []
  },
  {
   "cell_type": "code",
   "execution_count": 102,
   "metadata": {},
   "outputs": [],
   "source": [
    "df_topic_sents_keywords = format_topics_sentences(ldamodel=optimal_model, corpus=corpus, texts=text_after_preprocess)"
   ]
  },
  {
   "cell_type": "code",
   "execution_count": null,
   "metadata": {},
   "outputs": [],
   "source": []
  },
  {
   "cell_type": "code",
   "execution_count": 125,
   "metadata": {},
   "outputs": [],
   "source": [
    "topic_1 = df_topic_sents_keywords[df_topic_sents_keywords[\"Dominant_Topic\"]==5.0]"
   ]
  },
  {
   "cell_type": "code",
   "execution_count": 126,
   "metadata": {},
   "outputs": [
    {
     "data": {
      "text/html": [
       "<div>\n",
       "<style scoped>\n",
       "    .dataframe tbody tr th:only-of-type {\n",
       "        vertical-align: middle;\n",
       "    }\n",
       "\n",
       "    .dataframe tbody tr th {\n",
       "        vertical-align: top;\n",
       "    }\n",
       "\n",
       "    .dataframe thead th {\n",
       "        text-align: right;\n",
       "    }\n",
       "</style>\n",
       "<table border=\"1\" class=\"dataframe\">\n",
       "  <thead>\n",
       "    <tr style=\"text-align: right;\">\n",
       "      <th></th>\n",
       "      <th>Dominant_Topic</th>\n",
       "      <th>Perc_Contribution</th>\n",
       "      <th>Topic_Keywords</th>\n",
       "      <th>0</th>\n",
       "    </tr>\n",
       "  </thead>\n",
       "  <tbody>\n",
       "    <tr>\n",
       "      <th>8</th>\n",
       "      <td>5.0</td>\n",
       "      <td>0.5951</td>\n",
       "      <td>中国, 发展, 经济, 合作, 国务院, 国家, 世界, 会议, 国际, 企业</td>\n",
       "      <td>[外交部, 发言人, 赵立坚, 宣布, 国务院, 总理, 李克强, 出席, 世界, 经济, ...</td>\n",
       "    </tr>\n",
       "    <tr>\n",
       "      <th>18</th>\n",
       "      <td>5.0</td>\n",
       "      <td>0.4760</td>\n",
       "      <td>中国, 发展, 经济, 合作, 国务院, 国家, 世界, 会议, 国际, 企业</td>\n",
       "      <td>[李克强, 总理, 主持, 召开, 国务院, 常务会议, 部署, 防汛, 救灾, 灾后, 恢...</td>\n",
       "    </tr>\n",
       "    <tr>\n",
       "      <th>32</th>\n",
       "      <td>5.0</td>\n",
       "      <td>0.8858</td>\n",
       "      <td>中国, 发展, 经济, 合作, 国务院, 国家, 世界, 会议, 国际, 企业</td>\n",
       "      <td>[李克强, 上午, 时许, 飞抵, 重庆, 飞机, 马上转, 乘火车, 汽车, 一路, 辗转...</td>\n",
       "    </tr>\n",
       "    <tr>\n",
       "      <th>34</th>\n",
       "      <td>5.0</td>\n",
       "      <td>0.8129</td>\n",
       "      <td>中国, 发展, 经济, 合作, 国务院, 国家, 世界, 会议, 国际, 企业</td>\n",
       "      <td>[第三个, 中国, 医师, 中共, 中央政治局常委, 国务院, 总理, 李克强, 作出, 重...</td>\n",
       "    </tr>\n",
       "    <tr>\n",
       "      <th>93</th>\n",
       "      <td>5.0</td>\n",
       "      <td>0.6018</td>\n",
       "      <td>中国, 发展, 经济, 合作, 国务院, 国家, 世界, 会议, 国际, 企业</td>\n",
       "      <td>[中共, 中央政治局常委, 国务院, 总理, 中央, 应对, 新冠, 肺炎, 疫情, 领导小...</td>\n",
       "    </tr>\n",
       "  </tbody>\n",
       "</table>\n",
       "</div>"
      ],
      "text/plain": [
       "    Dominant_Topic  Perc_Contribution  \\\n",
       "8              5.0             0.5951   \n",
       "18             5.0             0.4760   \n",
       "32             5.0             0.8858   \n",
       "34             5.0             0.8129   \n",
       "93             5.0             0.6018   \n",
       "\n",
       "                             Topic_Keywords  \\\n",
       "8   中国, 发展, 经济, 合作, 国务院, 国家, 世界, 会议, 国际, 企业   \n",
       "18  中国, 发展, 经济, 合作, 国务院, 国家, 世界, 会议, 国际, 企业   \n",
       "32  中国, 发展, 经济, 合作, 国务院, 国家, 世界, 会议, 国际, 企业   \n",
       "34  中国, 发展, 经济, 合作, 国务院, 国家, 世界, 会议, 国际, 企业   \n",
       "93  中国, 发展, 经济, 合作, 国务院, 国家, 世界, 会议, 国际, 企业   \n",
       "\n",
       "                                                    0  \n",
       "8   [外交部, 发言人, 赵立坚, 宣布, 国务院, 总理, 李克强, 出席, 世界, 经济, ...  \n",
       "18  [李克强, 总理, 主持, 召开, 国务院, 常务会议, 部署, 防汛, 救灾, 灾后, 恢...  \n",
       "32  [李克强, 上午, 时许, 飞抵, 重庆, 飞机, 马上转, 乘火车, 汽车, 一路, 辗转...  \n",
       "34  [第三个, 中国, 医师, 中共, 中央政治局常委, 国务院, 总理, 李克强, 作出, 重...  \n",
       "93  [中共, 中央政治局常委, 国务院, 总理, 中央, 应对, 新冠, 肺炎, 疫情, 领导小...  "
      ]
     },
     "execution_count": 126,
     "metadata": {},
     "output_type": "execute_result"
    }
   ],
   "source": [
    "topic_1.head()"
   ]
  },
  {
   "cell_type": "code",
   "execution_count": 127,
   "metadata": {},
   "outputs": [],
   "source": [
    "representative_text = list(topic_1.sort_values(\"Perc_Contribution\",ascending=False)[0][0:10])"
   ]
  },
  {
   "cell_type": "code",
   "execution_count": 128,
   "metadata": {},
   "outputs": [
    {
     "data": {
      "text/plain": [
       "['国务院',\n",
       " '总理',\n",
       " '李克强',\n",
       " '时间',\n",
       " '上午',\n",
       " '纽约联合国总部',\n",
       " '出席',\n",
       " '联大',\n",
       " '解决',\n",
       " '难民',\n",
       " '移民',\n",
       " '大规模',\n",
       " '流动',\n",
       " '高级别',\n",
       " '会议',\n",
       " '发言',\n",
       " '全文如下',\n",
       " '主席',\n",
       " '同事',\n",
       " '一个多月',\n",
       " '奥运会',\n",
       " '开幕式',\n",
       " '首支',\n",
       " '难民',\n",
       " '代表队',\n",
       " '亮相',\n",
       " '世界',\n",
       " '运动员',\n",
       " '勇气',\n",
       " '毅力',\n",
       " '告诉',\n",
       " '国际',\n",
       " '社会',\n",
       " '背井离乡',\n",
       " '居无定所',\n",
       " '依然',\n",
       " '选择',\n",
       " '希望',\n",
       " '梦想',\n",
       " '拼搏',\n",
       " '值得',\n",
       " '尊重',\n",
       " '难民',\n",
       " '移民',\n",
       " '日益突出',\n",
       " '会议',\n",
       " '联合国',\n",
       " '成立',\n",
       " '首次',\n",
       " '应对',\n",
       " '难民',\n",
       " '移民',\n",
       " '大规模',\n",
       " '流动',\n",
       " '高级别',\n",
       " '会议',\n",
       " '引起',\n",
       " '国际',\n",
       " '社会',\n",
       " '高度',\n",
       " '关注',\n",
       " '我谈',\n",
       " '几点',\n",
       " '看法',\n",
       " '难民',\n",
       " '移民',\n",
       " '关乎',\n",
       " '世界',\n",
       " '和平',\n",
       " '发展',\n",
       " '影响',\n",
       " '地区',\n",
       " '稳定',\n",
       " '难民',\n",
       " '移民',\n",
       " '大规模',\n",
       " '引发',\n",
       " '一系列',\n",
       " '政治',\n",
       " '经济',\n",
       " '社会',\n",
       " '全球',\n",
       " '难民',\n",
       " '移民',\n",
       " '数量',\n",
       " '之多',\n",
       " '增长',\n",
       " '之快',\n",
       " '几十年',\n",
       " '国家',\n",
       " '发展',\n",
       " '带来',\n",
       " '冲击',\n",
       " '威胁',\n",
       " '地区',\n",
       " '和平',\n",
       " '稳定',\n",
       " '拖累',\n",
       " '世界',\n",
       " '经济',\n",
       " '复苏',\n",
       " '影响',\n",
       " '国际',\n",
       " '秩序',\n",
       " '还给',\n",
       " '恐怖主义',\n",
       " '带来',\n",
       " '可乘之机',\n",
       " '难民',\n",
       " '移民',\n",
       " '既有',\n",
       " '地区性',\n",
       " '全球性',\n",
       " '国家',\n",
       " '置身事外',\n",
       " '国际',\n",
       " '社会',\n",
       " '应对',\n",
       " '难民',\n",
       " '移民',\n",
       " '一场',\n",
       " '人道主义',\n",
       " '危机',\n",
       " '拷问',\n",
       " '人类',\n",
       " '社会',\n",
       " '良知',\n",
       " '生活',\n",
       " '同一个',\n",
       " '地球村',\n",
       " '生命',\n",
       " '宝贵',\n",
       " '尊严',\n",
       " '维护',\n",
       " '难民',\n",
       " '颠沛流离',\n",
       " '经受',\n",
       " '饥饿',\n",
       " '折磨',\n",
       " '疾病',\n",
       " '痛苦',\n",
       " '奔波',\n",
       " '途中',\n",
       " '失踪',\n",
       " '死亡',\n",
       " '严重',\n",
       " '冲击',\n",
       " '心理',\n",
       " '人道主义',\n",
       " '精神',\n",
       " '弘扬',\n",
       " '道义',\n",
       " '底线',\n",
       " '突破',\n",
       " '国际',\n",
       " '社会',\n",
       " '切实',\n",
       " '难民',\n",
       " '施以援',\n",
       " '感受',\n",
       " '人间',\n",
       " '温暖',\n",
       " '关怀',\n",
       " '燃起',\n",
       " '生活',\n",
       " '希望',\n",
       " '关注',\n",
       " '难民',\n",
       " '欧洲',\n",
       " '带来',\n",
       " '危机',\n",
       " '关注',\n",
       " '叙利亚',\n",
       " '阿富汗',\n",
       " '索马里',\n",
       " '苏丹',\n",
       " '等国',\n",
       " '灾难',\n",
       " '难民',\n",
       " '移民',\n",
       " '解决',\n",
       " '加强',\n",
       " '国际',\n",
       " '合作',\n",
       " '联合国',\n",
       " '框架',\n",
       " '制定',\n",
       " '系统',\n",
       " '解决方案',\n",
       " '充分发挥',\n",
       " '联合国',\n",
       " '难民署',\n",
       " '国际',\n",
       " '移民',\n",
       " '组织',\n",
       " '机构',\n",
       " '协调',\n",
       " '作用',\n",
       " '解决',\n",
       " '难民',\n",
       " '历史',\n",
       " '经纬',\n",
       " '各国',\n",
       " '承担',\n",
       " '责任',\n",
       " '难民',\n",
       " '移民',\n",
       " '过境',\n",
       " '目的',\n",
       " '国都',\n",
       " '能力',\n",
       " '发挥作用',\n",
       " '当务之急',\n",
       " '筹措',\n",
       " '资金',\n",
       " '物资',\n",
       " '确保',\n",
       " '难民',\n",
       " '生活',\n",
       " '关注',\n",
       " '难民',\n",
       " '移民',\n",
       " '差异化',\n",
       " '利益',\n",
       " '诉求',\n",
       " '政策',\n",
       " '制定',\n",
       " '财政投入',\n",
       " '社会保障',\n",
       " '作出',\n",
       " '因地制宜',\n",
       " '安排',\n",
       " '拓宽',\n",
       " '合法',\n",
       " '移民',\n",
       " '渠道',\n",
       " '携手',\n",
       " '打击',\n",
       " '偷渡',\n",
       " '人口',\n",
       " '贩运',\n",
       " '恐怖主义',\n",
       " '难民',\n",
       " '移民',\n",
       " '解决',\n",
       " '离不开',\n",
       " '来源国',\n",
       " '努力',\n",
       " '战乱',\n",
       " '冲突',\n",
       " '贫穷落后',\n",
       " '难民',\n",
       " '根源',\n",
       " '当事方',\n",
       " '对话',\n",
       " '解决',\n",
       " '争端',\n",
       " '协商',\n",
       " '化解',\n",
       " '分歧',\n",
       " '国际',\n",
       " '社会',\n",
       " '促谈',\n",
       " '努力',\n",
       " '难民',\n",
       " '移民',\n",
       " '来源国',\n",
       " '走上',\n",
       " '长治久安',\n",
       " '国家',\n",
       " '重视',\n",
       " '发展',\n",
       " '经济',\n",
       " '改善',\n",
       " '民生',\n",
       " '缩小',\n",
       " '贫富差距',\n",
       " '促进',\n",
       " '包容',\n",
       " '增长',\n",
       " '维护',\n",
       " '社会',\n",
       " '团结',\n",
       " '稳定',\n",
       " '推动',\n",
       " '文明',\n",
       " '和谐',\n",
       " '共生',\n",
       " '世界',\n",
       " '各国',\n",
       " '促进',\n",
       " '开放',\n",
       " '联动',\n",
       " '增长',\n",
       " '减少',\n",
       " '全球',\n",
       " '发展',\n",
       " '平衡',\n",
       " '推动',\n",
       " '发展',\n",
       " '主席',\n",
       " '同事',\n",
       " '中国',\n",
       " '一贯',\n",
       " '高度重视',\n",
       " '积极参与',\n",
       " '解决',\n",
       " '难民',\n",
       " '移民',\n",
       " '贫穷',\n",
       " '困难',\n",
       " '施以援',\n",
       " '中国',\n",
       " '经济',\n",
       " '较大',\n",
       " '发展',\n",
       " '发展中国家',\n",
       " '承担',\n",
       " '能力',\n",
       " '相适应',\n",
       " '责任',\n",
       " '这是',\n",
       " '应有',\n",
       " '道义',\n",
       " '世界',\n",
       " '和平',\n",
       " '地区',\n",
       " '稳定',\n",
       " '作贡献',\n",
       " '维护',\n",
       " '发展',\n",
       " '原有',\n",
       " '援助',\n",
       " '规模',\n",
       " '基础',\n",
       " '国家',\n",
       " '国际',\n",
       " '组织',\n",
       " '提供',\n",
       " '用于',\n",
       " '应对',\n",
       " '难民',\n",
       " '人道主义',\n",
       " '援助',\n",
       " '进一步',\n",
       " '支持',\n",
       " '措施',\n",
       " '研究',\n",
       " '中国',\n",
       " '联合国',\n",
       " '和平',\n",
       " '发展',\n",
       " '基金',\n",
       " '资金',\n",
       " '用于',\n",
       " '支持',\n",
       " '发展中国家',\n",
       " '难民',\n",
       " '移民',\n",
       " '探讨',\n",
       " '国际',\n",
       " '机构',\n",
       " '发展中国家',\n",
       " '开展',\n",
       " '难民',\n",
       " '移民',\n",
       " '三方',\n",
       " '合作',\n",
       " '主席',\n",
       " '同事',\n",
       " '中方',\n",
       " '期待',\n",
       " '会议',\n",
       " '各方',\n",
       " '凝聚',\n",
       " '共识',\n",
       " '合力',\n",
       " '新起点',\n",
       " '争取',\n",
       " '早日',\n",
       " '实现',\n",
       " '全球',\n",
       " '难民',\n",
       " '移民',\n",
       " '大规模',\n",
       " '流动',\n",
       " '持久',\n",
       " '解决',\n",
       " '谢谢']"
      ]
     },
     "execution_count": 128,
     "metadata": {},
     "output_type": "execute_result"
    }
   ],
   "source": [
    "representative_text[1]"
   ]
  },
  {
   "cell_type": "code",
   "execution_count": null,
   "metadata": {},
   "outputs": [],
   "source": []
  },
  {
   "cell_type": "code",
   "execution_count": null,
   "metadata": {},
   "outputs": [],
   "source": []
  },
  {
   "cell_type": "code",
   "execution_count": null,
   "metadata": {},
   "outputs": [],
   "source": []
  },
  {
   "cell_type": "code",
   "execution_count": null,
   "metadata": {},
   "outputs": [],
   "source": []
  },
  {
   "cell_type": "code",
   "execution_count": null,
   "metadata": {},
   "outputs": [],
   "source": []
  },
  {
   "cell_type": "code",
   "execution_count": null,
   "metadata": {},
   "outputs": [],
   "source": []
  },
  {
   "cell_type": "code",
   "execution_count": null,
   "metadata": {},
   "outputs": [],
   "source": []
  },
  {
   "cell_type": "code",
   "execution_count": null,
   "metadata": {},
   "outputs": [],
   "source": []
  }
 ],
 "metadata": {
  "kernelspec": {
   "display_name": "Python 3",
   "language": "python",
   "name": "python3"
  },
  "language_info": {
   "codemirror_mode": {
    "name": "ipython",
    "version": 3
   },
   "file_extension": ".py",
   "mimetype": "text/x-python",
   "name": "python",
   "nbconvert_exporter": "python",
   "pygments_lexer": "ipython3",
   "version": "3.7.6"
  }
 },
 "nbformat": 4,
 "nbformat_minor": 4
}
