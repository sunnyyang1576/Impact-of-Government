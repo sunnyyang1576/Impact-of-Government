{
 "cells": [
  {
   "cell_type": "code",
   "execution_count": null,
   "metadata": {},
   "outputs": [],
   "source": []
  },
  {
   "cell_type": "code",
   "execution_count": 1,
   "metadata": {},
   "outputs": [],
   "source": [
    "import pandas as pd\n",
    "import jieba\n",
    "import numpy as np\n",
    "from pprint import pprint\n",
    "import gensim\n",
    "import gensim.corpora as corpora\n",
    "from gensim.utils import simple_preprocess\n",
    "from gensim.models import CoherenceModel\n",
    "from gensim import corpora, models, similarities"
   ]
  },
  {
   "cell_type": "code",
   "execution_count": 2,
   "metadata": {},
   "outputs": [],
   "source": [
    "import pyLDAvis\n",
    "import pyLDAvis.gensim\n",
    "import matplotlib.pyplot as plt"
   ]
  },
  {
   "cell_type": "code",
   "execution_count": 13,
   "metadata": {},
   "outputs": [],
   "source": [
    "import re"
   ]
  },
  {
   "cell_type": "code",
   "execution_count": null,
   "metadata": {},
   "outputs": [],
   "source": []
  },
  {
   "cell_type": "code",
   "execution_count": 179,
   "metadata": {},
   "outputs": [],
   "source": [
    "def remove_punc(word_list):\n",
    "    \n",
    "    punc = \"！？｡。＂＃＄％＆＇（）＊＋，－／：；＜＝＞＠［＼］＾＿｀｛｜｝～｟｠｢｣､、〃》「」『』【】〔〕〖〗〘〙〚〛〜〝〞〟〰〾〿–—‘’‛“”„‟…‧﹏.\"\n",
    "    word_list = [word for word in word_list if word not in punc]\n",
    "    \n",
    "    return word_list"
   ]
  },
  {
   "cell_type": "code",
   "execution_count": 186,
   "metadata": {},
   "outputs": [],
   "source": [
    "def remove_num(word_list):\n",
    "    \n",
    "    word_list = [re.sub(r'[0-9]+', '', word) for word in word_list]\n",
    "    \n",
    "    return word_list"
   ]
  },
  {
   "cell_type": "code",
   "execution_count": null,
   "metadata": {},
   "outputs": [],
   "source": [
    "def remove_single_character(word_list):\n",
    "    \n",
    "    word_list = [word for word in word_list if len(word)>1]\n",
    "    \n",
    "    return word_list"
   ]
  },
  {
   "cell_type": "code",
   "execution_count": null,
   "metadata": {},
   "outputs": [],
   "source": []
  },
  {
   "cell_type": "code",
   "execution_count": null,
   "metadata": {},
   "outputs": [],
   "source": []
  },
  {
   "cell_type": "code",
   "execution_count": 3,
   "metadata": {},
   "outputs": [],
   "source": [
    "data_directory = \"data/\"\n",
    "file = \"content.csv\""
   ]
  },
  {
   "cell_type": "code",
   "execution_count": null,
   "metadata": {},
   "outputs": [],
   "source": []
  },
  {
   "cell_type": "code",
   "execution_count": 4,
   "metadata": {},
   "outputs": [],
   "source": [
    "df = pd.read_csv(data_directory+file)"
   ]
  },
  {
   "cell_type": "code",
   "execution_count": 5,
   "metadata": {},
   "outputs": [],
   "source": [
    "df[\"date\"] = pd.to_datetime(df[\"date\"])"
   ]
  },
  {
   "cell_type": "code",
   "execution_count": null,
   "metadata": {},
   "outputs": [],
   "source": []
  },
  {
   "cell_type": "code",
   "execution_count": null,
   "metadata": {},
   "outputs": [],
   "source": []
  },
  {
   "cell_type": "code",
   "execution_count": 6,
   "metadata": {},
   "outputs": [],
   "source": [
    "text = list(df[\"content\"])"
   ]
  },
  {
   "cell_type": "code",
   "execution_count": null,
   "metadata": {},
   "outputs": [],
   "source": []
  },
  {
   "cell_type": "code",
   "execution_count": 145,
   "metadata": {},
   "outputs": [],
   "source": [
    "sample_text = text[1]"
   ]
  },
  {
   "cell_type": "code",
   "execution_count": 146,
   "metadata": {},
   "outputs": [
    {
     "data": {
      "text/plain": [
       "'今年年底前实现58项事项异地办理，明年底前实现74项事项异地办理，下一步还要加快实现新生儿入户、社保参保缴费查询等“跨省通办”。李克强总理9月17日主持召开国务院常务会议重点部署这项工作。当天会议确定政务服务“跨省通办”和提升“获得电力”服务水平的措施。李克强说：“推进与企业发展、群众生活密切相关的高频事项‘跨省通办’，是深化‘放管服’改革、优化营商环境的重要举措，有利于各类要素自由流动、建立全国统一大市场。”他强调，要进一步深化“放管服”改革，持续优化企业和群众办事创业环境。优化线上办理方式，使“跨省通办”便捷、易操作“现在很多城市都推行‘一网通办’，很受群众欢迎，有的连续几年被群众投票为最受欢迎的改革。”李克强说，“这里必须明确，‘一网通办’只是把市场化改革的措施和公共服务保障等内容，从线下搬到了线上，并不是另设新的办事项目、增加新的行政许可。”总理要求，要抓紧将现有线下政务服务转为线上办，在抓好“省内通办”的同时，今年底前实现市场主体登记注册、养老保险关系转移接续、职业资格证书核验、学历公证、驾驶证公证等58项事项异地办理，明年底前实现工业产品生产许可证、就医结算备案、社保卡申领、户口迁移等74项事项异地办理。下一步还要加快实现新生儿入户、社保参保缴费查询等“跨省通办”。他强调，推进线下政务服务线上办理，既要优化线上办理方式，使“跨省通办”便捷、易操作，又要保障少数群体线下办事需求，保护数据安全和个人隐私。“‘一网通办’是政府提供的公共服务，目的是提高办事效率、减少寻租空间，给人民群众和市场主体办事提供更多方便。”李克强说。总理明确要求，政务服务网上办理必须确保不收取额外费用；对不使用智能手机的少数群体，也要考虑他们的生活便利，保障他们能获取应有的公共服务。全面推广居民和小微企业低压用电报装“零上门、零审批、零投资”当天会议还确定了提升“获得电力”服务水平的措施。有关部门负责人汇报，近年来，我国电力接入工程审批时间大幅压缩，电网企业的业务办理环节和工程施工时间大幅压减。世界银行数据显示，我国“获得电力”指标排名从2017年的第98位提升至2019年的第12位，连续两年保持全球领先水平。当天会议确定，全面推广居民和小微企业低压用电报装“零上门、零审批、零投资”，今年底前在全国实现用电报装业务线上办理，将居民用户和实行“三零”服务的低压非居民用户全过程办电时间分别压减至5个和25个工作日内，其他用户办电时间也大幅压缩。会议决定，2022年底前，实现居民和低压用户用电报装“三零”服务全覆盖，其中非居民用户办电时间减至15个工作日内。上述措施三年累计可为小微企业节省投资约1300亿元。'"
      ]
     },
     "execution_count": 146,
     "metadata": {},
     "output_type": "execute_result"
    }
   ],
   "source": [
    "sample_text"
   ]
  },
  {
   "cell_type": "code",
   "execution_count": null,
   "metadata": {},
   "outputs": [],
   "source": []
  },
  {
   "cell_type": "code",
   "execution_count": null,
   "metadata": {},
   "outputs": [],
   "source": []
  },
  {
   "cell_type": "code",
   "execution_count": null,
   "metadata": {},
   "outputs": [],
   "source": []
  },
  {
   "cell_type": "markdown",
   "metadata": {},
   "source": [
    "### Cut word first"
   ]
  },
  {
   "cell_type": "code",
   "execution_count": null,
   "metadata": {},
   "outputs": [],
   "source": []
  },
  {
   "cell_type": "code",
   "execution_count": null,
   "metadata": {},
   "outputs": [],
   "source": []
  },
  {
   "cell_type": "code",
   "execution_count": 171,
   "metadata": {},
   "outputs": [],
   "source": [
    "word_cut = jieba.cut(sample_text,HMM=True,use_paddle=True,cut_all=False)\n",
    "word_cut_list = list(word_cut)"
   ]
  },
  {
   "cell_type": "code",
   "execution_count": null,
   "metadata": {},
   "outputs": [],
   "source": []
  },
  {
   "cell_type": "code",
   "execution_count": null,
   "metadata": {},
   "outputs": [],
   "source": []
  },
  {
   "cell_type": "code",
   "execution_count": null,
   "metadata": {},
   "outputs": [],
   "source": []
  },
  {
   "cell_type": "code",
   "execution_count": null,
   "metadata": {},
   "outputs": [],
   "source": []
  },
  {
   "cell_type": "markdown",
   "metadata": {},
   "source": [
    "### Remove Punctuation"
   ]
  },
  {
   "cell_type": "code",
   "execution_count": 187,
   "metadata": {},
   "outputs": [],
   "source": [
    "word_cut_list_new = [word for word in word_cut_list if word not in punc]"
   ]
  },
  {
   "cell_type": "code",
   "execution_count": null,
   "metadata": {},
   "outputs": [],
   "source": []
  },
  {
   "cell_type": "code",
   "execution_count": null,
   "metadata": {
    "scrolled": true
   },
   "outputs": [],
   "source": []
  },
  {
   "cell_type": "markdown",
   "metadata": {},
   "source": [
    "This Basically suggests that punctuation has no impact on the word segementation process. But it is still better to remove the punctuation."
   ]
  },
  {
   "cell_type": "code",
   "execution_count": null,
   "metadata": {},
   "outputs": [],
   "source": []
  },
  {
   "cell_type": "code",
   "execution_count": null,
   "metadata": {},
   "outputs": [],
   "source": []
  },
  {
   "cell_type": "markdown",
   "metadata": {},
   "source": [
    "### Remove Number"
   ]
  },
  {
   "cell_type": "code",
   "execution_count": 189,
   "metadata": {},
   "outputs": [],
   "source": [
    "word_cut_list_new = remove_num(word_cut_list_new)"
   ]
  },
  {
   "cell_type": "code",
   "execution_count": null,
   "metadata": {},
   "outputs": [],
   "source": []
  },
  {
   "cell_type": "code",
   "execution_count": null,
   "metadata": {},
   "outputs": [],
   "source": []
  },
  {
   "cell_type": "markdown",
   "metadata": {},
   "source": [
    "### Remove Single Character"
   ]
  },
  {
   "cell_type": "code",
   "execution_count": null,
   "metadata": {},
   "outputs": [],
   "source": []
  },
  {
   "cell_type": "code",
   "execution_count": null,
   "metadata": {},
   "outputs": [],
   "source": []
  },
  {
   "cell_type": "code",
   "execution_count": 200,
   "metadata": {},
   "outputs": [
    {
     "data": {
      "text/plain": [
       "518"
      ]
     },
     "execution_count": 200,
     "metadata": {},
     "output_type": "execute_result"
    }
   ],
   "source": [
    "len(word_cut_list_new)"
   ]
  },
  {
   "cell_type": "code",
   "execution_count": 201,
   "metadata": {},
   "outputs": [],
   "source": [
    "word_cut_list_new = remove_single_character(word_cut_list_new)"
   ]
  },
  {
   "cell_type": "code",
   "execution_count": 202,
   "metadata": {},
   "outputs": [
    {
     "data": {
      "text/plain": [
       "370"
      ]
     },
     "execution_count": 202,
     "metadata": {},
     "output_type": "execute_result"
    }
   ],
   "source": [
    "len(word_cut_list_new)"
   ]
  },
  {
   "cell_type": "code",
   "execution_count": null,
   "metadata": {},
   "outputs": [],
   "source": []
  },
  {
   "cell_type": "code",
   "execution_count": null,
   "metadata": {},
   "outputs": [],
   "source": []
  },
  {
   "cell_type": "code",
   "execution_count": null,
   "metadata": {},
   "outputs": [],
   "source": []
  },
  {
   "cell_type": "markdown",
   "metadata": {},
   "source": [
    "### Word Segementation"
   ]
  },
  {
   "cell_type": "markdown",
   "metadata": {},
   "source": [
    "#### Test for different segmentation strategy"
   ]
  },
  {
   "cell_type": "markdown",
   "metadata": {},
   "source": [
    "Setting\n",
    "1. HMM=FALSE,PADDLE=FALSE,cut_all=FALSE\n",
    "2. HMM=TRUE,PADDLE=FALSE,cut_all=FALSE\n",
    "3. HMM=FALSE,PADDLE=TRUE,cut_all=FALSE\n",
    "4. HMM=TRUE,PADDLE=TRUE,cut_all=FALSE\n",
    "\n",
    "\n",
    "1 is same as 3\n",
    "2 is same as 4\n",
    "\n",
    "It depends on whether to use HMM or not.\n",
    "\n",
    "Based on the current result, I think HMM should be adopted unless we could add enough self-defined dictionary.\n",
    "\n",
    "Paddle does not matter that much."
   ]
  },
  {
   "cell_type": "code",
   "execution_count": null,
   "metadata": {},
   "outputs": [],
   "source": []
  },
  {
   "cell_type": "code",
   "execution_count": 153,
   "metadata": {},
   "outputs": [],
   "source": [
    "word_cut_1 = jieba.cut(sample_text_no_punct,HMM=False,use_paddle=False,cut_all=False)\n",
    "word_cut_list_1 = list(word_cut_1)"
   ]
  },
  {
   "cell_type": "code",
   "execution_count": null,
   "metadata": {},
   "outputs": [],
   "source": []
  },
  {
   "cell_type": "code",
   "execution_count": 154,
   "metadata": {},
   "outputs": [],
   "source": [
    "word_cut_2 = jieba.cut(sample_text_no_punct,HMM=True,use_paddle=False,cut_all=False)\n",
    "word_cut_list_2 = list(word_cut_2)"
   ]
  },
  {
   "cell_type": "code",
   "execution_count": null,
   "metadata": {},
   "outputs": [],
   "source": []
  },
  {
   "cell_type": "code",
   "execution_count": 155,
   "metadata": {},
   "outputs": [],
   "source": [
    "word_cut_3 = jieba.cut(sample_text_no_punct,HMM=False,use_paddle=True,cut_all=False)\n",
    "word_cut_list_3 = list(word_cut_3)"
   ]
  },
  {
   "cell_type": "code",
   "execution_count": null,
   "metadata": {},
   "outputs": [],
   "source": []
  },
  {
   "cell_type": "code",
   "execution_count": 156,
   "metadata": {},
   "outputs": [],
   "source": [
    "word_cut_4 = jieba.cut(sample_text_no_punct,HMM=True,use_paddle=True,cut_all=False)\n",
    "word_cut_list_4 = list(word_cut_4)"
   ]
  },
  {
   "cell_type": "code",
   "execution_count": null,
   "metadata": {},
   "outputs": [],
   "source": []
  },
  {
   "cell_type": "code",
   "execution_count": 160,
   "metadata": {},
   "outputs": [
    {
     "data": {
      "text/plain": [
       "set()"
      ]
     },
     "execution_count": 160,
     "metadata": {},
     "output_type": "execute_result"
    }
   ],
   "source": [
    "set(word_cut_list_1) - set(word_cut_list_3)"
   ]
  },
  {
   "cell_type": "code",
   "execution_count": 158,
   "metadata": {},
   "outputs": [
    {
     "data": {
      "text/plain": [
       "{'三零', '办是', '办电', '另设', '可为', '小微', '搬到', '放管服', '线上', '装三零', '装零', '通办'}"
      ]
     },
     "execution_count": 158,
     "metadata": {},
     "output_type": "execute_result"
    }
   ],
   "source": [
    "set(word_cut_list_2) - set(word_cut_list_1)"
   ]
  },
  {
   "cell_type": "code",
   "execution_count": null,
   "metadata": {},
   "outputs": [],
   "source": []
  },
  {
   "cell_type": "code",
   "execution_count": 163,
   "metadata": {},
   "outputs": [
    {
     "data": {
      "text/plain": [
       "546"
      ]
     },
     "execution_count": 163,
     "metadata": {},
     "output_type": "execute_result"
    }
   ],
   "source": [
    "len(word_cut_list_1)"
   ]
  },
  {
   "cell_type": "code",
   "execution_count": 164,
   "metadata": {},
   "outputs": [
    {
     "data": {
      "text/plain": [
       "515"
      ]
     },
     "execution_count": 164,
     "metadata": {},
     "output_type": "execute_result"
    }
   ],
   "source": [
    "len(word_cut_list_2)"
   ]
  },
  {
   "cell_type": "code",
   "execution_count": 165,
   "metadata": {},
   "outputs": [
    {
     "data": {
      "text/plain": [
       "546"
      ]
     },
     "execution_count": 165,
     "metadata": {},
     "output_type": "execute_result"
    }
   ],
   "source": [
    "len(word_cut_list_3)"
   ]
  },
  {
   "cell_type": "code",
   "execution_count": 166,
   "metadata": {},
   "outputs": [
    {
     "data": {
      "text/plain": [
       "515"
      ]
     },
     "execution_count": 166,
     "metadata": {},
     "output_type": "execute_result"
    }
   ],
   "source": [
    "len(word_cut_list_4)"
   ]
  },
  {
   "cell_type": "code",
   "execution_count": null,
   "metadata": {},
   "outputs": [],
   "source": []
  },
  {
   "cell_type": "code",
   "execution_count": null,
   "metadata": {},
   "outputs": [],
   "source": []
  },
  {
   "cell_type": "code",
   "execution_count": null,
   "metadata": {},
   "outputs": [],
   "source": []
  },
  {
   "cell_type": "code",
   "execution_count": null,
   "metadata": {},
   "outputs": [],
   "source": []
  },
  {
   "cell_type": "code",
   "execution_count": null,
   "metadata": {},
   "outputs": [],
   "source": []
  },
  {
   "cell_type": "code",
   "execution_count": 79,
   "metadata": {},
   "outputs": [],
   "source": [
    "def stopwordslist():\n",
    "    \n",
    "    stopwords = [line.strip() for line in open(data_directory + 'idf_stopwords.txt', 'r', encoding='UTF-8').readlines()]\n",
    "    \n",
    "    return stopwords\n",
    "\n",
    "\n",
    "def seg_depart(sentence):\n",
    "    # 对文档中的每一行进行中文分词\n",
    "    sentence_depart = jieba.cut(sentence.strip())\n",
    "    # 创建一个停用词列表\n",
    "    stopwords = stopwordslist()\n",
    "    # 输出结果为outstr\n",
    "    outstr = ''\n",
    "    # 去停用词\n",
    "    for word in sentence_depart:\n",
    "        if word not in stopwords:\n",
    "            if word != '\\t':\n",
    "                outstr += word\n",
    "                outstr += \" \"\n",
    "    return outstr\n",
    "\n",
    "\n",
    "def model():\n",
    "    \n",
    "    print('Perplexity: ', lda_model.log_perplexity(corpus)) # a measure of how good the model is. lower the better.\n"
   ]
  },
  {
   "cell_type": "code",
   "execution_count": null,
   "metadata": {},
   "outputs": [],
   "source": []
  },
  {
   "cell_type": "code",
   "execution_count": 80,
   "metadata": {},
   "outputs": [],
   "source": [
    "result_fenci = []\n",
    "for i in text:\n",
    "    # print(i)\n",
    "    if i is np.nan:\n",
    "        \n",
    "        #result_fenci.append([i, \"\"])\n",
    "        \n",
    "        continue\n",
    "        \n",
    "    if seg_depart(i) != '':\n",
    "\n",
    "        # print(seg_depart(i))\n",
    "        result_fenci.append([i, seg_depart(i)])\n",
    "        \n",
    "# # pd.DataFrame(result_fenci,columns=['rawtext','fencitext']).to_excel(path+'result.xlsx',index=False)"
   ]
  },
  {
   "cell_type": "code",
   "execution_count": 81,
   "metadata": {},
   "outputs": [],
   "source": [
    "result_fenci = [i[1].split(' ')[:-1] for i in result_fenci]"
   ]
  },
  {
   "cell_type": "code",
   "execution_count": null,
   "metadata": {},
   "outputs": [],
   "source": []
  },
  {
   "cell_type": "code",
   "execution_count": 82,
   "metadata": {},
   "outputs": [],
   "source": [
    "id2word = corpora.Dictionary(result_fenci)"
   ]
  },
  {
   "cell_type": "code",
   "execution_count": 83,
   "metadata": {},
   "outputs": [],
   "source": [
    "corpus = [id2word.doc2bow(sentence) for sentence in result_fenci]"
   ]
  },
  {
   "cell_type": "code",
   "execution_count": null,
   "metadata": {},
   "outputs": [],
   "source": []
  },
  {
   "cell_type": "code",
   "execution_count": 84,
   "metadata": {},
   "outputs": [
    {
     "name": "stdout",
     "output_type": "stream",
     "text": [
      "[[('18', 1), ('一系列', 1), ('专业队伍', 1), ('严厉查处', 1), ('严峻', 1), ('中共', 1), ('中央政治局常委', 1), ('中秋', 1), ('人民', 2), ('人群', 1), ('作出', 1), ('决战', 1), ('决胜', 1), ('准备', 2), ('减灾', 1), ('力量', 1), ('十分', 1), ('协作', 1), ('压实', 3), ('压紧', 2), ('及时发现', 1), ('各方', 1), ('合力', 1), ('国务委员', 1), ('国庆', 1), ('处置', 2), ('复杂', 1), ('大火', 1), ('大灾', 1), ('小康社会', 1), ('层层', 1), ('属地', 2), ('应急', 3), ('建强', 1), ('建成', 1), ('强调', 1), ('当前', 1), ('形势', 1), ('总指挥', 1), ('总理', 2), ('意识', 1), ('手段', 1), ('扎实', 2), ('扑救', 2), ('扑灭', 1), ('执法', 1), ('批示', 2), ('指出', 2), ('指挥', 1), ('指挥部', 1), ('指示精神', 1), ('排查', 2), ('救', 1), ('救灾', 1), ('整治', 1), ('旅游', 1), ('日常', 1), ('早期', 1), ('期', 1), ('李克强', 2), ('构建', 1), ('林草', 1), ('格局', 1), ('森林草原', 7), ('森防指', 1), ('法规', 1), ('消除', 1), ('源头', 1), ('演练', 1), ('火情', 2), ('火灾', 5), ('灭火', 6), ('王勇', 2), ('生命', 1), ('生命财产', 2), ('用火', 1), ('电视电话会议', 1), ('相互配合', 1), ('秋冬季', 2), ('突发', 1), ('第一', 1), ('管控', 1), ('紧密', 1), ('紧盯', 1), ('群防群治', 1), ('至上', 1), ('节假日', 1), ('营造', 1), ('装备', 1), ('认真贯彻', 2), ('进入', 1), ('违法', 1), ('遏制', 1), ('重特大', 2), ('重要批示', 1), ('野外', 1), ('防', 7), ('防御能力', 1), ('防火', 2), ('防灭', 1), ('防灾', 1), ('防范', 3), ('隐患', 2), ('靠前', 1), ('预案', 2), ('高峰期', 1)]]\n"
     ]
    }
   ],
   "source": [
    "print([[(id2word[id], freq) for id, freq in cp] for cp in corpus[:1]])"
   ]
  },
  {
   "cell_type": "code",
   "execution_count": null,
   "metadata": {},
   "outputs": [],
   "source": []
  },
  {
   "cell_type": "code",
   "execution_count": null,
   "metadata": {},
   "outputs": [],
   "source": []
  },
  {
   "cell_type": "code",
   "execution_count": 85,
   "metadata": {},
   "outputs": [],
   "source": [
    "lda_model = gensim.models.ldamodel.LdaModel(corpus=corpus,\n",
    "                id2word=id2word,\n",
    "                num_topics=5,\n",
    "                # random_state=100,\n",
    "                # update_every=1,\n",
    "                # chunksize=100,\n",
    "                # passes=10,\n",
    "                # alpha='auto',\n",
    "                # per_word_topics=True\n",
    "                )"
   ]
  },
  {
   "cell_type": "code",
   "execution_count": 86,
   "metadata": {},
   "outputs": [
    {
     "name": "stdout",
     "output_type": "stream",
     "text": [
      "[(0,\n",
      "  '0.022*\"李克强\" + 0.011*\"就业\" + 0.009*\"总理\" + 0.008*\"说\" + 0.005*\"更\" + 0.004*\"他\" + '\n",
      "  '0.004*\"创业\" + 0.004*\"考察\" + 0.004*\"动能\" + 0.003*\"指出\" + 0.003*\"让\" + 0.003*\"制造\" '\n",
      "  '+ 0.003*\"农民工\" + 0.003*\"他们\" + 0.003*\"还\" + 0.002*\"强调\" + 0.002*\"都\" + '\n",
      "  '0.002*\"人民\" + 0.002*\"互联网\" + 0.002*\"转型\"'),\n",
      " (1,\n",
      "  '0.018*\"总理\" + 0.018*\"李克强\" + 0.004*\"说\" + 0.004*\"\" + 0.004*\"更\" + 0.004*\"都\" + '\n",
      "  '0.004*\"人民\" + 0.004*\"双方\" + 0.003*\"宗教\" + 0.003*\"世界\" + 0.003*\"表示\" + 0.003*\"中方\" '\n",
      "  '+ 0.003*\"出席\" + 0.003*\"东盟\" + 0.003*\"就业\" + 0.003*\"今年\" + 0.003*\"指出\" + '\n",
      "  '0.003*\"他\" + 0.002*\"和平\" + 0.002*\"交流\"'),\n",
      " (2,\n",
      "  '0.018*\"李克强\" + 0.014*\"总理\" + 0.011*\"中方\" + 0.008*\"表示\" + 0.006*\"世界\" + '\n",
      "  '0.005*\"东盟\" + 0.005*\"双方\" + 0.004*\"更\" + 0.004*\"两\" + 0.004*\"交流\" + 0.004*\"贸易\" + '\n",
      "  '0.004*\"同\" + 0.004*\"出席\" + 0.004*\"愿\" + 0.003*\"和平\" + 0.003*\"各方\" + 0.003*\"－\" + '\n",
      "  '0.003*\"领导人\" + 0.003*\"愿同\" + 0.003*\"两国\"'),\n",
      " (3,\n",
      "  '0.019*\"李克强\" + 0.015*\"总理\" + 0.009*\"说\" + 0.005*\"’\" + 0.005*\"‘\" + 0.004*\"更\" + '\n",
      "  '0.004*\"就业\" + 0.004*\"这\" + 0.004*\"增长\" + 0.004*\"\" + 0.004*\"！\" + 0.004*\"都\" + '\n",
      "  '0.003*\"让\" + 0.003*\"一个\" + 0.003*\"世界\" + 0.003*\"他\" + 0.003*\"澳门\" + 0.003*\"表示\" + '\n",
      "  '0.003*\"产能\" + 0.003*\"今年\"'),\n",
      " (4,\n",
      "  '0.083*\"\" + 0.018*\"李克强\" + 0.013*\"总理\" + 0.007*\"世界\" + 0.004*\"表示\" + 0.004*\"出席\" '\n",
      "  '+ 0.004*\"中方\" + 0.004*\"更\" + 0.004*\"双方\" + 0.004*\"说\" + 0.004*\"同\" + 0.003*\"—\" + '\n",
      "  '0.003*\"和平\" + 0.003*\"增长\" + 0.003*\"会见\" + 0.003*\"东盟\" + 0.003*\"领导人\" + '\n",
      "  '0.003*\"主席\" + 0.003*\"我\" + 0.003*\"贸易\"')]\n"
     ]
    }
   ],
   "source": [
    "pprint(lda_model.print_topics(num_words=20))"
   ]
  },
  {
   "cell_type": "code",
   "execution_count": null,
   "metadata": {},
   "outputs": [],
   "source": []
  },
  {
   "cell_type": "code",
   "execution_count": null,
   "metadata": {},
   "outputs": [],
   "source": []
  },
  {
   "cell_type": "code",
   "execution_count": null,
   "metadata": {},
   "outputs": [],
   "source": []
  },
  {
   "cell_type": "code",
   "execution_count": 87,
   "metadata": {},
   "outputs": [],
   "source": [
    "coherence_model_lda = CoherenceModel(model=lda_model, texts=result_fenci, dictionary=id2word, coherence='c_v')"
   ]
  },
  {
   "cell_type": "code",
   "execution_count": 88,
   "metadata": {},
   "outputs": [],
   "source": [
    "coherence_lda = coherence_model_lda.get_coherence()"
   ]
  },
  {
   "cell_type": "code",
   "execution_count": 89,
   "metadata": {},
   "outputs": [
    {
     "name": "stdout",
     "output_type": "stream",
     "text": [
      "Coherence Score:  0.45384905340056064\n"
     ]
    }
   ],
   "source": [
    "print('Coherence Score: ', coherence_lda)"
   ]
  },
  {
   "cell_type": "code",
   "execution_count": 90,
   "metadata": {},
   "outputs": [
    {
     "name": "stdout",
     "output_type": "stream",
     "text": [
      "Perplexity:  -8.564966381319126\n"
     ]
    }
   ],
   "source": [
    "model()"
   ]
  },
  {
   "cell_type": "code",
   "execution_count": null,
   "metadata": {},
   "outputs": [],
   "source": []
  },
  {
   "cell_type": "code",
   "execution_count": 91,
   "metadata": {},
   "outputs": [],
   "source": [
    "coherence_values = []\n",
    "model_list = []\n",
    "\n",
    "for num_topics in range(2,41,2):\n",
    "    \n",
    "    lda_model = gensim.models.ldamodel.LdaModel(corpus=corpus,\n",
    "                    id2word=id2word,\n",
    "                    num_topics=num_topics,\n",
    "                    # random_state=100,\n",
    "                    # update_every=1,\n",
    "                    # chunksize=100,\n",
    "                    # passes=10,\n",
    "                    # alpha='auto',\n",
    "                    # per_word_topics=True\n",
    "                                               )\n",
    "                                                \n",
    "    model_list.append(lda_model)\n",
    "    coherencemodel = CoherenceModel(model=lda_model, texts=result_fenci, dictionary=id2word, coherence='c_v')\n",
    "    coherence_values.append(round(coherencemodel.get_coherence(),3))"
   ]
  },
  {
   "cell_type": "code",
   "execution_count": 92,
   "metadata": {},
   "outputs": [
    {
     "data": {
      "image/png": "[encoded data removed]",
      "text/plain": [
       "<Figure size 432x288 with 1 Axes>"
      ]
     },
     "metadata": {
      "needs_background": "light"
     },
     "output_type": "display_data"
    }
   ],
   "source": [
    "x = range(2,41,2)\n",
    "plt.plot(x, coherence_values)\n",
    "plt.xlabel(\"Num Topics\")\n",
    "plt.ylabel(\"Coherence score\")\n",
    "plt.legend((\"coherence_values\"), loc='best')\n",
    "plt.show()"
   ]
  },
  {
   "cell_type": "code",
   "execution_count": 93,
   "metadata": {},
   "outputs": [
    {
     "name": "stdout",
     "output_type": "stream",
     "text": [
      "Num Topics = 2  has Coherence Value of 0.328\n",
      "Num Topics = 4  has Coherence Value of 0.426\n",
      "Num Topics = 6  has Coherence Value of 0.418\n",
      "Num Topics = 8  has Coherence Value of 0.438\n",
      "Num Topics = 10  has Coherence Value of 0.365\n",
      "Num Topics = 12  has Coherence Value of 0.443\n",
      "Num Topics = 14  has Coherence Value of 0.356\n",
      "Num Topics = 16  has Coherence Value of 0.399\n",
      "Num Topics = 18  has Coherence Value of 0.402\n",
      "Num Topics = 20  has Coherence Value of 0.422\n",
      "Num Topics = 22  has Coherence Value of 0.392\n",
      "Num Topics = 24  has Coherence Value of 0.367\n",
      "Num Topics = 26  has Coherence Value of 0.378\n",
      "Num Topics = 28  has Coherence Value of 0.369\n",
      "Num Topics = 30  has Coherence Value of 0.405\n",
      "Num Topics = 32  has Coherence Value of 0.355\n",
      "Num Topics = 34  has Coherence Value of 0.407\n",
      "Num Topics = 36  has Coherence Value of 0.38\n",
      "Num Topics = 38  has Coherence Value of 0.388\n",
      "Num Topics = 40  has Coherence Value of 0.374\n"
     ]
    }
   ],
   "source": [
    "for m, cv in zip(x, coherence_values):\n",
    "    print(\"Num Topics =\", m, \" has Coherence Value of\", round(cv, 4))"
   ]
  },
  {
   "cell_type": "code",
   "execution_count": 94,
   "metadata": {},
   "outputs": [
    {
     "name": "stdout",
     "output_type": "stream",
     "text": [
      "[(0,\n",
      "  '0.030*\"李克强\" + 0.026*\"\" + 0.024*\"总理\" + 0.007*\"表示\" + 0.006*\"出席\" + 0.006*\"双方\" '\n",
      "  '+ 0.005*\"中方\" + 0.005*\"说\" + 0.005*\"两\" + 0.004*\"世界\"'),\n",
      " (1,\n",
      "  '0.020*\"李克强\" + 0.016*\"总理\" + 0.012*\"中方\" + 0.009*\"表示\" + 0.008*\"双方\" + '\n",
      "  '0.007*\"东盟\" + 0.006*\"同\" + 0.005*\"愿\" + 0.005*\"愿同\" + 0.005*\"交流\"'),\n",
      " (2,\n",
      "  '0.011*\"李克强\" + 0.006*\"世界\" + 0.005*\"更\" + 0.005*\"总理\" + 0.005*\"就业\" + 0.005*\"亚欧\" '\n",
      "  '+ 0.004*\"人民\" + 0.004*\"各国\" + 0.004*\"各方\" + 0.003*\"增长\"'),\n",
      " (3,\n",
      "  '0.020*\"东盟\" + 0.010*\"中方\" + 0.010*\"东亚\" + 0.010*\"各方\" + 0.009*\"李克强\" + '\n",
      "  '0.008*\"总理\" + 0.008*\"和平\" + 0.007*\"－\" + 0.007*\"南海\" + 0.006*\"世界\"'),\n",
      " (4,\n",
      "  '0.024*\"李克强\" + 0.011*\"澳门\" + 0.010*\"世界\" + 0.010*\"葡语\" + 0.009*\"总理\" + '\n",
      "  '0.007*\"表示\" + 0.005*\"更\" + 0.004*\"全球\" + 0.004*\"旅游\" + 0.004*\"希望\"'),\n",
      " (5,\n",
      "  '0.015*\"\" + 0.012*\"李克强\" + 0.006*\"总理\" + 0.006*\"创业\" + 0.006*\"就业\" + 0.005*\"更\" + '\n",
      "  '0.004*\"说\" + 0.004*\"世界\" + 0.004*\"增长\" + 0.003*\"贸易\"'),\n",
      " (6,\n",
      "  '0.009*\"增长\" + 0.009*\"世界\" + 0.008*\"难民\" + 0.006*\"总理\" + 0.006*\"李克强\" + '\n",
      "  '0.005*\"移民\" + 0.004*\"中方\" + 0.004*\"联大\" + 0.004*\"—\" + 0.004*\"就业\"'),\n",
      " (7,\n",
      "  '0.017*\"李克强\" + 0.014*\"总理\" + 0.007*\"说\" + 0.007*\"就业\" + 0.005*\"制造\" + 0.005*\"更\" '\n",
      "  '+ 0.005*\"产能\" + 0.005*\"创业\" + 0.004*\"’\" + 0.004*\"‘\"'),\n",
      " (8,\n",
      "  '0.021*\"李克强\" + 0.013*\"总理\" + 0.012*\"\" + 0.010*\"中方\" + 0.007*\"表示\" + 0.006*\"同\" + '\n",
      "  '0.005*\"会见\" + 0.004*\"愿同\" + 0.004*\"人民\" + 0.004*\"联合国\"'),\n",
      " (9,\n",
      "  '0.011*\"李克强\" + 0.008*\"总理\" + 0.005*\"妇女儿童\" + 0.005*\"更\" + 0.005*\"说\" + '\n",
      "  '0.004*\"增长\" + 0.004*\"就业\" + 0.004*\"’\" + 0.004*\"‘\" + 0.004*\"指出\"'),\n",
      " (10,\n",
      "  '0.027*\"李克强\" + 0.017*\"总理\" + 0.014*\"说\" + 0.007*\"就业\" + 0.007*\"他\" + 0.005*\"考察\" '\n",
      "  '+ 0.005*\"‘\" + 0.005*\"更\" + 0.005*\"’\" + 0.004*\"让\"'),\n",
      " (11,\n",
      "  '0.090*\"\" + 0.012*\"就业\" + 0.011*\"李克强\" + 0.009*\"总理\" + 0.005*\"更\" + 0.004*\"都\" + '\n",
      "  '0.004*\"今年\" + 0.004*\"说\" + 0.004*\"这\" + 0.003*\"防汛\"')]\n"
     ]
    }
   ],
   "source": [
    "optimal_model = model_list[5]\n",
    "model_topics = optimal_model.show_topics(formatted=False)\n",
    "pprint(optimal_model.print_topics(num_words=10))"
   ]
  },
  {
   "cell_type": "code",
   "execution_count": null,
   "metadata": {},
   "outputs": [],
   "source": []
  },
  {
   "cell_type": "code",
   "execution_count": 95,
   "metadata": {},
   "outputs": [],
   "source": [
    "def format_topics_sentences(ldamodel, corpus, texts):\n",
    "    # Init output\n",
    "    sent_topics_df = pd.DataFrame()\n",
    "    # Get main topic in each document\n",
    "    for i, row in enumerate(ldamodel[corpus]):\n",
    "        row = sorted(row, key=lambda x: (x[1]), reverse=True)\n",
    "        # Get the Dominant topic, Perc Contribution and Keywords for each document\n",
    "        for j, (topic_num, prop_topic) in enumerate(row):\n",
    "            if j == 0: # => dominant topic\n",
    "                wp = ldamodel.show_topic(topic_num)\n",
    "                topic_keywords = \", \".join([word for word, prop in wp])\n",
    "                sent_topics_df = sent_topics_df.append(pd.Series([int(topic_num),                 round(prop_topic,4), topic_keywords]), ignore_index=True)\n",
    "            else:\n",
    "                break\n",
    "    sent_topics_df.columns = ['Dominant_Topic', 'Perc_Contribution', 'Topic_Keywords']\n",
    "\n",
    "    # Add original text to the end of the output\n",
    "    contents = pd.Series(texts)\n",
    "    # print(contents)\n",
    "    sent_topics_df = pd.concat([sent_topics_df, contents], axis=1)\n",
    "    # print(sent_topics_df)\n",
    "    return(sent_topics_df)"
   ]
  },
  {
   "cell_type": "code",
   "execution_count": null,
   "metadata": {},
   "outputs": [],
   "source": []
  },
  {
   "cell_type": "code",
   "execution_count": 96,
   "metadata": {},
   "outputs": [],
   "source": [
    "df_topic_sents_keywords = format_topics_sentences(ldamodel=optimal_model, corpus=corpus, texts=result_fenci)"
   ]
  },
  {
   "cell_type": "code",
   "execution_count": null,
   "metadata": {},
   "outputs": [],
   "source": []
  },
  {
   "cell_type": "code",
   "execution_count": 97,
   "metadata": {},
   "outputs": [
    {
     "data": {
      "text/html": [
       "<div>\n",
       "<style scoped>\n",
       "    .dataframe tbody tr th:only-of-type {\n",
       "        vertical-align: middle;\n",
       "    }\n",
       "\n",
       "    .dataframe tbody tr th {\n",
       "        vertical-align: top;\n",
       "    }\n",
       "\n",
       "    .dataframe thead th {\n",
       "        text-align: right;\n",
       "    }\n",
       "</style>\n",
       "<table border=\"1\" class=\"dataframe\">\n",
       "  <thead>\n",
       "    <tr style=\"text-align: right;\">\n",
       "      <th></th>\n",
       "      <th>Dominant_Topic</th>\n",
       "      <th>Perc_Contribution</th>\n",
       "      <th>Topic_Keywords</th>\n",
       "      <th>0</th>\n",
       "    </tr>\n",
       "  </thead>\n",
       "  <tbody>\n",
       "    <tr>\n",
       "      <th>0</th>\n",
       "      <td>4.0</td>\n",
       "      <td>0.7449</td>\n",
       "      <td>李克强, 澳门, 世界, 葡语, 总理, 表示, 更, 全球, 旅游, 希望</td>\n",
       "      <td>[中共, 中央政治局常委, 总理, 李克强, 森林草原, 防, 灭火, 作出, 重要批示, ...</td>\n",
       "    </tr>\n",
       "    <tr>\n",
       "      <th>1</th>\n",
       "      <td>10.0</td>\n",
       "      <td>0.5276</td>\n",
       "      <td>李克强, 总理, 说, 就业, 他, 考察, ‘, 更, ’, 让</td>\n",
       "      <td>[今年年底, 58, 异地, 明, 年底, 74, 异地, 一步, 还要, 新生儿, 入户,...</td>\n",
       "    </tr>\n",
       "    <tr>\n",
       "      <th>2</th>\n",
       "      <td>9.0</td>\n",
       "      <td>0.3820</td>\n",
       "      <td>李克强, 总理, 妇女儿童, 更, 说, 增长, 就业, ’, ‘, 指出</td>\n",
       "      <td>[总理, 李克强, 主持, 召开, 常务会议, 政务, 跨省, 通办, 电力, 服务水平, ...</td>\n",
       "    </tr>\n",
       "    <tr>\n",
       "      <th>3</th>\n",
       "      <td>2.0</td>\n",
       "      <td>0.3479</td>\n",
       "      <td>李克强, 世界, 更, 总理, 就业, 亚欧, 人民, 各国, 各方, 增长</td>\n",
       "      <td>[总理, 李克强, 日晚, 人民大会堂, 出席, 世界, 论坛, 全球, 企业家, 对话会,...</td>\n",
       "    </tr>\n",
       "    <tr>\n",
       "      <th>4</th>\n",
       "      <td>9.0</td>\n",
       "      <td>0.6537</td>\n",
       "      <td>李克强, 总理, 妇女儿童, 更, 说, 增长, 就业, ’, ‘, 指出</td>\n",
       "      <td>[李克强, 总理, 放管服, 营商, 电视电话会议, 强调, 营商, 竞争力, 就是, 竞争...</td>\n",
       "    </tr>\n",
       "    <tr>\n",
       "      <th>...</th>\n",
       "      <td>...</td>\n",
       "      <td>...</td>\n",
       "      <td>...</td>\n",
       "      <td>...</td>\n",
       "    </tr>\n",
       "    <tr>\n",
       "      <th>2691</th>\n",
       "      <td>1.0</td>\n",
       "      <td>0.7192</td>\n",
       "      <td>李克强, 总理, 中方, 表示, 双方, 东盟, 同, 愿, 愿同, 交流</td>\n",
       "      <td>[总理, 李克强, 下午, 中南海, 紫光阁, 会见, 印度, 国防部长, 帕, 里卡尔, ...</td>\n",
       "    </tr>\n",
       "    <tr>\n",
       "      <th>2692</th>\n",
       "      <td>0.0</td>\n",
       "      <td>0.7265</td>\n",
       "      <td>李克强, , 总理, 表示, 出席, 双方, 中方, 说, 两, 世界</td>\n",
       "      <td>[总理, 李克强, 18, 下午, 人民大会堂, 同, 来华, 正式, 访问, 新西兰, 总...</td>\n",
       "    </tr>\n",
       "    <tr>\n",
       "      <th>2693</th>\n",
       "      <td>0.0</td>\n",
       "      <td>0.9713</td>\n",
       "      <td>李克强, , 总理, 表示, 出席, 双方, 中方, 说, 两, 世界</td>\n",
       "      <td>[李克强, 总理, 18, 北京人民大会堂, 同, 新西兰, 总理, 约翰, •, 基, 举...</td>\n",
       "    </tr>\n",
       "    <tr>\n",
       "      <th>2694</th>\n",
       "      <td>10.0</td>\n",
       "      <td>0.9256</td>\n",
       "      <td>李克强, 总理, 说, 就业, 他, 考察, ‘, 更, ’, 让</td>\n",
       "      <td>[音频, \\n, 央广网, 北京, 消息, , , 据, 之声, 新闻, 报纸, 摘要, 报...</td>\n",
       "    </tr>\n",
       "    <tr>\n",
       "      <th>2695</th>\n",
       "      <td>7.0</td>\n",
       "      <td>0.9563</td>\n",
       "      <td>李克强, 总理, 说, 就业, 制造, 更, 产能, 创业, ’, ‘</td>\n",
       "      <td>[中共, 中央政治局常委, 总理, 李克强, 北京, 召开, 高等教育, 座谈会, 并作, ...</td>\n",
       "    </tr>\n",
       "  </tbody>\n",
       "</table>\n",
       "<p>2696 rows × 4 columns</p>\n",
       "</div>"
      ],
      "text/plain": [
       "      Dominant_Topic  Perc_Contribution  \\\n",
       "0                4.0             0.7449   \n",
       "1               10.0             0.5276   \n",
       "2                9.0             0.3820   \n",
       "3                2.0             0.3479   \n",
       "4                9.0             0.6537   \n",
       "...              ...                ...   \n",
       "2691             1.0             0.7192   \n",
       "2692             0.0             0.7265   \n",
       "2693             0.0             0.9713   \n",
       "2694            10.0             0.9256   \n",
       "2695             7.0             0.9563   \n",
       "\n",
       "                              Topic_Keywords  \\\n",
       "0     李克强, 澳门, 世界, 葡语, 总理, 表示, 更, 全球, 旅游, 希望   \n",
       "1          李克强, 总理, 说, 就业, 他, 考察, ‘, 更, ’, 让   \n",
       "2      李克强, 总理, 妇女儿童, 更, 说, 增长, 就业, ’, ‘, 指出   \n",
       "3     李克强, 世界, 更, 总理, 就业, 亚欧, 人民, 各国, 各方, 增长   \n",
       "4      李克强, 总理, 妇女儿童, 更, 说, 增长, 就业, ’, ‘, 指出   \n",
       "...                                      ...   \n",
       "2691   李克强, 总理, 中方, 表示, 双方, 东盟, 同, 愿, 愿同, 交流   \n",
       "2692     李克强, , 总理, 表示, 出席, 双方, 中方, 说, 两, 世界   \n",
       "2693     李克强, , 总理, 表示, 出席, 双方, 中方, 说, 两, 世界   \n",
       "2694       李克强, 总理, 说, 就业, 他, 考察, ‘, 更, ’, 让   \n",
       "2695     李克强, 总理, 说, 就业, 制造, 更, 产能, 创业, ’, ‘   \n",
       "\n",
       "                                                      0  \n",
       "0     [中共, 中央政治局常委, 总理, 李克强, 森林草原, 防, 灭火, 作出, 重要批示, ...  \n",
       "1     [今年年底, 58, 异地, 明, 年底, 74, 异地, 一步, 还要, 新生儿, 入户,...  \n",
       "2     [总理, 李克强, 主持, 召开, 常务会议, 政务, 跨省, 通办, 电力, 服务水平, ...  \n",
       "3     [总理, 李克强, 日晚, 人民大会堂, 出席, 世界, 论坛, 全球, 企业家, 对话会,...  \n",
       "4     [李克强, 总理, 放管服, 营商, 电视电话会议, 强调, 营商, 竞争力, 就是, 竞争...  \n",
       "...                                                 ...  \n",
       "2691  [总理, 李克强, 下午, 中南海, 紫光阁, 会见, 印度, 国防部长, 帕, 里卡尔, ...  \n",
       "2692  [总理, 李克强, 18, 下午, 人民大会堂, 同, 来华, 正式, 访问, 新西兰, 总...  \n",
       "2693  [李克强, 总理, 18, 北京人民大会堂, 同, 新西兰, 总理, 约翰, •, 基, 举...  \n",
       "2694  [音频, \\n, 央广网, 北京, 消息, , , 据, 之声, 新闻, 报纸, 摘要, 报...  \n",
       "2695  [中共, 中央政治局常委, 总理, 李克强, 北京, 召开, 高等教育, 座谈会, 并作, ...  \n",
       "\n",
       "[2696 rows x 4 columns]"
      ]
     },
     "execution_count": 97,
     "metadata": {},
     "output_type": "execute_result"
    }
   ],
   "source": [
    "df_topic_sents_keywords"
   ]
  },
  {
   "cell_type": "code",
   "execution_count": null,
   "metadata": {},
   "outputs": [],
   "source": []
  },
  {
   "cell_type": "code",
   "execution_count": null,
   "metadata": {},
   "outputs": [],
   "source": []
  },
  {
   "cell_type": "code",
   "execution_count": null,
   "metadata": {},
   "outputs": [],
   "source": []
  },
  {
   "cell_type": "code",
   "execution_count": null,
   "metadata": {},
   "outputs": [],
   "source": []
  }
 ],
 "metadata": {
  "kernelspec": {
   "display_name": "Python 3",
   "language": "python",
   "name": "python3"
  },
  "language_info": {
   "codemirror_mode": {
    "name": "ipython",
    "version": 3
   },
   "file_extension": ".py",
   "mimetype": "text/x-python",
   "name": "python",
   "nbconvert_exporter": "python",
   "pygments_lexer": "ipython3",
   "version": "3.7.6"
  }
 },
 "nbformat": 4,
 "nbformat_minor": 4
}
