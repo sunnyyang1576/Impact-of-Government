{
 "cells": [
  {
   "cell_type": "code",
   "execution_count": null,
   "metadata": {},
   "outputs": [],
   "source": []
  },
  {
   "cell_type": "code",
   "execution_count": 1,
   "metadata": {},
   "outputs": [],
   "source": [
    "import pandas as pd\n",
    "import numpy as np"
   ]
  },
  {
   "cell_type": "code",
   "execution_count": 3,
   "metadata": {},
   "outputs": [],
   "source": [
    "data_directory = \"data/stock/\""
   ]
  },
  {
   "cell_type": "code",
   "execution_count": 5,
   "metadata": {},
   "outputs": [],
   "source": [
    "income_df = pd.read_excel(data_directory+\"income_statement.xlsx\")"
   ]
  },
  {
   "cell_type": "code",
   "execution_count": 7,
   "metadata": {},
   "outputs": [],
   "source": [
    "income_df[\"会计期间\"] = pd.to_datetime(income_df[\"会计期间\"])"
   ]
  },
  {
   "cell_type": "code",
   "execution_count": 95,
   "metadata": {},
   "outputs": [],
   "source": [
    "def search_portfolio_assets(rank_df,max_port_number=10):\n",
    "    \n",
    "    asset_list = pd.Series(rank_df.columns)\n",
    "    \n",
    "    portfolio_dict = {}\n",
    "    \n",
    "    for idx in range(0,max_port_number):\n",
    "        \n",
    "        indicator_df = rank_df == idx\n",
    "        comp_list = []\n",
    "        \n",
    "        for row in range(0,indicator_df.shape[0]):\n",
    "            \n",
    "            indicator = indicator_df.iloc[row,:]\n",
    "            component = asset_list[list(indicator)]\n",
    "            comp_list.append(component)\n",
    "        \n",
    "        portfolio_dict[idx] = comp_list\n",
    "    \n",
    "    return portfolio_dict"
   ]
  },
  {
   "cell_type": "code",
   "execution_count": null,
   "metadata": {},
   "outputs": [],
   "source": []
  },
  {
   "cell_type": "code",
   "execution_count": null,
   "metadata": {},
   "outputs": [],
   "source": []
  },
  {
   "cell_type": "code",
   "execution_count": 96,
   "metadata": {},
   "outputs": [],
   "source": [
    "value_col = \"基本每股收益\"\n",
    "date_col = \"会计期间\"\n",
    "asset_col = \"证券代码\"\n",
    "df = income_df\n",
    "num_of_port = 10"
   ]
  },
  {
   "cell_type": "code",
   "execution_count": 98,
   "metadata": {},
   "outputs": [],
   "source": [
    "def create_rank_df(df,value_col,date_col,asset_col,num_of_port):\n",
    "    \n",
    "    sub_df = df.loc[:,[asset_col,date_col,value_col]]\n",
    "    sub_df_wide = pd.pivot_table(sub_df,values=value_col,index=[date_col],columns=[asset_col]).dropna(axis=1)\n",
    "    \n",
    "    def cut(x):\n",
    "        \n",
    "        return pd.qcut(x,num_of_port,labels=False,duplicates=\"drop\")\n",
    "    \n",
    "    \n",
    "    rank_df = sub_df_wide.apply(cut,axis=1)\n",
    "    \n",
    "    return rank_df\n",
    "    \n",
    "    \n",
    "  "
   ]
  },
  {
   "cell_type": "code",
   "execution_count": 100,
   "metadata": {},
   "outputs": [],
   "source": [
    "rank_df = create_rank_df(df,value_col,date_col,asset_col,num_of_port)"
   ]
  },
  {
   "cell_type": "code",
   "execution_count": null,
   "metadata": {},
   "outputs": [],
   "source": []
  },
  {
   "cell_type": "code",
   "execution_count": null,
   "metadata": {},
   "outputs": [],
   "source": []
  },
  {
   "cell_type": "code",
   "execution_count": null,
   "metadata": {},
   "outputs": [],
   "source": []
  },
  {
   "cell_type": "code",
   "execution_count": 101,
   "metadata": {},
   "outputs": [],
   "source": [
    "port_dict = search_portfolio_assets(rank_df,max_port_number=10)"
   ]
  },
  {
   "cell_type": "code",
   "execution_count": 107,
   "metadata": {},
   "outputs": [
    {
     "data": {
      "text/plain": [
       "5            7\n",
       "13          17\n",
       "15          19\n",
       "26          30\n",
       "29          33\n",
       "         ...  \n",
       "1688    600890\n",
       "1690    600892\n",
       "1699    600961\n",
       "1700    600962\n",
       "1749    601186\n",
       "Name: 证券代码, Length: 180, dtype: int64"
      ]
     },
     "execution_count": 107,
     "metadata": {},
     "output_type": "execute_result"
    }
   ],
   "source": [
    "port_dict[0][3]"
   ]
  },
  {
   "cell_type": "code",
   "execution_count": null,
   "metadata": {},
   "outputs": [],
   "source": []
  },
  {
   "cell_type": "code",
   "execution_count": null,
   "metadata": {},
   "outputs": [],
   "source": []
  },
  {
   "cell_type": "code",
   "execution_count": null,
   "metadata": {},
   "outputs": [],
   "source": []
  },
  {
   "cell_type": "code",
   "execution_count": null,
   "metadata": {},
   "outputs": [],
   "source": []
  },
  {
   "cell_type": "code",
   "execution_count": null,
   "metadata": {},
   "outputs": [],
   "source": []
  },
  {
   "cell_type": "code",
   "execution_count": null,
   "metadata": {},
   "outputs": [],
   "source": []
  },
  {
   "cell_type": "code",
   "execution_count": null,
   "metadata": {},
   "outputs": [],
   "source": []
  },
  {
   "cell_type": "code",
   "execution_count": null,
   "metadata": {},
   "outputs": [],
   "source": []
  },
  {
   "cell_type": "code",
   "execution_count": null,
   "metadata": {},
   "outputs": [],
   "source": []
  },
  {
   "cell_type": "code",
   "execution_count": null,
   "metadata": {},
   "outputs": [],
   "source": []
  }
 ],
 "metadata": {
  "kernelspec": {
   "display_name": "Python 3",
   "language": "python",
   "name": "python3"
  },
  "language_info": {
   "codemirror_mode": {
    "name": "ipython",
    "version": 3
   },
   "file_extension": ".py",
   "mimetype": "text/x-python",
   "name": "python",
   "nbconvert_exporter": "python",
   "pygments_lexer": "ipython3",
   "version": "3.7.6"
  }
 },
 "nbformat": 4,
 "nbformat_minor": 4
}
