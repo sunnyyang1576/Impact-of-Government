{
 "cells": [
  {
   "cell_type": "code",
   "execution_count": null,
   "metadata": {},
   "outputs": [],
   "source": []
  },
  {
   "cell_type": "code",
   "execution_count": 1,
   "metadata": {},
   "outputs": [],
   "source": [
    "import pandas as pd\n",
    "import numpy as np\n",
    "\n",
    "import jieba\n",
    "from collections import Counter\n",
    "from src.jieba_nlp_tools import JiebaNlpTools\n",
    "\n",
    "import matplotlib.pyplot as plt\n",
    "import wordcloud"
   ]
  },
  {
   "cell_type": "code",
   "execution_count": 2,
   "metadata": {},
   "outputs": [],
   "source": [
    "import re"
   ]
  },
  {
   "cell_type": "code",
   "execution_count": 27,
   "metadata": {},
   "outputs": [],
   "source": [
    "with open(\"data/policy_text/policy_1.txt\",\"r+\")  as f:\n",
    "    sample_text = f.read()\n",
    "    \n",
    "with open(\"data/stopwords/baidu_stopwords.txt\") as f:\n",
    "    stopwords_list = f.readlines() \n",
    "stopwords_list = [word.strip() for word in stopwords_list]"
   ]
  },
  {
   "cell_type": "code",
   "execution_count": 23,
   "metadata": {},
   "outputs": [
    {
     "name": "stderr",
     "output_type": "stream",
     "text": [
      "Paddle enabled successfully......\n"
     ]
    }
   ],
   "source": [
    "jieba_tool = JiebaNlpTools()"
   ]
  },
  {
   "cell_type": "code",
   "execution_count": null,
   "metadata": {},
   "outputs": [],
   "source": []
  },
  {
   "cell_type": "code",
   "execution_count": null,
   "metadata": {},
   "outputs": [],
   "source": []
  },
  {
   "cell_type": "code",
   "execution_count": null,
   "metadata": {},
   "outputs": [],
   "source": []
  },
  {
   "cell_type": "code",
   "execution_count": 24,
   "metadata": {},
   "outputs": [],
   "source": [
    "syntax_list = [\"ssssss\",\"ssssgf\",\"\\(\"]"
   ]
  },
  {
   "cell_type": "code",
   "execution_count": 25,
   "metadata": {},
   "outputs": [],
   "source": [
    "sample_text = jieba_tool.remove_syntax(sample_text,syntax_list)"
   ]
  },
  {
   "cell_type": "code",
   "execution_count": null,
   "metadata": {},
   "outputs": [],
   "source": []
  },
  {
   "cell_type": "code",
   "execution_count": null,
   "metadata": {},
   "outputs": [],
   "source": []
  },
  {
   "cell_type": "code",
   "execution_count": 29,
   "metadata": {},
   "outputs": [],
   "source": [
    "word_list = jieba_tool.cut_sentence(sample_text,\n",
    "                                    cut_all=False,\n",
    "                                    use_paddle=True,\n",
    "                                    min_length=2)"
   ]
  },
  {
   "cell_type": "code",
   "execution_count": null,
   "metadata": {},
   "outputs": [],
   "source": []
  },
  {
   "cell_type": "code",
   "execution_count": null,
   "metadata": {},
   "outputs": [],
   "source": []
  },
  {
   "cell_type": "code",
   "execution_count": 33,
   "metadata": {},
   "outputs": [],
   "source": [
    "check_stopwords = [word for word in word_list if word in stopwords_list]"
   ]
  },
  {
   "cell_type": "code",
   "execution_count": 35,
   "metadata": {},
   "outputs": [],
   "source": [
    "check = set(check_stopwords)"
   ]
  },
  {
   "cell_type": "code",
   "execution_count": null,
   "metadata": {},
   "outputs": [],
   "source": []
  },
  {
   "cell_type": "code",
   "execution_count": 38,
   "metadata": {
    "scrolled": true
   },
   "outputs": [],
   "source": [
    "word_list_new = [word for word in word_list if word not in stopwords_list]"
   ]
  },
  {
   "cell_type": "code",
   "execution_count": 40,
   "metadata": {
    "scrolled": true
   },
   "outputs": [
    {
     "data": {
      "text/plain": [
       "[('购买', 69),\n",
       " ('服务', 65),\n",
       " ('政府', 49),\n",
       " ('主体', 37),\n",
       " ('承接', 20),\n",
       " ('项目', 18),\n",
       " ('财政', 14),\n",
       " ('部门', 13),\n",
       " ('合同', 13),\n",
       " ('目录', 12),\n",
       " ('内容', 10),\n",
       " ('指导性', 10),\n",
       " ('相关', 10),\n",
       " ('实施', 10),\n",
       " ('法律', 9),\n",
       " ('法规', 9),\n",
       " ('绩效', 9),\n",
       " ('预算', 8),\n",
       " ('资金', 8),\n",
       " ('行政', 7),\n",
       " ('事项', 7),\n",
       " ('政府采购', 7),\n",
       " ('方式', 6),\n",
       " ('条件', 6),\n",
       " ('监督', 6),\n",
       " ('管理', 6),\n",
       " ('机关', 6),\n",
       " ('采购', 5),\n",
       " ('提供', 5),\n",
       " ('符合', 5),\n",
       " ('社会', 5),\n",
       " ('情况', 5),\n",
       " ('执行', 5),\n",
       " ('履行', 5),\n",
       " ('职能', 4),\n",
       " ('公共', 4),\n",
       " ('本办法', 4),\n",
       " ('依法', 4),\n",
       " ('组织', 4),\n",
       " ('安排', 4),\n",
       " ('评价', 4),\n",
       " ('约定', 4),\n",
       " ('中华人民共和国预算法', 3),\n",
       " ('程序', 3),\n",
       " ('公开', 3),\n",
       " ('财政部', 3),\n",
       " ('工作', 3),\n",
       " ('保障', 3),\n",
       " ('群团', 3),\n",
       " ('活动', 3)]"
      ]
     },
     "execution_count": 40,
     "metadata": {},
     "output_type": "execute_result"
    }
   ],
   "source": [
    "jieba_tool.get_top_n_words(word_list_new,n=50)"
   ]
  },
  {
   "cell_type": "code",
   "execution_count": null,
   "metadata": {},
   "outputs": [],
   "source": []
  },
  {
   "cell_type": "code",
   "execution_count": null,
   "metadata": {},
   "outputs": [],
   "source": []
  },
  {
   "cell_type": "code",
   "execution_count": null,
   "metadata": {},
   "outputs": [],
   "source": [
    "stopwords_dir = \"src/stopwords/baidu_stopwords.txt\""
   ]
  },
  {
   "cell_type": "code",
   "execution_count": null,
   "metadata": {},
   "outputs": [],
   "source": [
    "kw_tf_noun = jieba_tool.tf_idf(sample_text,20,stopwords_dir,allowPOS=['ns', 'n', 'vn','nr'])\n",
    "kw_tf_adj = jieba_tool.tf_idf(sample_text,20,stopwords_dir,allowPOS=['a','ad','an'])\n",
    "kw_tf_verb = jieba_tool.tf_idf(sample_text,20,stopwords_dir,allowPOS=['v','vd','vn'])"
   ]
  },
  {
   "cell_type": "code",
   "execution_count": null,
   "metadata": {},
   "outputs": [],
   "source": [
    "kw_tf_noun"
   ]
  },
  {
   "cell_type": "code",
   "execution_count": null,
   "metadata": {},
   "outputs": [],
   "source": [
    "kw_tf_verb"
   ]
  },
  {
   "cell_type": "code",
   "execution_count": null,
   "metadata": {},
   "outputs": [],
   "source": []
  },
  {
   "cell_type": "code",
   "execution_count": null,
   "metadata": {},
   "outputs": [],
   "source": []
  },
  {
   "cell_type": "code",
   "execution_count": null,
   "metadata": {},
   "outputs": [],
   "source": []
  },
  {
   "cell_type": "code",
   "execution_count": null,
   "metadata": {},
   "outputs": [],
   "source": [
    "kw_tr_noun = jieba.analyse.textrank(sample_text,topK=20,withWeight=True,allowPOS=['ns', 'n', 'vn','nr'])\n",
    "kw_tr_adj = jieba.analyse.textrank(sample_text,topK=20, withWeight=True,allowPOS=['a','ad','an'])\n",
    "kw_tr_verb = jieba.analyse.textrank(sample_text,topK=20, withWeight=True,allowPOS=['v','vd','vn'])"
   ]
  },
  {
   "cell_type": "code",
   "execution_count": null,
   "metadata": {},
   "outputs": [],
   "source": [
    "kw_tr_noun"
   ]
  },
  {
   "cell_type": "code",
   "execution_count": null,
   "metadata": {},
   "outputs": [],
   "source": [
    "kw_tr_verb"
   ]
  },
  {
   "cell_type": "code",
   "execution_count": null,
   "metadata": {},
   "outputs": [],
   "source": [
    "kw_tr_adj"
   ]
  },
  {
   "cell_type": "code",
   "execution_count": null,
   "metadata": {},
   "outputs": [],
   "source": []
  },
  {
   "cell_type": "code",
   "execution_count": null,
   "metadata": {},
   "outputs": [],
   "source": []
  }
 ],
 "metadata": {
  "kernelspec": {
   "display_name": "Python 3",
   "language": "python",
   "name": "python3"
  },
  "language_info": {
   "codemirror_mode": {
    "name": "ipython",
    "version": 3
   },
   "file_extension": ".py",
   "mimetype": "text/x-python",
   "name": "python",
   "nbconvert_exporter": "python",
   "pygments_lexer": "ipython3",
   "version": "3.7.6"
  }
 },
 "nbformat": 4,
 "nbformat_minor": 4
}
