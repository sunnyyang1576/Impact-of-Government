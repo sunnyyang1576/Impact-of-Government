{
 "cells": [
  {
   "cell_type": "code",
   "execution_count": null,
   "metadata": {},
   "outputs": [],
   "source": []
  },
  {
   "cell_type": "code",
   "execution_count": 1,
   "metadata": {},
   "outputs": [],
   "source": [
    "import pandas as pd\n",
    "import numpy as np\n",
    "\n",
    "import jieba\n",
    "from collections import Counter\n",
    "from src.jieba_nlp_tools import JiebaNlpTools\n",
    "\n",
    "import matplotlib.pyplot as plt\n",
    "import wordcloud"
   ]
  },
  {
   "cell_type": "code",
   "execution_count": 2,
   "metadata": {},
   "outputs": [],
   "source": [
    "import re"
   ]
  },
  {
   "cell_type": "code",
   "execution_count": 399,
   "metadata": {},
   "outputs": [],
   "source": [
    "with open(\"data/policy_text/policy_12.txt\",\"r+\")  as f:\n",
    "    sample_text = f.read()\n",
    "    \n",
    "with open(\"data/stopwords/baidu_stopwords.txt\") as f:\n",
    "    stopwords_list = f.readlines() \n",
    "stopwords_list = [word.strip() for word in stopwords_list]"
   ]
  },
  {
   "cell_type": "code",
   "execution_count": 400,
   "metadata": {},
   "outputs": [
    {
     "name": "stderr",
     "output_type": "stream",
     "text": [
      "Paddle enabled successfully......\n"
     ]
    }
   ],
   "source": [
    "jieba_tool = JiebaNlpTools()"
   ]
  },
  {
   "cell_type": "code",
   "execution_count": null,
   "metadata": {},
   "outputs": [],
   "source": []
  },
  {
   "cell_type": "code",
   "execution_count": null,
   "metadata": {},
   "outputs": [],
   "source": []
  },
  {
   "cell_type": "code",
   "execution_count": null,
   "metadata": {},
   "outputs": [],
   "source": []
  },
  {
   "cell_type": "code",
   "execution_count": 401,
   "metadata": {},
   "outputs": [],
   "source": [
    "syntax_list = [\"\\n\",\"\\u3000\"]"
   ]
  },
  {
   "cell_type": "code",
   "execution_count": 402,
   "metadata": {},
   "outputs": [],
   "source": [
    "sample_text = jieba_tool.remove_syntax(sample_text,syntax_list)"
   ]
  },
  {
   "cell_type": "code",
   "execution_count": 403,
   "metadata": {},
   "outputs": [
    {
     "data": {
      "text/plain": [
       "'为了深入贯彻落科学发展观，进一步加强和规范行政单位财务管理，提高资金使用效益，《国务院关于修改和废止部分行政法规的决定》（国务院令第628号）明确《行政单位财务规则》（财政部令第9号）自2013年1月1日起废止，责成财政部重新制定。2012年12月6日，谢旭人部长签署财政部令第71号，公布重新制定的《行政单位财务规则》，自2013年1月1日起施行。近日，财政部有关负责人就新《规则》有关问题回答了记者提问。问：制定新《规则》的必要性和基本原则是什么？答：原《规则》是1998年1月19日经国务院批准，由财政部发布并施行的。实施十多年来，对规范和加强行政单位财务管理发挥了重要作用。然而，随着部门预算、国库集中收付制度、政府采购、非税收入管理、政府收支分类等各项财政改革的深入推进，行政单位财务管理的内容不断创新和丰富，原《规则》已经不能完全适应新形势的需要，亟需加以修订。同时，财务管理的内容和形式也在不断发生变化，行政单位财务管理改革相对滞后，亟需通过对原《规则》进行修订，进一步规范行政单位财务活动，提高资金分配的科学性，确保行政单位履行职能需要。因此，为了进一步适应财政改革和发展的新要求，适时废止原《规则》制定新《规则》，是十分必要的。制定新《规则》主要遵循以下原则：一是坚持厉行节约，降低行政成本；二是反映财政改革成果，体现财政改革方向；三是保持现有框架体系，充实完善相关内容。问：与原《规则》相比，新《规则》主要有哪些新的内容？答：新《规则》在基本维持原《规则》结构的基础上，作了全面修改补充，共分十一章六十三条。具体包括：一是扩大了《规则》的适用范围。明确各级各类行政单位的所有财务活动都要执行本规则。二是增加了行政单位决算管理内容。在第二章预算管理中增加了决算的编制、管理的内容。三是规范了行政单位收入管理。删除了预算外资金收入管理的内容，明确行政单位的收入包括财政拨款收入和其他收入；增加了收入管理的有关要求，明确行政单位的各项收入应当全部纳入单位预算，统一核算管理。四是规范了行政单位支出管理。规范了行政单位支出的分类，将行政单位支出范围修改为“基本支出”和“项目支出”；强化了支出管理要求。增加了部门预算、国库集中支付、政府采购、绩效管理、票据管理等改革的相关规定。五是规范了行政单位结转和结余管理。对结转和结余的概念分别作了规定，同时考虑到中央和地方关于结转和结余资金管理可能存在的差异，对结转和结余资金的管理仅作原则性规定。六是规范了行政单位资产管理。根据改革实践，进一步完善资产的分类和定义，规范资产的配置、使用、处置管理，鼓励行政单位开展资源共享、装备共建工作。明确规定行政单位不得举借债务，不得对外提供担保。七是规范了行政单位负债管理。引入了负债的概念，规范了应缴款项管理。八是充实了行政单位财务监督的内容。具体规定财务监督的主要内容、监督机制和内外部监督制度。此外，《规则》还对行政单位财务分析的内容和指标作出了新的规定。问：下一步还有什么工作安排？答：一是要尽快组织好新《规则》的学习培训工作，指导各地方、各部门根据当地情况开展培训，保证新《规则》的顺利实施。二是各级财政部门和行政单位要根据新《规则》，制定或者修订完善相关财务管理办法，贯彻落实《规则》各项规定，不断提高行政单位财务管理的科学化、精细化水平和财政资金的使用效益。三是要抓紧制定新的《行政单位会计制度》和其他配套制度。'"
      ]
     },
     "execution_count": 403,
     "metadata": {},
     "output_type": "execute_result"
    }
   ],
   "source": [
    "sample_text"
   ]
  },
  {
   "cell_type": "code",
   "execution_count": null,
   "metadata": {},
   "outputs": [],
   "source": []
  },
  {
   "cell_type": "code",
   "execution_count": 404,
   "metadata": {},
   "outputs": [],
   "source": [
    "word_list = jieba_tool.cut_sentence(sample_text,\n",
    "                                    cut_all=False,\n",
    "                                    use_paddle=True,\n",
    "                                    min_length=2)"
   ]
  },
  {
   "cell_type": "code",
   "execution_count": null,
   "metadata": {},
   "outputs": [],
   "source": []
  },
  {
   "cell_type": "code",
   "execution_count": null,
   "metadata": {},
   "outputs": [],
   "source": []
  },
  {
   "cell_type": "code",
   "execution_count": 405,
   "metadata": {},
   "outputs": [],
   "source": [
    "check_stopwords = [word for word in word_list if word in stopwords_list]"
   ]
  },
  {
   "cell_type": "code",
   "execution_count": null,
   "metadata": {},
   "outputs": [],
   "source": []
  },
  {
   "cell_type": "code",
   "execution_count": 406,
   "metadata": {
    "scrolled": true
   },
   "outputs": [],
   "source": [
    "word_list_new = [word for word in word_list if word not in stopwords_list]"
   ]
  },
  {
   "cell_type": "code",
   "execution_count": 407,
   "metadata": {
    "scrolled": false
   },
   "outputs": [
    {
     "data": {
      "text/plain": [
       "[('管理', 19),\n",
       " ('规则', 18),\n",
       " ('单位', 16),\n",
       " ('财务', 12),\n",
       " ('规范', 11),\n",
       " ('制定', 7),\n",
       " ('财政', 7),\n",
       " ('改革', 7),\n",
       " ('收入', 7),\n",
       " ('资金', 6),\n",
       " ('行政单位', 5),\n",
       " ('明确', 5),\n",
       " ('预算', 5),\n",
       " ('支出', 5),\n",
       " ('进一步', 4),\n",
       " ('增加', 4),\n",
       " ('结转', 4),\n",
       " ('监督', 4),\n",
       " ('提高', 3),\n",
       " ('国务院', 3),\n",
       " ('修改', 3),\n",
       " ('部门', 3),\n",
       " ('制度', 3),\n",
       " ('分类', 3),\n",
       " ('各项', 3),\n",
       " ('修订', 3),\n",
       " ('完善', 3),\n",
       " ('结余', 3),\n",
       " ('贯彻', 2),\n",
       " ('发展', 2),\n",
       " ('效益', 2),\n",
       " ('废止', 2),\n",
       " ('行政单位财务规则', 2),\n",
       " ('2013年1月1日起', 2),\n",
       " ('施行', 2),\n",
       " ('。问：', 2),\n",
       " ('国库', 2),\n",
       " ('亟需', 2),\n",
       " ('活动', 2),\n",
       " ('充实', 2),\n",
       " ('决算', 2),\n",
       " ('。三', 2),\n",
       " ('概念', 2),\n",
       " ('资产', 2),\n",
       " ('培训', 2),\n",
       " ('科学', 1),\n",
       " ('观，', 1),\n",
       " ('法规', 1),\n",
       " ('第628号', 1),\n",
       " ('第9号', 1)]"
      ]
     },
     "execution_count": 407,
     "metadata": {},
     "output_type": "execute_result"
    }
   ],
   "source": [
    "jieba_tool.get_top_n_words(word_list_new,n=50)"
   ]
  },
  {
   "cell_type": "code",
   "execution_count": null,
   "metadata": {},
   "outputs": [],
   "source": []
  },
  {
   "cell_type": "code",
   "execution_count": null,
   "metadata": {},
   "outputs": [],
   "source": []
  },
  {
   "cell_type": "code",
   "execution_count": 408,
   "metadata": {},
   "outputs": [],
   "source": [
    "stopwords_dir = \"src/stopwords/baidu_stopwords.txt\""
   ]
  },
  {
   "cell_type": "code",
   "execution_count": 409,
   "metadata": {},
   "outputs": [],
   "source": [
    "kw_tf_noun = jieba_tool.tf_idf(sample_text,20,stopwords_dir,allowPOS=['ns', 'n', 'vn','nr'])\n",
    "kw_tf_adj = jieba_tool.tf_idf(sample_text,20,stopwords_dir,allowPOS=['a','ad','an'])\n",
    "kw_tf_verb = jieba_tool.tf_idf(sample_text,20,stopwords_dir,allowPOS=['v','vd','vn'])"
   ]
  },
  {
   "cell_type": "code",
   "execution_count": 410,
   "metadata": {},
   "outputs": [
    {
     "data": {
      "text/plain": [
       "[('行政', 0.7353450961232618),\n",
       " ('单位', 0.5981947180830043),\n",
       " ('规则', 0.5905317276482833),\n",
       " ('管理', 0.38116341157330474),\n",
       " ('规范', 0.30344933134480684),\n",
       " ('财务管理', 0.28276518873682405),\n",
       " ('内容', 0.22035550965364806),\n",
       " ('结余', 0.17217985649957082),\n",
       " ('改革', 0.16494100598545064),\n",
       " ('财务', 0.15258756258497855),\n",
       " ('财政', 0.10889621889030043),\n",
       " ('财务监督', 0.09730238879399142),\n",
       " ('重新制定', 0.09552007664978542),\n",
       " ('分类', 0.08447819686570815),\n",
       " ('资金', 0.07685978474575107),\n",
       " ('国库', 0.07282898926841201),\n",
       " ('负债', 0.06720978475510729),\n",
       " ('部门', 0.06638050290785408),\n",
       " ('资产', 0.06491328327154507),\n",
       " ('培训', 0.06257494941854078)]"
      ]
     },
     "execution_count": 410,
     "metadata": {},
     "output_type": "execute_result"
    }
   ],
   "source": [
    "kw_tf_noun"
   ]
  },
  {
   "cell_type": "code",
   "execution_count": 411,
   "metadata": {},
   "outputs": [
    {
     "data": {
      "text/plain": [
       "[('管理', 0.6435585137433333),\n",
       " ('收入', 0.3064134527762319),\n",
       " ('支出', 0.29444268288260866),\n",
       " ('改革', 0.27848735068557967),\n",
       " ('结转', 0.27347158067594207),\n",
       " ('制定', 0.21454125930108697),\n",
       " ('废止', 0.1892982782845652),\n",
       " ('修订', 0.16327036923717392),\n",
       " ('预算', 0.15668160834152176),\n",
       " ('决算', 0.154240306),\n",
       " ('亟需', 0.1526577075652174),\n",
       " ('修改', 0.14682403201130434),\n",
       " ('增加', 0.13255068949507245),\n",
       " ('完善', 0.12955178437108697),\n",
       " ('施行', 0.10962104233086957),\n",
       " ('培训', 0.1056519073515942),\n",
       " ('相关', 0.10512412897869566),\n",
       " ('提高', 0.10291705825608696),\n",
       " ('采购', 0.09640831274797101),\n",
       " ('工作', 0.09136389874673914)]"
      ]
     },
     "execution_count": 411,
     "metadata": {},
     "output_type": "execute_result"
    }
   ],
   "source": [
    "kw_tf_verb"
   ]
  },
  {
   "cell_type": "code",
   "execution_count": 412,
   "metadata": {},
   "outputs": [
    {
     "data": {
      "text/plain": [
       "[('充实', 3.1863133825439998),\n",
       " ('适时', 1.5833482742579998),\n",
       " ('配套', 1.432268204924),\n",
       " ('顺利', 1.326351504756)]"
      ]
     },
     "execution_count": 412,
     "metadata": {},
     "output_type": "execute_result"
    }
   ],
   "source": [
    "kw_tf_adj"
   ]
  },
  {
   "cell_type": "code",
   "execution_count": 413,
   "metadata": {},
   "outputs": [
    {
     "data": {
      "text/plain": [
       "'为了深入贯彻落科学发展观，进一步加强和规范行政单位财务管理，提高资金使用效益，《国务院关于修改和废止部分行政法规的决定》（国务院令第628号）明确《行政单位财务规则》（财政部令第9号）自2013年1月1日起废止，责成财政部重新制定。2012年12月6日，谢旭人部长签署财政部令第71号，公布重新制定的《行政单位财务规则》，自2013年1月1日起施行。近日，财政部有关负责人就新《规则》有关问题回答了记者提问。问：制定新《规则》的必要性和基本原则是什么？答：原《规则》是1998年1月19日经国务院批准，由财政部发布并施行的。实施十多年来，对规范和加强行政单位财务管理发挥了重要作用。然而，随着部门预算、国库集中收付制度、政府采购、非税收入管理、政府收支分类等各项财政改革的深入推进，行政单位财务管理的内容不断创新和丰富，原《规则》已经不能完全适应新形势的需要，亟需加以修订。同时，财务管理的内容和形式也在不断发生变化，行政单位财务管理改革相对滞后，亟需通过对原《规则》进行修订，进一步规范行政单位财务活动，提高资金分配的科学性，确保行政单位履行职能需要。因此，为了进一步适应财政改革和发展的新要求，适时废止原《规则》制定新《规则》，是十分必要的。制定新《规则》主要遵循以下原则：一是坚持厉行节约，降低行政成本；二是反映财政改革成果，体现财政改革方向；三是保持现有框架体系，充实完善相关内容。问：与原《规则》相比，新《规则》主要有哪些新的内容？答：新《规则》在基本维持原《规则》结构的基础上，作了全面修改补充，共分十一章六十三条。具体包括：一是扩大了《规则》的适用范围。明确各级各类行政单位的所有财务活动都要执行本规则。二是增加了行政单位决算管理内容。在第二章预算管理中增加了决算的编制、管理的内容。三是规范了行政单位收入管理。删除了预算外资金收入管理的内容，明确行政单位的收入包括财政拨款收入和其他收入；增加了收入管理的有关要求，明确行政单位的各项收入应当全部纳入单位预算，统一核算管理。四是规范了行政单位支出管理。规范了行政单位支出的分类，将行政单位支出范围修改为“基本支出”和“项目支出”；强化了支出管理要求。增加了部门预算、国库集中支付、政府采购、绩效管理、票据管理等改革的相关规定。五是规范了行政单位结转和结余管理。对结转和结余的概念分别作了规定，同时考虑到中央和地方关于结转和结余资金管理可能存在的差异，对结转和结余资金的管理仅作原则性规定。六是规范了行政单位资产管理。根据改革实践，进一步完善资产的分类和定义，规范资产的配置、使用、处置管理，鼓励行政单位开展资源共享、装备共建工作。明确规定行政单位不得举借债务，不得对外提供担保。七是规范了行政单位负债管理。引入了负债的概念，规范了应缴款项管理。八是充实了行政单位财务监督的内容。具体规定财务监督的主要内容、监督机制和内外部监督制度。此外，《规则》还对行政单位财务分析的内容和指标作出了新的规定。问：下一步还有什么工作安排？答：一是要尽快组织好新《规则》的学习培训工作，指导各地方、各部门根据当地情况开展培训，保证新《规则》的顺利实施。二是各级财政部门和行政单位要根据新《规则》，制定或者修订完善相关财务管理办法，贯彻落实《规则》各项规定，不断提高行政单位财务管理的科学化、精细化水平和财政资金的使用效益。三是要抓紧制定新的《行政单位会计制度》和其他配套制度。'"
      ]
     },
     "execution_count": 413,
     "metadata": {},
     "output_type": "execute_result"
    }
   ],
   "source": [
    "sample_text"
   ]
  },
  {
   "cell_type": "code",
   "execution_count": null,
   "metadata": {},
   "outputs": [],
   "source": []
  },
  {
   "cell_type": "code",
   "execution_count": 295,
   "metadata": {},
   "outputs": [],
   "source": [
    "kw_tr_noun = jieba.analyse.textrank(sample_text,topK=20,withWeight=True,allowPOS=['ns', 'n', 'vn','nr'])\n",
    "kw_tr_adj = jieba.analyse.textrank(sample_text,topK=20, withWeight=True,allowPOS=['a','ad','an'])\n",
    "kw_tr_verb = jieba.analyse.textrank(sample_text,topK=20, withWeight=True,allowPOS=['v','vd','vn'])"
   ]
  },
  {
   "cell_type": "code",
   "execution_count": 296,
   "metadata": {},
   "outputs": [
    {
     "data": {
      "text/plain": [
       "[('文件', 1.0),\n",
       " ('制度', 0.9920054296477582),\n",
       " ('工作', 0.7153269910825145),\n",
       " ('管理', 0.7087710721345111),\n",
       " ('法规', 0.693410065307818),\n",
       " ('规章', 0.6556637257773383),\n",
       " ('财政', 0.5890453048859587),\n",
       " ('利息', 0.5567028101842258),\n",
       " ('规范性', 0.5484975112764326),\n",
       " ('责任', 0.5314911188237403),\n",
       " ('补贴', 0.4927135152802713),\n",
       " ('挂帐', 0.4917953536109497),\n",
       " ('财务管理', 0.4506828649061996),\n",
       " ('部门', 0.45049012732018434),\n",
       " ('财商', 0.45049012732018434),\n",
       " ('依法行政', 0.45049012732018434),\n",
       " ('暂行办法', 0.44916841817727926),\n",
       " ('基金', 0.44752752859484396),\n",
       " ('意见', 0.4472551119233053),\n",
       " ('中国', 0.4472551119233053)]"
      ]
     },
     "execution_count": 296,
     "metadata": {},
     "output_type": "execute_result"
    }
   ],
   "source": [
    "kw_tr_noun"
   ]
  },
  {
   "cell_type": "code",
   "execution_count": 297,
   "metadata": {
    "scrolled": true
   },
   "outputs": [
    {
     "data": {
      "text/plain": [
       "[('审批', 1.0),\n",
       " ('梳理', 0.6255643239532389),\n",
       " ('涉及', 0.49187424531774715),\n",
       " ('追究', 0.48736744242614),\n",
       " ('废止', 0.4545996689126045),\n",
       " ('强化', 0.4545996689126045),\n",
       " ('理财', 0.4545996689126045),\n",
       " ('工作', 0.4514436076930034),\n",
       " ('建设', 0.4514436076930034),\n",
       " ('体现', 0.4514436076930034),\n",
       " ('相关', 0.3429643832343833),\n",
       " ('组织', 0.3425993443657535),\n",
       " ('征求', 0.33838002143846657),\n",
       " ('管理', 0.19703211207161864),\n",
       " ('改革', 0.19703211207161864)]"
      ]
     },
     "execution_count": 297,
     "metadata": {},
     "output_type": "execute_result"
    }
   ],
   "source": [
    "kw_tr_verb"
   ]
  },
  {
   "cell_type": "code",
   "execution_count": 298,
   "metadata": {},
   "outputs": [
    {
     "data": {
      "text/plain": [
       "[('落实', 1.0), ('切实', 0.9961264494011037)]"
      ]
     },
     "execution_count": 298,
     "metadata": {},
     "output_type": "execute_result"
    }
   ],
   "source": [
    "kw_tr_adj"
   ]
  },
  {
   "cell_type": "code",
   "execution_count": null,
   "metadata": {},
   "outputs": [],
   "source": []
  },
  {
   "cell_type": "code",
   "execution_count": null,
   "metadata": {},
   "outputs": [],
   "source": []
  },
  {
   "cell_type": "code",
   "execution_count": null,
   "metadata": {},
   "outputs": [],
   "source": []
  }
 ],
 "metadata": {
  "kernelspec": {
   "display_name": "Python 3",
   "language": "python",
   "name": "python3"
  },
  "language_info": {
   "codemirror_mode": {
    "name": "ipython",
    "version": 3
   },
   "file_extension": ".py",
   "mimetype": "text/x-python",
   "name": "python",
   "nbconvert_exporter": "python",
   "pygments_lexer": "ipython3",
   "version": "3.7.6"
  }
 },
 "nbformat": 4,
 "nbformat_minor": 4
}
