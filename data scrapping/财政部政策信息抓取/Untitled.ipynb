{
 "cells": [
  {
   "cell_type": "code",
   "execution_count": null,
   "metadata": {},
   "outputs": [],
   "source": []
  },
  {
   "cell_type": "code",
   "execution_count": 1,
   "metadata": {},
   "outputs": [],
   "source": [
    "import pandas as pd\n",
    "import numpy as np"
   ]
  },
  {
   "cell_type": "code",
   "execution_count": 2,
   "metadata": {},
   "outputs": [],
   "source": [
    "import jieba\n",
    "from collections import Counter\n",
    "from src.jieba_nlp_tools import JiebaNlpTools"
   ]
  },
  {
   "cell_type": "code",
   "execution_count": 3,
   "metadata": {},
   "outputs": [],
   "source": [
    "import matplotlib.pyplot as plt\n",
    "import wordcloud "
   ]
  },
  {
   "cell_type": "code",
   "execution_count": null,
   "metadata": {},
   "outputs": [],
   "source": []
  },
  {
   "cell_type": "code",
   "execution_count": 4,
   "metadata": {},
   "outputs": [],
   "source": [
    "title_df = pd.read_csv(\"output/FIN_zcgg_title_url.txt\")\n",
    "content_df = pd.read_csv(\"output/FIN_zcgg_content.txt\")\n",
    "\n",
    "content_df = content_df.iloc[:,1:]\n",
    "\n",
    "title_df.columns = [\"unique_id\",\"timestamp\",\"title\",\"url\"]\n",
    "content_df.columns = [\"unique_id\",\"content\"]"
   ]
  },
  {
   "cell_type": "code",
   "execution_count": 5,
   "metadata": {},
   "outputs": [],
   "source": [
    "title_list = list(title_df.title)"
   ]
  },
  {
   "cell_type": "code",
   "execution_count": null,
   "metadata": {},
   "outputs": [],
   "source": []
  },
  {
   "cell_type": "code",
   "execution_count": 14,
   "metadata": {},
   "outputs": [],
   "source": [
    "content = content_df.content[2]"
   ]
  },
  {
   "cell_type": "code",
   "execution_count": 15,
   "metadata": {},
   "outputs": [],
   "source": [
    "sentence_list = content.split(\"。\")"
   ]
  },
  {
   "cell_type": "code",
   "execution_count": 22,
   "metadata": {},
   "outputs": [],
   "source": [
    "sentence = sentence_list[1]"
   ]
  },
  {
   "cell_type": "code",
   "execution_count": null,
   "metadata": {},
   "outputs": [],
   "source": []
  },
  {
   "cell_type": "code",
   "execution_count": 17,
   "metadata": {},
   "outputs": [],
   "source": [
    "import jieba.posseg as pseg"
   ]
  },
  {
   "cell_type": "code",
   "execution_count": 27,
   "metadata": {},
   "outputs": [
    {
     "ename": "TypeError",
     "evalue": "cut() got an unexpected keyword argument 'cut_all'",
     "output_type": "error",
     "traceback": [
      "\u001b[0;31m---------------------------------------------------------------------------\u001b[0m",
      "\u001b[0;31mTypeError\u001b[0m                                 Traceback (most recent call last)",
      "\u001b[0;32m<ipython-input-27-5d100e2146c1>\u001b[0m in \u001b[0;36m<module>\u001b[0;34m\u001b[0m\n\u001b[0;32m----> 1\u001b[0;31m \u001b[0mwords\u001b[0m \u001b[0;34m=\u001b[0m \u001b[0mpseg\u001b[0m\u001b[0;34m.\u001b[0m\u001b[0mcut\u001b[0m\u001b[0;34m(\u001b[0m\u001b[0msentence\u001b[0m\u001b[0;34m,\u001b[0m\u001b[0mcut_all\u001b[0m\u001b[0;34m=\u001b[0m\u001b[0;32mTrue\u001b[0m\u001b[0;34m)\u001b[0m\u001b[0;34m\u001b[0m\u001b[0;34m\u001b[0m\u001b[0m\n\u001b[0m",
      "\u001b[0;31mTypeError\u001b[0m: cut() got an unexpected keyword argument 'cut_all'"
     ]
    }
   ],
   "source": [
    "words = pseg.cut(sentence,cut_all=True)"
   ]
  },
  {
   "cell_type": "code",
   "execution_count": 24,
   "metadata": {},
   "outputs": [
    {
     "data": {
      "text/plain": [
       "[pair('现', 'tg'),\n",
       " pair('将', 'd'),\n",
       " pair('有关', 'vn'),\n",
       " pair('补助', 'v'),\n",
       " pair('资金', 'n'),\n",
       " pair('（', 'x'),\n",
       " pair('各省', 'r'),\n",
       " pair('、', 'x'),\n",
       " pair('自治区', 'n'),\n",
       " pair('、', 'x'),\n",
       " pair('直辖市', 'n'),\n",
       " pair('预算', 'v'),\n",
       " pair('指标', 'n'),\n",
       " pair('见', 'v'),\n",
       " pair('附表', 'n'),\n",
       " pair('1', 'x'),\n",
       " pair('）', 'x'),\n",
       " pair('下达', 'v'),\n",
       " pair('给', 'p'),\n",
       " pair('你们', 'r'),\n",
       " pair('，', 'x'),\n",
       " pair('并', 'c'),\n",
       " pair('就', 'd'),\n",
       " pair('有关', 'vn'),\n",
       " pair('事项', 'n'),\n",
       " pair('通知', 'v'),\n",
       " pair('如下', 't'),\n",
       " pair('：', 'x'),\n",
       " pair('\\u3000', 'x'),\n",
       " pair('\\u3000', 'x'),\n",
       " pair('应急', 'vn'),\n",
       " pair('物资', 'n'),\n",
       " pair('保障体系', 'n'),\n",
       " pair('建设', 'vn'),\n",
       " pair('资金', 'n'),\n",
       " pair('用于', 'v'),\n",
       " pair('支持', 'v'),\n",
       " pair('地方', 'n'),\n",
       " pair('加快', 'v'),\n",
       " pair('补齐', 'v'),\n",
       " pair('应急', 'vn'),\n",
       " pair('物资', 'n'),\n",
       " pair('保障', 'v'),\n",
       " pair('短板', 'n'),\n",
       " pair('，', 'x'),\n",
       " pair('健全', 'a'),\n",
       " pair('完善', 'v'),\n",
       " pair('中央', 'n'),\n",
       " pair('和', 'c'),\n",
       " pair('地方', 'n'),\n",
       " pair('统筹安排', 'n'),\n",
       " pair('、', 'x'),\n",
       " pair('分级', 'vn'),\n",
       " pair('储备', 'vn'),\n",
       " pair('、', 'x'),\n",
       " pair('重特大', 'ns'),\n",
       " pair('突发事件', 'n'),\n",
       " pair('发生', 'v'),\n",
       " pair('时', 'ng'),\n",
       " pair('可', 'v'),\n",
       " pair('统一', 'vn'),\n",
       " pair('调度', 'n'),\n",
       " pair('的', 'uj'),\n",
       " pair('应急', 'vn'),\n",
       " pair('物资', 'n'),\n",
       " pair('保障体系', 'n')]"
      ]
     },
     "execution_count": 24,
     "metadata": {},
     "output_type": "execute_result"
    }
   ],
   "source": [
    "list(words)"
   ]
  },
  {
   "cell_type": "code",
   "execution_count": null,
   "metadata": {},
   "outputs": [],
   "source": []
  },
  {
   "cell_type": "markdown",
   "metadata": {},
   "source": [
    "# Title Analysis"
   ]
  },
  {
   "cell_type": "code",
   "execution_count": 5,
   "metadata": {},
   "outputs": [],
   "source": [
    "all_titles = \"\"\n",
    "for title in title_list:\n",
    "    all_titles+=title"
   ]
  },
  {
   "cell_type": "code",
   "execution_count": 6,
   "metadata": {},
   "outputs": [
    {
     "name": "stderr",
     "output_type": "stream",
     "text": [
      "Paddle enabled successfully......\n"
     ]
    }
   ],
   "source": [
    "jieba_tool = JiebaNlpTools()"
   ]
  },
  {
   "cell_type": "code",
   "execution_count": 7,
   "metadata": {},
   "outputs": [
    {
     "name": "stderr",
     "output_type": "stream",
     "text": [
      "Building prefix dict from the default dictionary ...\n",
      "Loading model from cache /var/folders/1y/w6y_szxn0m12nsrrdnzgp4540000gn/T/jieba.cache\n",
      "Loading model cost 1.234 seconds.\n",
      "Prefix dict has been built successfully.\n"
     ]
    }
   ],
   "source": [
    "word_list = jieba_tool.cut_sentence(all_titles,\n",
    "                                    cut_all=False,\n",
    "                                    use_paddle=False,\n",
    "                                    min_length=2)"
   ]
  },
  {
   "cell_type": "code",
   "execution_count": 8,
   "metadata": {},
   "outputs": [
    {
     "data": {
      "text/plain": [
       "[('印发', 200),\n",
       " ('财政部', 129),\n",
       " ('管理', 99),\n",
       " ('通知', 95),\n",
       " ('明确', 86),\n",
       " ('部门', 81),\n",
       " ('政策', 80),\n",
       " ('资金', 69),\n",
       " ('企业', 68),\n",
       " ('有关', 66),\n",
       " ('关于', 62),\n",
       " ('办法', 52),\n",
       " ('关税', 50),\n",
       " ('政府', 45),\n",
       " ('工作', 43),\n",
       " ('发文', 42),\n",
       " ('支持', 38),\n",
       " ('地方', 36),\n",
       " ('公告', 33),\n",
       " ('国务院', 33)]"
      ]
     },
     "execution_count": 8,
     "metadata": {},
     "output_type": "execute_result"
    }
   ],
   "source": [
    "jieba_tool.get_top_n_words(word_list,n=20)"
   ]
  },
  {
   "cell_type": "code",
   "execution_count": null,
   "metadata": {},
   "outputs": [],
   "source": []
  },
  {
   "cell_type": "code",
   "execution_count": null,
   "metadata": {},
   "outputs": [],
   "source": []
  },
  {
   "cell_type": "code",
   "execution_count": 9,
   "metadata": {},
   "outputs": [],
   "source": [
    "stopwords_dir = \"src/stopWordsDict.txt\""
   ]
  },
  {
   "cell_type": "code",
   "execution_count": 36,
   "metadata": {},
   "outputs": [],
   "source": [
    "stopwords_list = []\n",
    "with open(stopwords_dir) as f:\n",
    "    for line in f:\n",
    "        stopwords_list.append(line.strip())\n",
    "\n",
    "stopwords_list = stopwords_list[0:11]"
   ]
  },
  {
   "cell_type": "code",
   "execution_count": 38,
   "metadata": {},
   "outputs": [],
   "source": [
    "word_list = jieba_tool.filter_stopwords(word_list,stopwords_list)"
   ]
  },
  {
   "cell_type": "code",
   "execution_count": null,
   "metadata": {},
   "outputs": [],
   "source": []
  },
  {
   "cell_type": "code",
   "execution_count": null,
   "metadata": {},
   "outputs": [],
   "source": []
  },
  {
   "cell_type": "code",
   "execution_count": 86,
   "metadata": {},
   "outputs": [],
   "source": [
    "kw_tf_noun = jieba_tool.tf_idf(all_titles,20,stopwords_dir,allowPOS=['ns', 'n', 'vn','nr'])\n",
    "kw_tf_adj = jieba_tool.tf_idf(all_titles,20,stopwords_dir,allowPOS=['a','ad','an'])\n",
    "kw_tf_verb = jieba_tool.tf_idf(all_titles,20,stopwords_dir,allowPOS=['v','vd','vn'])"
   ]
  },
  {
   "cell_type": "code",
   "execution_count": 87,
   "metadata": {},
   "outputs": [],
   "source": [
    "kw_tr_noun = jieba.analyse.textrank(all_titles,topK=20, withWeight=True,allowPOS=['ns', 'n', 'vn','nr'])\n",
    "kw_tr_adj = jieba.analyse.textrank(all_titles,topK=20, withWeight=True,allowPOS=['a','ad','an'])\n",
    "kw_tr_verb = jieba.analyse.textrank(all_titles,topK=20, withWeight=True,allowPOS=['v','vd','vn'])"
   ]
  },
  {
   "cell_type": "code",
   "execution_count": null,
   "metadata": {},
   "outputs": [],
   "source": []
  },
  {
   "cell_type": "code",
   "execution_count": 73,
   "metadata": {},
   "outputs": [],
   "source": [
    "word_list = [tup[0] for tup in kw_tf_noun]\n",
    "freq_list = [tup[1] for tup in kw_tf_noun]"
   ]
  },
  {
   "cell_type": "code",
   "execution_count": null,
   "metadata": {},
   "outputs": [],
   "source": []
  },
  {
   "cell_type": "code",
   "execution_count": null,
   "metadata": {},
   "outputs": [],
   "source": []
  },
  {
   "cell_type": "code",
   "execution_count": null,
   "metadata": {},
   "outputs": [],
   "source": []
  },
  {
   "cell_type": "code",
   "execution_count": null,
   "metadata": {},
   "outputs": [],
   "source": []
  },
  {
   "cell_type": "code",
   "execution_count": null,
   "metadata": {},
   "outputs": [],
   "source": []
  },
  {
   "cell_type": "code",
   "execution_count": 96,
   "metadata": {},
   "outputs": [],
   "source": [
    "content = content_df.content[4]"
   ]
  },
  {
   "cell_type": "code",
   "execution_count": 98,
   "metadata": {},
   "outputs": [
    {
     "name": "stdout",
     "output_type": "stream",
     "text": [
      "财库〔2020〕23号党中央有关部门，国务院各部委、各直属机构，全国人大常委会办公厅，全国政协办公厅，最高人民法院，最高人民检察院，各民主党派中央，有关人民团体，各省、自治区、直辖市、计划单列市财政厅（局），新疆生产建设兵团财政局，财政部各地监管局：　　为切实落实减税降费政策，把保就业、保民生、保市场主体等“六保”任务不折不扣落实到位，把已取消、停征、免征及降低征收标准的收费基金优惠政策不折不扣地落实到相关企业和个人，现就加强非税收入退付管理有关事项通知如下：　　各级财政部门要结合本地实际，进一步优化非税收入退付业务流程，提高减税降费涉及非税收入退付工作效率，对实行定期清算、已缴纳款项可冲抵以后月份应缴款的非税收入，要明确冲抵流程和操作办法。各级财政部门和财政部各地监管局要加强配合，对涉及中央地方分成需就地办理退库的非税收入，按照规定加快办理退付。　　各地财政部门要积极推动非税收入电子退付、电子对账等方面的创新。有条件的地方可探索实现非税收入退付申报、业务审核、缴款审核、资金退付等业务网上办理，通过“非接触”退付，助力新冠肺炎疫情防控工作，切实减轻企业和个人负担。　　各级财政部门要认真开展非税收入月度执行情况与减、免、缓、停政策的联动分析，确保政策落实到位。各执收单位要加强内部控制，建立健全非税收入退付内部控制制度，实行退付资金复核制度，认真做好非税收入收缴和退付的核算工作。　　各级财政部门和各执收单位要采取多种形式积极宣传、准确解读减税降费政策要求，确保减税降费红利及时足额惠及缴款企业和个人，增加群众获得感。　　各级财政部门、财政部各地监管局、有关主管部门要结合部门职责，指导和监督各执收单位，及时主动为应予退付的企业和个人办理退付业务，切实缓解企业经营困难。遇到重要或突发情况要及时报告。　　财  政  部　　2020年7月16日\n"
     ]
    }
   ],
   "source": [
    "print(content)"
   ]
  },
  {
   "cell_type": "code",
   "execution_count": 102,
   "metadata": {},
   "outputs": [],
   "source": [
    "import re"
   ]
  },
  {
   "cell_type": "code",
   "execution_count": 101,
   "metadata": {},
   "outputs": [
    {
     "data": {
      "text/plain": [
       "['财库〔2020〕23号党中央有关部门，国务院各部委、各直属机构，全国人大常委会办公厅，全国政协办公厅，最高人民法院，最高人民检察院，各民主党派中央，有关人民团体，各省、自治区、直辖市、计划单列市财政厅（局），新疆生产建设兵团财政局，财政部各地监管局：\\u3000\\u3000为切实落实减税降费政策，把保就业、保民生、保市场主体等“六保”任务不折不扣落实到位，把已取消、停征、免征及降低征收标准的收费基金优惠政策不折不扣地落实到相关企业和个人，现就加强非税收入退付管理有关事项通知如下：\\u3000\\u3000各级财政部门要结合本地实际，进一步优化非税收入退付业务流程，提高减税降费涉及非税收入退付工作效率，对实行定期清算、已缴纳款项可冲抵以后月份应缴款的非税收入，要明确冲抵流程和操作办法。各级财政部门和财政部各地监管局要加强配合，对涉及中央地方分成需就地办理退库的非税收入，按照规定加快办理退付。\\u3000\\u3000各地财政部门要积极推动非税收入电子退付、电子对账等方面的创新。有条件的地方可探索实现非税收入退付申报、业务审核、缴款审核、资金退付等业务网上办理，通过“非接触”退付，助力新冠肺炎疫情防控工作，切实减轻企业和个人负担。\\u3000\\u3000各级财政部门要认真开展非税收入月度执行情况与减、免、缓、停政策的联动分析，确保政策落实到位。各执收单位要加强内部控制，建立健全非税收入退付内部控制制度，实行退付资金复核制度，认真做好非税收入收缴和退付的核算工作。\\u3000\\u3000各级财政部门和各执收单位要采取多种形式积极宣传、准确解读减税降费政策要求，确保减税降费红利及时足额惠及缴款企业和个人，增加群众获得感。\\u3000\\u3000各级财政部门、财政部各地监管局、有关主管部门要结合部门职责，指导和监督各执收单位，及时主动为应予退付的企业和个人办理退付业务，切实缓解企业经营困难。遇到重要或突发情况要及时报告。\\u3000\\u3000财 \\xa0政 \\xa0部\\u3000\\u30002020年7月16日']"
      ]
     },
     "execution_count": 101,
     "metadata": {},
     "output_type": "execute_result"
    }
   ],
   "source": [
    "content.split()"
   ]
  },
  {
   "cell_type": "code",
   "execution_count": 110,
   "metadata": {},
   "outputs": [
    {
     "data": {
      "text/plain": [
       "['财库〔2020〕23号党中央有关部门，国务院各部委、各直属机构，全国人大常委会办公厅，全国政协办公厅，最高人民法院，最高人民检察院，各民主党派中央，有关人民团体，各省、自治区、直辖市、计划单列市财政厅（局），新疆生产建设兵团财政局，财政部各地监管局：\\u3000\\u3000为切实落实减税降费政策，把保就业、保民生、保市场主体等“六保”任务不折不扣落实到位，把已取消、停征、免征及降低征收标准的收费基金优惠政策不折不扣地落实到相关企业和个人，现就加强非税收入退付管理有关事项通知如下：\\u3000\\u3000各级财政部门要结合本地实际，进一步优化非税收入退付业务流程，提高减税降费涉及非税收入退付工作效率，对实行定期清算、已缴纳款项可冲抵以后月份应缴款的非税收入，要明确冲抵流程和操作办法',\n",
       " '各级财政部门和财政部各地监管局要加强配合，对涉及中央地方分成需就地办理退库的非税收入，按照规定加快办理退付',\n",
       " '\\u3000\\u3000各地财政部门要积极推动非税收入电子退付、电子对账等方面的创新',\n",
       " '有条件的地方可探索实现非税收入退付申报、业务审核、缴款审核、资金退付等业务网上办理，通过“非接触”退付，助力新冠肺炎疫情防控工作，切实减轻企业和个人负担',\n",
       " '\\u3000\\u3000各级财政部门要认真开展非税收入月度执行情况与减、免、缓、停政策的联动分析，确保政策落实到位',\n",
       " '各执收单位要加强内部控制，建立健全非税收入退付内部控制制度，实行退付资金复核制度，认真做好非税收入收缴和退付的核算工作',\n",
       " '\\u3000\\u3000各级财政部门和各执收单位要采取多种形式积极宣传、准确解读减税降费政策要求，确保减税降费红利及时足额惠及缴款企业和个人，增加群众获得感',\n",
       " '\\u3000\\u3000各级财政部门、财政部各地监管局、有关主管部门要结合部门职责，指导和监督各执收单位，及时主动为应予退付的企业和个人办理退付业务，切实缓解企业经营困难',\n",
       " '遇到重要或突发情况要及时报告',\n",
       " '\\u3000\\u3000财 \\xa0政 \\xa0部\\u3000\\u30002020年7月16日']"
      ]
     },
     "execution_count": 110,
     "metadata": {},
     "output_type": "execute_result"
    }
   ],
   "source": [
    "re.split(\"。\",content)"
   ]
  },
  {
   "cell_type": "code",
   "execution_count": null,
   "metadata": {},
   "outputs": [],
   "source": []
  },
  {
   "cell_type": "code",
   "execution_count": null,
   "metadata": {},
   "outputs": [],
   "source": []
  },
  {
   "cell_type": "code",
   "execution_count": null,
   "metadata": {},
   "outputs": [],
   "source": []
  },
  {
   "cell_type": "code",
   "execution_count": null,
   "metadata": {},
   "outputs": [],
   "source": []
  },
  {
   "cell_type": "code",
   "execution_count": 111,
   "metadata": {},
   "outputs": [
    {
     "data": {
      "text/plain": [
       "'/Users/sunnyyang/.matplotlib'"
      ]
     },
     "execution_count": 111,
     "metadata": {},
     "output_type": "execute_result"
    }
   ],
   "source": [
    "import matplotlib\n"
   ]
  },
  {
   "cell_type": "code",
   "execution_count": 115,
   "metadata": {},
   "outputs": [
    {
     "data": {
      "text/plain": [
       "'/Users/sunnyyang/.matplotlib'"
      ]
     },
     "execution_count": 115,
     "metadata": {},
     "output_type": "execute_result"
    }
   ],
   "source": [
    "matplotlib.get_configdir()"
   ]
  },
  {
   "cell_type": "code",
   "execution_count": 113,
   "metadata": {},
   "outputs": [
    {
     "data": {
      "text/plain": [
       "['sans-serif']"
      ]
     },
     "execution_count": 113,
     "metadata": {},
     "output_type": "execute_result"
    }
   ],
   "source": [
    "matplotlib.font_manager.FontProperties().get_family()"
   ]
  },
  {
   "cell_type": "code",
   "execution_count": null,
   "metadata": {},
   "outputs": [],
   "source": []
  },
  {
   "cell_type": "code",
   "execution_count": 114,
   "metadata": {},
   "outputs": [
    {
     "data": {
      "text/plain": [
       "'/Users/sunnyyang/opt/anaconda3/lib/python3.7/site-packages/matplotlib/mpl-data/fonts/ttf/DejaVuSans.ttf'"
      ]
     },
     "execution_count": 114,
     "metadata": {},
     "output_type": "execute_result"
    }
   ],
   "source": [
    "from matplotlib.font_manager import findfont, FontProperties\n",
    "findfont(FontProperties(family=FontProperties().get_family()))"
   ]
  },
  {
   "cell_type": "code",
   "execution_count": 116,
   "metadata": {},
   "outputs": [],
   "source": [
    "import matplotlib\n",
    "matplotlib.rcParams['font.sans-serif'] = 'SimHei'"
   ]
  },
  {
   "cell_type": "code",
   "execution_count": null,
   "metadata": {},
   "outputs": [],
   "source": []
  },
  {
   "cell_type": "code",
   "execution_count": 118,
   "metadata": {},
   "outputs": [
    {
     "data": {
      "text/plain": [
       "<BarContainer object of 2 artists>"
      ]
     },
     "execution_count": 118,
     "metadata": {},
     "output_type": "execute_result"
    },
    {
     "data": {
      "image/png": "[encoded data removed]",
      "text/plain": [
       "<Figure size 432x288 with 1 Axes>"
      ]
     },
     "metadata": {
      "needs_background": "light"
     },
     "output_type": "display_data"
    }
   ],
   "source": [
    "plt.bar([\"张\",\"王\"],[2,4])"
   ]
  },
  {
   "cell_type": "code",
   "execution_count": null,
   "metadata": {},
   "outputs": [],
   "source": []
  }
 ],
 "metadata": {
  "kernelspec": {
   "display_name": "Python 3",
   "language": "python",
   "name": "python3"
  },
  "language_info": {
   "codemirror_mode": {
    "name": "ipython",
    "version": 3
   },
   "file_extension": ".py",
   "mimetype": "text/x-python",
   "name": "python",
   "nbconvert_exporter": "python",
   "pygments_lexer": "ipython3",
   "version": "3.7.6"
  }
 },
 "nbformat": 4,
 "nbformat_minor": 4
}
